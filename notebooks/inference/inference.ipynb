{
 "cells": [
  {
   "cell_type": "code",
   "execution_count": 1,
   "id": "e96442f9",
   "metadata": {},
   "outputs": [],
   "source": [
    "model_dir     = \"gs://mlteam-ml-specialization-2021-blackfriday/aiplatform_jobs/020_longer_product_id_and_more_categories/1/Scann\"\n",
    "region        = \"europe-west1\"\n",
    "model_name    = \"scann\"\n",
    "model_version = \"scann001\""
   ]
  },
  {
   "cell_type": "markdown",
   "id": "963af0e0",
   "metadata": {},
   "source": [
    "# [Optional] Setup "
   ]
  },
  {
   "cell_type": "code",
   "execution_count": 2,
   "id": "4fc08b78",
   "metadata": {},
   "outputs": [
    {
     "data": {
      "text/plain": [
       "272"
      ]
     },
     "execution_count": 2,
     "metadata": {},
     "output_type": "execute_result"
    }
   ],
   "source": [
    "config_file = \"../../deploy/config.sh\"\n",
    "prev_config = open(config_file, \"r\").read()\n",
    "open(config_file, \"w\").write(f\"\"\"#!/bin/bash\n",
    "\n",
    "TEMPDIR=/tmp/scann\n",
    "MODELDIR={model_dir}\n",
    "AI_PLATFORM_PREDICTION_REGION={region}\n",
    "AI_PLATFORM_PREDICTION_MODEL={model_name}\n",
    "AI_PLATFORM_PREDICTION_VERSION={model_version}\n",
    "\"\"\")"
   ]
  },
  {
   "cell_type": "code",
   "execution_count": 3,
   "id": "6d87c3e7",
   "metadata": {},
   "outputs": [
    {
     "name": "stdout",
     "output_type": "stream",
     "text": [
      "Copying gs://mlteam-ml-specialization-2021-blackfriday/aiplatform_jobs/020_longer_product_id_and_more_categories/1/Scann/saved_model.pb...\n",
      "Copying gs://mlteam-ml-specialization-2021-blackfriday/aiplatform_jobs/020_longer_product_id_and_more_categories/1/Scann/variables/variables.data-00000-of-00001...\n",
      "Copying gs://mlteam-ml-specialization-2021-blackfriday/aiplatform_jobs/020_longer_product_id_and_more_categories/1/Scann/variables/variables.index...\n",
      "Using default tag: latest 5.4 MiB]  99% Done                                    \n",
      "latest: Pulling from google/tf-serving-scann\n",
      "\n",
      "\u001b[1Bd2c87b75: Pulling fs layer \n",
      "\u001b[1B10be24e1: Pulling fs layer \n",
      "\u001b[1B7173dcfe: Pulling fs layer \n",
      "\u001b[1Bb7b003d7: Pulling fs layer \n",
      "\u001b[1Bb89500f5: Pulling fs layer \n",
      "\u001b[1B859b9ee7: Pulling fs layer \n",
      "\u001b[1BDigest: sha256:4d2fe11b0d463ddeb9aa805ef16e7ce7209bb1b8ddfcf91e109f238ae037a9cd\u001b[2K\u001b[7A\u001b[2K\u001b[4A\u001b[2K\u001b[3A\u001b[2K\u001b[4A\u001b[2K\u001b[3A\u001b[2K\u001b[7A\u001b[2K\u001b[3A\u001b[2K\u001b[7A\u001b[2K\u001b[3A\u001b[2K\u001b[3A\u001b[2K\u001b[3A\u001b[2K\u001b[7A\u001b[2K\u001b[1A\u001b[2K\u001b[7A\u001b[2K\u001b[4A\u001b[2K\u001b[3A\u001b[2K\u001b[7A\u001b[2K\u001b[4A\u001b[2K\u001b[7A\u001b[2K\u001b[4A\u001b[2K\u001b[3A\u001b[2K\u001b[4A\u001b[2K\u001b[4A\u001b[2K\u001b[4A\u001b[2K\u001b[4A\u001b[2K\u001b[7A\u001b[2K\u001b[4A\u001b[2K\u001b[7A\u001b[2K\u001b[4A\u001b[2K\u001b[4A\u001b[2K\u001b[4A\u001b[2K\u001b[7A\u001b[2K\u001b[3A\u001b[2K\u001b[7A\u001b[2K\u001b[3A\u001b[2K\u001b[3A\u001b[2K\u001b[7A\u001b[2K\u001b[7A\u001b[2K\u001b[7A\u001b[2K\u001b[7A\u001b[2K\u001b[7A\u001b[2K\u001b[7A\u001b[2K\u001b[7A\u001b[2K\u001b[7A\u001b[2K\u001b[7A\u001b[2K\u001b[6A\u001b[2K\u001b[6A\u001b[2K\u001b[5A\u001b[2K\u001b[4A\u001b[2K\u001b[4A\u001b[2K\u001b[4A\u001b[2K\u001b[4A\u001b[2K\u001b[4A\u001b[2K\u001b[4A\u001b[2K\u001b[4A\u001b[2K\u001b[4A\u001b[2K\u001b[4A\u001b[2K\u001b[4A\u001b[2K\u001b[4A\u001b[2K\u001b[4A\u001b[2K\u001b[4A\u001b[2K\u001b[4A\u001b[2K\u001b[4A\u001b[2K\u001b[4A\u001b[2K\u001b[4A\u001b[2K\u001b[4A\u001b[2K\u001b[4A\u001b[2K\u001b[4A\u001b[2K\u001b[4A\u001b[2K\u001b[4A\u001b[2K\u001b[4A\u001b[2K\u001b[4A\u001b[2K\u001b[4A\u001b[2K\u001b[4A\u001b[2K\u001b[4A\u001b[2K\u001b[4A\u001b[2K\u001b[4A\u001b[2K\u001b[4A\u001b[2K\u001b[4A\u001b[2K\u001b[4A\u001b[2K\u001b[4A\u001b[2K\u001b[4A\u001b[2K\u001b[4A\u001b[2K\u001b[4A\u001b[2K\u001b[4A\u001b[2K\u001b[4A\u001b[2K\u001b[3A\u001b[2K\u001b[3A\u001b[2K\u001b[3A\u001b[2K\u001b[3A\u001b[2K\u001b[3A\u001b[2K\u001b[3A\u001b[2K\u001b[3A\u001b[2K\u001b[3A\u001b[2K\u001b[3A\u001b[2K\u001b[3A\u001b[2K\u001b[3A\u001b[2K\u001b[3A\u001b[2K\u001b[3A\u001b[2K\u001b[3A\u001b[2K\u001b[3A\u001b[2K\u001b[3A\u001b[2K\u001b[3A\u001b[2K\u001b[3A\u001b[2K\u001b[3A\u001b[2K\u001b[3A\u001b[2K\u001b[3A\u001b[2K\u001b[3A\u001b[2K\u001b[3A\u001b[2K\u001b[3A\u001b[2K\u001b[3A\u001b[2K\u001b[3A\u001b[2K\u001b[3A\u001b[2K\u001b[3A\u001b[2K\u001b[3A\u001b[2K\u001b[3A\u001b[2K\u001b[3A\u001b[2K\u001b[3A\u001b[2K\u001b[3A\u001b[2K\u001b[3A\u001b[2K\u001b[3A\u001b[2K\u001b[3A\u001b[2K\u001b[3A\u001b[2K\u001b[3A\u001b[2K\u001b[3A\u001b[2K\u001b[3A\u001b[2K\u001b[3A\u001b[2K\u001b[3A\u001b[2K\u001b[3A\u001b[2K\u001b[3A\u001b[2K\u001b[3A\u001b[2K\u001b[3A\u001b[2K\u001b[2A\u001b[2K\u001b[1A\u001b[2K\n",
      "Status: Downloaded newer image for google/tf-serving-scann:latest\n",
      "docker.io/google/tf-serving-scann:latest\n",
      "c7f45f58910578a7e2b62724092c233298b9b94257a8754ea825458c325367dd\n",
      "sha256:df1ff98aed344e1eb32297443546f61568550a47dc7de25ba25202525b501fd9\n",
      "serving_base\n",
      "Create request issued for: [scann-europe-west1]\n",
      "Waiting for operation [projects/mlteam-ml-specialization-2021/locations/europe-\n",
      "west1/operations/68dadddd-48d9-4fd5-b7fc-25d3a38a7f8f] to complete...done.     \n",
      "Created repository [scann-europe-west1].\n",
      "\u001b[1;33mWARNING:\u001b[0m Your config file at [/home/jupyter/.docker/config.json] contains these credential helper entries:\n",
      "\n",
      "{\n",
      "  \"credHelpers\": {\n",
      "    \"gcr.io\": \"gcloud\",\n",
      "    \"us.gcr.io\": \"gcloud\",\n",
      "    \"eu.gcr.io\": \"gcloud\",\n",
      "    \"asia.gcr.io\": \"gcloud\",\n",
      "    \"staging-k8s.gcr.io\": \"gcloud\",\n",
      "    \"marketplace.gcr.io\": \"gcloud\",\n",
      "    \"europe-docker.pkg.dev\": \"gcloud\",\n",
      "    \"europe-west1-docker.pkg.dev\": \"gcloud\"\n",
      "  }\n",
      "}\n",
      "Adding credentials for: europe-west1-docker.pkg.dev\n",
      "gcloud credential helpers already registered correctly.\n",
      "\n",
      "\n",
      "To take a quick anonymous survey, run:\n",
      "  $ gcloud survey\n",
      "\n",
      "Using default tag: latest\n",
      "The push refers to repository [europe-west1-docker.pkg.dev/mlteam-ml-specialization-2021/scann-europe-west1/scann001]\n",
      "\n",
      "\u001b[1Bd99b2e95: Preparing \n",
      "\u001b[1B86b47539: Preparing \n",
      "\u001b[1Bfe520533: Preparing \n",
      "\u001b[1Bc1016415: Preparing \n",
      "\u001b[1B86dd2042: Preparing \n",
      "\u001b[1B512fd434: Preparing \n",
      "\u001b[1B31fc0e08: Preparing \n",
      "Creating version (this might take a few minutes)......done.                    [8A\u001b[2K\u001b[8A\u001b[2K\u001b[4A\u001b[2K\u001b[8A\u001b[2K\u001b[4A\u001b[2K\u001b[5A\u001b[2K\u001b[4A\u001b[2K\u001b[5A\u001b[2K\u001b[4A\u001b[2K\u001b[4A\u001b[2K\u001b[5A\u001b[2K\u001b[5A\u001b[2K\u001b[4A\u001b[2K\u001b[5A\u001b[2K\u001b[5A\u001b[2K\u001b[4A\u001b[2K\u001b[8A\u001b[2K\u001b[4A\u001b[2K\u001b[6A\u001b[2K\u001b[5A\u001b[2K\u001b[4A\u001b[2K\u001b[4A\u001b[2K\u001b[5A\u001b[2K\u001b[4A\u001b[2K\u001b[5A\u001b[2K\u001b[3A\u001b[2K\u001b[5A\u001b[2K\u001b[4A\u001b[2K\u001b[5A\u001b[2K\u001b[5A\u001b[2K\u001b[4A\u001b[2K\u001b[2A\u001b[2K\u001b[4A\u001b[2K\u001b[5A\u001b[2K\u001b[4A\u001b[2K\u001b[4A\u001b[2K\u001b[1A\u001b[2K\u001b[4A\u001b[2K\u001b[5A\u001b[2K\u001b[4A\u001b[2K\u001b[5A\u001b[2K\u001b[1A\u001b[2K\u001b[3A\u001b[2K\u001b[5A\u001b[2K\u001b[1A\u001b[2K\u001b[1A\u001b[2K\u001b[2A\u001b[2K\u001b[5A\u001b[2K\u001b[1A\u001b[2K\u001b[5A\u001b[2K\u001b[4A\u001b[2K\u001b[1A\u001b[2K\u001b[4A\u001b[2K\u001b[1A\u001b[2K\u001b[5A\u001b[2K\u001b[4A\u001b[2K\u001b[4A\u001b[2K\u001b[5A\u001b[2K\u001b[4A\u001b[2K\u001b[1A\u001b[2K\u001b[4A\u001b[2K\u001b[5A\u001b[2K\u001b[4A\u001b[2K\u001b[1A\u001b[2K\u001b[4A\u001b[2K\u001b[1A\u001b[2K\u001b[5A\u001b[2K\u001b[1A\u001b[2K\u001b[5A\u001b[2K\u001b[1A\u001b[2K\u001b[4A\u001b[2K\u001b[5A\u001b[2K\u001b[1A\u001b[2K\u001b[5A\u001b[2K\u001b[4A\u001b[2K\u001b[1A\u001b[2K\u001b[4A\u001b[2K\u001b[1A\u001b[2K\u001b[5A\u001b[2K\u001b[5A\u001b[2K\u001b[4A\u001b[2K\u001b[1A\u001b[2K\u001b[1A\u001b[2K\u001b[5A\u001b[2K\u001b[4A\u001b[2K\u001b[1A\u001b[2K\u001b[1A\u001b[2K\u001b[1A\u001b[2K\u001b[4A\u001b[2K\u001b[4A\u001b[2K\u001b[5A\u001b[2K\u001b[5A\u001b[2K\u001b[4A\u001b[2K\u001b[1A\u001b[2K\u001b[4A\u001b[2K\u001b[1A\u001b[2K\u001b[5A\u001b[2K\u001b[4A\u001b[2K\u001b[5A\u001b[2K\u001b[4A\u001b[2K\u001b[5A\u001b[2K\u001b[1A\u001b[2K\u001b[5A\u001b[2K\u001b[4A\u001b[2K\u001b[1A\u001b[2K\u001b[1A\u001b[2K\u001b[4A\u001b[2K\u001b[1A\u001b[2K\u001b[5A\u001b[2K\u001b[1A\u001b[2K\u001b[4A\u001b[2K\u001b[5A\u001b[2K\u001b[1A\u001b[2K\u001b[4A\u001b[2K\u001b[1A\u001b[2K\u001b[5A\u001b[2K\u001b[5A\u001b[2K\u001b[1A\u001b[2K\u001b[5A\u001b[2K\u001b[4A\u001b[2K\u001b[1A\u001b[2K\u001b[5A\u001b[2K\u001b[4A\u001b[2K\u001b[5A\u001b[2K\u001b[5A\u001b[2K\u001b[4A\u001b[2K\u001b[1A\u001b[2K\u001b[5A\u001b[2K\u001b[1A\u001b[2K\u001b[5A\u001b[2K\u001b[1A\u001b[2K\u001b[4A\u001b[2K\u001b[4A\u001b[2K\u001b[1A\u001b[2K\u001b[1A\u001b[2K\u001b[5A\u001b[2K\u001b[1A\u001b[2K\u001b[1A\u001b[2K\u001b[4A\u001b[2K\u001b[1A\u001b[2K\u001b[5A\u001b[2K\u001b[1A\u001b[2K\n",
      "Using endpoint [https://europe-west1-ml.googleapis.com/]\n",
      "container:\n",
      "  image: europe-west1-docker.pkg.dev/mlteam-ml-specialization-2021/scann-europe-west1/scann001\n",
      "  ports:\n",
      "  - containerPort: 8501\n",
      "createTime: '2021-06-24T12:53:30Z'\n",
      "etag: Un99TPEag3o=\n",
      "isDefault: true\n",
      "machineType: n1-standard-4\n",
      "name: projects/mlteam-ml-specialization-2021/models/scann/versions/scann001\n",
      "routes:\n",
      "  health: /v1/models/Scann\n",
      "  predict: /v1/models/Scann:predict\n",
      "state: READY\n",
      "/serving_base\n",
      "Untagged: scann001:latest\n",
      "Untagged: europe-west1-docker.pkg.dev/mlteam-ml-specialization-2021/scann-europe-west1/scann001:latest\n",
      "Untagged: europe-west1-docker.pkg.dev/mlteam-ml-specialization-2021/scann-europe-west1/scann001@sha256:ba4e524c2e95b177eaf27a810800799161ab7e5b749b7c8cda8d018afc0c454c\n",
      "Deleted: sha256:df1ff98aed344e1eb32297443546f61568550a47dc7de25ba25202525b501fd9\n",
      "Deleted: sha256:82162013d91557ce0164a53b95dc4c0a7efe18175ed9c59270a371101db391cf\n",
      "Untagged: google/tf-serving-scann:latest\n",
      "Untagged: google/tf-serving-scann@sha256:4d2fe11b0d463ddeb9aa805ef16e7ce7209bb1b8ddfcf91e109f238ae037a9cd\n",
      "Deleted: sha256:24552025ec51b75684ae1588c49139c1f4e8693664403358a29d65ce81d02df8\n",
      "Deleted: sha256:c9ce6971c050cf040e00b1ce6710dfda7f316035b1c09b75f3e6594de10dd570\n",
      "Deleted: sha256:16eceb33c5852093bdc0ff0af7d68dc18ff03d2a988cf02d384f5711277381a9\n",
      "Deleted: sha256:900b7a2a8c550c77b1a1150d3ab4893c6e11b51385488fff9179e764d752c10f\n",
      "Deleted: sha256:37bc558177a18b9484a0c0133d92204f2b88cf7c6808ac1079ff44f34b4e5771\n",
      "Deleted: sha256:c6ba5a1f46bb1847ee5523c97c9811f116d5ec5ab9c4671e73f228fe48b35fd7\n",
      "Deleted: sha256:4f56df2e02e984a9a18f667011ae7abe7262a57118633a1a5a476e5be8e62ac8\n",
      "Deleted: sha256:50858308da3d192ec20027838c7aaf983333731dc2dcc0cd03c4522495a4cee8\n",
      "listing deployed models in region europe-west1\n",
      "sh: 0: getcwd() failed: No such file or directory\n",
      "Using endpoint [https://europe-west1-ml.googleapis.com/]\n",
      "sh: 0: getcwd() failed: No such file or directory\n",
      "NAME   DEFAULT_VERSION_NAME\n",
      "scann  scann001\n"
     ]
    }
   ],
   "source": [
    "!bash ../../deploy/setup.sh"
   ]
  },
  {
   "cell_type": "markdown",
   "id": "4ebdcb5a",
   "metadata": {},
   "source": [
    "# invocation"
   ]
  },
  {
   "cell_type": "code",
   "execution_count": 4,
   "id": "c800974f",
   "metadata": {},
   "outputs": [],
   "source": [
    "import json\n",
    "import os\n",
    "\n",
    "os.environ[\"ENDPOINT\"]=F\"https://{region}-ml.googleapis.com/v1/projects/mlteam-ml-specialization-2021/models/{model_name}:predict\"\n",
    "os.environ[\"REQUEST_BODY\"]=json.dumps({\n",
    "    \"instances\": [\n",
    "        {\n",
    "            \"Gender\":\"M\", \n",
    "            \"Age\":\"26-35\", \n",
    "            \"Occupation\":\"0\", \n",
    "            \"City_Category\":\"B\", \n",
    "            \"Stay_In_Current_City_Years\":\"4+\", \n",
    "            \"Marital_Status\":\"0\"\n",
    "        }\n",
    "    ]\n",
    "})"
   ]
  },
  {
   "cell_type": "code",
   "execution_count": 5,
   "id": "4509fcd1",
   "metadata": {},
   "outputs": [
    {
     "name": "stdout",
     "output_type": "stream",
     "text": [
      "{\n",
      "    \"predictions\": [\n",
      "        {\n",
      "            \"output_2\": [\"P00369042\", \"P00040642\", \"P00261142\", \"P00329342\", \"P00190942\", \"P00324642\", \"P00290342\", \"P00152942\", \"P00018142\", \"P00308342\", \"P00292042\", \"P00242642\", \"P00067942\", \"P00329742\", \"P00191942\", \"P00047242\", \"P00184742\", \"P00174742\", \"P00177942\", \"P00004642\", \"P00236042\", \"P00334342\", \"P00344742\", \"P00218842\", \"P00192242\", \"P00282142\", \"P00311642\", \"P00179442\", \"P00047742\", \"P00101042\", \"P00191742\", \"P00340942\", \"P0096842\", \"P0094142\", \"P00203242\", \"P00346442\", \"P00223042\", \"P00269442\", \"P0098342\", \"P00285742\", \"P00145842\", \"P00054042\", \"P0094342\", \"P00281042\", \"P00315542\", \"P00225542\", \"P00354242\", \"P00083542\", \"P00005242\", \"P00012742\", \"P00205442\", \"P00251642\", \"P00362642\", \"P00029742\", \"P00037242\", \"P00237242\", \"P00259842\", \"P00218342\", \"P00344342\", \"P00212542\", \"P00197042\", \"P00127542\", \"P00176542\", \"P00227642\", \"P00058142\", \"P00202542\", \"P00205142\", \"P00322042\", \"P00205842\", \"P00326542\", \"P00227942\", \"P00207342\", \"P00188942\", \"P00012942\", \"P00051742\", \"P00236342\", \"P00109742\", \"P00342742\", \"P00246742\", \"P00251342\", \"P00102142\", \"P00036342\", \"P00283042\", \"P00167042\", \"P00136542\", \"P00273942\", \"P00155142\", \"P00142042\", \"P00000442\", \"P00187342\", \"P00262642\", \"P00078142\", \"P00085542\", \"P00149042\", \"P00141342\", \"P00198542\", \"P00304942\", \"P00287242\", \"P00298842\", \"P00208742\"],\n",
      "            \"output_1\": [2.82917309, 2.74096084, 2.63588166, 2.34780741, 2.34638548, 2.21600986, 2.14339519, 2.14324832, 2.13139677, 2.06566787, 1.95816028, 1.91356289, 1.90172553, 1.89559209, 1.88055921, 1.85708833, 1.7396183, 1.703933, 1.69423568, 1.66662812, 1.66164827, 1.64658964, 1.57442164, 1.52889764, 1.49604666, 1.49474859, 1.47956824, 1.47118711, 1.46203244, 1.46189761, 1.45091105, 1.44458389, 1.42477679, 1.34012854, 1.32448125, 1.31270373, 1.30780768, 1.29189777, 1.28421187, 1.28132021, 1.25660264, 1.25245, 1.24692, 1.24685478, 1.23468733, 1.2334497, 1.23269033, 1.19416142, 1.18732679, 1.18569291, 1.16557825, 1.16347766, 1.14222348, 1.14157939, 1.14115334, 1.12173414, 1.10876632, 1.10260248, 1.09771824, 1.0862062, 1.07909548, 1.07852089, 1.07636535, 1.06205821, 1.05938089, 1.04908228, 1.04804957, 1.04726219, 1.03563178, 1.02416015, 1.01350343, 1.0093255, 1.00325763, 1.00175571, 0.993688464, 0.991000712, 0.988181353, 0.986321926, 0.984229, 0.979282439, 0.968426764, 0.965577066, 0.954859793, 0.950505376, 0.945921242, 0.942983925, 0.939292848, 0.937624514, 0.934842169, 0.920676589, 0.919677377, 0.919576406, 0.904069781, 0.903828263, 0.900296926, 0.898183048, 0.893065095, 0.889591157, 0.886433661, 0.881075203]\n",
      "        }\n",
      "    ]\n",
      "}"
     ]
    }
   ],
   "source": [
    "!curl -d \"${REQUEST_BODY}\" -X POST ${ENDPOINT}?access_token\\=\"$(gcloud auth application-default print-access-token)\""
   ]
  },
  {
   "cell_type": "markdown",
   "id": "84cfea8a",
   "metadata": {},
   "source": [
    "# [Optional] Teardown"
   ]
  },
  {
   "cell_type": "code",
   "execution_count": 6,
   "id": "3b8136f0",
   "metadata": {},
   "outputs": [
    {
     "name": "stdout",
     "output_type": "stream",
     "text": [
      "Delete request issued for: [scann-europe-west1]\n",
      "Waiting for operation [projects/mlteam-ml-specialization-2021/locations/europe-\n",
      "west1/operations/fe20bae3-0ad2-4e7d-b933-ac3994da3264] to complete...done.     \n",
      "Deleted repository [scann-europe-west1].\n",
      "Using endpoint [https://europe-west1-ml.googleapis.com/]\n",
      "Deleting version [scann001]......done.                                         \n",
      "Using endpoint [https://europe-west1-ml.googleapis.com/]\n",
      "Deleting model [scann]...done.                                                 \n"
     ]
    }
   ],
   "source": [
    "!bash ../../deploy/teardown.sh"
   ]
  },
  {
   "cell_type": "code",
   "execution_count": 7,
   "id": "15c66c52",
   "metadata": {},
   "outputs": [
    {
     "data": {
      "text/plain": [
       "271"
      ]
     },
     "execution_count": 7,
     "metadata": {},
     "output_type": "execute_result"
    }
   ],
   "source": [
    "open(config_file, \"w\").write(prev_config)"
   ]
  },
  {
   "cell_type": "code",
   "execution_count": null,
   "id": "c0289950",
   "metadata": {},
   "outputs": [],
   "source": []
  }
 ],
 "metadata": {
  "environment": {
   "name": "tf2-gpu.2-3.m65",
   "type": "gcloud",
   "uri": "gcr.io/deeplearning-platform-release/tf2-gpu.2-3:m65"
  },
  "kernelspec": {
   "display_name": "Python 3",
   "language": "python",
   "name": "python3"
  },
  "language_info": {
   "codemirror_mode": {
    "name": "ipython",
    "version": 3
   },
   "file_extension": ".py",
   "mimetype": "text/x-python",
   "name": "python",
   "nbconvert_exporter": "python",
   "pygments_lexer": "ipython3",
   "version": "3.7.10"
  }
 },
 "nbformat": 4,
 "nbformat_minor": 5
}
