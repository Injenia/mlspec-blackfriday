{
 "metadata": {
  "language_info": {
   "codemirror_mode": {
    "name": "ipython",
    "version": 3
   },
   "file_extension": ".py",
   "mimetype": "text/x-python",
   "name": "python",
   "nbconvert_exporter": "python",
   "pygments_lexer": "ipython3",
   "version": "3.7.3-final"
  },
  "orig_nbformat": 2,
  "kernelspec": {
   "name": "python373jvsc74a57bd05af9e1d39ba376915f0653bfcc68759465d3b9010d2fe54f62ca1f8ccc34f12c",
   "display_name": "Python 3.7.3 64-bit ('mlspec-bf': virtualenv)",
   "language": "python"
  }
 },
 "nbformat": 4,
 "nbformat_minor": 2,
 "cells": [
  {
   "cell_type": "code",
   "execution_count": 1,
   "metadata": {},
   "outputs": [],
   "source": [
    "import os\n",
    "import numpy as np\n",
    "import pandas as pd \n",
    "import matplotlib.pyplot as plt"
   ]
  },
  {
   "cell_type": "code",
   "execution_count": 2,
   "metadata": {},
   "outputs": [],
   "source": [
    "%matplotlib inline\n",
    "plt.rcParams['figure.figsize'] = [12, 8]\n",
    "plt.rcParams['figure.dpi'] = 100"
   ]
  },
  {
   "source": [
    "## Load train dataset"
   ],
   "cell_type": "markdown",
   "metadata": {}
  },
  {
   "cell_type": "code",
   "execution_count": 3,
   "metadata": {},
   "outputs": [],
   "source": [
    "BASE_DATASET = \"../../data/mlspec-blackfriday/dataset/raw\"\n",
    "os.makedirs(BASE_DATASET, exist_ok=True)"
   ]
  },
  {
   "cell_type": "code",
   "execution_count": 4,
   "metadata": {},
   "outputs": [
    {
     "output_type": "stream",
     "name": "stdout",
     "text": [
      "Copying gs://mlteam-ml-specialization-2021-blackfriday/dataset/raw/README.md...\n",
      "Copying gs://mlteam-ml-specialization-2021-blackfriday/dataset/raw/test.csv...\n",
      "Copying gs://mlteam-ml-specialization-2021-blackfriday/dataset/raw/train.csv...\n",
      "\n",
      "Operation completed over 3 objects/33.5 MiB.                                     \n"
     ]
    }
   ],
   "source": [
    "!gsutil cp -r gs://mlteam-ml-specialization-2021-blackfriday/dataset/raw/* $BASE_DATASET/"
   ]
  },
  {
   "cell_type": "code",
   "execution_count": 5,
   "metadata": {},
   "outputs": [],
   "source": [
    "TRAIN_SET = os.path.join(BASE_DATASET, 'train.csv')\n",
    "df = pd.read_csv(TRAIN_SET)"
   ]
  },
  {
   "cell_type": "code",
   "execution_count": 6,
   "metadata": {},
   "outputs": [
    {
     "output_type": "execute_result",
     "data": {
      "text/plain": [
       "Index(['User_ID', 'Product_ID', 'Gender', 'Age', 'Occupation', 'City_Category',\n",
       "       'Stay_In_Current_City_Years', 'Marital_Status', 'Product_Category_1',\n",
       "       'Product_Category_2', 'Product_Category_3', 'Purchase'],\n",
       "      dtype='object')"
      ]
     },
     "metadata": {},
     "execution_count": 6
    }
   ],
   "source": [
    "df.columns"
   ]
  },
  {
   "source": [
    "## Define functions and columns to group on"
   ],
   "cell_type": "markdown",
   "metadata": {}
  },
  {
   "cell_type": "code",
   "execution_count": 7,
   "metadata": {},
   "outputs": [],
   "source": [
    "def get_grouped_df(df, COLUMNS, aggregation_dict):\n",
    "    df_totals = df.groupby(COLUMNS).agg(aggregation_dict)\n",
    "    \n",
    "    df_totals.columns = ['_'.join(col) for col in df_totals.columns.values]\n",
    "    df_totals = df_totals.reset_index()\n",
    "\n",
    "    return df_totals"
   ]
  },
  {
   "cell_type": "code",
   "execution_count": 8,
   "metadata": {},
   "outputs": [],
   "source": [
    "PRODUCT_COLUMNS = [\n",
    "    'Product_ID', 'Product_Category_1',\n",
    "    'Product_Category_2', 'Product_Category_3'\n",
    "]\n",
    "\n",
    "aggregation_dict = {\n",
    "    'User_ID': 'count',\n",
    "    'Purchase': ['count', 'sum', 'min', 'mean', 'max', 'std']\n",
    "}"
   ]
  },
  {
   "source": [
    "## Get overall ranking"
   ],
   "cell_type": "markdown",
   "metadata": {}
  },
  {
   "cell_type": "code",
   "execution_count": 9,
   "metadata": {},
   "outputs": [],
   "source": [
    "df_totals = get_grouped_df(df, PRODUCT_COLUMNS, aggregation_dict)\n",
    "df_totals['rank'] = df_totals['Purchase_count'].rank(method='min', ascending=False)"
   ]
  },
  {
   "cell_type": "code",
   "execution_count": 13,
   "metadata": {},
   "outputs": [
    {
     "output_type": "execute_result",
     "data": {
      "text/plain": [
       "    Product_ID  Product_Category_1  Product_Category_2  Product_Category_3  \\\n",
       "39   P00025442                   1                 2.0                 9.0   \n",
       "148  P00110742                   1                 2.0                 8.0   \n",
       "152  P00112142                   1                 2.0                14.0   \n",
       "88   P00057642                   1                15.0                16.0   \n",
       "287  P00184942                   1                 8.0                17.0   \n",
       "\n",
       "     User_ID_count  Purchase_count  Purchase_sum  Purchase_min  Purchase_mean  \\\n",
       "39            1615            1615      27995166          3961   17334.468111   \n",
       "148           1612            1612      26722309          3798   16577.114764   \n",
       "152           1562            1562      24216006          3793   15503.204866   \n",
       "88            1470            1470      23102780          3890   15716.176871   \n",
       "287           1440            1440      24334887          3809   16899.227083   \n",
       "\n",
       "     Purchase_max  Purchase_std  rank  \n",
       "39          19707   2955.609692   1.0  \n",
       "148         19708   3266.793787   2.0  \n",
       "152         19706   3574.019615   3.0  \n",
       "88          19708   3470.043730   4.0  \n",
       "287         19707   3142.245422   5.0  "
      ],
      "text/html": "<div>\n<style scoped>\n    .dataframe tbody tr th:only-of-type {\n        vertical-align: middle;\n    }\n\n    .dataframe tbody tr th {\n        vertical-align: top;\n    }\n\n    .dataframe thead th {\n        text-align: right;\n    }\n</style>\n<table border=\"1\" class=\"dataframe\">\n  <thead>\n    <tr style=\"text-align: right;\">\n      <th></th>\n      <th>Product_ID</th>\n      <th>Product_Category_1</th>\n      <th>Product_Category_2</th>\n      <th>Product_Category_3</th>\n      <th>User_ID_count</th>\n      <th>Purchase_count</th>\n      <th>Purchase_sum</th>\n      <th>Purchase_min</th>\n      <th>Purchase_mean</th>\n      <th>Purchase_max</th>\n      <th>Purchase_std</th>\n      <th>rank</th>\n    </tr>\n  </thead>\n  <tbody>\n    <tr>\n      <th>39</th>\n      <td>P00025442</td>\n      <td>1</td>\n      <td>2.0</td>\n      <td>9.0</td>\n      <td>1615</td>\n      <td>1615</td>\n      <td>27995166</td>\n      <td>3961</td>\n      <td>17334.468111</td>\n      <td>19707</td>\n      <td>2955.609692</td>\n      <td>1.0</td>\n    </tr>\n    <tr>\n      <th>148</th>\n      <td>P00110742</td>\n      <td>1</td>\n      <td>2.0</td>\n      <td>8.0</td>\n      <td>1612</td>\n      <td>1612</td>\n      <td>26722309</td>\n      <td>3798</td>\n      <td>16577.114764</td>\n      <td>19708</td>\n      <td>3266.793787</td>\n      <td>2.0</td>\n    </tr>\n    <tr>\n      <th>152</th>\n      <td>P00112142</td>\n      <td>1</td>\n      <td>2.0</td>\n      <td>14.0</td>\n      <td>1562</td>\n      <td>1562</td>\n      <td>24216006</td>\n      <td>3793</td>\n      <td>15503.204866</td>\n      <td>19706</td>\n      <td>3574.019615</td>\n      <td>3.0</td>\n    </tr>\n    <tr>\n      <th>88</th>\n      <td>P00057642</td>\n      <td>1</td>\n      <td>15.0</td>\n      <td>16.0</td>\n      <td>1470</td>\n      <td>1470</td>\n      <td>23102780</td>\n      <td>3890</td>\n      <td>15716.176871</td>\n      <td>19708</td>\n      <td>3470.043730</td>\n      <td>4.0</td>\n    </tr>\n    <tr>\n      <th>287</th>\n      <td>P00184942</td>\n      <td>1</td>\n      <td>8.0</td>\n      <td>17.0</td>\n      <td>1440</td>\n      <td>1440</td>\n      <td>24334887</td>\n      <td>3809</td>\n      <td>16899.227083</td>\n      <td>19707</td>\n      <td>3142.245422</td>\n      <td>5.0</td>\n    </tr>\n  </tbody>\n</table>\n</div>"
     },
     "metadata": {},
     "execution_count": 13
    }
   ],
   "source": [
    "df_totals.sort_values('Purchase_count', ascending=False).head()"
   ]
  },
  {
   "source": [
    "# Age related top k"
   ],
   "cell_type": "markdown",
   "metadata": {}
  },
  {
   "source": [
    "## Age 0-17 vs. overall"
   ],
   "cell_type": "markdown",
   "metadata": {}
  },
  {
   "cell_type": "code",
   "execution_count": 19,
   "metadata": {},
   "outputs": [],
   "source": [
    "df_age_0_17 = df.loc[df['Age'] == '0-17']\n",
    "\n",
    "# get ranking in subset\n",
    "df_totals_age_0_17 = get_grouped_df(df_age_0_17, PRODUCT_COLUMNS, aggregation_dict)\n",
    "df_totals_age_0_17['rank'] = df_totals_age_0_17['Purchase_count'].rank(method='min', ascending=False)"
   ]
  },
  {
   "cell_type": "code",
   "execution_count": 21,
   "metadata": {},
   "outputs": [
    {
     "output_type": "execute_result",
     "data": {
      "text/plain": [
       "    Product_ID  rank_total  rank_age_0_17\n",
       "214  P00145042         7.0            1.0\n",
       "152  P00112142         3.0            2.0\n",
       "53   P00034742        14.0            3.0\n",
       "383  P00242742        13.0            3.0\n",
       "0    P00000142        18.0            5.0\n",
       "374  P00237542         9.0            6.0\n",
       "39   P00025442         1.0            7.0\n",
       "8    P00003442        25.0            8.0\n",
       "431  P00289942        35.0            8.0\n",
       "148  P00110742         2.0           10.0"
      ],
      "text/html": "<div>\n<style scoped>\n    .dataframe tbody tr th:only-of-type {\n        vertical-align: middle;\n    }\n\n    .dataframe tbody tr th {\n        vertical-align: top;\n    }\n\n    .dataframe thead th {\n        text-align: right;\n    }\n</style>\n<table border=\"1\" class=\"dataframe\">\n  <thead>\n    <tr style=\"text-align: right;\">\n      <th></th>\n      <th>Product_ID</th>\n      <th>rank_total</th>\n      <th>rank_age_0_17</th>\n    </tr>\n  </thead>\n  <tbody>\n    <tr>\n      <th>214</th>\n      <td>P00145042</td>\n      <td>7.0</td>\n      <td>1.0</td>\n    </tr>\n    <tr>\n      <th>152</th>\n      <td>P00112142</td>\n      <td>3.0</td>\n      <td>2.0</td>\n    </tr>\n    <tr>\n      <th>53</th>\n      <td>P00034742</td>\n      <td>14.0</td>\n      <td>3.0</td>\n    </tr>\n    <tr>\n      <th>383</th>\n      <td>P00242742</td>\n      <td>13.0</td>\n      <td>3.0</td>\n    </tr>\n    <tr>\n      <th>0</th>\n      <td>P00000142</td>\n      <td>18.0</td>\n      <td>5.0</td>\n    </tr>\n    <tr>\n      <th>374</th>\n      <td>P00237542</td>\n      <td>9.0</td>\n      <td>6.0</td>\n    </tr>\n    <tr>\n      <th>39</th>\n      <td>P00025442</td>\n      <td>1.0</td>\n      <td>7.0</td>\n    </tr>\n    <tr>\n      <th>8</th>\n      <td>P00003442</td>\n      <td>25.0</td>\n      <td>8.0</td>\n    </tr>\n    <tr>\n      <th>431</th>\n      <td>P00289942</td>\n      <td>35.0</td>\n      <td>8.0</td>\n    </tr>\n    <tr>\n      <th>148</th>\n      <td>P00110742</td>\n      <td>2.0</td>\n      <td>10.0</td>\n    </tr>\n  </tbody>\n</table>\n</div>"
     },
     "metadata": {},
     "execution_count": 21
    }
   ],
   "source": [
    "pd.merge(\n",
    "    df_totals[['Product_ID','rank']], df_totals_age_0_17[['Product_ID','rank']],\n",
    "    on=['Product_ID'], suffixes=('_total', '_age_0_17'),\n",
    "    how='outer'\n",
    ").nsmallest(10, 'rank_age_0_17', keep='all')"
   ]
  },
  {
   "source": [
    "## Age 18-25 vs. overall"
   ],
   "cell_type": "markdown",
   "metadata": {}
  },
  {
   "cell_type": "code",
   "execution_count": 22,
   "metadata": {},
   "outputs": [],
   "source": [
    "df_age_18_25 = df.loc[df['Age'] == '18-25']\n",
    "\n",
    "# get ranking in subset\n",
    "df_totals_age_18_25 = get_grouped_df(df_age_18_25, PRODUCT_COLUMNS, aggregation_dict)\n",
    "df_totals_age_18_25['rank'] = df_totals_age_18_25['Purchase_count'].rank(method='min', ascending=False)"
   ]
  },
  {
   "cell_type": "code",
   "execution_count": 57,
   "metadata": {},
   "outputs": [
    {
     "output_type": "execute_result",
     "data": {
      "text/plain": [
       "    Product_ID  rank_total  rank_age_18_25\n",
       "152  P00112142         3.0             1.0\n",
       "148  P00110742         2.0             2.0\n",
       "374  P00237542         9.0             3.0\n",
       "72   P00046742         6.0             4.0\n",
       "383  P00242742        13.0             5.0\n",
       "16   P00010742        10.0             6.0\n",
       "88   P00057642         4.0             6.0\n",
       "214  P00145042         7.0             6.0\n",
       "39   P00025442         1.0             9.0\n",
       "149  P00110842        11.0            10.0"
      ],
      "text/html": "<div>\n<style scoped>\n    .dataframe tbody tr th:only-of-type {\n        vertical-align: middle;\n    }\n\n    .dataframe tbody tr th {\n        vertical-align: top;\n    }\n\n    .dataframe thead th {\n        text-align: right;\n    }\n</style>\n<table border=\"1\" class=\"dataframe\">\n  <thead>\n    <tr style=\"text-align: right;\">\n      <th></th>\n      <th>Product_ID</th>\n      <th>rank_total</th>\n      <th>rank_age_18_25</th>\n    </tr>\n  </thead>\n  <tbody>\n    <tr>\n      <th>152</th>\n      <td>P00112142</td>\n      <td>3.0</td>\n      <td>1.0</td>\n    </tr>\n    <tr>\n      <th>148</th>\n      <td>P00110742</td>\n      <td>2.0</td>\n      <td>2.0</td>\n    </tr>\n    <tr>\n      <th>374</th>\n      <td>P00237542</td>\n      <td>9.0</td>\n      <td>3.0</td>\n    </tr>\n    <tr>\n      <th>72</th>\n      <td>P00046742</td>\n      <td>6.0</td>\n      <td>4.0</td>\n    </tr>\n    <tr>\n      <th>383</th>\n      <td>P00242742</td>\n      <td>13.0</td>\n      <td>5.0</td>\n    </tr>\n    <tr>\n      <th>16</th>\n      <td>P00010742</td>\n      <td>10.0</td>\n      <td>6.0</td>\n    </tr>\n    <tr>\n      <th>88</th>\n      <td>P00057642</td>\n      <td>4.0</td>\n      <td>6.0</td>\n    </tr>\n    <tr>\n      <th>214</th>\n      <td>P00145042</td>\n      <td>7.0</td>\n      <td>6.0</td>\n    </tr>\n    <tr>\n      <th>39</th>\n      <td>P00025442</td>\n      <td>1.0</td>\n      <td>9.0</td>\n    </tr>\n    <tr>\n      <th>149</th>\n      <td>P00110842</td>\n      <td>11.0</td>\n      <td>10.0</td>\n    </tr>\n  </tbody>\n</table>\n</div>"
     },
     "metadata": {},
     "execution_count": 57
    }
   ],
   "source": [
    "pd.merge(\n",
    "    df_totals[['Product_ID','rank']], df_totals_age_18_25[['Product_ID','rank']],\n",
    "    on=['Product_ID'], suffixes=('_total', '_age_18_25'),\n",
    "    how='outer'\n",
    ").nsmallest(10, 'rank_age_18_25', keep='all')"
   ]
  },
  {
   "source": [
    "## Age 0-17 vs age 18-25"
   ],
   "cell_type": "markdown",
   "metadata": {}
  },
  {
   "cell_type": "code",
   "execution_count": 24,
   "metadata": {},
   "outputs": [
    {
     "output_type": "execute_result",
     "data": {
      "text/plain": [
       "    Product_ID  rank_age_0_17  rank_age_18_25\n",
       "135  P00112142            2.0             1.0\n",
       "131  P00110742           10.0             2.0\n",
       "336  P00237542            6.0             3.0\n",
       "64   P00046742           19.0             4.0\n",
       "341  P00242742            3.0             5.0\n",
       "15   P00010742           36.0             6.0\n",
       "79   P00057642           24.0             6.0\n",
       "193  P00145042            1.0             6.0\n",
       "37   P00025442            7.0             9.0\n",
       "132  P00110842           17.0            10.0"
      ],
      "text/html": "<div>\n<style scoped>\n    .dataframe tbody tr th:only-of-type {\n        vertical-align: middle;\n    }\n\n    .dataframe tbody tr th {\n        vertical-align: top;\n    }\n\n    .dataframe thead th {\n        text-align: right;\n    }\n</style>\n<table border=\"1\" class=\"dataframe\">\n  <thead>\n    <tr style=\"text-align: right;\">\n      <th></th>\n      <th>Product_ID</th>\n      <th>rank_age_0_17</th>\n      <th>rank_age_18_25</th>\n    </tr>\n  </thead>\n  <tbody>\n    <tr>\n      <th>135</th>\n      <td>P00112142</td>\n      <td>2.0</td>\n      <td>1.0</td>\n    </tr>\n    <tr>\n      <th>131</th>\n      <td>P00110742</td>\n      <td>10.0</td>\n      <td>2.0</td>\n    </tr>\n    <tr>\n      <th>336</th>\n      <td>P00237542</td>\n      <td>6.0</td>\n      <td>3.0</td>\n    </tr>\n    <tr>\n      <th>64</th>\n      <td>P00046742</td>\n      <td>19.0</td>\n      <td>4.0</td>\n    </tr>\n    <tr>\n      <th>341</th>\n      <td>P00242742</td>\n      <td>3.0</td>\n      <td>5.0</td>\n    </tr>\n    <tr>\n      <th>15</th>\n      <td>P00010742</td>\n      <td>36.0</td>\n      <td>6.0</td>\n    </tr>\n    <tr>\n      <th>79</th>\n      <td>P00057642</td>\n      <td>24.0</td>\n      <td>6.0</td>\n    </tr>\n    <tr>\n      <th>193</th>\n      <td>P00145042</td>\n      <td>1.0</td>\n      <td>6.0</td>\n    </tr>\n    <tr>\n      <th>37</th>\n      <td>P00025442</td>\n      <td>7.0</td>\n      <td>9.0</td>\n    </tr>\n    <tr>\n      <th>132</th>\n      <td>P00110842</td>\n      <td>17.0</td>\n      <td>10.0</td>\n    </tr>\n  </tbody>\n</table>\n</div>"
     },
     "metadata": {},
     "execution_count": 24
    }
   ],
   "source": [
    "pd.merge(\n",
    "    df_totals_age_0_17[['Product_ID','rank']], df_totals_age_18_25[['Product_ID','rank']],\n",
    "    on=['Product_ID'], suffixes=('_age_0_17', '_age_18_25'),\n",
    "    how='outer'\n",
    ").nsmallest(10, 'rank_age_18_25', keep='all')"
   ]
  },
  {
   "cell_type": "code",
   "execution_count": 25,
   "metadata": {},
   "outputs": [
    {
     "output_type": "execute_result",
     "data": {
      "text/plain": [
       "    Product_ID  rank_age_0_17  rank_age_18_25\n",
       "193  P00145042            1.0             6.0\n",
       "135  P00112142            2.0             1.0\n",
       "50   P00034742            3.0            14.0\n",
       "341  P00242742            3.0             5.0\n",
       "0    P00000142            5.0            12.0\n",
       "336  P00237542            6.0             3.0\n",
       "37   P00025442            7.0             9.0\n",
       "8    P00003442            8.0            49.0\n",
       "380  P00289942            8.0            35.0\n",
       "131  P00110742           10.0             2.0"
      ],
      "text/html": "<div>\n<style scoped>\n    .dataframe tbody tr th:only-of-type {\n        vertical-align: middle;\n    }\n\n    .dataframe tbody tr th {\n        vertical-align: top;\n    }\n\n    .dataframe thead th {\n        text-align: right;\n    }\n</style>\n<table border=\"1\" class=\"dataframe\">\n  <thead>\n    <tr style=\"text-align: right;\">\n      <th></th>\n      <th>Product_ID</th>\n      <th>rank_age_0_17</th>\n      <th>rank_age_18_25</th>\n    </tr>\n  </thead>\n  <tbody>\n    <tr>\n      <th>193</th>\n      <td>P00145042</td>\n      <td>1.0</td>\n      <td>6.0</td>\n    </tr>\n    <tr>\n      <th>135</th>\n      <td>P00112142</td>\n      <td>2.0</td>\n      <td>1.0</td>\n    </tr>\n    <tr>\n      <th>50</th>\n      <td>P00034742</td>\n      <td>3.0</td>\n      <td>14.0</td>\n    </tr>\n    <tr>\n      <th>341</th>\n      <td>P00242742</td>\n      <td>3.0</td>\n      <td>5.0</td>\n    </tr>\n    <tr>\n      <th>0</th>\n      <td>P00000142</td>\n      <td>5.0</td>\n      <td>12.0</td>\n    </tr>\n    <tr>\n      <th>336</th>\n      <td>P00237542</td>\n      <td>6.0</td>\n      <td>3.0</td>\n    </tr>\n    <tr>\n      <th>37</th>\n      <td>P00025442</td>\n      <td>7.0</td>\n      <td>9.0</td>\n    </tr>\n    <tr>\n      <th>8</th>\n      <td>P00003442</td>\n      <td>8.0</td>\n      <td>49.0</td>\n    </tr>\n    <tr>\n      <th>380</th>\n      <td>P00289942</td>\n      <td>8.0</td>\n      <td>35.0</td>\n    </tr>\n    <tr>\n      <th>131</th>\n      <td>P00110742</td>\n      <td>10.0</td>\n      <td>2.0</td>\n    </tr>\n  </tbody>\n</table>\n</div>"
     },
     "metadata": {},
     "execution_count": 25
    }
   ],
   "source": [
    "pd.merge(\n",
    "    df_totals_age_0_17[['Product_ID','rank']], df_totals_age_18_25[['Product_ID','rank']],\n",
    "    on=['Product_ID'], suffixes=('_age_0_17', '_age_18_25'),\n",
    "    how='outer'\n",
    ").nsmallest(10, 'rank_age_0_17', keep='all')"
   ]
  },
  {
   "source": [
    "## Age 0-17 vs age 55+"
   ],
   "cell_type": "markdown",
   "metadata": {}
  },
  {
   "cell_type": "code",
   "execution_count": 58,
   "metadata": {},
   "outputs": [],
   "source": [
    "df_age_55_plus = df.loc[df['Age'] == '55+']\n",
    "\n",
    "# get ranking in subset\n",
    "df_totals_age_55_plus = get_grouped_df(df_age_55_plus, PRODUCT_COLUMNS, aggregation_dict)\n",
    "df_totals_age_55_plus['rank'] = df_totals_age_55_plus['Purchase_count'].rank(method='min', ascending=False)"
   ]
  },
  {
   "cell_type": "code",
   "execution_count": 59,
   "metadata": {},
   "outputs": [
    {
     "output_type": "execute_result",
     "data": {
      "text/plain": [
       "    Product_ID  rank_age_0_17  rank_age_55_plus\n",
       "193  P00145042            1.0              19.0\n",
       "135  P00112142            2.0              17.0\n",
       "50   P00034742            3.0              11.0\n",
       "341  P00242742            3.0              35.0\n",
       "0    P00000142            5.0              59.0\n",
       "336  P00237542            6.0              48.0\n",
       "37   P00025442            7.0               2.0\n",
       "8    P00003442            8.0              29.0\n",
       "380  P00289942            8.0              59.0\n",
       "131  P00110742           10.0               9.0"
      ],
      "text/html": "<div>\n<style scoped>\n    .dataframe tbody tr th:only-of-type {\n        vertical-align: middle;\n    }\n\n    .dataframe tbody tr th {\n        vertical-align: top;\n    }\n\n    .dataframe thead th {\n        text-align: right;\n    }\n</style>\n<table border=\"1\" class=\"dataframe\">\n  <thead>\n    <tr style=\"text-align: right;\">\n      <th></th>\n      <th>Product_ID</th>\n      <th>rank_age_0_17</th>\n      <th>rank_age_55_plus</th>\n    </tr>\n  </thead>\n  <tbody>\n    <tr>\n      <th>193</th>\n      <td>P00145042</td>\n      <td>1.0</td>\n      <td>19.0</td>\n    </tr>\n    <tr>\n      <th>135</th>\n      <td>P00112142</td>\n      <td>2.0</td>\n      <td>17.0</td>\n    </tr>\n    <tr>\n      <th>50</th>\n      <td>P00034742</td>\n      <td>3.0</td>\n      <td>11.0</td>\n    </tr>\n    <tr>\n      <th>341</th>\n      <td>P00242742</td>\n      <td>3.0</td>\n      <td>35.0</td>\n    </tr>\n    <tr>\n      <th>0</th>\n      <td>P00000142</td>\n      <td>5.0</td>\n      <td>59.0</td>\n    </tr>\n    <tr>\n      <th>336</th>\n      <td>P00237542</td>\n      <td>6.0</td>\n      <td>48.0</td>\n    </tr>\n    <tr>\n      <th>37</th>\n      <td>P00025442</td>\n      <td>7.0</td>\n      <td>2.0</td>\n    </tr>\n    <tr>\n      <th>8</th>\n      <td>P00003442</td>\n      <td>8.0</td>\n      <td>29.0</td>\n    </tr>\n    <tr>\n      <th>380</th>\n      <td>P00289942</td>\n      <td>8.0</td>\n      <td>59.0</td>\n    </tr>\n    <tr>\n      <th>131</th>\n      <td>P00110742</td>\n      <td>10.0</td>\n      <td>9.0</td>\n    </tr>\n  </tbody>\n</table>\n</div>"
     },
     "metadata": {},
     "execution_count": 59
    }
   ],
   "source": [
    "pd.merge(\n",
    "    df_totals_age_0_17[['Product_ID','rank']], df_totals_age_55_plus[['Product_ID','rank']],\n",
    "    on=['Product_ID'], suffixes=('_age_0_17', '_age_55_plus'),\n",
    "    how='outer'\n",
    ").nsmallest(10, 'rank_age_0_17', keep='all')"
   ]
  },
  {
   "source": [
    "# City_Category related top k"
   ],
   "cell_type": "markdown",
   "metadata": {}
  },
  {
   "source": [
    "## City A vs overall"
   ],
   "cell_type": "markdown",
   "metadata": {}
  },
  {
   "cell_type": "code",
   "execution_count": 36,
   "metadata": {},
   "outputs": [],
   "source": [
    "df_City_Category_A = df.loc[df['City_Category'] == 'A']\n",
    "\n",
    "# get ranking in subset\n",
    "df_totals_City_Category_A = get_grouped_df(df_City_Category_A, PRODUCT_COLUMNS, aggregation_dict)\n",
    "df_totals_City_Category_A['rank'] = df_totals_City_Category_A['Purchase_count'].rank(method='min', ascending=False)"
   ]
  },
  {
   "cell_type": "code",
   "execution_count": 37,
   "metadata": {},
   "outputs": [
    {
     "output_type": "execute_result",
     "data": {
      "text/plain": [
       "    Product_ID  rank_total  rank_City_Category_A\n",
       "148  P00110742         2.0                   1.0\n",
       "39   P00025442         1.0                   2.0\n",
       "88   P00057642         4.0                   3.0\n",
       "94   P00059442         7.0                   4.0\n",
       "152  P00112142         3.0                   5.0\n",
       "214  P00145042         7.0                   6.0\n",
       "149  P00110842        11.0                   7.0\n",
       "374  P00237542         9.0                   8.0\n",
       "72   P00046742         6.0                   9.0\n",
       "161  P00114942        17.0                  10.0\n",
       "287  P00184942         5.0                  10.0"
      ],
      "text/html": "<div>\n<style scoped>\n    .dataframe tbody tr th:only-of-type {\n        vertical-align: middle;\n    }\n\n    .dataframe tbody tr th {\n        vertical-align: top;\n    }\n\n    .dataframe thead th {\n        text-align: right;\n    }\n</style>\n<table border=\"1\" class=\"dataframe\">\n  <thead>\n    <tr style=\"text-align: right;\">\n      <th></th>\n      <th>Product_ID</th>\n      <th>rank_total</th>\n      <th>rank_City_Category_A</th>\n    </tr>\n  </thead>\n  <tbody>\n    <tr>\n      <th>148</th>\n      <td>P00110742</td>\n      <td>2.0</td>\n      <td>1.0</td>\n    </tr>\n    <tr>\n      <th>39</th>\n      <td>P00025442</td>\n      <td>1.0</td>\n      <td>2.0</td>\n    </tr>\n    <tr>\n      <th>88</th>\n      <td>P00057642</td>\n      <td>4.0</td>\n      <td>3.0</td>\n    </tr>\n    <tr>\n      <th>94</th>\n      <td>P00059442</td>\n      <td>7.0</td>\n      <td>4.0</td>\n    </tr>\n    <tr>\n      <th>152</th>\n      <td>P00112142</td>\n      <td>3.0</td>\n      <td>5.0</td>\n    </tr>\n    <tr>\n      <th>214</th>\n      <td>P00145042</td>\n      <td>7.0</td>\n      <td>6.0</td>\n    </tr>\n    <tr>\n      <th>149</th>\n      <td>P00110842</td>\n      <td>11.0</td>\n      <td>7.0</td>\n    </tr>\n    <tr>\n      <th>374</th>\n      <td>P00237542</td>\n      <td>9.0</td>\n      <td>8.0</td>\n    </tr>\n    <tr>\n      <th>72</th>\n      <td>P00046742</td>\n      <td>6.0</td>\n      <td>9.0</td>\n    </tr>\n    <tr>\n      <th>161</th>\n      <td>P00114942</td>\n      <td>17.0</td>\n      <td>10.0</td>\n    </tr>\n    <tr>\n      <th>287</th>\n      <td>P00184942</td>\n      <td>5.0</td>\n      <td>10.0</td>\n    </tr>\n  </tbody>\n</table>\n</div>"
     },
     "metadata": {},
     "execution_count": 37
    }
   ],
   "source": [
    "pd.merge(\n",
    "    df_totals[['Product_ID','rank']], df_totals_City_Category_A[['Product_ID','rank']],\n",
    "    on=['Product_ID'], suffixes=('_total', '_City_Category_A'),\n",
    "    how='outer'\n",
    ").nsmallest(10, 'rank_City_Category_A', keep='all')"
   ]
  },
  {
   "source": [
    "## City B vs overall"
   ],
   "cell_type": "markdown",
   "metadata": {}
  },
  {
   "cell_type": "code",
   "execution_count": 38,
   "metadata": {},
   "outputs": [],
   "source": [
    "df_City_Category_B = df.loc[df['City_Category'] == 'B']\n",
    "\n",
    "# get ranking in subset\n",
    "df_totals_City_Category_B = get_grouped_df(df_City_Category_B, PRODUCT_COLUMNS, aggregation_dict)\n",
    "df_totals_City_Category_B['rank'] = df_totals_City_Category_B['Purchase_count'].rank(method='min', ascending=False)"
   ]
  },
  {
   "cell_type": "code",
   "execution_count": 39,
   "metadata": {},
   "outputs": [
    {
     "output_type": "execute_result",
     "data": {
      "text/plain": [
       "    Product_ID  rank_total  rank_City_Category_B\n",
       "148  P00110742         2.0                   1.0\n",
       "39   P00025442         1.0                   2.0\n",
       "88   P00057642         4.0                   3.0\n",
       "94   P00059442         7.0                   4.0\n",
       "152  P00112142         3.0                   5.0\n",
       "214  P00145042         7.0                   6.0\n",
       "149  P00110842        11.0                   7.0\n",
       "374  P00237542         9.0                   8.0\n",
       "72   P00046742         6.0                   9.0\n",
       "161  P00114942        17.0                  10.0\n",
       "287  P00184942         5.0                  10.0"
      ],
      "text/html": "<div>\n<style scoped>\n    .dataframe tbody tr th:only-of-type {\n        vertical-align: middle;\n    }\n\n    .dataframe tbody tr th {\n        vertical-align: top;\n    }\n\n    .dataframe thead th {\n        text-align: right;\n    }\n</style>\n<table border=\"1\" class=\"dataframe\">\n  <thead>\n    <tr style=\"text-align: right;\">\n      <th></th>\n      <th>Product_ID</th>\n      <th>rank_total</th>\n      <th>rank_City_Category_B</th>\n    </tr>\n  </thead>\n  <tbody>\n    <tr>\n      <th>148</th>\n      <td>P00110742</td>\n      <td>2.0</td>\n      <td>1.0</td>\n    </tr>\n    <tr>\n      <th>39</th>\n      <td>P00025442</td>\n      <td>1.0</td>\n      <td>2.0</td>\n    </tr>\n    <tr>\n      <th>88</th>\n      <td>P00057642</td>\n      <td>4.0</td>\n      <td>3.0</td>\n    </tr>\n    <tr>\n      <th>94</th>\n      <td>P00059442</td>\n      <td>7.0</td>\n      <td>4.0</td>\n    </tr>\n    <tr>\n      <th>152</th>\n      <td>P00112142</td>\n      <td>3.0</td>\n      <td>5.0</td>\n    </tr>\n    <tr>\n      <th>214</th>\n      <td>P00145042</td>\n      <td>7.0</td>\n      <td>6.0</td>\n    </tr>\n    <tr>\n      <th>149</th>\n      <td>P00110842</td>\n      <td>11.0</td>\n      <td>7.0</td>\n    </tr>\n    <tr>\n      <th>374</th>\n      <td>P00237542</td>\n      <td>9.0</td>\n      <td>8.0</td>\n    </tr>\n    <tr>\n      <th>72</th>\n      <td>P00046742</td>\n      <td>6.0</td>\n      <td>9.0</td>\n    </tr>\n    <tr>\n      <th>161</th>\n      <td>P00114942</td>\n      <td>17.0</td>\n      <td>10.0</td>\n    </tr>\n    <tr>\n      <th>287</th>\n      <td>P00184942</td>\n      <td>5.0</td>\n      <td>10.0</td>\n    </tr>\n  </tbody>\n</table>\n</div>"
     },
     "metadata": {},
     "execution_count": 39
    }
   ],
   "source": [
    "pd.merge(\n",
    "    df_totals[['Product_ID','rank']], df_totals_City_Category_A[['Product_ID','rank']],\n",
    "    on=['Product_ID'], suffixes=('_total', '_City_Category_B'),\n",
    "    how='outer'\n",
    ").nsmallest(10, 'rank_City_Category_B', keep='all')"
   ]
  },
  {
   "source": [
    "## City C vs. overall"
   ],
   "cell_type": "markdown",
   "metadata": {}
  },
  {
   "cell_type": "code",
   "execution_count": 40,
   "metadata": {},
   "outputs": [],
   "source": [
    "df_City_Category_C = df.loc[df['City_Category'] == 'C']\n",
    "\n",
    "# get ranking in subset\n",
    "df_totals_City_Category_C = get_grouped_df(df_City_Category_C, PRODUCT_COLUMNS, aggregation_dict)\n",
    "df_totals_City_Category_C['rank'] = df_totals_City_Category_C['Purchase_count'].rank(method='min', ascending=False)"
   ]
  },
  {
   "cell_type": "code",
   "execution_count": 41,
   "metadata": {},
   "outputs": [
    {
     "output_type": "execute_result",
     "data": {
      "text/plain": [
       "    Product_ID  rank_total  rank_City_Category_C\n",
       "39   P00025442         1.0                   1.0\n",
       "152  P00112142         3.0                   2.0\n",
       "148  P00110742         2.0                   3.0\n",
       "287  P00184942         5.0                   4.0\n",
       "88   P00057642         4.0                   5.0\n",
       "72   P00046742         6.0                   6.0\n",
       "16   P00010742        10.0                   7.0\n",
       "374  P00237542         9.0                   8.0\n",
       "94   P00059442         7.0                   9.0\n",
       "214  P00145042         7.0                  10.0"
      ],
      "text/html": "<div>\n<style scoped>\n    .dataframe tbody tr th:only-of-type {\n        vertical-align: middle;\n    }\n\n    .dataframe tbody tr th {\n        vertical-align: top;\n    }\n\n    .dataframe thead th {\n        text-align: right;\n    }\n</style>\n<table border=\"1\" class=\"dataframe\">\n  <thead>\n    <tr style=\"text-align: right;\">\n      <th></th>\n      <th>Product_ID</th>\n      <th>rank_total</th>\n      <th>rank_City_Category_C</th>\n    </tr>\n  </thead>\n  <tbody>\n    <tr>\n      <th>39</th>\n      <td>P00025442</td>\n      <td>1.0</td>\n      <td>1.0</td>\n    </tr>\n    <tr>\n      <th>152</th>\n      <td>P00112142</td>\n      <td>3.0</td>\n      <td>2.0</td>\n    </tr>\n    <tr>\n      <th>148</th>\n      <td>P00110742</td>\n      <td>2.0</td>\n      <td>3.0</td>\n    </tr>\n    <tr>\n      <th>287</th>\n      <td>P00184942</td>\n      <td>5.0</td>\n      <td>4.0</td>\n    </tr>\n    <tr>\n      <th>88</th>\n      <td>P00057642</td>\n      <td>4.0</td>\n      <td>5.0</td>\n    </tr>\n    <tr>\n      <th>72</th>\n      <td>P00046742</td>\n      <td>6.0</td>\n      <td>6.0</td>\n    </tr>\n    <tr>\n      <th>16</th>\n      <td>P00010742</td>\n      <td>10.0</td>\n      <td>7.0</td>\n    </tr>\n    <tr>\n      <th>374</th>\n      <td>P00237542</td>\n      <td>9.0</td>\n      <td>8.0</td>\n    </tr>\n    <tr>\n      <th>94</th>\n      <td>P00059442</td>\n      <td>7.0</td>\n      <td>9.0</td>\n    </tr>\n    <tr>\n      <th>214</th>\n      <td>P00145042</td>\n      <td>7.0</td>\n      <td>10.0</td>\n    </tr>\n  </tbody>\n</table>\n</div>"
     },
     "metadata": {},
     "execution_count": 41
    }
   ],
   "source": [
    "pd.merge(\n",
    "    df_totals[['Product_ID','rank']], df_totals_City_Category_C[['Product_ID','rank']],\n",
    "    on=['Product_ID'], suffixes=('_total', '_City_Category_C'),\n",
    "    how='outer'\n",
    ").nsmallest(10, 'rank_City_Category_C', keep='all')"
   ]
  },
  {
   "source": [
    "# Marital status top k"
   ],
   "cell_type": "markdown",
   "metadata": {}
  },
  {
   "source": [
    "## Marital status 0"
   ],
   "cell_type": "markdown",
   "metadata": {}
  },
  {
   "cell_type": "code",
   "execution_count": 45,
   "metadata": {},
   "outputs": [],
   "source": [
    "df_Marital_Status_0 = df.loc[df['Marital_Status'] == 0]\n",
    "\n",
    "# get ranking in subset\n",
    "df_totals_Marital_Status_0 = get_grouped_df(df_Marital_Status_0, PRODUCT_COLUMNS, aggregation_dict)\n",
    "df_totals_Marital_Status_0['rank'] = df_totals_Marital_Status_0['Purchase_count'].rank(method='min', ascending=False)"
   ]
  },
  {
   "cell_type": "code",
   "execution_count": 46,
   "metadata": {},
   "outputs": [
    {
     "output_type": "execute_result",
     "data": {
      "text/plain": [
       "    Product_ID  rank_total  rank_Marital_Status_0\n",
       "148  P00110742         2.0                    1.0\n",
       "39   P00025442         1.0                    2.0\n",
       "152  P00112142         3.0                    3.0\n",
       "88   P00057642         4.0                    4.0\n",
       "214  P00145042         7.0                    5.0\n",
       "72   P00046742         6.0                    6.0\n",
       "374  P00237542         9.0                    7.0\n",
       "287  P00184942         5.0                    8.0\n",
       "94   P00059442         7.0                    9.0\n",
       "16   P00010742        10.0                   10.0"
      ],
      "text/html": "<div>\n<style scoped>\n    .dataframe tbody tr th:only-of-type {\n        vertical-align: middle;\n    }\n\n    .dataframe tbody tr th {\n        vertical-align: top;\n    }\n\n    .dataframe thead th {\n        text-align: right;\n    }\n</style>\n<table border=\"1\" class=\"dataframe\">\n  <thead>\n    <tr style=\"text-align: right;\">\n      <th></th>\n      <th>Product_ID</th>\n      <th>rank_total</th>\n      <th>rank_Marital_Status_0</th>\n    </tr>\n  </thead>\n  <tbody>\n    <tr>\n      <th>148</th>\n      <td>P00110742</td>\n      <td>2.0</td>\n      <td>1.0</td>\n    </tr>\n    <tr>\n      <th>39</th>\n      <td>P00025442</td>\n      <td>1.0</td>\n      <td>2.0</td>\n    </tr>\n    <tr>\n      <th>152</th>\n      <td>P00112142</td>\n      <td>3.0</td>\n      <td>3.0</td>\n    </tr>\n    <tr>\n      <th>88</th>\n      <td>P00057642</td>\n      <td>4.0</td>\n      <td>4.0</td>\n    </tr>\n    <tr>\n      <th>214</th>\n      <td>P00145042</td>\n      <td>7.0</td>\n      <td>5.0</td>\n    </tr>\n    <tr>\n      <th>72</th>\n      <td>P00046742</td>\n      <td>6.0</td>\n      <td>6.0</td>\n    </tr>\n    <tr>\n      <th>374</th>\n      <td>P00237542</td>\n      <td>9.0</td>\n      <td>7.0</td>\n    </tr>\n    <tr>\n      <th>287</th>\n      <td>P00184942</td>\n      <td>5.0</td>\n      <td>8.0</td>\n    </tr>\n    <tr>\n      <th>94</th>\n      <td>P00059442</td>\n      <td>7.0</td>\n      <td>9.0</td>\n    </tr>\n    <tr>\n      <th>16</th>\n      <td>P00010742</td>\n      <td>10.0</td>\n      <td>10.0</td>\n    </tr>\n  </tbody>\n</table>\n</div>"
     },
     "metadata": {},
     "execution_count": 46
    }
   ],
   "source": [
    "pd.merge(\n",
    "    df_totals[['Product_ID','rank']], df_totals_Marital_Status_0[['Product_ID','rank']],\n",
    "    on=['Product_ID'], suffixes=('_total', '_Marital_Status_0'),\n",
    "    how='outer'\n",
    ").nsmallest(10, 'rank_Marital_Status_0', keep='all')"
   ]
  },
  {
   "source": [
    "## Marital Status 1"
   ],
   "cell_type": "markdown",
   "metadata": {}
  },
  {
   "cell_type": "code",
   "execution_count": 47,
   "metadata": {},
   "outputs": [],
   "source": [
    "df_Marital_Status_1 = df.loc[df['Marital_Status'] == 1]\n",
    "\n",
    "# get ranking in subset\n",
    "df_totals_Marital_Status_1 = get_grouped_df(df_Marital_Status_1, PRODUCT_COLUMNS, aggregation_dict)\n",
    "df_totals_Marital_Status_1['rank'] = df_totals_Marital_Status_1['Purchase_count'].rank(method='min', ascending=False)"
   ]
  },
  {
   "cell_type": "code",
   "execution_count": 48,
   "metadata": {},
   "outputs": [
    {
     "output_type": "execute_result",
     "data": {
      "text/plain": [
       "    Product_ID  rank_total  rank_Marital_Status_1\n",
       "39   P00025442         1.0                    1.0\n",
       "148  P00110742         2.0                    2.0\n",
       "152  P00112142         3.0                    3.0\n",
       "287  P00184942         5.0                    4.0\n",
       "88   P00057642         4.0                    5.0\n",
       "94   P00059442         7.0                    6.0\n",
       "16   P00010742        10.0                    7.0\n",
       "72   P00046742         6.0                    8.0\n",
       "374  P00237542         9.0                    9.0\n",
       "214  P00145042         7.0                   10.0"
      ],
      "text/html": "<div>\n<style scoped>\n    .dataframe tbody tr th:only-of-type {\n        vertical-align: middle;\n    }\n\n    .dataframe tbody tr th {\n        vertical-align: top;\n    }\n\n    .dataframe thead th {\n        text-align: right;\n    }\n</style>\n<table border=\"1\" class=\"dataframe\">\n  <thead>\n    <tr style=\"text-align: right;\">\n      <th></th>\n      <th>Product_ID</th>\n      <th>rank_total</th>\n      <th>rank_Marital_Status_1</th>\n    </tr>\n  </thead>\n  <tbody>\n    <tr>\n      <th>39</th>\n      <td>P00025442</td>\n      <td>1.0</td>\n      <td>1.0</td>\n    </tr>\n    <tr>\n      <th>148</th>\n      <td>P00110742</td>\n      <td>2.0</td>\n      <td>2.0</td>\n    </tr>\n    <tr>\n      <th>152</th>\n      <td>P00112142</td>\n      <td>3.0</td>\n      <td>3.0</td>\n    </tr>\n    <tr>\n      <th>287</th>\n      <td>P00184942</td>\n      <td>5.0</td>\n      <td>4.0</td>\n    </tr>\n    <tr>\n      <th>88</th>\n      <td>P00057642</td>\n      <td>4.0</td>\n      <td>5.0</td>\n    </tr>\n    <tr>\n      <th>94</th>\n      <td>P00059442</td>\n      <td>7.0</td>\n      <td>6.0</td>\n    </tr>\n    <tr>\n      <th>16</th>\n      <td>P00010742</td>\n      <td>10.0</td>\n      <td>7.0</td>\n    </tr>\n    <tr>\n      <th>72</th>\n      <td>P00046742</td>\n      <td>6.0</td>\n      <td>8.0</td>\n    </tr>\n    <tr>\n      <th>374</th>\n      <td>P00237542</td>\n      <td>9.0</td>\n      <td>9.0</td>\n    </tr>\n    <tr>\n      <th>214</th>\n      <td>P00145042</td>\n      <td>7.0</td>\n      <td>10.0</td>\n    </tr>\n  </tbody>\n</table>\n</div>"
     },
     "metadata": {},
     "execution_count": 48
    }
   ],
   "source": [
    "pd.merge(\n",
    "    df_totals[['Product_ID','rank']], df_totals_Marital_Status_1[['Product_ID','rank']],\n",
    "    on=['Product_ID'], suffixes=('_total', '_Marital_Status_1'),\n",
    "    how='outer'\n",
    ").nsmallest(10, 'rank_Marital_Status_1', keep='all')"
   ]
  },
  {
   "source": [
    "# Gender top k"
   ],
   "cell_type": "markdown",
   "metadata": {}
  },
  {
   "source": [
    "## Male vs Female"
   ],
   "cell_type": "markdown",
   "metadata": {}
  },
  {
   "cell_type": "code",
   "execution_count": 50,
   "metadata": {},
   "outputs": [],
   "source": [
    "df_Gender_M = df.loc[df['Gender'] == 'M']\n",
    "\n",
    "# get ranking in subset\n",
    "df_totals_Gender_M = get_grouped_df(df_Gender_M, PRODUCT_COLUMNS, aggregation_dict)\n",
    "df_totals_Gender_M['rank'] = df_totals_Gender_M['Purchase_count'].rank(method='min', ascending=False)"
   ]
  },
  {
   "cell_type": "code",
   "execution_count": 52,
   "metadata": {},
   "outputs": [],
   "source": [
    "df_Gender_F = df.loc[df['Gender'] == 'F']\n",
    "\n",
    "# get ranking in subset\n",
    "df_totals_Gender_F = get_grouped_df(df_Gender_F, PRODUCT_COLUMNS, aggregation_dict)\n",
    "df_totals_Gender_F['rank'] = df_totals_Gender_F['Purchase_count'].rank(method='min', ascending=False)"
   ]
  },
  {
   "cell_type": "code",
   "execution_count": 54,
   "metadata": {},
   "outputs": [
    {
     "output_type": "execute_result",
     "data": {
      "text/plain": [
       "    Product_ID  rank_Gender_F  rank_Gender_M\n",
       "38   P00025442            5.0            1.0\n",
       "145  P00110742            1.0            2.0\n",
       "149  P00112142            7.0            3.0\n",
       "87   P00057642           20.0            4.0\n",
       "283  P00184942           13.0            5.0\n",
       "71   P00046742           11.0            6.0\n",
       "370  P00237542           15.0            7.0\n",
       "211  P00145042           12.0            8.0\n",
       "15   P00010742           16.0            9.0\n",
       "92   P00059442            3.0           10.0"
      ],
      "text/html": "<div>\n<style scoped>\n    .dataframe tbody tr th:only-of-type {\n        vertical-align: middle;\n    }\n\n    .dataframe tbody tr th {\n        vertical-align: top;\n    }\n\n    .dataframe thead th {\n        text-align: right;\n    }\n</style>\n<table border=\"1\" class=\"dataframe\">\n  <thead>\n    <tr style=\"text-align: right;\">\n      <th></th>\n      <th>Product_ID</th>\n      <th>rank_Gender_F</th>\n      <th>rank_Gender_M</th>\n    </tr>\n  </thead>\n  <tbody>\n    <tr>\n      <th>38</th>\n      <td>P00025442</td>\n      <td>5.0</td>\n      <td>1.0</td>\n    </tr>\n    <tr>\n      <th>145</th>\n      <td>P00110742</td>\n      <td>1.0</td>\n      <td>2.0</td>\n    </tr>\n    <tr>\n      <th>149</th>\n      <td>P00112142</td>\n      <td>7.0</td>\n      <td>3.0</td>\n    </tr>\n    <tr>\n      <th>87</th>\n      <td>P00057642</td>\n      <td>20.0</td>\n      <td>4.0</td>\n    </tr>\n    <tr>\n      <th>283</th>\n      <td>P00184942</td>\n      <td>13.0</td>\n      <td>5.0</td>\n    </tr>\n    <tr>\n      <th>71</th>\n      <td>P00046742</td>\n      <td>11.0</td>\n      <td>6.0</td>\n    </tr>\n    <tr>\n      <th>370</th>\n      <td>P00237542</td>\n      <td>15.0</td>\n      <td>7.0</td>\n    </tr>\n    <tr>\n      <th>211</th>\n      <td>P00145042</td>\n      <td>12.0</td>\n      <td>8.0</td>\n    </tr>\n    <tr>\n      <th>15</th>\n      <td>P00010742</td>\n      <td>16.0</td>\n      <td>9.0</td>\n    </tr>\n    <tr>\n      <th>92</th>\n      <td>P00059442</td>\n      <td>3.0</td>\n      <td>10.0</td>\n    </tr>\n  </tbody>\n</table>\n</div>"
     },
     "metadata": {},
     "execution_count": 54
    }
   ],
   "source": [
    "pd.merge(\n",
    "    df_totals_Gender_F[['Product_ID','rank']], df_totals_Gender_M[['Product_ID','rank']],\n",
    "    on=['Product_ID'], suffixes=('_Gender_F', '_Gender_M'),\n",
    "    how='outer'\n",
    ").nsmallest(10, 'rank_Gender_M', keep='all')"
   ]
  },
  {
   "cell_type": "code",
   "execution_count": 55,
   "metadata": {},
   "outputs": [
    {
     "output_type": "execute_result",
     "data": {
      "text/plain": [
       "    Product_ID  rank_Gender_F  rank_Gender_M\n",
       "145  P00110742            1.0            2.0\n",
       "52   P00034742            2.0           20.0\n",
       "92   P00059442            3.0           10.0\n",
       "146  P00110842            4.0           15.0\n",
       "38   P00025442            5.0            1.0\n",
       "0    P00000142            6.0           21.0\n",
       "149  P00112142            7.0            3.0\n",
       "137  P00102642            8.0           16.0\n",
       "8    P00003442            9.0           34.0\n",
       "221  P00148642           10.0           18.0"
      ],
      "text/html": "<div>\n<style scoped>\n    .dataframe tbody tr th:only-of-type {\n        vertical-align: middle;\n    }\n\n    .dataframe tbody tr th {\n        vertical-align: top;\n    }\n\n    .dataframe thead th {\n        text-align: right;\n    }\n</style>\n<table border=\"1\" class=\"dataframe\">\n  <thead>\n    <tr style=\"text-align: right;\">\n      <th></th>\n      <th>Product_ID</th>\n      <th>rank_Gender_F</th>\n      <th>rank_Gender_M</th>\n    </tr>\n  </thead>\n  <tbody>\n    <tr>\n      <th>145</th>\n      <td>P00110742</td>\n      <td>1.0</td>\n      <td>2.0</td>\n    </tr>\n    <tr>\n      <th>52</th>\n      <td>P00034742</td>\n      <td>2.0</td>\n      <td>20.0</td>\n    </tr>\n    <tr>\n      <th>92</th>\n      <td>P00059442</td>\n      <td>3.0</td>\n      <td>10.0</td>\n    </tr>\n    <tr>\n      <th>146</th>\n      <td>P00110842</td>\n      <td>4.0</td>\n      <td>15.0</td>\n    </tr>\n    <tr>\n      <th>38</th>\n      <td>P00025442</td>\n      <td>5.0</td>\n      <td>1.0</td>\n    </tr>\n    <tr>\n      <th>0</th>\n      <td>P00000142</td>\n      <td>6.0</td>\n      <td>21.0</td>\n    </tr>\n    <tr>\n      <th>149</th>\n      <td>P00112142</td>\n      <td>7.0</td>\n      <td>3.0</td>\n    </tr>\n    <tr>\n      <th>137</th>\n      <td>P00102642</td>\n      <td>8.0</td>\n      <td>16.0</td>\n    </tr>\n    <tr>\n      <th>8</th>\n      <td>P00003442</td>\n      <td>9.0</td>\n      <td>34.0</td>\n    </tr>\n    <tr>\n      <th>221</th>\n      <td>P00148642</td>\n      <td>10.0</td>\n      <td>18.0</td>\n    </tr>\n  </tbody>\n</table>\n</div>"
     },
     "metadata": {},
     "execution_count": 55
    }
   ],
   "source": [
    "pd.merge(\n",
    "    df_totals_Gender_F[['Product_ID','rank']], df_totals_Gender_M[['Product_ID','rank']],\n",
    "    on=['Product_ID'], suffixes=('_Gender_F', '_Gender_M'),\n",
    "    how='outer'\n",
    ").nsmallest(10, 'rank_Gender_F', keep='all')"
   ]
  }
 ]
}