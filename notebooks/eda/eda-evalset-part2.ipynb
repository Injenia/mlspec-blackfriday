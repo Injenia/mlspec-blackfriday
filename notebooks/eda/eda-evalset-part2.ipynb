{
 "cells": [
  {
   "cell_type": "markdown",
   "id": "c35d20e8",
   "metadata": {},
   "source": [
    "# What features can better describe the product?"
   ]
  },
  {
   "cell_type": "code",
   "execution_count": 1,
   "id": "00d1d52d",
   "metadata": {},
   "outputs": [],
   "source": [
    "import pandas as pd\n",
    "import numpy as np"
   ]
  },
  {
   "cell_type": "code",
   "execution_count": 2,
   "id": "702fd937",
   "metadata": {},
   "outputs": [],
   "source": [
    "TRAIN_PATH          = \"gs://mlteam-ml-specialization-2021-blackfriday/dataset/parsed/202104130952/train.csv\"\n",
    "EVAL_PATH           = \"gs://mlteam-ml-specialization-2021-blackfriday/dataset/parsed/202104130952/test/evalset.csv\""
   ]
  },
  {
   "cell_type": "code",
   "execution_count": 3,
   "id": "0cfa708a",
   "metadata": {},
   "outputs": [],
   "source": [
    "df_train = pd.read_csv(TRAIN_PATH)\n",
    "df_eval  = pd.read_csv(EVAL_PATH)"
   ]
  },
  {
   "cell_type": "code",
   "execution_count": 5,
   "id": "22b60fee",
   "metadata": {},
   "outputs": [
    {
     "data": {
      "text/plain": [
       "Product_Category_1        0\n",
       "Product_Category_2    24621\n",
       "Product_Category_3    54487\n",
       "dtype: int64"
      ]
     },
     "execution_count": 5,
     "metadata": {},
     "output_type": "execute_result"
    }
   ],
   "source": [
    "df_train[[\"Product_Category_1\",\"Product_Category_2\",\"Product_Category_3\"]].isna().sum()"
   ]
  },
  {
   "cell_type": "markdown",
   "id": "ff973a3a",
   "metadata": {},
   "source": [
    "\"Product_Category_1\" is the only one that doesn't have null values.  \n",
    "Let's try to define the product by the combination of its own features, which will only be \"Product_Category_1\" for now  \n",
    "The user will still be defined as the combination of its own features as in part1"
   ]
  },
  {
   "cell_type": "code",
   "execution_count": 7,
   "id": "6bf22d7c",
   "metadata": {},
   "outputs": [],
   "source": [
    "USER_FEATURES       = [\"Gender\", \"Age\", \"Occupation\", \"City_Category\", \"Stay_In_Current_City_Years\", \"Marital_Status\"]\n",
    "PRODUCT_FEATURES    = [\"Product_Category_1\"]"
   ]
  },
  {
   "cell_type": "markdown",
   "id": "76d983de",
   "metadata": {},
   "source": [
    "## How well user features map to product features?"
   ]
  },
  {
   "cell_type": "code",
   "execution_count": 10,
   "id": "59196708",
   "metadata": {},
   "outputs": [
    {
     "data": {
      "text/plain": [
       "{'train_products_number': 20,\n",
       " 'eval_products_number': 20,\n",
       " 'intersection_products_number': 20}"
      ]
     },
     "execution_count": 10,
     "metadata": {},
     "output_type": "execute_result"
    }
   ],
   "source": [
    "# SELF NOTE: This doesn't generalize to multiple product features!\n",
    "train_products = df_train[PRODUCT_FEATURES[0]].unique()\n",
    "eval_products  = df_eval[PRODUCT_FEATURES[0]].unique()\n",
    "intersection   = np.intersect1d(train_products, eval_products)\n",
    "dict(\n",
    "    train_products_number        = train_products.shape[0],\n",
    "    eval_products_number         = eval_products.shape[0],\n",
    "    intersection_products_number = intersection.shape[0],\n",
    ")"
   ]
  },
  {
   "cell_type": "code",
   "execution_count": 35,
   "id": "a3642734",
   "metadata": {},
   "outputs": [],
   "source": [
    "# for a given \"user features combination\", we will output all the products with an associated \"product features combination\"\n",
    "\n",
    "example=df_train.groupby(USER_FEATURES)[[\"Product_Category_1\",\"Product_Category_2\"]].apply(lambda x: x.values.tolist())"
   ]
  },
  {
   "cell_type": "code",
   "execution_count": 36,
   "id": "354c9212",
   "metadata": {},
   "outputs": [
    {
     "name": "stdout",
     "output_type": "stream",
     "text": [
      "[[5.0, nan], [5.0, nan], [8.0, nan], [5.0, nan], [2.0, 4.0], [8.0, nan], [5.0, 8.0], [9.0, 15.0], [8.0, nan], [9.0, 15.0], [2.0, 5.0], [5.0, 8.0], [5.0, 8.0], [5.0, 14.0], [5.0, nan], [8.0, nan], [8.0, nan], [8.0, 14.0], [5.0, nan], [8.0, 14.0], [11.0, 15.0], [1.0, 2.0], [8.0, nan], [8.0, nan], [3.0, 13.0], [8.0, nan], [5.0, 8.0], [6.0, 8.0], [8.0, nan], [3.0, 12.0], [8.0, nan], [1.0, 2.0], [8.0, nan], [8.0, nan], [8.0, nan], [5.0, 14.0], [8.0, nan], [5.0, 9.0], [8.0, nan], [3.0, 4.0], [1.0, 4.0], [8.0, 16.0], [8.0, 13.0], [2.0, 4.0], [8.0, 15.0], [4.0, 15.0], [2.0, 9.0], [5.0, nan], [8.0, 16.0], [8.0, nan], [1.0, 2.0]]\n"
     ]
    }
   ],
   "source": [
    "print(example.values[0])"
   ]
  },
  {
   "cell_type": "code",
   "execution_count": null,
   "id": "36d43479",
   "metadata": {},
   "outputs": [],
   "source": [
    "example=df_train.groupby(USER_FEATURES)[[\"Product_Category_1\",\"Product_Category_2\"]].apply(lambda x: x[\"\"])"
   ]
  }
 ],
 "metadata": {
  "environment": {
   "name": "tf2-gpu.2-3.m65",
   "type": "gcloud",
   "uri": "gcr.io/deeplearning-platform-release/tf2-gpu.2-3:m65"
  },
  "kernelspec": {
   "display_name": "Python 3",
   "language": "python",
   "name": "python3"
  },
  "language_info": {
   "codemirror_mode": {
    "name": "ipython",
    "version": 3
   },
   "file_extension": ".py",
   "mimetype": "text/x-python",
   "name": "python",
   "nbconvert_exporter": "python",
   "pygments_lexer": "ipython3",
   "version": "3.7.10"
  }
 },
 "nbformat": 4,
 "nbformat_minor": 5
}
