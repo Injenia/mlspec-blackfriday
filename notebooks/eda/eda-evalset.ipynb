{
 "cells": [
  {
   "cell_type": "markdown",
   "id": "8e2b26f0",
   "metadata": {},
   "source": [
    "# checking train/eval similarity"
   ]
  },
  {
   "cell_type": "code",
   "execution_count": 5,
   "id": "b79fa389",
   "metadata": {},
   "outputs": [],
   "source": [
    "import pandas as pd\n",
    "import numpy as np"
   ]
  },
  {
   "cell_type": "code",
   "execution_count": 1,
   "id": "255de383",
   "metadata": {},
   "outputs": [],
   "source": [
    "TRAIN_PATH          = \"gs://mlteam-ml-specialization-2021-blackfriday/dataset/parsed/202104130952/train.csv\"\n",
    "EVAL_PATH           = \"gs://mlteam-ml-specialization-2021-blackfriday/dataset/parsed/202104130952/test/evalset.csv\""
   ]
  },
  {
   "cell_type": "code",
   "execution_count": 3,
   "id": "8efb87fa",
   "metadata": {},
   "outputs": [],
   "source": [
    "df_train = pd.read_csv(TRAIN_PATH)\n",
    "df_eval  = pd.read_csv(EVAL_PATH)"
   ]
  },
  {
   "cell_type": "code",
   "execution_count": 6,
   "id": "0a603a51",
   "metadata": {},
   "outputs": [
    {
     "data": {
      "text/plain": [
       "{'train_products_number': 3250,\n",
       " 'eval_products_number': 3540,\n",
       " 'intersection_products_number': 3228}"
      ]
     },
     "execution_count": 6,
     "metadata": {},
     "output_type": "execute_result"
    }
   ],
   "source": [
    "train_products = df_train[\"Product_ID\"].unique()\n",
    "eval_products  = df_eval[\"Product_ID\"].unique()\n",
    "intersection = np.intersect1d(train_products, eval_products)\n",
    "dict(\n",
    "    train_products_number        = train_products.shape[0],\n",
    "    eval_products_number         = eval_products.shape[0],\n",
    "    intersection_products_number = intersection.shape[0],\n",
    ")"
   ]
  },
  {
   "cell_type": "markdown",
   "id": "577a2228",
   "metadata": {},
   "source": [
    "# do the same users buy the same products in train and eval?"
   ]
  },
  {
   "cell_type": "code",
   "execution_count": 74,
   "id": "1f7de1a0",
   "metadata": {},
   "outputs": [],
   "source": [
    "# let's define a user by the combination of its own features\n",
    "USER_FEATURES       = [\"Gender\", \"Age\", \"Occupation\", \"City_Category\", \"Stay_In_Current_City_Years\", \"Marital_Status\"]\n",
    "train_shopping = df_train.rename(columns={\"Product_ID\":\"Product_ID_train\"}).groupby(USER_FEATURES)[\"Product_ID_train\"].apply(np.array)\n",
    "eval_shopping  = df_eval.rename(columns={\"Product_ID\":\"Product_ID_eval\"}).groupby(USER_FEATURES)[\"Product_ID_eval\"].apply(np.array)"
   ]
  },
  {
   "cell_type": "code",
   "execution_count": 75,
   "id": "d53c1fe9",
   "metadata": {},
   "outputs": [],
   "source": [
    "df_comparison  = pd.DataFrame([train_shopping, eval_shopping]).T.dropna()\n",
    "df_comparison_stats=df_comparison.apply(lambda x: pd.Series({\n",
    "    \"train_size\": x[\"Product_ID_train\"].shape[0],\n",
    "    \"eval_size\": x[\"Product_ID_eval\"].shape[0],\n",
    "    \"intersection_size\": np.intersect1d(x[\"Product_ID_train\"], x[\"Product_ID_eval\"]).shape[0]\n",
    "}), axis=1)"
   ]
  },
  {
   "cell_type": "code",
   "execution_count": 76,
   "id": "9757903e",
   "metadata": {},
   "outputs": [],
   "source": [
    "df_comparison_stats[\"intersection_over_train\"]=df_comparison_stats[\"intersection_size\"]/df_comparison_stats[\"train_size\"]"
   ]
  },
  {
   "cell_type": "code",
   "execution_count": 77,
   "id": "764b7627",
   "metadata": {},
   "outputs": [
    {
     "data": {
      "text/plain": [
       "<AxesSubplot:ylabel='Frequency'>"
      ]
     },
     "execution_count": 77,
     "metadata": {},
     "output_type": "execute_result"
    },
    {
     "data": {
      "image/png": "[encoded data removed]",
      "text/plain": [
       "<Figure size 2160x720 with 1 Axes>"
      ]
     },
     "metadata": {
      "needs_background": "light"
     },
     "output_type": "display_data"
    }
   ],
   "source": [
    "df_comparison_stats[\"intersection_over_train\"].plot.hist(bins=100, figsize=(30,10))"
   ]
  },
  {
   "cell_type": "code",
   "execution_count": 78,
   "id": "2345c535",
   "metadata": {},
   "outputs": [
    {
     "data": {
      "text/plain": [
       "{'total_intersection_over_train': 0.2933797820483373,\n",
       " 'total_intersection_over_eval': 0.08392438008534435,\n",
       " 'total_train_products': 78366,\n",
       " 'intersection_train_products': 78366,\n",
       " 'total_eval_products': 274284,\n",
       " 'intersection_eval_products': 273949}"
      ]
     },
     "execution_count": 78,
     "metadata": {},
     "output_type": "execute_result"
    }
   ],
   "source": [
    "result_all_features=dict(\n",
    "    total_intersection_over_train = df_comparison_stats[\"intersection_size\"].sum()/df_comparison_stats[\"train_size\"].sum(),\n",
    "    total_intersection_over_eval  = df_comparison_stats[\"intersection_size\"].sum()/df_comparison_stats[\"eval_size\"].sum(),\n",
    "    total_train_products = df_train.shape[0],\n",
    "    intersection_train_products = df_comparison_stats[\"train_size\"].sum(),\n",
    "    total_eval_products = df_eval.shape[0],\n",
    "    intersection_eval_products = df_comparison_stats[\"eval_size\"].sum(),\n",
    ")\n",
    "result_all_features"
   ]
  },
  {
   "cell_type": "markdown",
   "id": "14a6652f",
   "metadata": {},
   "source": [
    "# How does this change with less features?"
   ]
  },
  {
   "cell_type": "code",
   "execution_count": 79,
   "id": "eb1b59ad",
   "metadata": {},
   "outputs": [],
   "source": [
    "USER_FEATURES       = [\"Gender\", \"Age\", \"Occupation\"]\n",
    "train_shopping = df_train.rename(columns={\"Product_ID\":\"Product_ID_train\"}).groupby(USER_FEATURES)[\"Product_ID_train\"].apply(np.array)\n",
    "eval_shopping  = df_eval.rename(columns={\"Product_ID\":\"Product_ID_eval\"}).groupby(USER_FEATURES)[\"Product_ID_eval\"].apply(np.array)"
   ]
  },
  {
   "cell_type": "code",
   "execution_count": 80,
   "id": "3baef0b0",
   "metadata": {},
   "outputs": [],
   "source": [
    "df_comparison  = pd.DataFrame([train_shopping, eval_shopping]).T.dropna()\n",
    "df_comparison_stats=df_comparison.apply(lambda x: pd.Series({\n",
    "    \"train_size\": x[\"Product_ID_train\"].shape[0],\n",
    "    \"eval_size\": x[\"Product_ID_eval\"].shape[0],\n",
    "    \"intersection_size\": np.intersect1d(x[\"Product_ID_train\"], x[\"Product_ID_eval\"]).shape[0]\n",
    "}), axis=1)"
   ]
  },
  {
   "cell_type": "code",
   "execution_count": 81,
   "id": "d83ffd27",
   "metadata": {},
   "outputs": [],
   "source": [
    "df_comparison_stats[\"intersection_over_train\"]=df_comparison_stats[\"intersection_size\"]/df_comparison_stats[\"train_size\"]"
   ]
  },
  {
   "cell_type": "code",
   "execution_count": 82,
   "id": "a8ff3cb1",
   "metadata": {},
   "outputs": [
    {
     "data": {
      "text/plain": [
       "<AxesSubplot:ylabel='Frequency'>"
      ]
     },
     "execution_count": 82,
     "metadata": {},
     "output_type": "execute_result"
    },
    {
     "data": {
      "image/png": "[encoded data removed]",
      "text/plain": [
       "<Figure size 2160x720 with 1 Axes>"
      ]
     },
     "metadata": {
      "needs_background": "light"
     },
     "output_type": "display_data"
    }
   ],
   "source": [
    "df_comparison_stats[\"intersection_over_train\"].plot.hist(bins=100, figsize=(30,10))"
   ]
  },
  {
   "cell_type": "code",
   "execution_count": 83,
   "id": "136bf742",
   "metadata": {},
   "outputs": [
    {
     "data": {
      "text/plain": [
       "{'total_intersection_over_train': 0.4635173417043105,\n",
       " 'total_intersection_over_eval': 0.1324349747336644,\n",
       " 'total_train_products': 78366,\n",
       " 'intersection_train_products': 78366,\n",
       " 'total_eval_products': 274284,\n",
       " 'intersection_eval_products': 274278}"
      ]
     },
     "execution_count": 83,
     "metadata": {},
     "output_type": "execute_result"
    }
   ],
   "source": [
    "result_few_features=dict(\n",
    "    total_intersection_over_train = df_comparison_stats[\"intersection_size\"].sum()/df_comparison_stats[\"train_size\"].sum(),\n",
    "    total_intersection_over_eval  = df_comparison_stats[\"intersection_size\"].sum()/df_comparison_stats[\"eval_size\"].sum(),\n",
    "    total_train_products = df_train.shape[0],\n",
    "    intersection_train_products = df_comparison_stats[\"train_size\"].sum(),\n",
    "    total_eval_products = df_eval.shape[0],\n",
    "    intersection_eval_products = df_comparison_stats[\"eval_size\"].sum(),\n",
    ")\n",
    "result_few_features"
   ]
  },
  {
   "cell_type": "code",
   "execution_count": 84,
   "id": "3da5307f",
   "metadata": {},
   "outputs": [
    {
     "data": {
      "text/html": [
       "<div>\n",
       "<style scoped>\n",
       "    .dataframe tbody tr th:only-of-type {\n",
       "        vertical-align: middle;\n",
       "    }\n",
       "\n",
       "    .dataframe tbody tr th {\n",
       "        vertical-align: top;\n",
       "    }\n",
       "\n",
       "    .dataframe thead th {\n",
       "        text-align: right;\n",
       "    }\n",
       "</style>\n",
       "<table border=\"1\" class=\"dataframe\">\n",
       "  <thead>\n",
       "    <tr style=\"text-align: right;\">\n",
       "      <th></th>\n",
       "      <th>result_all_features</th>\n",
       "      <th>result_few_features</th>\n",
       "    </tr>\n",
       "  </thead>\n",
       "  <tbody>\n",
       "    <tr>\n",
       "      <th>total_intersection_over_train</th>\n",
       "      <td>0.293380</td>\n",
       "      <td>0.463517</td>\n",
       "    </tr>\n",
       "    <tr>\n",
       "      <th>total_intersection_over_eval</th>\n",
       "      <td>0.083924</td>\n",
       "      <td>0.132435</td>\n",
       "    </tr>\n",
       "    <tr>\n",
       "      <th>total_train_products</th>\n",
       "      <td>78366.000000</td>\n",
       "      <td>78366.000000</td>\n",
       "    </tr>\n",
       "    <tr>\n",
       "      <th>intersection_train_products</th>\n",
       "      <td>78366.000000</td>\n",
       "      <td>78366.000000</td>\n",
       "    </tr>\n",
       "    <tr>\n",
       "      <th>total_eval_products</th>\n",
       "      <td>274284.000000</td>\n",
       "      <td>274284.000000</td>\n",
       "    </tr>\n",
       "    <tr>\n",
       "      <th>intersection_eval_products</th>\n",
       "      <td>273949.000000</td>\n",
       "      <td>274278.000000</td>\n",
       "    </tr>\n",
       "  </tbody>\n",
       "</table>\n",
       "</div>"
      ],
      "text/plain": [
       "                               result_all_features  result_few_features\n",
       "total_intersection_over_train             0.293380             0.463517\n",
       "total_intersection_over_eval              0.083924             0.132435\n",
       "total_train_products                  78366.000000         78366.000000\n",
       "intersection_train_products           78366.000000         78366.000000\n",
       "total_eval_products                  274284.000000        274284.000000\n",
       "intersection_eval_products           273949.000000        274278.000000"
      ]
     },
     "execution_count": 84,
     "metadata": {},
     "output_type": "execute_result"
    }
   ],
   "source": [
    "pd.DataFrame({\"result_all_features\":result_all_features, \"result_few_features\":result_few_features})"
   ]
  },
  {
   "cell_type": "markdown",
   "id": "a382fd51",
   "metadata": {},
   "source": [
    "# what about the test set?"
   ]
  },
  {
   "cell_type": "code",
   "execution_count": 85,
   "id": "1d905b86",
   "metadata": {},
   "outputs": [],
   "source": [
    "TRAIN_PATH          = \"gs://mlteam-ml-specialization-2021-blackfriday/dataset/parsed/202104130952/train.csv\"\n",
    "EVAL_PATH           = \"gs://mlteam-ml-specialization-2021-blackfriday/dataset/parsed/202104130952/test/testset.csv\"\n",
    "# NOTICE THAT WE USE SET THE TESTSET PATH AS THE VALUE OF \"EVAL_PATH\""
   ]
  },
  {
   "cell_type": "code",
   "execution_count": 86,
   "id": "97ed3bb7",
   "metadata": {},
   "outputs": [],
   "source": [
    "df_train = pd.read_csv(TRAIN_PATH)\n",
    "df_eval  = pd.read_csv(EVAL_PATH)"
   ]
  },
  {
   "cell_type": "code",
   "execution_count": 87,
   "id": "63c09acb",
   "metadata": {},
   "outputs": [
    {
     "data": {
      "text/plain": [
       "{'train_products_number': 3250,\n",
       " 'eval_products_number': 3540,\n",
       " 'intersection_products_number': 3228}"
      ]
     },
     "execution_count": 87,
     "metadata": {},
     "output_type": "execute_result"
    }
   ],
   "source": [
    "train_products = df_train[\"Product_ID\"].unique()\n",
    "eval_products  = df_eval[\"Product_ID\"].unique()\n",
    "intersection = np.intersect1d(train_products, eval_products)\n",
    "dict(\n",
    "    train_products_number        = train_products.shape[0],\n",
    "    eval_products_number         = eval_products.shape[0],\n",
    "    intersection_products_number = intersection.shape[0],\n",
    ")"
   ]
  },
  {
   "cell_type": "markdown",
   "id": "66c4d52a",
   "metadata": {},
   "source": [
    "# do the same users buy the same products in train and eval?"
   ]
  },
  {
   "cell_type": "code",
   "execution_count": 88,
   "id": "cf59a3b2",
   "metadata": {},
   "outputs": [],
   "source": [
    "# let's define a user by the combination of its own features\n",
    "USER_FEATURES       = [\"Gender\", \"Age\", \"Occupation\", \"City_Category\", \"Stay_In_Current_City_Years\", \"Marital_Status\"]\n",
    "train_shopping = df_train.rename(columns={\"Product_ID\":\"Product_ID_train\"}).groupby(USER_FEATURES)[\"Product_ID_train\"].apply(np.array)\n",
    "eval_shopping  = df_eval.rename(columns={\"Product_ID\":\"Product_ID_eval\"}).groupby(USER_FEATURES)[\"Product_ID_eval\"].apply(np.array)"
   ]
  },
  {
   "cell_type": "code",
   "execution_count": 89,
   "id": "aa133b44",
   "metadata": {},
   "outputs": [],
   "source": [
    "df_comparison  = pd.DataFrame([train_shopping, eval_shopping]).T.dropna()\n",
    "df_comparison_stats=df_comparison.apply(lambda x: pd.Series({\n",
    "    \"train_size\": x[\"Product_ID_train\"].shape[0],\n",
    "    \"eval_size\": x[\"Product_ID_eval\"].shape[0],\n",
    "    \"intersection_size\": np.intersect1d(x[\"Product_ID_train\"], x[\"Product_ID_eval\"]).shape[0]\n",
    "}), axis=1)"
   ]
  },
  {
   "cell_type": "code",
   "execution_count": 90,
   "id": "49821154",
   "metadata": {},
   "outputs": [],
   "source": [
    "df_comparison_stats[\"intersection_over_train\"]=df_comparison_stats[\"intersection_size\"]/df_comparison_stats[\"train_size\"]"
   ]
  },
  {
   "cell_type": "code",
   "execution_count": 91,
   "id": "ac3e3119",
   "metadata": {},
   "outputs": [
    {
     "data": {
      "text/plain": [
       "<AxesSubplot:ylabel='Frequency'>"
      ]
     },
     "execution_count": 91,
     "metadata": {},
     "output_type": "execute_result"
    },
    {
     "data": {
      "image/png": "[encoded data removed]",
      "text/plain": [
       "<Figure size 2160x720 with 1 Axes>"
      ]
     },
     "metadata": {
      "needs_background": "light"
     },
     "output_type": "display_data"
    }
   ],
   "source": [
    "df_comparison_stats[\"intersection_over_train\"].plot.hist(bins=100, figsize=(30,10))"
   ]
  },
  {
   "cell_type": "code",
   "execution_count": 92,
   "id": "74c8ba1b",
   "metadata": {},
   "outputs": [
    {
     "data": {
      "text/plain": [
       "{'total_intersection_over_train': 0.2933797820483373,\n",
       " 'total_intersection_over_eval': 0.08392438008534435,\n",
       " 'total_train_products': 78366,\n",
       " 'intersection_train_products': 78366,\n",
       " 'total_eval_products': 274284,\n",
       " 'intersection_eval_products': 273949}"
      ]
     },
     "execution_count": 92,
     "metadata": {},
     "output_type": "execute_result"
    }
   ],
   "source": [
    "result_all_features=dict(\n",
    "    total_intersection_over_train = df_comparison_stats[\"intersection_size\"].sum()/df_comparison_stats[\"train_size\"].sum(),\n",
    "    total_intersection_over_eval  = df_comparison_stats[\"intersection_size\"].sum()/df_comparison_stats[\"eval_size\"].sum(),\n",
    "    total_train_products = df_train.shape[0],\n",
    "    intersection_train_products = df_comparison_stats[\"train_size\"].sum(),\n",
    "    total_eval_products = df_eval.shape[0],\n",
    "    intersection_eval_products = df_comparison_stats[\"eval_size\"].sum(),\n",
    ")\n",
    "result_all_features"
   ]
  },
  {
   "cell_type": "markdown",
   "id": "90da0cf8",
   "metadata": {},
   "source": [
    "# How does this change with less features?"
   ]
  },
  {
   "cell_type": "code",
   "execution_count": 93,
   "id": "b1713163",
   "metadata": {},
   "outputs": [],
   "source": [
    "USER_FEATURES       = [\"Gender\", \"Age\", \"Occupation\"]\n",
    "train_shopping = df_train.rename(columns={\"Product_ID\":\"Product_ID_train\"}).groupby(USER_FEATURES)[\"Product_ID_train\"].apply(np.array)\n",
    "eval_shopping  = df_eval.rename(columns={\"Product_ID\":\"Product_ID_eval\"}).groupby(USER_FEATURES)[\"Product_ID_eval\"].apply(np.array)"
   ]
  },
  {
   "cell_type": "code",
   "execution_count": 94,
   "id": "de071997",
   "metadata": {},
   "outputs": [],
   "source": [
    "df_comparison  = pd.DataFrame([train_shopping, eval_shopping]).T.dropna()\n",
    "df_comparison_stats=df_comparison.apply(lambda x: pd.Series({\n",
    "    \"train_size\": x[\"Product_ID_train\"].shape[0],\n",
    "    \"eval_size\": x[\"Product_ID_eval\"].shape[0],\n",
    "    \"intersection_size\": np.intersect1d(x[\"Product_ID_train\"], x[\"Product_ID_eval\"]).shape[0]\n",
    "}), axis=1)"
   ]
  },
  {
   "cell_type": "code",
   "execution_count": 95,
   "id": "4a14d6e2",
   "metadata": {},
   "outputs": [],
   "source": [
    "df_comparison_stats[\"intersection_over_train\"]=df_comparison_stats[\"intersection_size\"]/df_comparison_stats[\"train_size\"]"
   ]
  },
  {
   "cell_type": "code",
   "execution_count": 96,
   "id": "9b15c479",
   "metadata": {},
   "outputs": [
    {
     "data": {
      "text/plain": [
       "<AxesSubplot:ylabel='Frequency'>"
      ]
     },
     "execution_count": 96,
     "metadata": {},
     "output_type": "execute_result"
    },
    {
     "data": {
      "image/png": "[encoded data removed]",
      "text/plain": [
       "<Figure size 2160x720 with 1 Axes>"
      ]
     },
     "metadata": {
      "needs_background": "light"
     },
     "output_type": "display_data"
    }
   ],
   "source": [
    "df_comparison_stats[\"intersection_over_train\"].plot.hist(bins=100, figsize=(30,10))"
   ]
  },
  {
   "cell_type": "code",
   "execution_count": 97,
   "id": "cb3bf292",
   "metadata": {},
   "outputs": [
    {
     "data": {
      "text/plain": [
       "{'total_intersection_over_train': 0.4635173417043105,\n",
       " 'total_intersection_over_eval': 0.1324349747336644,\n",
       " 'total_train_products': 78366,\n",
       " 'intersection_train_products': 78366,\n",
       " 'total_eval_products': 274284,\n",
       " 'intersection_eval_products': 274278}"
      ]
     },
     "execution_count": 97,
     "metadata": {},
     "output_type": "execute_result"
    }
   ],
   "source": [
    "result_few_features=dict(\n",
    "    total_intersection_over_train = df_comparison_stats[\"intersection_size\"].sum()/df_comparison_stats[\"train_size\"].sum(),\n",
    "    total_intersection_over_eval  = df_comparison_stats[\"intersection_size\"].sum()/df_comparison_stats[\"eval_size\"].sum(),\n",
    "    total_train_products = df_train.shape[0],\n",
    "    intersection_train_products = df_comparison_stats[\"train_size\"].sum(),\n",
    "    total_eval_products = df_eval.shape[0],\n",
    "    intersection_eval_products = df_comparison_stats[\"eval_size\"].sum(),\n",
    ")\n",
    "result_few_features"
   ]
  },
  {
   "cell_type": "code",
   "execution_count": 98,
   "id": "d8b7549f",
   "metadata": {},
   "outputs": [
    {
     "data": {
      "text/html": [
       "<div>\n",
       "<style scoped>\n",
       "    .dataframe tbody tr th:only-of-type {\n",
       "        vertical-align: middle;\n",
       "    }\n",
       "\n",
       "    .dataframe tbody tr th {\n",
       "        vertical-align: top;\n",
       "    }\n",
       "\n",
       "    .dataframe thead th {\n",
       "        text-align: right;\n",
       "    }\n",
       "</style>\n",
       "<table border=\"1\" class=\"dataframe\">\n",
       "  <thead>\n",
       "    <tr style=\"text-align: right;\">\n",
       "      <th></th>\n",
       "      <th>result_all_features</th>\n",
       "      <th>result_few_features</th>\n",
       "    </tr>\n",
       "  </thead>\n",
       "  <tbody>\n",
       "    <tr>\n",
       "      <th>total_intersection_over_train</th>\n",
       "      <td>0.293380</td>\n",
       "      <td>0.463517</td>\n",
       "    </tr>\n",
       "    <tr>\n",
       "      <th>total_intersection_over_eval</th>\n",
       "      <td>0.083924</td>\n",
       "      <td>0.132435</td>\n",
       "    </tr>\n",
       "    <tr>\n",
       "      <th>total_train_products</th>\n",
       "      <td>78366.000000</td>\n",
       "      <td>78366.000000</td>\n",
       "    </tr>\n",
       "    <tr>\n",
       "      <th>intersection_train_products</th>\n",
       "      <td>78366.000000</td>\n",
       "      <td>78366.000000</td>\n",
       "    </tr>\n",
       "    <tr>\n",
       "      <th>total_eval_products</th>\n",
       "      <td>274284.000000</td>\n",
       "      <td>274284.000000</td>\n",
       "    </tr>\n",
       "    <tr>\n",
       "      <th>intersection_eval_products</th>\n",
       "      <td>273949.000000</td>\n",
       "      <td>274278.000000</td>\n",
       "    </tr>\n",
       "  </tbody>\n",
       "</table>\n",
       "</div>"
      ],
      "text/plain": [
       "                               result_all_features  result_few_features\n",
       "total_intersection_over_train             0.293380             0.463517\n",
       "total_intersection_over_eval              0.083924             0.132435\n",
       "total_train_products                  78366.000000         78366.000000\n",
       "intersection_train_products           78366.000000         78366.000000\n",
       "total_eval_products                  274284.000000        274284.000000\n",
       "intersection_eval_products           273949.000000        274278.000000"
      ]
     },
     "execution_count": 98,
     "metadata": {},
     "output_type": "execute_result"
    }
   ],
   "source": [
    "pd.DataFrame({\"result_all_features\":result_all_features, \"result_few_features\":result_few_features})"
   ]
  },
  {
   "cell_type": "code",
   "execution_count": null,
   "id": "b4752bed",
   "metadata": {},
   "outputs": [],
   "source": []
  }
 ],
 "metadata": {
  "environment": {
   "name": "tf2-gpu.2-3.m65",
   "type": "gcloud",
   "uri": "gcr.io/deeplearning-platform-release/tf2-gpu.2-3:m65"
  },
  "kernelspec": {
   "display_name": "Python 3",
   "language": "python",
   "name": "python3"
  },
  "language_info": {
   "codemirror_mode": {
    "name": "ipython",
    "version": 3
   },
   "file_extension": ".py",
   "mimetype": "text/x-python",
   "name": "python",
   "nbconvert_exporter": "python",
   "pygments_lexer": "ipython3",
   "version": "3.7.10"
  }
 },
 "nbformat": 4,
 "nbformat_minor": 5
}
