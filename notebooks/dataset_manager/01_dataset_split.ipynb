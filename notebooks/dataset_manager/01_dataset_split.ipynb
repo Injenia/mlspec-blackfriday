{
 "cells": [
  {
   "cell_type": "markdown",
   "id": "f88089af",
   "metadata": {},
   "source": [
    "# Dataset splitter"
   ]
  },
  {
   "cell_type": "markdown",
   "id": "f272d3cb",
   "metadata": {},
   "source": [
    "### Boilerplate "
   ]
  },
  {
   "cell_type": "code",
   "execution_count": 11,
   "id": "54b8a108",
   "metadata": {},
   "outputs": [],
   "source": [
    "import math\n",
    "import json\n",
    "import numpy as np\n",
    "import pandas as pd\n",
    "\n",
    "from datetime import datetime\n",
    "from pprint import pprint\n",
    "from os.path import join\n",
    "from pathlib import Path\n",
    "\n",
    "def train_validate_test_split(df, train_percent=.6, validate_percent=.2, seed=None):\n",
    "    # From: https://stackoverflow.com/a/38251063/5099361\n",
    "    np.random.seed(seed)\n",
    "    perm = np.random.permutation(df.index)\n",
    "    m = len(df.index)\n",
    "    train_end = int(train_percent * m)\n",
    "    validate_end = int(validate_percent * m) + train_end\n",
    "    train = df.iloc[perm[:train_end]]\n",
    "    validate = df.iloc[perm[train_end:validate_end]]\n",
    "    test = df.iloc[perm[validate_end:]]\n",
    "    return train, validate, test"
   ]
  },
  {
   "cell_type": "markdown",
   "id": "edecc4de",
   "metadata": {},
   "source": [
    "## > Params"
   ]
  },
  {
   "cell_type": "code",
   "execution_count": 12,
   "id": "c527e640",
   "metadata": {},
   "outputs": [],
   "source": [
    "dataset_info = {}\n",
    "use_kaggle_test, drop_purchases = True, True\n",
    "ratio_train = 0.7\n",
    "ratio_eval = 0.2\n",
    "ratio_test = 0.1\n",
    "\n",
    "kaggle_train_path = \"/home/jupyter/mlspec-blackfriday/dataset/raw/train.csv\"\n",
    "kaggle_test_path = \"/home/jupyter/mlspec-blackfriday/dataset/raw/test.csv\"\n",
    "\n",
    "output_path = \"/home/jupyter/mlspec-blackfriday/dataset/parsed/\" # + <timestamp>\n",
    "\n",
    "assert math.isclose(ratio_train + ratio_eval + ratio_test, 1.0), \"Ratio must have sum equal to 1\"\\"
   ]
  },
  {
   "cell_type": "markdown",
   "id": "e56d8ea8",
   "metadata": {},
   "source": [
    "## Load the data"
   ]
  },
  {
   "cell_type": "code",
   "execution_count": 13,
   "id": "f308bd08",
   "metadata": {},
   "outputs": [
    {
     "name": "stdout",
     "output_type": "stream",
     "text": [
      "df_train shape:(550068, 12)\n",
      "df_test shape:(233599, 11)\n"
     ]
    }
   ],
   "source": [
    "df_train=pd.read_csv(kaggle_train_path)\n",
    "df_test=pd.read_csv(kaggle_test_path)\n",
    "\n",
    "dataset_info[\"kaggle_train_path\"] = kaggle_train_path\n",
    "dataset_info[\"kaggle_test_path\"] = kaggle_test_path\n",
    "\n",
    "print(f\"df_train shape:{df_train.shape}\")\n",
    "print(f\"df_test shape:{df_test.shape}\")"
   ]
  },
  {
   "cell_type": "markdown",
   "id": "cd13c998",
   "metadata": {},
   "source": [
    "## Prepare the dataset"
   ]
  },
  {
   "cell_type": "code",
   "execution_count": 14,
   "id": "9ed94e18",
   "metadata": {},
   "outputs": [
    {
     "name": "stdout",
     "output_type": "stream",
     "text": [
      "Dataset total len: 783667\n"
     ]
    }
   ],
   "source": [
    "df = df_train.append(df_test) if use_kaggle_test else df_train\n",
    "df = df.drop(\"Purchase\", 1) if drop_purchases else df\n",
    "\n",
    "dataset_info[\"use_kaggle_test\"] = use_kaggle_test\n",
    "dataset_info[\"dataset_len\"] = len(df)\n",
    "dataset_info[\"drop_purchases\"] = drop_purchases\n",
    "\n",
    "print(f\"Dataset total len: {len(df)}\")"
   ]
  },
  {
   "cell_type": "markdown",
   "id": "6421251d",
   "metadata": {},
   "source": [
    "## Shuffle & split"
   ]
  },
  {
   "cell_type": "code",
   "execution_count": 15,
   "id": "0e02a201",
   "metadata": {},
   "outputs": [
    {
     "name": "stdout",
     "output_type": "stream",
     "text": [
      "df_train len: 548,566\n",
      "df_eval len: 156,733\n",
      "df_test len: 78,368\n"
     ]
    }
   ],
   "source": [
    "df_train, df_eval, df_test = train_validate_test_split(df, ratio_train, ratio_eval, seed=42) # shuffle also\n",
    "\n",
    "dataset_info[\"ratio_train\"] = ratio_train\n",
    "dataset_info[\"ratio_eval\"] = ratio_eval\n",
    "dataset_info[\"ratio_test\"] = ratio_test\n",
    "\n",
    "print(f\"df_train len: {len(df_train):,}\")\n",
    "print(f\"df_eval len: {len(df_eval):,}\")\n",
    "print(f\"df_test len: {len(df_test):,}\")"
   ]
  },
  {
   "cell_type": "markdown",
   "id": "de3dacea",
   "metadata": {},
   "source": [
    "## Store"
   ]
  },
  {
   "cell_type": "code",
   "execution_count": 16,
   "id": "9604b093",
   "metadata": {},
   "outputs": [
    {
     "data": {
      "text/plain": [
       "304"
      ]
     },
     "execution_count": 16,
     "metadata": {},
     "output_type": "execute_result"
    }
   ],
   "source": [
    "timestamp = datetime.today().strftime('%Y%m%d%H%M')\n",
    "output_folder = join(output_path, timestamp)\n",
    "Path(output_folder).mkdir(parents=True, exist_ok=True)\n",
    "\n",
    "out_train = join(output_folder, \"train.csv\") \n",
    "out_eval = join(output_folder, \"eval.csv\")\n",
    "out_test = join(output_folder, \"test.csv\")\n",
    "out_info = join(output_folder, \"info.json\")\n",
    "\n",
    "df_train.to_csv(out_train)\n",
    "df_eval.to_csv(out_eval)\n",
    "df_test.to_csv(out_test)\n",
    "open(out_info, \"w\").write(json.dumps(dataset_info, indent=2, sort_keys=True))"
   ]
  },
  {
   "cell_type": "markdown",
   "id": "6e308fee",
   "metadata": {},
   "source": [
    "### Utility: sync with GCS"
   ]
  },
  {
   "cell_type": "code",
   "execution_count": 17,
   "id": "e48ef5a9",
   "metadata": {},
   "outputs": [
    {
     "name": "stdout",
     "output_type": "stream",
     "text": [
      "Copying './parsed/' folder to GCS path 'gs://mlteam-ml-specialization-2021-blackfriday/dataset/'\n",
      "Skipping existing item: gs://mlteam-ml-specialization-2021-blackfriday/dataset/parsed/202104191544/test.csv\n",
      "Skipping existing item: gs://mlteam-ml-specialization-2021-blackfriday/dataset/parsed/202104191544/eval.csv\n",
      "Skipping existing item: gs://mlteam-ml-specialization-2021-blackfriday/dataset/parsed/202104130952/info.json\n",
      "Skipping existing item: gs://mlteam-ml-specialization-2021-blackfriday/dataset/parsed/202104130952/eval.csv\n",
      "Skipping existing item: gs://mlteam-ml-specialization-2021-blackfriday/dataset/parsed/202104130952/train.csv\n",
      "Skipping existing item: gs://mlteam-ml-specialization-2021-blackfriday/dataset/parsed/202104130952/.ipynb_checkpoints/info-checkpoint.json\n",
      "Copying file://./parsed/202104191549/eval.csv [Content-Type=text/csv]...\n",
      "Copying file://./parsed/202104191549/test.csv [Content-Type=text/csv]...        \n",
      "Copying file://./parsed/202104191549/info.json [Content-Type=application/json]...\n",
      "Skipping existing item: gs://mlteam-ml-specialization-2021-blackfriday/dataset/parsed/202104191544/train.csv\n",
      "Skipping existing item: gs://mlteam-ml-specialization-2021-blackfriday/dataset/parsed/202104130952/test.csv\n",
      "Skipping existing item: gs://mlteam-ml-specialization-2021-blackfriday/dataset/parsed/202104191544/info.json\n",
      "Copying file://./parsed/202104191544/.ipynb_checkpoints/train-checkpoint.csv [Content-Type=text/csv]...\n",
      "Copying file://./parsed/202104191549/train.csv [Content-Type=text/csv]...       \n",
      "> Copy completed!0.1 MiB/113.0 MiB]  35% Done                                   \n"
     ]
    }
   ],
   "source": [
    "!bash /home/jupyter/mlspec-blackfriday/dataset/sync.sh"
   ]
  },
  {
   "cell_type": "markdown",
   "id": "376ddbdc",
   "metadata": {},
   "source": [
    "#### ~ End"
   ]
  }
 ],
 "metadata": {
  "environment": {
   "name": "tf2-gpu.2-3.m65",
   "type": "gcloud",
   "uri": "gcr.io/deeplearning-platform-release/tf2-gpu.2-3:m65"
  },
  "kernelspec": {
   "display_name": "Python 3",
   "language": "python",
   "name": "python3"
  },
  "language_info": {
   "codemirror_mode": {
    "name": "ipython",
    "version": 3
   },
   "file_extension": ".py",
   "mimetype": "text/x-python",
   "name": "python",
   "nbconvert_exporter": "python",
   "pygments_lexer": "ipython3",
   "version": "3.7.10"
  }
 },
 "nbformat": 4,
 "nbformat_minor": 5
}
