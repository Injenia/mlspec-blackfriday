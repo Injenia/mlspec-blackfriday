{
 "cells": [
  {
   "cell_type": "markdown",
   "id": "068efaca",
   "metadata": {},
   "source": [
    "# Store the model\n",
    "\n",
    "- **Resources**\n",
    "    - Tf efficient serving [blog](https://www.tensorflow.org/recommenders/examples/efficient_serving)"
   ]
  },
  {
   "cell_type": "code",
   "execution_count": 1,
   "id": "33c09d36",
   "metadata": {},
   "outputs": [],
   "source": [
    "import os\n",
    "import tempfile\n",
    "\n",
    "import numpy as np\n",
    "import pandas as pd\n",
    "import tensorflow as tf\n",
    "import tensorflow_recommenders as tfrs\n",
    "\n",
    "from os.path import join"
   ]
  },
  {
   "cell_type": "code",
   "execution_count": 2,
   "id": "a421bd42",
   "metadata": {},
   "outputs": [
    {
     "name": "stdout",
     "output_type": "stream",
     "text": [
      "df_train shape:(78366, 12)\n",
      "df_test shape:(156733, 12)\n"
     ]
    }
   ],
   "source": [
    "dataset_parsed_path = \"/home/jupyter/mlspec-blackfriday/dataset/parsed/202104130952/\"\n",
    "train_path = join(dataset_parsed_path, \"train.csv\")\n",
    "test_path = join(dataset_parsed_path, \"eval.csv\")\n",
    "\n",
    "df_train=pd.read_csv(train_path)\n",
    "df_test=pd.read_csv(test_path)\n",
    "\n",
    "# Treat al columns as strings\n",
    "df_train = df_train.astype(str)\n",
    "df_test = df_test.astype(str)\n",
    "\n",
    "print(f\"df_train shape:{df_train.shape}\")\n",
    "print(f\"df_test shape:{df_test.shape}\")"
   ]
  },
  {
   "cell_type": "code",
   "execution_count": 3,
   "id": "c9f4872b",
   "metadata": {},
   "outputs": [],
   "source": [
    "# Tf dataset\n",
    "tf.random.set_seed(42)\n",
    "train = tf.data.Dataset.from_tensor_slices(dict(df_train)) # [!] dict is important\n",
    "train = train.shuffle(100_000, seed=42, reshuffle_each_iteration=False)\n",
    "\n",
    "test = tf.data.Dataset.from_tensor_slices(dict(df_test))\n",
    "\n",
    "cached_train = train.shuffle(100_000).batch(2048) # TODO: double shuffle?\n",
    "cached_test = test.batch(4096).cache()"
   ]
  },
  {
   "cell_type": "code",
   "execution_count": 4,
   "id": "55a25fd5",
   "metadata": {},
   "outputs": [],
   "source": [
    "# Define used features\n",
    "\n",
    "product_features = [\"Product_ID\"]\n",
    "\n",
    "user_features = [\"Gender\", \n",
    "                 \"Age\", \n",
    "                 \"Occupation\", \n",
    "                 \"City_Category\", \n",
    "                 \"Stay_In_Current_City_Years\",\n",
    "                 \"Marital_Status\"\n",
    "                ]\n",
    "\n",
    "# Remove columns not used\n",
    "all_features = user_features + product_features\n",
    "\n",
    "df_train = df_train[all_features]\n",
    "df_test = df_test[all_features]\n",
    "\n",
    "# Extract unique info\n",
    "df = df_train.append(df_test)\n",
    "\n",
    "product_unique_values = {\n",
    "    feature: df[feature].unique() for feature in product_features\n",
    "}\n",
    "\n",
    "user_unique_values = {\n",
    "    feature: df[feature].unique() for feature in user_features\n",
    "}"
   ]
  },
  {
   "cell_type": "markdown",
   "id": "de6e1995",
   "metadata": {},
   "source": [
    "## Model "
   ]
  },
  {
   "cell_type": "code",
   "execution_count": 5,
   "id": "9bb41ed5",
   "metadata": {},
   "outputs": [],
   "source": [
    "class UserModel(tf.keras.Model):\n",
    "\n",
    "    def __init__(self, unique_values:dict): # [Gender, [M, F]]\n",
    "        super().__init__()\n",
    "        \n",
    "        self.user_features = {}\n",
    "        for feature_name, unique_list in unique_values.items():\n",
    "            feature_layer = tf.keras.Sequential([\n",
    "                                tf.keras.layers.experimental.preprocessing.StringLookup(\n",
    "                                    vocabulary=unique_list, mask_token=None),\n",
    "                                    tf.keras.layers.Embedding(len(unique_list) + 1, 32),\n",
    "                            ], feature_name )\n",
    "            self.user_features[feature_name] = feature_layer\n",
    "            \n",
    "\n",
    "\n",
    "    def call(self, inputs):\n",
    "        layers_stack = []\n",
    "        for feature_name, feature_layer in self.user_features.items():\n",
    "            print(f\"Creating layer for feature {feature_name}\")\n",
    "            layer_valorized = feature_layer(inputs[feature_name])\n",
    "            layers_stack.append(layer_valorized)\n",
    "        return tf.concat(layers_stack, axis=1)"
   ]
  },
  {
   "cell_type": "code",
   "execution_count": 6,
   "id": "2c7f5fa0",
   "metadata": {},
   "outputs": [],
   "source": [
    "class ProductModel(tf.keras.Model):\n",
    "    \n",
    "    def __init__(self, product_unique_ids:np.ndarray):\n",
    "        super().__init__()\n",
    "        \n",
    "        self.product_embedding = tf.keras.Sequential([\n",
    "          tf.keras.layers.experimental.preprocessing.StringLookup(\n",
    "              vocabulary=product_unique_ids, mask_token=None),\n",
    "          tf.keras.layers.Embedding(len(product_unique_ids) + 1, 32)\n",
    "        ])\n",
    "\n",
    "\n",
    "    def call(self, products_id):\n",
    "        return tf.concat([\n",
    "            self.product_embedding(products_id)\n",
    "        ], axis=1)"
   ]
  },
  {
   "cell_type": "code",
   "execution_count": 7,
   "id": "ff3ceba0",
   "metadata": {},
   "outputs": [],
   "source": [
    "class BlackFridayModel(tfrs.models.Model): # note the main package is tfrs\n",
    "    \"\"\"\n",
    "    Note:\n",
    "    - no closure required\n",
    "    \"\"\"\n",
    "    def __init__(self, \n",
    "                 user_model,\n",
    "                 product_model,\n",
    "                 topk_candidates: tf.data.Dataset,\n",
    "                 user_unique_values: dict,\n",
    "                 product_unique_ids: np.ndarray,\n",
    "                ):\n",
    "        super().__init__()\n",
    "        self.product_embedder = product_model\n",
    "        self.user_embedder = user_model\n",
    "        \n",
    "        self.user_features = user_unique_values.keys()\n",
    "        self.query_model = tf.keras.Sequential([\n",
    "                              user_model(user_unique_values),\n",
    "                              tf.keras.layers.Dense(32)\n",
    "                            ])\n",
    "        self.candidate_model = tf.keras.Sequential([\n",
    "                              product_model(product_unique_ids),\n",
    "                              tf.keras.layers.Dense(32)\n",
    "                            ])\n",
    "        # See https://www.tensorflow.org/recommenders/api_docs/python/tfrs/tasks/Retrieval\n",
    "        self.task = tfrs.tasks.Retrieval( # Loss function. Defaults to tf.keras.losses.CategoricalCrossentropy.\n",
    "            metrics=tfrs.metrics.FactorizedTopK( # TODO are we forced to use batch? - REMOVE for training\n",
    "                candidates=topk_candidates.batch(128).map(self.candidate_model), # dataset of candidate embeddings from which candidates should be retrieved (embedded)\n",
    "            ),\n",
    "        )\n",
    "    def get_user_tower(self):\n",
    "        return self.query_model\n",
    "    \n",
    "    def get_product_tower(self):\n",
    "        return self.candidate_model\n",
    "    \n",
    "    def compute_loss(self, features, training=False):\n",
    "        query_data = {feature_name: features[feature_name] for feature_name in self.user_features}\n",
    "        query_embeddings = self.query_model(query_data)\n",
    "        product_embeddings = self.candidate_model(features[\"Product_ID\"])\n",
    "        \n",
    "        # Retrieval call: https://www.tensorflow.org/recommenders/api_docs/python/tfrs/tasks/Retrieval\n",
    "        # \"The task will try to maximize the affinity of these query, candidate pairs while minimizing \n",
    "        # the affinity between the query and candidates belonging to other queries in the batch.\"\n",
    "        return self.task(query_embeddings=query_embeddings, \n",
    "                         candidate_embeddings=product_embeddings,\n",
    "                         compute_metrics=True, # disable for better performances\n",
    "                         candidate_ids = None\n",
    "                        )"
   ]
  },
  {
   "cell_type": "markdown",
   "id": "0fa65ba4",
   "metadata": {},
   "source": [
    "## Train"
   ]
  },
  {
   "cell_type": "code",
   "execution_count": 8,
   "id": "c5782aea",
   "metadata": {},
   "outputs": [],
   "source": [
    "# Candidates to use for metrics\n",
    "tf_unique_products = tf.data.Dataset.from_tensor_slices(product_unique_values[\"Product_ID\"])\n",
    "tf_unique_products.element_spec\n",
    "\n",
    "model = BlackFridayModel(UserModel, ProductModel,\n",
    "                        topk_candidates = tf_unique_products,\n",
    "                        user_unique_values = user_unique_values,\n",
    "                        product_unique_ids = product_unique_values[\"Product_ID\"]\n",
    "                        )"
   ]
  },
  {
   "cell_type": "code",
   "execution_count": 9,
   "id": "f3c12d84",
   "metadata": {},
   "outputs": [],
   "source": [
    "# Create a callback that saves the model's weights\n",
    "from datetime import datetime\n",
    "run_id = datetime.today().strftime('%Y%m%d%H%M%S')\n",
    "run_path = f\"./models/{run_id}/\"\n",
    "\n",
    "cp_callback = tf.keras.callbacks.ModelCheckpoint(filepath=run_path,\n",
    "                                                 save_weights_only=False,\n",
    "                                                 verbose=1)"
   ]
  },
  {
   "cell_type": "code",
   "execution_count": 10,
   "id": "353af372",
   "metadata": {},
   "outputs": [
    {
     "name": "stdout",
     "output_type": "stream",
     "text": [
      "WARNING:tensorflow:Layers in a Sequential model should only have a single input tensor, but we receive a <class 'dict'> input: {'Gender': <tf.Tensor 'IteratorGetNext:2' shape=(None,) dtype=string>, 'Age': <tf.Tensor 'IteratorGetNext:0' shape=(None,) dtype=string>, 'Occupation': <tf.Tensor 'IteratorGetNext:4' shape=(None,) dtype=string>, 'City_Category': <tf.Tensor 'IteratorGetNext:1' shape=(None,) dtype=string>, 'Stay_In_Current_City_Years': <tf.Tensor 'IteratorGetNext:9' shape=(None,) dtype=string>, 'Marital_Status': <tf.Tensor 'IteratorGetNext:3' shape=(None,) dtype=string>}\n",
      "Consider rewriting this model with the Functional API.\n",
      "Creating layer for feature Gender\n",
      "Creating layer for feature Age\n",
      "Creating layer for feature Occupation\n",
      "Creating layer for feature City_Category\n",
      "Creating layer for feature Stay_In_Current_City_Years\n",
      "Creating layer for feature Marital_Status\n",
      "WARNING:tensorflow:Layers in a Sequential model should only have a single input tensor, but we receive a <class 'dict'> input: {'Gender': <tf.Tensor 'IteratorGetNext:2' shape=(None,) dtype=string>, 'Age': <tf.Tensor 'IteratorGetNext:0' shape=(None,) dtype=string>, 'Occupation': <tf.Tensor 'IteratorGetNext:4' shape=(None,) dtype=string>, 'City_Category': <tf.Tensor 'IteratorGetNext:1' shape=(None,) dtype=string>, 'Stay_In_Current_City_Years': <tf.Tensor 'IteratorGetNext:9' shape=(None,) dtype=string>, 'Marital_Status': <tf.Tensor 'IteratorGetNext:3' shape=(None,) dtype=string>}\n",
      "Consider rewriting this model with the Functional API.\n",
      "Creating layer for feature Gender\n",
      "Creating layer for feature Age\n",
      "Creating layer for feature Occupation\n",
      "Creating layer for feature City_Category\n",
      "Creating layer for feature Stay_In_Current_City_Years\n",
      "Creating layer for feature Marital_Status\n",
      "39/39 [==============================] - 35s 823ms/step - factorized_top_k/top_1_categorical_accuracy: 0.0011 - factorized_top_k/top_5_categorical_accuracy: 0.0050 - factorized_top_k/top_10_categorical_accuracy: 0.0093 - factorized_top_k/top_50_categorical_accuracy: 0.0348 - factorized_top_k/top_100_categorical_accuracy: 0.0621 - loss: 14996.0918 - regularization_loss: 0.0000e+00 - total_loss: 14996.0918\n",
      "\n",
      "Epoch 00001: saving model to ./models/20210422124258/\n"
     ]
    },
    {
     "data": {
      "text/plain": [
       "<tensorflow.python.keras.callbacks.History at 0x7fb891e52550>"
      ]
     },
     "execution_count": 10,
     "metadata": {},
     "output_type": "execute_result"
    }
   ],
   "source": [
    "model.compile(optimizer=tf.keras.optimizers.Adagrad(0.1))\n",
    "model.fit(cached_train, epochs=1, callbacks=cp_callback)"
   ]
  },
  {
   "cell_type": "markdown",
   "id": "3ac409bb",
   "metadata": {},
   "source": [
    "## Create the ScaNN model\n",
    "- **Note**\n",
    "    - Based on [Deploying the approximate model](https://www.tensorflow.org/recommenders/examples/efficient_serving#building_a_scann-powered_model)"
   ]
  },
  {
   "cell_type": "markdown",
   "id": "e45a07d8",
   "metadata": {},
   "source": [
    "**Simple test**\n",
    "- Use the naive BruteForce class"
   ]
  },
  {
   "cell_type": "code",
   "execution_count": 18,
   "id": "dfd3f9e3",
   "metadata": {},
   "outputs": [
    {
     "name": "stdout",
     "output_type": "stream",
     "text": [
      "scann==1.2.1\n"
     ]
    }
   ],
   "source": [
    "!pip freeze | grep scann"
   ]
  },
  {
   "cell_type": "code",
   "execution_count": 11,
   "id": "d85f6d7e",
   "metadata": {},
   "outputs": [
    {
     "data": {
      "text/plain": [
       "<tensorflow_recommenders.layers.factorized_top_k.BruteForce at 0x7fb8918e2b10>"
      ]
     },
     "execution_count": 11,
     "metadata": {},
     "output_type": "execute_result"
    }
   ],
   "source": [
    "index = tfrs.layers.factorized_top_k.BruteForce(model.get_user_tower())\n",
    "\n",
    "index.index(tf_unique_products.batch(100).map(model.get_product_tower()), tf_unique_products)"
   ]
  },
  {
   "cell_type": "markdown",
   "id": "3bfd8b01",
   "metadata": {},
   "source": [
    "**ScaNN model:**"
   ]
  },
  {
   "cell_type": "code",
   "execution_count": 12,
   "id": "9dee4eb5",
   "metadata": {},
   "outputs": [
    {
     "data": {
      "text/plain": [
       "<tensorflow_recommenders.layers.factorized_top_k.ScaNN at 0x7fb8912836d0>"
      ]
     },
     "execution_count": 12,
     "metadata": {},
     "output_type": "execute_result"
    }
   ],
   "source": [
    "# Create the ScaNN with user embedder\n",
    "scann = tfrs.layers.factorized_top_k.ScaNN(model.get_user_tower(), num_reordering_candidates=1000)\n",
    "\n",
    "# Load candidate data\n",
    "scann.index(tf_unique_products.batch(100).map(model.get_product_tower()), tf_unique_products) # [!] how many data are we storing? - All!"
   ]
  },
  {
   "cell_type": "code",
   "execution_count": 13,
   "id": "4abbcc5b",
   "metadata": {},
   "outputs": [
    {
     "name": "stdout",
     "output_type": "stream",
     "text": [
      "WARNING:tensorflow:Layers in a Sequential model should only have a single input tensor, but we receive a <class 'dict'> input: {'Gender': <tf.Tensor: shape=(1,), dtype=string, numpy=array([b'M'], dtype=object)>, 'Age': <tf.Tensor: shape=(1,), dtype=string, numpy=array([b'26-35'], dtype=object)>, 'Occupation': <tf.Tensor: shape=(1,), dtype=string, numpy=array([b'0'], dtype=object)>, 'City_Category': <tf.Tensor: shape=(1,), dtype=string, numpy=array([b'B'], dtype=object)>, 'Stay_In_Current_City_Years': <tf.Tensor: shape=(1,), dtype=string, numpy=array([b'4+'], dtype=object)>, 'Marital_Status': <tf.Tensor: shape=(1,), dtype=string, numpy=array([b'0'], dtype=object)>}\n",
      "Consider rewriting this model with the Functional API.\n",
      "Creating layer for feature Gender\n",
      "Creating layer for feature Age\n",
      "Creating layer for feature Occupation\n",
      "Creating layer for feature City_Category\n",
      "Creating layer for feature Stay_In_Current_City_Years\n",
      "Creating layer for feature Marital_Status\n"
     ]
    },
    {
     "data": {
      "text/plain": [
       "(<tf.Tensor: shape=(1, 10), dtype=float32, numpy=\n",
       " array([[0.7119358 , 0.64604574, 0.620901  , 0.6093435 , 0.5951483 ,\n",
       "         0.5938488 , 0.58764935, 0.57615477, 0.56247985, 0.5602325 ]],\n",
       "       dtype=float32)>,\n",
       " <tf.Tensor: shape=(1, 10), dtype=string, numpy=\n",
       " array([[b'P00221142', b'P00299442', b'P00021142', b'P00016842',\n",
       "         b'P00303142', b'P00168742', b'P00150442', b'P00222442',\n",
       "         b'P00280842', b'P00004442']], dtype=object)>)"
      ]
     },
     "execution_count": 13,
     "metadata": {},
     "output_type": "execute_result"
    }
   ],
   "source": [
    "# Get recommendations:\n",
    "\n",
    "input_data = {\n",
    "    \"Gender\": tf.constant([\"M\"]), # <-- [!] require list inside constant\n",
    "    \"Age\": tf.constant([\"26-35\"]),\n",
    "    \"Occupation\": tf.constant([\"0\"]),\n",
    "    \"City_Category\": tf.constant([\"B\"]),\n",
    "    \"Stay_In_Current_City_Years\": tf.constant([\"4+\"]),\n",
    "    \"Marital_Status\": tf.constant([\"0\"]),\n",
    "}\n",
    "scann(input_data)\n"
   ]
  },
  {
   "cell_type": "code",
   "execution_count": 17,
   "id": "fd78a033",
   "metadata": {},
   "outputs": [
    {
     "data": {
      "text/plain": [
       "TensorShape([3484])"
      ]
     },
     "execution_count": 17,
     "metadata": {},
     "output_type": "execute_result"
    }
   ],
   "source": [
    "scann._identifiers.shape"
   ]
  },
  {
   "cell_type": "code",
   "execution_count": 14,
   "id": "45204c6e",
   "metadata": {},
   "outputs": [
    {
     "name": "stdout",
     "output_type": "stream",
     "text": [
      "Number of candidates inside ScaNN:(3484,)\n"
     ]
    }
   ],
   "source": [
    "print(f\"Number of candidates inside ScaNN:{scann._identifiers.shape}\")\n",
    "assert scann._identifiers.shape[0] == len(product_unique_values[\"Product_ID\"]), f\"Not all candidate are stored into the ScaNN system\""
   ]
  },
  {
   "cell_type": "markdown",
   "id": "939115eb",
   "metadata": {},
   "source": [
    "## Store the models"
   ]
  },
  {
   "cell_type": "markdown",
   "id": "97028ba2",
   "metadata": {},
   "source": [
    "## Store ScaNN model"
   ]
  },
  {
   "cell_type": "code",
   "execution_count": 20,
   "id": "28a179ab",
   "metadata": {},
   "outputs": [
    {
     "name": "stdout",
     "output_type": "stream",
     "text": [
      "WARNING:tensorflow:Layers in a Sequential model should only have a single input tensor, but we receive a <class 'dict'> input: {'Gender': <tf.Tensor 'Gender:0' shape=(None,) dtype=string>, 'Age': <tf.Tensor 'Age:0' shape=(None,) dtype=string>, 'Occupation': <tf.Tensor 'Occupation:0' shape=(None,) dtype=string>, 'City_Category': <tf.Tensor 'City_Category:0' shape=(None,) dtype=string>, 'Stay_In_Current_City_Years': <tf.Tensor 'Stay_In_Current_City_Years:0' shape=(None,) dtype=string>, 'Marital_Status': <tf.Tensor 'Marital_Status:0' shape=(None,) dtype=string>}\n",
      "Consider rewriting this model with the Functional API.\n"
     ]
    },
    {
     "name": "stderr",
     "output_type": "stream",
     "text": [
      "WARNING:tensorflow:Layers in a Sequential model should only have a single input tensor, but we receive a <class 'dict'> input: {'Gender': <tf.Tensor 'Gender:0' shape=(None,) dtype=string>, 'Age': <tf.Tensor 'Age:0' shape=(None,) dtype=string>, 'Occupation': <tf.Tensor 'Occupation:0' shape=(None,) dtype=string>, 'City_Category': <tf.Tensor 'City_Category:0' shape=(None,) dtype=string>, 'Stay_In_Current_City_Years': <tf.Tensor 'Stay_In_Current_City_Years:0' shape=(None,) dtype=string>, 'Marital_Status': <tf.Tensor 'Marital_Status:0' shape=(None,) dtype=string>}\n",
      "Consider rewriting this model with the Functional API.\n"
     ]
    },
    {
     "name": "stdout",
     "output_type": "stream",
     "text": [
      "Creating layer for feature Gender\n",
      "Creating layer for feature Age\n",
      "Creating layer for feature Occupation\n",
      "Creating layer for feature City_Category\n",
      "Creating layer for feature Stay_In_Current_City_Years\n",
      "Creating layer for feature Marital_Status\n",
      "Creating layer for feature Gender\n",
      "Creating layer for feature Age\n",
      "Creating layer for feature Occupation\n",
      "Creating layer for feature City_Category\n",
      "Creating layer for feature Stay_In_Current_City_Years\n",
      "Creating layer for feature Marital_Status\n",
      "Creating layer for feature Gender\n",
      "Creating layer for feature Age\n",
      "Creating layer for feature Occupation\n",
      "Creating layer for feature City_Category\n",
      "Creating layer for feature Stay_In_Current_City_Years\n",
      "Creating layer for feature Marital_Status\n",
      "Creating layer for feature Gender\n",
      "Creating layer for feature Age\n",
      "Creating layer for feature Occupation\n",
      "Creating layer for feature City_Category\n",
      "Creating layer for feature Stay_In_Current_City_Years\n",
      "Creating layer for feature Marital_Status\n",
      "WARNING:tensorflow:Layers in a Sequential model should only have a single input tensor, but we receive a <class 'dict'> input: {'Gender': <tf.Tensor 'Gender:0' shape=(None,) dtype=string>, 'Age': <tf.Tensor 'Age:0' shape=(None,) dtype=string>, 'Occupation': <tf.Tensor 'Occupation:0' shape=(None,) dtype=string>, 'City_Category': <tf.Tensor 'City_Category:0' shape=(None,) dtype=string>, 'Stay_In_Current_City_Years': <tf.Tensor 'Stay_In_Current_City_Years:0' shape=(None,) dtype=string>, 'Marital_Status': <tf.Tensor 'Marital_Status:0' shape=(None,) dtype=string>}\n",
      "Consider rewriting this model with the Functional API.\n"
     ]
    },
    {
     "name": "stderr",
     "output_type": "stream",
     "text": [
      "WARNING:tensorflow:Layers in a Sequential model should only have a single input tensor, but we receive a <class 'dict'> input: {'Gender': <tf.Tensor 'Gender:0' shape=(None,) dtype=string>, 'Age': <tf.Tensor 'Age:0' shape=(None,) dtype=string>, 'Occupation': <tf.Tensor 'Occupation:0' shape=(None,) dtype=string>, 'City_Category': <tf.Tensor 'City_Category:0' shape=(None,) dtype=string>, 'Stay_In_Current_City_Years': <tf.Tensor 'Stay_In_Current_City_Years:0' shape=(None,) dtype=string>, 'Marital_Status': <tf.Tensor 'Marital_Status:0' shape=(None,) dtype=string>}\n",
      "Consider rewriting this model with the Functional API.\n"
     ]
    },
    {
     "name": "stdout",
     "output_type": "stream",
     "text": [
      "Creating layer for feature Gender\n",
      "Creating layer for feature Age\n",
      "Creating layer for feature Occupation\n",
      "Creating layer for feature City_Category\n",
      "Creating layer for feature Stay_In_Current_City_Years\n",
      "Creating layer for feature Marital_Status\n",
      "WARNING:tensorflow:Layers in a Sequential model should only have a single input tensor, but we receive a <class 'dict'> input: {'Gender': <tf.Tensor 'Gender:0' shape=(None,) dtype=string>, 'Age': <tf.Tensor 'Age:0' shape=(None,) dtype=string>, 'Occupation': <tf.Tensor 'Occupation:0' shape=(None,) dtype=string>, 'City_Category': <tf.Tensor 'City_Category:0' shape=(None,) dtype=string>, 'Stay_In_Current_City_Years': <tf.Tensor 'Stay_In_Current_City_Years:0' shape=(None,) dtype=string>, 'Marital_Status': <tf.Tensor 'Marital_Status:0' shape=(None,) dtype=string>}\n",
      "Consider rewriting this model with the Functional API.\n"
     ]
    },
    {
     "name": "stderr",
     "output_type": "stream",
     "text": [
      "WARNING:tensorflow:Layers in a Sequential model should only have a single input tensor, but we receive a <class 'dict'> input: {'Gender': <tf.Tensor 'Gender:0' shape=(None,) dtype=string>, 'Age': <tf.Tensor 'Age:0' shape=(None,) dtype=string>, 'Occupation': <tf.Tensor 'Occupation:0' shape=(None,) dtype=string>, 'City_Category': <tf.Tensor 'City_Category:0' shape=(None,) dtype=string>, 'Stay_In_Current_City_Years': <tf.Tensor 'Stay_In_Current_City_Years:0' shape=(None,) dtype=string>, 'Marital_Status': <tf.Tensor 'Marital_Status:0' shape=(None,) dtype=string>}\n",
      "Consider rewriting this model with the Functional API.\n"
     ]
    },
    {
     "name": "stdout",
     "output_type": "stream",
     "text": [
      "WARNING:tensorflow:Layers in a Sequential model should only have a single input tensor, but we receive a <class 'dict'> input: {'Gender': <tf.Tensor 'inputs_2:0' shape=(None,) dtype=string>, 'Age': <tf.Tensor 'inputs:0' shape=(None,) dtype=string>, 'Occupation': <tf.Tensor 'inputs_4:0' shape=(None,) dtype=string>, 'City_Category': <tf.Tensor 'inputs_1:0' shape=(None,) dtype=string>, 'Stay_In_Current_City_Years': <tf.Tensor 'inputs_5:0' shape=(None,) dtype=string>, 'Marital_Status': <tf.Tensor 'inputs_3:0' shape=(None,) dtype=string>}\n",
      "Consider rewriting this model with the Functional API.\n"
     ]
    },
    {
     "name": "stderr",
     "output_type": "stream",
     "text": [
      "WARNING:tensorflow:Layers in a Sequential model should only have a single input tensor, but we receive a <class 'dict'> input: {'Gender': <tf.Tensor 'inputs_2:0' shape=(None,) dtype=string>, 'Age': <tf.Tensor 'inputs:0' shape=(None,) dtype=string>, 'Occupation': <tf.Tensor 'inputs_4:0' shape=(None,) dtype=string>, 'City_Category': <tf.Tensor 'inputs_1:0' shape=(None,) dtype=string>, 'Stay_In_Current_City_Years': <tf.Tensor 'inputs_5:0' shape=(None,) dtype=string>, 'Marital_Status': <tf.Tensor 'inputs_3:0' shape=(None,) dtype=string>}\n",
      "Consider rewriting this model with the Functional API.\n"
     ]
    },
    {
     "name": "stdout",
     "output_type": "stream",
     "text": [
      "WARNING:tensorflow:Layers in a Sequential model should only have a single input tensor, but we receive a <class 'dict'> input: {'Gender': <tf.Tensor 'inputs_2:0' shape=(None,) dtype=string>, 'Age': <tf.Tensor 'inputs:0' shape=(None,) dtype=string>, 'Occupation': <tf.Tensor 'inputs_4:0' shape=(None,) dtype=string>, 'City_Category': <tf.Tensor 'inputs_1:0' shape=(None,) dtype=string>, 'Stay_In_Current_City_Years': <tf.Tensor 'inputs_5:0' shape=(None,) dtype=string>, 'Marital_Status': <tf.Tensor 'inputs_3:0' shape=(None,) dtype=string>}\n",
      "Consider rewriting this model with the Functional API.\n"
     ]
    },
    {
     "name": "stderr",
     "output_type": "stream",
     "text": [
      "WARNING:tensorflow:Layers in a Sequential model should only have a single input tensor, but we receive a <class 'dict'> input: {'Gender': <tf.Tensor 'inputs_2:0' shape=(None,) dtype=string>, 'Age': <tf.Tensor 'inputs:0' shape=(None,) dtype=string>, 'Occupation': <tf.Tensor 'inputs_4:0' shape=(None,) dtype=string>, 'City_Category': <tf.Tensor 'inputs_1:0' shape=(None,) dtype=string>, 'Stay_In_Current_City_Years': <tf.Tensor 'inputs_5:0' shape=(None,) dtype=string>, 'Marital_Status': <tf.Tensor 'inputs_3:0' shape=(None,) dtype=string>}\n",
      "Consider rewriting this model with the Functional API.\n"
     ]
    },
    {
     "name": "stdout",
     "output_type": "stream",
     "text": [
      "WARNING:tensorflow:Layers in a Sequential model should only have a single input tensor, but we receive a <class 'dict'> input: {'Gender': <tf.Tensor 'Gender:0' shape=(None,) dtype=string>, 'Age': <tf.Tensor 'Age:0' shape=(None,) dtype=string>, 'Occupation': <tf.Tensor 'Occupation:0' shape=(None,) dtype=string>, 'City_Category': <tf.Tensor 'City_Category:0' shape=(None,) dtype=string>, 'Stay_In_Current_City_Years': <tf.Tensor 'Stay_In_Current_City_Years:0' shape=(None,) dtype=string>, 'Marital_Status': <tf.Tensor 'Marital_Status:0' shape=(None,) dtype=string>}\n",
      "Consider rewriting this model with the Functional API.\n"
     ]
    },
    {
     "name": "stderr",
     "output_type": "stream",
     "text": [
      "WARNING:tensorflow:Layers in a Sequential model should only have a single input tensor, but we receive a <class 'dict'> input: {'Gender': <tf.Tensor 'Gender:0' shape=(None,) dtype=string>, 'Age': <tf.Tensor 'Age:0' shape=(None,) dtype=string>, 'Occupation': <tf.Tensor 'Occupation:0' shape=(None,) dtype=string>, 'City_Category': <tf.Tensor 'City_Category:0' shape=(None,) dtype=string>, 'Stay_In_Current_City_Years': <tf.Tensor 'Stay_In_Current_City_Years:0' shape=(None,) dtype=string>, 'Marital_Status': <tf.Tensor 'Marital_Status:0' shape=(None,) dtype=string>}\n",
      "Consider rewriting this model with the Functional API.\n"
     ]
    },
    {
     "name": "stdout",
     "output_type": "stream",
     "text": [
      "Creating layer for feature Gender\n",
      "Creating layer for feature Age\n",
      "Creating layer for feature Occupation\n",
      "Creating layer for feature City_Category\n",
      "Creating layer for feature Stay_In_Current_City_Years\n",
      "Creating layer for feature Marital_Status\n",
      "WARNING:tensorflow:Layers in a Sequential model should only have a single input tensor, but we receive a <class 'dict'> input: {'Gender': <tf.Tensor 'Gender:0' shape=(None,) dtype=string>, 'Age': <tf.Tensor 'Age:0' shape=(None,) dtype=string>, 'Occupation': <tf.Tensor 'Occupation:0' shape=(None,) dtype=string>, 'City_Category': <tf.Tensor 'City_Category:0' shape=(None,) dtype=string>, 'Stay_In_Current_City_Years': <tf.Tensor 'Stay_In_Current_City_Years:0' shape=(None,) dtype=string>, 'Marital_Status': <tf.Tensor 'Marital_Status:0' shape=(None,) dtype=string>}\n",
      "Consider rewriting this model with the Functional API.\n"
     ]
    },
    {
     "name": "stderr",
     "output_type": "stream",
     "text": [
      "WARNING:tensorflow:Layers in a Sequential model should only have a single input tensor, but we receive a <class 'dict'> input: {'Gender': <tf.Tensor 'Gender:0' shape=(None,) dtype=string>, 'Age': <tf.Tensor 'Age:0' shape=(None,) dtype=string>, 'Occupation': <tf.Tensor 'Occupation:0' shape=(None,) dtype=string>, 'City_Category': <tf.Tensor 'City_Category:0' shape=(None,) dtype=string>, 'Stay_In_Current_City_Years': <tf.Tensor 'Stay_In_Current_City_Years:0' shape=(None,) dtype=string>, 'Marital_Status': <tf.Tensor 'Marital_Status:0' shape=(None,) dtype=string>}\n",
      "Consider rewriting this model with the Functional API.\n"
     ]
    },
    {
     "name": "stdout",
     "output_type": "stream",
     "text": [
      "Creating layer for feature Gender\n",
      "Creating layer for feature Age\n",
      "Creating layer for feature Occupation\n",
      "Creating layer for feature City_Category\n",
      "Creating layer for feature Stay_In_Current_City_Years\n",
      "Creating layer for feature Marital_Status\n",
      "WARNING:tensorflow:Layers in a Sequential model should only have a single input tensor, but we receive a <class 'dict'> input: {'Gender': <tf.Tensor 'queries/Gender:0' shape=(None,) dtype=string>, 'Age': <tf.Tensor 'queries/Age:0' shape=(None,) dtype=string>, 'Occupation': <tf.Tensor 'queries/Occupation:0' shape=(None,) dtype=string>, 'City_Category': <tf.Tensor 'queries/City_Category:0' shape=(None,) dtype=string>, 'Stay_In_Current_City_Years': <tf.Tensor 'queries/Stay_In_Current_City_Years:0' shape=(None,) dtype=string>, 'Marital_Status': <tf.Tensor 'queries/Marital_Status:0' shape=(None,) dtype=string>}\n",
      "Consider rewriting this model with the Functional API.\n"
     ]
    },
    {
     "name": "stderr",
     "output_type": "stream",
     "text": [
      "WARNING:tensorflow:Layers in a Sequential model should only have a single input tensor, but we receive a <class 'dict'> input: {'Gender': <tf.Tensor 'queries/Gender:0' shape=(None,) dtype=string>, 'Age': <tf.Tensor 'queries/Age:0' shape=(None,) dtype=string>, 'Occupation': <tf.Tensor 'queries/Occupation:0' shape=(None,) dtype=string>, 'City_Category': <tf.Tensor 'queries/City_Category:0' shape=(None,) dtype=string>, 'Stay_In_Current_City_Years': <tf.Tensor 'queries/Stay_In_Current_City_Years:0' shape=(None,) dtype=string>, 'Marital_Status': <tf.Tensor 'queries/Marital_Status:0' shape=(None,) dtype=string>}\n",
      "Consider rewriting this model with the Functional API.\n"
     ]
    },
    {
     "name": "stdout",
     "output_type": "stream",
     "text": [
      "Creating layer for feature Gender\n",
      "Creating layer for feature Age\n",
      "Creating layer for feature Occupation\n",
      "Creating layer for feature City_Category\n",
      "Creating layer for feature Stay_In_Current_City_Years\n",
      "Creating layer for feature Marital_Status\n",
      "WARNING:tensorflow:Layers in a Sequential model should only have a single input tensor, but we receive a <class 'dict'> input: {'Gender': <tf.Tensor 'queries/Gender:0' shape=(None,) dtype=string>, 'Age': <tf.Tensor 'queries/Age:0' shape=(None,) dtype=string>, 'Occupation': <tf.Tensor 'queries/Occupation:0' shape=(None,) dtype=string>, 'City_Category': <tf.Tensor 'queries/City_Category:0' shape=(None,) dtype=string>, 'Stay_In_Current_City_Years': <tf.Tensor 'queries/Stay_In_Current_City_Years:0' shape=(None,) dtype=string>, 'Marital_Status': <tf.Tensor 'queries/Marital_Status:0' shape=(None,) dtype=string>}\n",
      "Consider rewriting this model with the Functional API.\n"
     ]
    },
    {
     "name": "stderr",
     "output_type": "stream",
     "text": [
      "WARNING:tensorflow:Layers in a Sequential model should only have a single input tensor, but we receive a <class 'dict'> input: {'Gender': <tf.Tensor 'queries/Gender:0' shape=(None,) dtype=string>, 'Age': <tf.Tensor 'queries/Age:0' shape=(None,) dtype=string>, 'Occupation': <tf.Tensor 'queries/Occupation:0' shape=(None,) dtype=string>, 'City_Category': <tf.Tensor 'queries/City_Category:0' shape=(None,) dtype=string>, 'Stay_In_Current_City_Years': <tf.Tensor 'queries/Stay_In_Current_City_Years:0' shape=(None,) dtype=string>, 'Marital_Status': <tf.Tensor 'queries/Marital_Status:0' shape=(None,) dtype=string>}\n",
      "Consider rewriting this model with the Functional API.\n"
     ]
    },
    {
     "name": "stdout",
     "output_type": "stream",
     "text": [
      "Creating layer for feature Gender\n",
      "Creating layer for feature Age\n",
      "Creating layer for feature Occupation\n",
      "Creating layer for feature City_Category\n",
      "Creating layer for feature Stay_In_Current_City_Years\n",
      "Creating layer for feature Marital_Status\n",
      "WARNING:tensorflow:Layers in a Sequential model should only have a single input tensor, but we receive a <class 'dict'> input: {'Gender': <tf.Tensor 'inputs/Gender:0' shape=(None,) dtype=string>, 'Age': <tf.Tensor 'inputs/Age:0' shape=(None,) dtype=string>, 'Occupation': <tf.Tensor 'inputs/Occupation:0' shape=(None,) dtype=string>, 'City_Category': <tf.Tensor 'inputs/City_Category:0' shape=(None,) dtype=string>, 'Stay_In_Current_City_Years': <tf.Tensor 'inputs/Stay_In_Current_City_Years:0' shape=(None,) dtype=string>, 'Marital_Status': <tf.Tensor 'inputs/Marital_Status:0' shape=(None,) dtype=string>}\n",
      "Consider rewriting this model with the Functional API.\n"
     ]
    },
    {
     "name": "stderr",
     "output_type": "stream",
     "text": [
      "WARNING:tensorflow:Layers in a Sequential model should only have a single input tensor, but we receive a <class 'dict'> input: {'Gender': <tf.Tensor 'inputs/Gender:0' shape=(None,) dtype=string>, 'Age': <tf.Tensor 'inputs/Age:0' shape=(None,) dtype=string>, 'Occupation': <tf.Tensor 'inputs/Occupation:0' shape=(None,) dtype=string>, 'City_Category': <tf.Tensor 'inputs/City_Category:0' shape=(None,) dtype=string>, 'Stay_In_Current_City_Years': <tf.Tensor 'inputs/Stay_In_Current_City_Years:0' shape=(None,) dtype=string>, 'Marital_Status': <tf.Tensor 'inputs/Marital_Status:0' shape=(None,) dtype=string>}\n",
      "Consider rewriting this model with the Functional API.\n"
     ]
    },
    {
     "name": "stdout",
     "output_type": "stream",
     "text": [
      "Creating layer for feature Gender\n",
      "Creating layer for feature Age\n",
      "Creating layer for feature Occupation\n",
      "Creating layer for feature City_Category\n",
      "Creating layer for feature Stay_In_Current_City_Years\n",
      "Creating layer for feature Marital_Status\n",
      "WARNING:tensorflow:Layers in a Sequential model should only have a single input tensor, but we receive a <class 'dict'> input: {'Gender': <tf.Tensor 'inputs/Gender:0' shape=(None,) dtype=string>, 'Age': <tf.Tensor 'inputs/Age:0' shape=(None,) dtype=string>, 'Occupation': <tf.Tensor 'inputs/Occupation:0' shape=(None,) dtype=string>, 'City_Category': <tf.Tensor 'inputs/City_Category:0' shape=(None,) dtype=string>, 'Stay_In_Current_City_Years': <tf.Tensor 'inputs/Stay_In_Current_City_Years:0' shape=(None,) dtype=string>, 'Marital_Status': <tf.Tensor 'inputs/Marital_Status:0' shape=(None,) dtype=string>}\n",
      "Consider rewriting this model with the Functional API.\n"
     ]
    },
    {
     "name": "stderr",
     "output_type": "stream",
     "text": [
      "WARNING:tensorflow:Layers in a Sequential model should only have a single input tensor, but we receive a <class 'dict'> input: {'Gender': <tf.Tensor 'inputs/Gender:0' shape=(None,) dtype=string>, 'Age': <tf.Tensor 'inputs/Age:0' shape=(None,) dtype=string>, 'Occupation': <tf.Tensor 'inputs/Occupation:0' shape=(None,) dtype=string>, 'City_Category': <tf.Tensor 'inputs/City_Category:0' shape=(None,) dtype=string>, 'Stay_In_Current_City_Years': <tf.Tensor 'inputs/Stay_In_Current_City_Years:0' shape=(None,) dtype=string>, 'Marital_Status': <tf.Tensor 'inputs/Marital_Status:0' shape=(None,) dtype=string>}\n",
      "Consider rewriting this model with the Functional API.\n"
     ]
    },
    {
     "name": "stdout",
     "output_type": "stream",
     "text": [
      "Creating layer for feature Gender\n",
      "Creating layer for feature Age\n",
      "Creating layer for feature Occupation\n",
      "Creating layer for feature City_Category\n",
      "Creating layer for feature Stay_In_Current_City_Years\n",
      "Creating layer for feature Marital_Status\n",
      "Creating layer for feature Gender\n",
      "Creating layer for feature Age\n",
      "Creating layer for feature Occupation\n",
      "Creating layer for feature City_Category\n",
      "Creating layer for feature Stay_In_Current_City_Years\n",
      "Creating layer for feature Marital_Status\n",
      "Creating layer for feature Gender\n",
      "Creating layer for feature Age\n",
      "Creating layer for feature Occupation\n",
      "Creating layer for feature City_Category\n",
      "Creating layer for feature Stay_In_Current_City_Years\n",
      "Creating layer for feature Marital_Status\n"
     ]
    },
    {
     "name": "stderr",
     "output_type": "stream",
     "text": [
      "WARNING:absl:Found untraced functions such as query_with_exclusions while saving (showing 1 of 1). These functions will not be directly callable after loading.\n",
      "WARNING:absl:Found untraced functions such as query_with_exclusions while saving (showing 1 of 1). These functions will not be directly callable after loading.\n"
     ]
    },
    {
     "name": "stdout",
     "output_type": "stream",
     "text": [
      "INFO:tensorflow:Assets written to: ./models/20210422124258/Scann/assets\n"
     ]
    },
    {
     "name": "stderr",
     "output_type": "stream",
     "text": [
      "INFO:tensorflow:Assets written to: ./models/20210422124258/Scann/assets\n"
     ]
    }
   ],
   "source": [
    "scann_path = join(run_path, \"Scann\")\n",
    "\n",
    "scann.save(\n",
    "    scann_path,\n",
    "    options=tf.saved_model.SaveOptions(namespace_whitelist=[\"Scann\"])\n",
    "  )"
   ]
  },
  {
   "cell_type": "markdown",
   "id": "0803692e",
   "metadata": {},
   "source": [
    "## Store ML model"
   ]
  },
  {
   "cell_type": "code",
   "execution_count": 16,
   "id": "2a826858",
   "metadata": {
    "collapsed": true,
    "jupyter": {
     "outputs_hidden": true
    }
   },
   "outputs": [
    {
     "name": "stdout",
     "output_type": "stream",
     "text": [
      "WARNING:tensorflow:Layers in a Sequential model should only have a single input tensor, but we receive a <class 'dict'> input: {'Gender': <tf.Tensor 'Gender:0' shape=(None,) dtype=string>, 'Age': <tf.Tensor 'Age:0' shape=(None,) dtype=string>, 'Occupation': <tf.Tensor 'Occupation:0' shape=(None,) dtype=string>, 'City_Category': <tf.Tensor 'City_Category:0' shape=(None,) dtype=string>, 'Stay_In_Current_City_Years': <tf.Tensor 'Stay_In_Current_City_Years:0' shape=(None,) dtype=string>, 'Marital_Status': <tf.Tensor 'Marital_Status:0' shape=(None,) dtype=string>}\n",
      "Consider rewriting this model with the Functional API.\n"
     ]
    },
    {
     "name": "stderr",
     "output_type": "stream",
     "text": [
      "WARNING:tensorflow:Layers in a Sequential model should only have a single input tensor, but we receive a <class 'dict'> input: {'Gender': <tf.Tensor 'Gender:0' shape=(None,) dtype=string>, 'Age': <tf.Tensor 'Age:0' shape=(None,) dtype=string>, 'Occupation': <tf.Tensor 'Occupation:0' shape=(None,) dtype=string>, 'City_Category': <tf.Tensor 'City_Category:0' shape=(None,) dtype=string>, 'Stay_In_Current_City_Years': <tf.Tensor 'Stay_In_Current_City_Years:0' shape=(None,) dtype=string>, 'Marital_Status': <tf.Tensor 'Marital_Status:0' shape=(None,) dtype=string>}\n",
      "Consider rewriting this model with the Functional API.\n"
     ]
    },
    {
     "name": "stdout",
     "output_type": "stream",
     "text": [
      "Creating layer for feature Gender\n",
      "Creating layer for feature Age\n",
      "Creating layer for feature Occupation\n",
      "Creating layer for feature City_Category\n",
      "Creating layer for feature Stay_In_Current_City_Years\n",
      "Creating layer for feature Marital_Status\n",
      "Creating layer for feature Gender\n",
      "Creating layer for feature Age\n",
      "Creating layer for feature Occupation\n",
      "Creating layer for feature City_Category\n",
      "Creating layer for feature Stay_In_Current_City_Years\n",
      "Creating layer for feature Marital_Status\n",
      "Creating layer for feature Gender\n",
      "Creating layer for feature Age\n",
      "Creating layer for feature Occupation\n",
      "Creating layer for feature City_Category\n",
      "Creating layer for feature Stay_In_Current_City_Years\n",
      "Creating layer for feature Marital_Status\n",
      "Creating layer for feature Gender\n",
      "Creating layer for feature Age\n",
      "Creating layer for feature Occupation\n",
      "Creating layer for feature City_Category\n",
      "Creating layer for feature Stay_In_Current_City_Years\n",
      "Creating layer for feature Marital_Status\n",
      "WARNING:tensorflow:Layers in a Sequential model should only have a single input tensor, but we receive a <class 'dict'> input: {'Gender': <tf.Tensor 'Gender:0' shape=(None,) dtype=string>, 'Age': <tf.Tensor 'Age:0' shape=(None,) dtype=string>, 'Occupation': <tf.Tensor 'Occupation:0' shape=(None,) dtype=string>, 'City_Category': <tf.Tensor 'City_Category:0' shape=(None,) dtype=string>, 'Stay_In_Current_City_Years': <tf.Tensor 'Stay_In_Current_City_Years:0' shape=(None,) dtype=string>, 'Marital_Status': <tf.Tensor 'Marital_Status:0' shape=(None,) dtype=string>}\n",
      "Consider rewriting this model with the Functional API.\n"
     ]
    },
    {
     "name": "stderr",
     "output_type": "stream",
     "text": [
      "WARNING:tensorflow:Layers in a Sequential model should only have a single input tensor, but we receive a <class 'dict'> input: {'Gender': <tf.Tensor 'Gender:0' shape=(None,) dtype=string>, 'Age': <tf.Tensor 'Age:0' shape=(None,) dtype=string>, 'Occupation': <tf.Tensor 'Occupation:0' shape=(None,) dtype=string>, 'City_Category': <tf.Tensor 'City_Category:0' shape=(None,) dtype=string>, 'Stay_In_Current_City_Years': <tf.Tensor 'Stay_In_Current_City_Years:0' shape=(None,) dtype=string>, 'Marital_Status': <tf.Tensor 'Marital_Status:0' shape=(None,) dtype=string>}\n",
      "Consider rewriting this model with the Functional API.\n"
     ]
    },
    {
     "name": "stdout",
     "output_type": "stream",
     "text": [
      "Creating layer for feature Gender\n",
      "Creating layer for feature Age\n",
      "Creating layer for feature Occupation\n",
      "Creating layer for feature City_Category\n",
      "Creating layer for feature Stay_In_Current_City_Years\n",
      "Creating layer for feature Marital_Status\n",
      "WARNING:tensorflow:Layers in a Sequential model should only have a single input tensor, but we receive a <class 'dict'> input: {'Gender': <tf.Tensor 'Gender:0' shape=(None,) dtype=string>, 'Age': <tf.Tensor 'Age:0' shape=(None,) dtype=string>, 'Occupation': <tf.Tensor 'Occupation:0' shape=(None,) dtype=string>, 'City_Category': <tf.Tensor 'City_Category:0' shape=(None,) dtype=string>, 'Stay_In_Current_City_Years': <tf.Tensor 'Stay_In_Current_City_Years:0' shape=(None,) dtype=string>, 'Marital_Status': <tf.Tensor 'Marital_Status:0' shape=(None,) dtype=string>}\n",
      "Consider rewriting this model with the Functional API.\n"
     ]
    },
    {
     "name": "stderr",
     "output_type": "stream",
     "text": [
      "WARNING:tensorflow:Layers in a Sequential model should only have a single input tensor, but we receive a <class 'dict'> input: {'Gender': <tf.Tensor 'Gender:0' shape=(None,) dtype=string>, 'Age': <tf.Tensor 'Age:0' shape=(None,) dtype=string>, 'Occupation': <tf.Tensor 'Occupation:0' shape=(None,) dtype=string>, 'City_Category': <tf.Tensor 'City_Category:0' shape=(None,) dtype=string>, 'Stay_In_Current_City_Years': <tf.Tensor 'Stay_In_Current_City_Years:0' shape=(None,) dtype=string>, 'Marital_Status': <tf.Tensor 'Marital_Status:0' shape=(None,) dtype=string>}\n",
      "Consider rewriting this model with the Functional API.\n"
     ]
    },
    {
     "name": "stdout",
     "output_type": "stream",
     "text": [
      "WARNING:tensorflow:Layers in a Sequential model should only have a single input tensor, but we receive a <class 'dict'> input: {'Gender': <tf.Tensor 'inputs_2:0' shape=(None,) dtype=string>, 'Age': <tf.Tensor 'inputs:0' shape=(None,) dtype=string>, 'Occupation': <tf.Tensor 'inputs_4:0' shape=(None,) dtype=string>, 'City_Category': <tf.Tensor 'inputs_1:0' shape=(None,) dtype=string>, 'Stay_In_Current_City_Years': <tf.Tensor 'inputs_5:0' shape=(None,) dtype=string>, 'Marital_Status': <tf.Tensor 'inputs_3:0' shape=(None,) dtype=string>}\n",
      "Consider rewriting this model with the Functional API.\n"
     ]
    },
    {
     "name": "stderr",
     "output_type": "stream",
     "text": [
      "WARNING:tensorflow:Layers in a Sequential model should only have a single input tensor, but we receive a <class 'dict'> input: {'Gender': <tf.Tensor 'inputs_2:0' shape=(None,) dtype=string>, 'Age': <tf.Tensor 'inputs:0' shape=(None,) dtype=string>, 'Occupation': <tf.Tensor 'inputs_4:0' shape=(None,) dtype=string>, 'City_Category': <tf.Tensor 'inputs_1:0' shape=(None,) dtype=string>, 'Stay_In_Current_City_Years': <tf.Tensor 'inputs_5:0' shape=(None,) dtype=string>, 'Marital_Status': <tf.Tensor 'inputs_3:0' shape=(None,) dtype=string>}\n",
      "Consider rewriting this model with the Functional API.\n"
     ]
    },
    {
     "name": "stdout",
     "output_type": "stream",
     "text": [
      "WARNING:tensorflow:Layers in a Sequential model should only have a single input tensor, but we receive a <class 'dict'> input: {'Gender': <tf.Tensor 'inputs_2:0' shape=(None,) dtype=string>, 'Age': <tf.Tensor 'inputs:0' shape=(None,) dtype=string>, 'Occupation': <tf.Tensor 'inputs_4:0' shape=(None,) dtype=string>, 'City_Category': <tf.Tensor 'inputs_1:0' shape=(None,) dtype=string>, 'Stay_In_Current_City_Years': <tf.Tensor 'inputs_5:0' shape=(None,) dtype=string>, 'Marital_Status': <tf.Tensor 'inputs_3:0' shape=(None,) dtype=string>}\n",
      "Consider rewriting this model with the Functional API.\n"
     ]
    },
    {
     "name": "stderr",
     "output_type": "stream",
     "text": [
      "WARNING:tensorflow:Layers in a Sequential model should only have a single input tensor, but we receive a <class 'dict'> input: {'Gender': <tf.Tensor 'inputs_2:0' shape=(None,) dtype=string>, 'Age': <tf.Tensor 'inputs:0' shape=(None,) dtype=string>, 'Occupation': <tf.Tensor 'inputs_4:0' shape=(None,) dtype=string>, 'City_Category': <tf.Tensor 'inputs_1:0' shape=(None,) dtype=string>, 'Stay_In_Current_City_Years': <tf.Tensor 'inputs_5:0' shape=(None,) dtype=string>, 'Marital_Status': <tf.Tensor 'inputs_3:0' shape=(None,) dtype=string>}\n",
      "Consider rewriting this model with the Functional API.\n"
     ]
    },
    {
     "name": "stdout",
     "output_type": "stream",
     "text": [
      "WARNING:tensorflow:Layers in a Sequential model should only have a single input tensor, but we receive a <class 'dict'> input: {'Gender': <tf.Tensor 'inputs/Gender:0' shape=(None,) dtype=string>, 'Age': <tf.Tensor 'inputs/Age:0' shape=(None,) dtype=string>, 'Occupation': <tf.Tensor 'inputs/Occupation:0' shape=(None,) dtype=string>, 'City_Category': <tf.Tensor 'inputs/City_Category:0' shape=(None,) dtype=string>, 'Stay_In_Current_City_Years': <tf.Tensor 'inputs/Stay_In_Current_City_Years:0' shape=(None,) dtype=string>, 'Marital_Status': <tf.Tensor 'inputs/Marital_Status:0' shape=(None,) dtype=string>}\n",
      "Consider rewriting this model with the Functional API.\n"
     ]
    },
    {
     "name": "stderr",
     "output_type": "stream",
     "text": [
      "WARNING:tensorflow:Layers in a Sequential model should only have a single input tensor, but we receive a <class 'dict'> input: {'Gender': <tf.Tensor 'inputs/Gender:0' shape=(None,) dtype=string>, 'Age': <tf.Tensor 'inputs/Age:0' shape=(None,) dtype=string>, 'Occupation': <tf.Tensor 'inputs/Occupation:0' shape=(None,) dtype=string>, 'City_Category': <tf.Tensor 'inputs/City_Category:0' shape=(None,) dtype=string>, 'Stay_In_Current_City_Years': <tf.Tensor 'inputs/Stay_In_Current_City_Years:0' shape=(None,) dtype=string>, 'Marital_Status': <tf.Tensor 'inputs/Marital_Status:0' shape=(None,) dtype=string>}\n",
      "Consider rewriting this model with the Functional API.\n"
     ]
    },
    {
     "name": "stdout",
     "output_type": "stream",
     "text": [
      "Creating layer for feature Gender\n",
      "Creating layer for feature Age\n",
      "Creating layer for feature Occupation\n",
      "Creating layer for feature City_Category\n",
      "Creating layer for feature Stay_In_Current_City_Years\n",
      "Creating layer for feature Marital_Status\n",
      "WARNING:tensorflow:Layers in a Sequential model should only have a single input tensor, but we receive a <class 'dict'> input: {'Gender': <tf.Tensor 'inputs/Gender:0' shape=(None,) dtype=string>, 'Age': <tf.Tensor 'inputs/Age:0' shape=(None,) dtype=string>, 'Occupation': <tf.Tensor 'inputs/Occupation:0' shape=(None,) dtype=string>, 'City_Category': <tf.Tensor 'inputs/City_Category:0' shape=(None,) dtype=string>, 'Stay_In_Current_City_Years': <tf.Tensor 'inputs/Stay_In_Current_City_Years:0' shape=(None,) dtype=string>, 'Marital_Status': <tf.Tensor 'inputs/Marital_Status:0' shape=(None,) dtype=string>}\n",
      "Consider rewriting this model with the Functional API.\n"
     ]
    },
    {
     "name": "stderr",
     "output_type": "stream",
     "text": [
      "WARNING:tensorflow:Layers in a Sequential model should only have a single input tensor, but we receive a <class 'dict'> input: {'Gender': <tf.Tensor 'inputs/Gender:0' shape=(None,) dtype=string>, 'Age': <tf.Tensor 'inputs/Age:0' shape=(None,) dtype=string>, 'Occupation': <tf.Tensor 'inputs/Occupation:0' shape=(None,) dtype=string>, 'City_Category': <tf.Tensor 'inputs/City_Category:0' shape=(None,) dtype=string>, 'Stay_In_Current_City_Years': <tf.Tensor 'inputs/Stay_In_Current_City_Years:0' shape=(None,) dtype=string>, 'Marital_Status': <tf.Tensor 'inputs/Marital_Status:0' shape=(None,) dtype=string>}\n",
      "Consider rewriting this model with the Functional API.\n"
     ]
    },
    {
     "name": "stdout",
     "output_type": "stream",
     "text": [
      "Creating layer for feature Gender\n",
      "Creating layer for feature Age\n",
      "Creating layer for feature Occupation\n",
      "Creating layer for feature City_Category\n",
      "Creating layer for feature Stay_In_Current_City_Years\n",
      "Creating layer for feature Marital_Status\n",
      "Creating layer for feature Gender\n",
      "Creating layer for feature Age\n",
      "Creating layer for feature Occupation\n",
      "Creating layer for feature City_Category\n",
      "Creating layer for feature Stay_In_Current_City_Years\n",
      "Creating layer for feature Marital_Status\n",
      "Creating layer for feature Gender\n",
      "Creating layer for feature Age\n",
      "Creating layer for feature Occupation\n",
      "Creating layer for feature City_Category\n",
      "Creating layer for feature Stay_In_Current_City_Years\n",
      "Creating layer for feature Marital_Status\n",
      "INFO:tensorflow:Assets written to: ./models/20210419093152/user/assets\n"
     ]
    },
    {
     "name": "stderr",
     "output_type": "stream",
     "text": [
      "INFO:tensorflow:Assets written to: ./models/20210419093152/user/assets\n"
     ]
    }
   ],
   "source": [
    "# Store the user embedding model\n",
    "user_model = model.get_user_tower()\n",
    "user_path = join(run_path, \"user\")\n",
    "user_model.save(user_path, options=tf.saved_model.SaveOptions(namespace_whitelist=[\"UserModel\"]))"
   ]
  },
  {
   "cell_type": "code",
   "execution_count": 17,
   "id": "75fb0d06",
   "metadata": {},
   "outputs": [
    {
     "name": "stdout",
     "output_type": "stream",
     "text": [
      "INFO:tensorflow:Assets written to: ./models/20210419093152/candidate/assets\n"
     ]
    },
    {
     "name": "stderr",
     "output_type": "stream",
     "text": [
      "INFO:tensorflow:Assets written to: ./models/20210419093152/candidate/assets\n"
     ]
    }
   ],
   "source": [
    "# Store the user embedding model\n",
    "candidate_model = model.get_product_tower()\n",
    "candidate_path = join(run_path, \"candidate\")\n",
    "candidate_model.save(candidate_path, options=tf.saved_model.SaveOptions(namespace_whitelist=[\"CandidateModel\"]))"
   ]
  },
  {
   "cell_type": "markdown",
   "id": "d152c300",
   "metadata": {},
   "source": [
    "---\n",
    "# Load the models"
   ]
  },
  {
   "cell_type": "markdown",
   "id": "5104f5c0",
   "metadata": {},
   "source": [
    "## ScaNN load"
   ]
  },
  {
   "cell_type": "code",
   "execution_count": 18,
   "id": "00b75d31",
   "metadata": {
    "collapsed": true,
    "jupyter": {
     "outputs_hidden": true
    }
   },
   "outputs": [
    {
     "name": "stdout",
     "output_type": "stream",
     "text": [
      "WARNING:tensorflow:5 out of the last 5 calls to <function recreate_function.<locals>.restored_function_body at 0x7fd0a814db90> triggered tf.function retracing. Tracing is expensive and the excessive number of tracings could be due to (1) creating @tf.function repeatedly in a loop, (2) passing tensors with different shapes, (3) passing Python objects instead of tensors. For (1), please define your @tf.function outside of the loop. For (2), @tf.function has experimental_relax_shapes=True option that relaxes argument shapes that can avoid unnecessary retracing. For (3), please refer to https://www.tensorflow.org/guide/function#controlling_retracing and https://www.tensorflow.org/api_docs/python/tf/function for  more details.\n"
     ]
    },
    {
     "name": "stderr",
     "output_type": "stream",
     "text": [
      "WARNING:tensorflow:5 out of the last 5 calls to <function recreate_function.<locals>.restored_function_body at 0x7fd0a814db90> triggered tf.function retracing. Tracing is expensive and the excessive number of tracings could be due to (1) creating @tf.function repeatedly in a loop, (2) passing tensors with different shapes, (3) passing Python objects instead of tensors. For (1), please define your @tf.function outside of the loop. For (2), @tf.function has experimental_relax_shapes=True option that relaxes argument shapes that can avoid unnecessary retracing. For (3), please refer to https://www.tensorflow.org/guide/function#controlling_retracing and https://www.tensorflow.org/api_docs/python/tf/function for  more details.\n"
     ]
    },
    {
     "name": "stdout",
     "output_type": "stream",
     "text": [
      "WARNING:tensorflow:6 out of the last 6 calls to <function recreate_function.<locals>.restored_function_body at 0x7fd0a6b893b0> triggered tf.function retracing. Tracing is expensive and the excessive number of tracings could be due to (1) creating @tf.function repeatedly in a loop, (2) passing tensors with different shapes, (3) passing Python objects instead of tensors. For (1), please define your @tf.function outside of the loop. For (2), @tf.function has experimental_relax_shapes=True option that relaxes argument shapes that can avoid unnecessary retracing. For (3), please refer to https://www.tensorflow.org/guide/function#controlling_retracing and https://www.tensorflow.org/api_docs/python/tf/function for  more details.\n"
     ]
    },
    {
     "name": "stderr",
     "output_type": "stream",
     "text": [
      "WARNING:tensorflow:6 out of the last 6 calls to <function recreate_function.<locals>.restored_function_body at 0x7fd0a6b893b0> triggered tf.function retracing. Tracing is expensive and the excessive number of tracings could be due to (1) creating @tf.function repeatedly in a loop, (2) passing tensors with different shapes, (3) passing Python objects instead of tensors. For (1), please define your @tf.function outside of the loop. For (2), @tf.function has experimental_relax_shapes=True option that relaxes argument shapes that can avoid unnecessary retracing. For (3), please refer to https://www.tensorflow.org/guide/function#controlling_retracing and https://www.tensorflow.org/api_docs/python/tf/function for  more details.\n"
     ]
    },
    {
     "name": "stdout",
     "output_type": "stream",
     "text": [
      "WARNING:tensorflow:No training configuration found in save file, so the model was *not* compiled. Compile it manually.\n"
     ]
    },
    {
     "name": "stderr",
     "output_type": "stream",
     "text": [
      "WARNING:tensorflow:No training configuration found in save file, so the model was *not* compiled. Compile it manually.\n"
     ]
    }
   ],
   "source": [
    "scann_loaded = tf.keras.models.load_model(scann_path)"
   ]
  },
  {
   "cell_type": "code",
   "execution_count": 19,
   "id": "18daed4c",
   "metadata": {
    "collapsed": true,
    "jupyter": {
     "outputs_hidden": true
    }
   },
   "outputs": [
    {
     "name": "stdout",
     "output_type": "stream",
     "text": [
      "WARNING:tensorflow:7 out of the last 7 calls to <function recreate_function.<locals>.restored_function_body at 0x7fd0a5924680> triggered tf.function retracing. Tracing is expensive and the excessive number of tracings could be due to (1) creating @tf.function repeatedly in a loop, (2) passing tensors with different shapes, (3) passing Python objects instead of tensors. For (1), please define your @tf.function outside of the loop. For (2), @tf.function has experimental_relax_shapes=True option that relaxes argument shapes that can avoid unnecessary retracing. For (3), please refer to https://www.tensorflow.org/guide/function#controlling_retracing and https://www.tensorflow.org/api_docs/python/tf/function for  more details.\n"
     ]
    },
    {
     "name": "stderr",
     "output_type": "stream",
     "text": [
      "WARNING:tensorflow:7 out of the last 7 calls to <function recreate_function.<locals>.restored_function_body at 0x7fd0a5924680> triggered tf.function retracing. Tracing is expensive and the excessive number of tracings could be due to (1) creating @tf.function repeatedly in a loop, (2) passing tensors with different shapes, (3) passing Python objects instead of tensors. For (1), please define your @tf.function outside of the loop. For (2), @tf.function has experimental_relax_shapes=True option that relaxes argument shapes that can avoid unnecessary retracing. For (3), please refer to https://www.tensorflow.org/guide/function#controlling_retracing and https://www.tensorflow.org/api_docs/python/tf/function for  more details.\n"
     ]
    },
    {
     "data": {
      "text/plain": [
       "(<tf.Tensor: shape=(1, 10), dtype=float32, numpy=\n",
       " array([[0.7119358 , 0.64604574, 0.620901  , 0.6093435 , 0.5951483 ,\n",
       "         0.5938488 , 0.58764935, 0.57615477, 0.56247985, 0.5602325 ]],\n",
       "       dtype=float32)>,\n",
       " <tf.Tensor: shape=(1, 10), dtype=string, numpy=\n",
       " array([[b'P00221142', b'P00299442', b'P00021142', b'P00016842',\n",
       "         b'P00303142', b'P00168742', b'P00150442', b'P00222442',\n",
       "         b'P00280842', b'P00004442']], dtype=object)>)"
      ]
     },
     "execution_count": 19,
     "metadata": {},
     "output_type": "execute_result"
    }
   ],
   "source": [
    "# Get recommendations:\n",
    "\n",
    "input_data = {\n",
    "    \"Gender\": tf.constant([\"M\"]), # <-- [!] require list inside constant\n",
    "    \"Age\": tf.constant([\"26-35\"]),\n",
    "    \"Occupation\": tf.constant([\"0\"]),\n",
    "    \"City_Category\": tf.constant([\"B\"]),\n",
    "    \"Stay_In_Current_City_Years\": tf.constant([\"4+\"]),\n",
    "    \"Marital_Status\": tf.constant([\"0\"]),\n",
    "}\n",
    "scann_loaded(input_data)\n"
   ]
  },
  {
   "cell_type": "markdown",
   "id": "1e15b2f4",
   "metadata": {},
   "source": [
    "## Embedding models"
   ]
  },
  {
   "cell_type": "code",
   "execution_count": 23,
   "id": "88aec2d6",
   "metadata": {
    "collapsed": true,
    "jupyter": {
     "outputs_hidden": true
    }
   },
   "outputs": [
    {
     "name": "stdout",
     "output_type": "stream",
     "text": [
      "WARNING:tensorflow:10 out of the last 11 calls to <function recreate_function.<locals>.restored_function_body at 0x7fd0a2a11dd0> triggered tf.function retracing. Tracing is expensive and the excessive number of tracings could be due to (1) creating @tf.function repeatedly in a loop, (2) passing tensors with different shapes, (3) passing Python objects instead of tensors. For (1), please define your @tf.function outside of the loop. For (2), @tf.function has experimental_relax_shapes=True option that relaxes argument shapes that can avoid unnecessary retracing. For (3), please refer to https://www.tensorflow.org/guide/function#controlling_retracing and https://www.tensorflow.org/api_docs/python/tf/function for  more details.\n"
     ]
    },
    {
     "name": "stderr",
     "output_type": "stream",
     "text": [
      "WARNING:tensorflow:10 out of the last 11 calls to <function recreate_function.<locals>.restored_function_body at 0x7fd0a2a11dd0> triggered tf.function retracing. Tracing is expensive and the excessive number of tracings could be due to (1) creating @tf.function repeatedly in a loop, (2) passing tensors with different shapes, (3) passing Python objects instead of tensors. For (1), please define your @tf.function outside of the loop. For (2), @tf.function has experimental_relax_shapes=True option that relaxes argument shapes that can avoid unnecessary retracing. For (3), please refer to https://www.tensorflow.org/guide/function#controlling_retracing and https://www.tensorflow.org/api_docs/python/tf/function for  more details.\n"
     ]
    },
    {
     "name": "stdout",
     "output_type": "stream",
     "text": [
      "WARNING:tensorflow:10 out of the last 11 calls to <function recreate_function.<locals>.restored_function_body at 0x7fd0a2a685f0> triggered tf.function retracing. Tracing is expensive and the excessive number of tracings could be due to (1) creating @tf.function repeatedly in a loop, (2) passing tensors with different shapes, (3) passing Python objects instead of tensors. For (1), please define your @tf.function outside of the loop. For (2), @tf.function has experimental_relax_shapes=True option that relaxes argument shapes that can avoid unnecessary retracing. For (3), please refer to https://www.tensorflow.org/guide/function#controlling_retracing and https://www.tensorflow.org/api_docs/python/tf/function for  more details.\n"
     ]
    },
    {
     "name": "stderr",
     "output_type": "stream",
     "text": [
      "WARNING:tensorflow:10 out of the last 11 calls to <function recreate_function.<locals>.restored_function_body at 0x7fd0a2a685f0> triggered tf.function retracing. Tracing is expensive and the excessive number of tracings could be due to (1) creating @tf.function repeatedly in a loop, (2) passing tensors with different shapes, (3) passing Python objects instead of tensors. For (1), please define your @tf.function outside of the loop. For (2), @tf.function has experimental_relax_shapes=True option that relaxes argument shapes that can avoid unnecessary retracing. For (3), please refer to https://www.tensorflow.org/guide/function#controlling_retracing and https://www.tensorflow.org/api_docs/python/tf/function for  more details.\n"
     ]
    },
    {
     "name": "stdout",
     "output_type": "stream",
     "text": [
      "WARNING:tensorflow:10 out of the last 11 calls to <function recreate_function.<locals>.restored_function_body at 0x7fd0a2a58f80> triggered tf.function retracing. Tracing is expensive and the excessive number of tracings could be due to (1) creating @tf.function repeatedly in a loop, (2) passing tensors with different shapes, (3) passing Python objects instead of tensors. For (1), please define your @tf.function outside of the loop. For (2), @tf.function has experimental_relax_shapes=True option that relaxes argument shapes that can avoid unnecessary retracing. For (3), please refer to https://www.tensorflow.org/guide/function#controlling_retracing and https://www.tensorflow.org/api_docs/python/tf/function for  more details.\n"
     ]
    },
    {
     "name": "stderr",
     "output_type": "stream",
     "text": [
      "WARNING:tensorflow:10 out of the last 11 calls to <function recreate_function.<locals>.restored_function_body at 0x7fd0a2a58f80> triggered tf.function retracing. Tracing is expensive and the excessive number of tracings could be due to (1) creating @tf.function repeatedly in a loop, (2) passing tensors with different shapes, (3) passing Python objects instead of tensors. For (1), please define your @tf.function outside of the loop. For (2), @tf.function has experimental_relax_shapes=True option that relaxes argument shapes that can avoid unnecessary retracing. For (3), please refer to https://www.tensorflow.org/guide/function#controlling_retracing and https://www.tensorflow.org/api_docs/python/tf/function for  more details.\n"
     ]
    },
    {
     "name": "stdout",
     "output_type": "stream",
     "text": [
      "WARNING:tensorflow:10 out of the last 11 calls to <function recreate_function.<locals>.restored_function_body at 0x7fd0a2a118c0> triggered tf.function retracing. Tracing is expensive and the excessive number of tracings could be due to (1) creating @tf.function repeatedly in a loop, (2) passing tensors with different shapes, (3) passing Python objects instead of tensors. For (1), please define your @tf.function outside of the loop. For (2), @tf.function has experimental_relax_shapes=True option that relaxes argument shapes that can avoid unnecessary retracing. For (3), please refer to https://www.tensorflow.org/guide/function#controlling_retracing and https://www.tensorflow.org/api_docs/python/tf/function for  more details.\n"
     ]
    },
    {
     "name": "stderr",
     "output_type": "stream",
     "text": [
      "WARNING:tensorflow:10 out of the last 11 calls to <function recreate_function.<locals>.restored_function_body at 0x7fd0a2a118c0> triggered tf.function retracing. Tracing is expensive and the excessive number of tracings could be due to (1) creating @tf.function repeatedly in a loop, (2) passing tensors with different shapes, (3) passing Python objects instead of tensors. For (1), please define your @tf.function outside of the loop. For (2), @tf.function has experimental_relax_shapes=True option that relaxes argument shapes that can avoid unnecessary retracing. For (3), please refer to https://www.tensorflow.org/guide/function#controlling_retracing and https://www.tensorflow.org/api_docs/python/tf/function for  more details.\n"
     ]
    },
    {
     "name": "stdout",
     "output_type": "stream",
     "text": [
      "WARNING:tensorflow:10 out of the last 11 calls to <function recreate_function.<locals>.restored_function_body at 0x7fd0a2a17d40> triggered tf.function retracing. Tracing is expensive and the excessive number of tracings could be due to (1) creating @tf.function repeatedly in a loop, (2) passing tensors with different shapes, (3) passing Python objects instead of tensors. For (1), please define your @tf.function outside of the loop. For (2), @tf.function has experimental_relax_shapes=True option that relaxes argument shapes that can avoid unnecessary retracing. For (3), please refer to https://www.tensorflow.org/guide/function#controlling_retracing and https://www.tensorflow.org/api_docs/python/tf/function for  more details.\n"
     ]
    },
    {
     "name": "stderr",
     "output_type": "stream",
     "text": [
      "WARNING:tensorflow:10 out of the last 11 calls to <function recreate_function.<locals>.restored_function_body at 0x7fd0a2a17d40> triggered tf.function retracing. Tracing is expensive and the excessive number of tracings could be due to (1) creating @tf.function repeatedly in a loop, (2) passing tensors with different shapes, (3) passing Python objects instead of tensors. For (1), please define your @tf.function outside of the loop. For (2), @tf.function has experimental_relax_shapes=True option that relaxes argument shapes that can avoid unnecessary retracing. For (3), please refer to https://www.tensorflow.org/guide/function#controlling_retracing and https://www.tensorflow.org/api_docs/python/tf/function for  more details.\n"
     ]
    },
    {
     "name": "stdout",
     "output_type": "stream",
     "text": [
      "WARNING:tensorflow:10 out of the last 11 calls to <function recreate_function.<locals>.restored_function_body at 0x7fd0a2a11c20> triggered tf.function retracing. Tracing is expensive and the excessive number of tracings could be due to (1) creating @tf.function repeatedly in a loop, (2) passing tensors with different shapes, (3) passing Python objects instead of tensors. For (1), please define your @tf.function outside of the loop. For (2), @tf.function has experimental_relax_shapes=True option that relaxes argument shapes that can avoid unnecessary retracing. For (3), please refer to https://www.tensorflow.org/guide/function#controlling_retracing and https://www.tensorflow.org/api_docs/python/tf/function for  more details.\n"
     ]
    },
    {
     "name": "stderr",
     "output_type": "stream",
     "text": [
      "WARNING:tensorflow:10 out of the last 11 calls to <function recreate_function.<locals>.restored_function_body at 0x7fd0a2a11c20> triggered tf.function retracing. Tracing is expensive and the excessive number of tracings could be due to (1) creating @tf.function repeatedly in a loop, (2) passing tensors with different shapes, (3) passing Python objects instead of tensors. For (1), please define your @tf.function outside of the loop. For (2), @tf.function has experimental_relax_shapes=True option that relaxes argument shapes that can avoid unnecessary retracing. For (3), please refer to https://www.tensorflow.org/guide/function#controlling_retracing and https://www.tensorflow.org/api_docs/python/tf/function for  more details.\n"
     ]
    },
    {
     "name": "stdout",
     "output_type": "stream",
     "text": [
      "WARNING:tensorflow:No training configuration found in save file, so the model was *not* compiled. Compile it manually.\n"
     ]
    },
    {
     "name": "stderr",
     "output_type": "stream",
     "text": [
      "WARNING:tensorflow:No training configuration found in save file, so the model was *not* compiled. Compile it manually.\n"
     ]
    },
    {
     "name": "stdout",
     "output_type": "stream",
     "text": [
      "WARNING:tensorflow:Layers in a Sequential model should only have a single input tensor, but we receive a <class 'dict'> input: {'Gender': <tf.Tensor: shape=(1,), dtype=string, numpy=array([b'M'], dtype=object)>, 'Age': <tf.Tensor: shape=(1,), dtype=string, numpy=array([b'26-35'], dtype=object)>, 'Occupation': <tf.Tensor: shape=(1,), dtype=string, numpy=array([b'0'], dtype=object)>, 'City_Category': <tf.Tensor: shape=(1,), dtype=string, numpy=array([b'B'], dtype=object)>, 'Stay_In_Current_City_Years': <tf.Tensor: shape=(1,), dtype=string, numpy=array([b'4+'], dtype=object)>, 'Marital_Status': <tf.Tensor: shape=(1,), dtype=string, numpy=array([b'0'], dtype=object)>}\n",
      "Consider rewriting this model with the Functional API.\n"
     ]
    },
    {
     "name": "stderr",
     "output_type": "stream",
     "text": [
      "WARNING:tensorflow:Layers in a Sequential model should only have a single input tensor, but we receive a <class 'dict'> input: {'Gender': <tf.Tensor: shape=(1,), dtype=string, numpy=array([b'M'], dtype=object)>, 'Age': <tf.Tensor: shape=(1,), dtype=string, numpy=array([b'26-35'], dtype=object)>, 'Occupation': <tf.Tensor: shape=(1,), dtype=string, numpy=array([b'0'], dtype=object)>, 'City_Category': <tf.Tensor: shape=(1,), dtype=string, numpy=array([b'B'], dtype=object)>, 'Stay_In_Current_City_Years': <tf.Tensor: shape=(1,), dtype=string, numpy=array([b'4+'], dtype=object)>, 'Marital_Status': <tf.Tensor: shape=(1,), dtype=string, numpy=array([b'0'], dtype=object)>}\n",
      "Consider rewriting this model with the Functional API.\n"
     ]
    },
    {
     "name": "stdout",
     "output_type": "stream",
     "text": [
      "WARNING:tensorflow:10 out of the last 11 calls to <function recreate_function.<locals>.restored_function_body at 0x7fd0a2a6d560> triggered tf.function retracing. Tracing is expensive and the excessive number of tracings could be due to (1) creating @tf.function repeatedly in a loop, (2) passing tensors with different shapes, (3) passing Python objects instead of tensors. For (1), please define your @tf.function outside of the loop. For (2), @tf.function has experimental_relax_shapes=True option that relaxes argument shapes that can avoid unnecessary retracing. For (3), please refer to https://www.tensorflow.org/guide/function#controlling_retracing and https://www.tensorflow.org/api_docs/python/tf/function for  more details.\n"
     ]
    },
    {
     "name": "stderr",
     "output_type": "stream",
     "text": [
      "WARNING:tensorflow:10 out of the last 11 calls to <function recreate_function.<locals>.restored_function_body at 0x7fd0a2a6d560> triggered tf.function retracing. Tracing is expensive and the excessive number of tracings could be due to (1) creating @tf.function repeatedly in a loop, (2) passing tensors with different shapes, (3) passing Python objects instead of tensors. For (1), please define your @tf.function outside of the loop. For (2), @tf.function has experimental_relax_shapes=True option that relaxes argument shapes that can avoid unnecessary retracing. For (3), please refer to https://www.tensorflow.org/guide/function#controlling_retracing and https://www.tensorflow.org/api_docs/python/tf/function for  more details.\n"
     ]
    },
    {
     "data": {
      "text/plain": [
       "<tf.Tensor: shape=(1, 32), dtype=float32, numpy=\n",
       "array([[ 0.20700587,  0.0947971 , -0.11562292,  0.27679503, -0.14745897,\n",
       "         0.08679863,  0.07959864, -0.01188067,  0.16708054,  0.10946328,\n",
       "         0.03467712,  0.16648084, -0.27423215, -0.0900174 ,  0.03211596,\n",
       "         0.17735957, -0.10775164, -0.13040575, -0.00611744, -0.11471772,\n",
       "        -0.4367543 ,  0.2719013 , -0.02833449,  0.16547915,  0.10113018,\n",
       "        -0.03219921, -0.05203754, -0.11744717, -0.04397772, -0.0646404 ,\n",
       "        -0.23835519, -0.0671583 ]], dtype=float32)>"
      ]
     },
     "execution_count": 23,
     "metadata": {},
     "output_type": "execute_result"
    }
   ],
   "source": [
    "# Test user embedding\n",
    "user_model = tf.keras.models.load_model(user_path)\n",
    "\n",
    "input_data = {\n",
    "    \"Gender\": tf.constant([\"M\"]), # <-- [!] require list inside constant\n",
    "    \"Age\": tf.constant([\"26-35\"]),\n",
    "    \"Occupation\": tf.constant([\"0\"]),\n",
    "    \"City_Category\": tf.constant([\"B\"]),\n",
    "    \"Stay_In_Current_City_Years\": tf.constant([\"4+\"]),\n",
    "    \"Marital_Status\": tf.constant([\"0\"]),\n",
    "}\n",
    "user_model(input_data)"
   ]
  },
  {
   "cell_type": "code",
   "execution_count": 34,
   "id": "d66269f6",
   "metadata": {
    "collapsed": true,
    "jupyter": {
     "outputs_hidden": true
    }
   },
   "outputs": [
    {
     "name": "stdout",
     "output_type": "stream",
     "text": [
      "WARNING:tensorflow:11 out of the last 11 calls to <function recreate_function.<locals>.restored_function_body at 0x7fd0a7c1acb0> triggered tf.function retracing. Tracing is expensive and the excessive number of tracings could be due to (1) creating @tf.function repeatedly in a loop, (2) passing tensors with different shapes, (3) passing Python objects instead of tensors. For (1), please define your @tf.function outside of the loop. For (2), @tf.function has experimental_relax_shapes=True option that relaxes argument shapes that can avoid unnecessary retracing. For (3), please refer to https://www.tensorflow.org/guide/function#controlling_retracing and https://www.tensorflow.org/api_docs/python/tf/function for  more details.\n"
     ]
    },
    {
     "name": "stderr",
     "output_type": "stream",
     "text": [
      "WARNING:tensorflow:11 out of the last 11 calls to <function recreate_function.<locals>.restored_function_body at 0x7fd0a7c1acb0> triggered tf.function retracing. Tracing is expensive and the excessive number of tracings could be due to (1) creating @tf.function repeatedly in a loop, (2) passing tensors with different shapes, (3) passing Python objects instead of tensors. For (1), please define your @tf.function outside of the loop. For (2), @tf.function has experimental_relax_shapes=True option that relaxes argument shapes that can avoid unnecessary retracing. For (3), please refer to https://www.tensorflow.org/guide/function#controlling_retracing and https://www.tensorflow.org/api_docs/python/tf/function for  more details.\n"
     ]
    },
    {
     "name": "stdout",
     "output_type": "stream",
     "text": [
      "WARNING:tensorflow:No training configuration found in save file, so the model was *not* compiled. Compile it manually.\n"
     ]
    },
    {
     "name": "stderr",
     "output_type": "stream",
     "text": [
      "WARNING:tensorflow:No training configuration found in save file, so the model was *not* compiled. Compile it manually.\n"
     ]
    },
    {
     "name": "stdout",
     "output_type": "stream",
     "text": [
      "WARNING:tensorflow:11 out of the last 11 calls to <function recreate_function.<locals>.restored_function_body at 0x7fd0a2759680> triggered tf.function retracing. Tracing is expensive and the excessive number of tracings could be due to (1) creating @tf.function repeatedly in a loop, (2) passing tensors with different shapes, (3) passing Python objects instead of tensors. For (1), please define your @tf.function outside of the loop. For (2), @tf.function has experimental_relax_shapes=True option that relaxes argument shapes that can avoid unnecessary retracing. For (3), please refer to https://www.tensorflow.org/guide/function#controlling_retracing and https://www.tensorflow.org/api_docs/python/tf/function for  more details.\n"
     ]
    },
    {
     "name": "stderr",
     "output_type": "stream",
     "text": [
      "WARNING:tensorflow:11 out of the last 11 calls to <function recreate_function.<locals>.restored_function_body at 0x7fd0a2759680> triggered tf.function retracing. Tracing is expensive and the excessive number of tracings could be due to (1) creating @tf.function repeatedly in a loop, (2) passing tensors with different shapes, (3) passing Python objects instead of tensors. For (1), please define your @tf.function outside of the loop. For (2), @tf.function has experimental_relax_shapes=True option that relaxes argument shapes that can avoid unnecessary retracing. For (3), please refer to https://www.tensorflow.org/guide/function#controlling_retracing and https://www.tensorflow.org/api_docs/python/tf/function for  more details.\n"
     ]
    },
    {
     "data": {
      "text/plain": [
       "<tf.Tensor: shape=(1, 32), dtype=float32, numpy=\n",
       "array([[ 0.03294051,  0.02109322,  0.00466959,  0.00893892, -0.01463873,\n",
       "         0.00661785,  0.02543953, -0.04188783,  0.01310662,  0.01502049,\n",
       "         0.00212025,  0.02856631, -0.00602527, -0.00968197,  0.02498633,\n",
       "         0.0018321 ,  0.00453932, -0.04844395, -0.01046825,  0.02039592,\n",
       "        -0.02211715,  0.01750563, -0.03150826,  0.00307698, -0.00459771,\n",
       "        -0.01313829,  0.01194914, -0.00198265,  0.01471668, -0.06453553,\n",
       "         0.00610681, -0.01482611]], dtype=float32)>"
      ]
     },
     "execution_count": 34,
     "metadata": {},
     "output_type": "execute_result"
    }
   ],
   "source": [
    "# Test product embedding\n",
    "candidate_model = tf.keras.models.load_model(candidate_path)\n",
    "\n",
    "input_data = {\n",
    "    \"Product_ID\": tf.constant([\"ProductNeverShowed\"]), # <-- [!] require list inside constant\n",
    "    }\n",
    "\n",
    "candidate_model(input_data)"
   ]
  },
  {
   "cell_type": "markdown",
   "id": "6df41404",
   "metadata": {},
   "source": [
    "-----------"
   ]
  }
 ],
 "metadata": {
  "environment": {
   "name": "tf2-gpu.2-3.m65",
   "type": "gcloud",
   "uri": "gcr.io/deeplearning-platform-release/tf2-gpu.2-3:m65"
  },
  "kernelspec": {
   "display_name": "Python 3",
   "language": "python",
   "name": "python3"
  },
  "language_info": {
   "codemirror_mode": {
    "name": "ipython",
    "version": 3
   },
   "file_extension": ".py",
   "mimetype": "text/x-python",
   "name": "python",
   "nbconvert_exporter": "python",
   "pygments_lexer": "ipython3",
   "version": "3.7.10"
  }
 },
 "nbformat": 4,
 "nbformat_minor": 5
}
