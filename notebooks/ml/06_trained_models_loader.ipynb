{
 "cells": [
  {
   "cell_type": "markdown",
   "id": "cb20d21e",
   "metadata": {},
   "source": [
    "# Load trained models\n",
    "\n",
    "> use this notebook to check the correctness of tained models"
   ]
  },
  {
   "cell_type": "code",
   "execution_count": 1,
   "id": "8a89867c",
   "metadata": {},
   "outputs": [],
   "source": [
    "job_dir = \"gs://mlteam-ml-specialization-2021-blackfriday/aiplatform_jobs/bf_20210426_145558/\""
   ]
  },
  {
   "cell_type": "code",
   "execution_count": 2,
   "id": "1b878800",
   "metadata": {},
   "outputs": [],
   "source": [
    "from os.path import join\n",
    "\n",
    "scann_path = join(job_dir, \"Scann\")"
   ]
  },
  {
   "cell_type": "markdown",
   "id": "9481e3b6",
   "metadata": {},
   "source": [
    "## Load Scann"
   ]
  },
  {
   "cell_type": "code",
   "execution_count": 3,
   "id": "f727fb71",
   "metadata": {},
   "outputs": [
    {
     "name": "stdout",
     "output_type": "stream",
     "text": [
      "WARNING:tensorflow:5 out of the last 5 calls to <function recreate_function.<locals>.restored_function_body at 0x7f34ddbb5320> triggered tf.function retracing. Tracing is expensive and the excessive number of tracings could be due to (1) creating @tf.function repeatedly in a loop, (2) passing tensors with different shapes, (3) passing Python objects instead of tensors. For (1), please define your @tf.function outside of the loop. For (2), @tf.function has experimental_relax_shapes=True option that relaxes argument shapes that can avoid unnecessary retracing. For (3), please refer to https://www.tensorflow.org/guide/function#controlling_retracing and https://www.tensorflow.org/api_docs/python/tf/function for  more details.\n",
      "WARNING:tensorflow:6 out of the last 6 calls to <function recreate_function.<locals>.restored_function_body at 0x7f34ddbb58c0> triggered tf.function retracing. Tracing is expensive and the excessive number of tracings could be due to (1) creating @tf.function repeatedly in a loop, (2) passing tensors with different shapes, (3) passing Python objects instead of tensors. For (1), please define your @tf.function outside of the loop. For (2), @tf.function has experimental_relax_shapes=True option that relaxes argument shapes that can avoid unnecessary retracing. For (3), please refer to https://www.tensorflow.org/guide/function#controlling_retracing and https://www.tensorflow.org/api_docs/python/tf/function for  more details.\n",
      "WARNING:tensorflow:No training configuration found in save file, so the model was *not* compiled. Compile it manually.\n"
     ]
    }
   ],
   "source": [
    "import tensorflow as tf\n",
    "import tensorflow_recommenders as tfrs # requirea to load SCANN\n",
    "scann_loaded = tf.keras.models.load_model(scann_path)"
   ]
  },
  {
   "cell_type": "code",
   "execution_count": 4,
   "id": "783b44d4",
   "metadata": {},
   "outputs": [],
   "source": [
    "scann_example = {  # used to check scann consistency\n",
    "    \"Gender\": tf.constant([\"M\"]),\n",
    "    \"Age\": tf.constant([\"26-35\"]),\n",
    "    \"Occupation\": tf.constant([\"0\"]),\n",
    "    \"City_Category\": tf.constant([\"B\"]),\n",
    "    \"Stay_In_Current_City_Years\": tf.constant([\"4+\"]),\n",
    "    \"Marital_Status\": tf.constant([\"0\"]),\n",
    "}\n"
   ]
  },
  {
   "cell_type": "code",
   "execution_count": 5,
   "id": "4b65959e",
   "metadata": {},
   "outputs": [
    {
     "name": "stdout",
     "output_type": "stream",
     "text": [
      "WARNING:tensorflow:7 out of the last 7 calls to <function recreate_function.<locals>.restored_function_body at 0x7f34ddbebc20> triggered tf.function retracing. Tracing is expensive and the excessive number of tracings could be due to (1) creating @tf.function repeatedly in a loop, (2) passing tensors with different shapes, (3) passing Python objects instead of tensors. For (1), please define your @tf.function outside of the loop. For (2), @tf.function has experimental_relax_shapes=True option that relaxes argument shapes that can avoid unnecessary retracing. For (3), please refer to https://www.tensorflow.org/guide/function#controlling_retracing and https://www.tensorflow.org/api_docs/python/tf/function for  more details.\n"
     ]
    }
   ],
   "source": [
    "scann_results = scann_loaded(scann_example)  # prediction required to store the model"
   ]
  },
  {
   "cell_type": "code",
   "execution_count": 12,
   "id": "86c48b4c",
   "metadata": {},
   "outputs": [
    {
     "data": {
      "text/plain": [
       "(<tf.Tensor: shape=(1, 10), dtype=float32, numpy=\n",
       " array([[3.1140285, 3.0735807, 2.8716292, 2.8528547, 2.7234626, 2.7076268,\n",
       "         2.689435 , 2.6258552, 2.6027102, 2.5738482]], dtype=float32)>,\n",
       " <tf.Tensor: shape=(1, 10), dtype=string, numpy=\n",
       " array([[b'P00284342', b'P00223342', b'P00162542', b'P00363342',\n",
       "         b'P00204942', b'P00292342', b'P00133642', b'P00028342',\n",
       "         b'P00046542', b'P00279142']], dtype=object)>)"
      ]
     },
     "execution_count": 12,
     "metadata": {},
     "output_type": "execute_result"
    }
   ],
   "source": [
    "scann_results"
   ]
  },
  {
   "cell_type": "markdown",
   "id": "7b593526",
   "metadata": {},
   "source": [
    "### Check if the prediction match:"
   ]
  },
  {
   "cell_type": "code",
   "execution_count": 17,
   "id": "32da3f13",
   "metadata": {},
   "outputs": [
    {
     "name": "stdout",
     "output_type": "stream",
     "text": [
      "{\n",
      "    \"train_path\": \"gs://mlteam-ml-specialization-2021-blackfriday/dataset/parsed/202104130952/train.csv\",\n",
      "    \"test_path\": \"gs://mlteam-ml-specialization-2021-blackfriday/dataset/parsed/202104130952/test.csv\",\n",
      "    \"job_dir\": \"gs://mlteam-ml-specialization-2021-blackfriday/aiplatform_jobs/bf_20210426_145558\",\n",
      "    \"n_epochs\": 20,\n",
      "    \"embedding_dim\": 32,\n",
      "    \"batch_size\": 128,\n",
      "    \"learning_rate\": 0.01,\n",
      "    \"product_id_col_name\": [\n",
      "        \"Product_ID\"\n",
      "    ],\n",
      "    \"user_features\": [\n",
      "        \"Gender\",\n",
      "        \"Age\",\n",
      "        \"Occupation\",\n",
      "        \"City_Category\",\n",
      "        \"Stay_In_Current_City_Years\",\n",
      "        \"Marital_Status\"\n",
      "    ],\n",
      "    \"scann_shape\": \"(3601,)\",\n",
      "    \"scann_example\": \"{'Gender': <tf.Tensor: shape=(1,), dtype=string, numpy=array([b'M'], dtype=object)>, 'Age': <tf.Tensor: shape=(1,), dtype=string, numpy=array([b'26-35'], dtype=object)>, 'Occupation': <tf.Tensor: shape=(1,), dtype=string, numpy=array([b'0'], dtype=object)>, 'City_Category': <tf.Tensor: shape=(1,), dtype=string, numpy=array([b'B'], dtype=object)>, 'Stay_In_Current_City_Years': <tf.Tensor: shape=(1,), dtype=string, numpy=array([b'4+'], dtype=object)>, 'Marital_Status': <tf.Tensor: shape=(1,), dtype=string, numpy=array([b'0'], dtype=object)>}\",\n",
      "    \"scann_results\": \"(<tf.Tensor: shape=(1, 10), dtype=float32, numpy=\\narray([[3.1140285, 3.0735807, 2.8716292, 2.8528547, 2.7234626, 2.7076268,\\n        2.689435 , 2.6258552, 2.6027102, 2.5738482]], dtype=float32)>, <tf.Tensor: shape=(1, 10), dtype=string, numpy=\\narray([[b'P00284342', b'P00223342', b'P00162542', b'P00363342',\\n        b'P00204942', b'P00292342', b'P00133642', b'P00028342',\\n        b'P00046542', b'P00279142']], dtype=object)>)\"\n",
      "}"
     ]
    }
   ],
   "source": [
    "!gsutil cat $\"{job_dir}\"params.json"
   ]
  }
 ],
 "metadata": {
  "environment": {
   "name": "tf2-gpu.2-3.m65",
   "type": "gcloud",
   "uri": "gcr.io/deeplearning-platform-release/tf2-gpu.2-3:m65"
  },
  "kernelspec": {
   "display_name": "Python 3",
   "language": "python",
   "name": "python3"
  },
  "language_info": {
   "codemirror_mode": {
    "name": "ipython",
    "version": 3
   },
   "file_extension": ".py",
   "mimetype": "text/x-python",
   "name": "python",
   "nbconvert_exporter": "python",
   "pygments_lexer": "ipython3",
   "version": "3.7.10"
  }
 },
 "nbformat": 4,
 "nbformat_minor": 5
}
