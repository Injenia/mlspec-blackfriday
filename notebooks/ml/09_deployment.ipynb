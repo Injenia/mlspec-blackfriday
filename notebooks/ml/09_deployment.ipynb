{
 "cells": [
  {
   "cell_type": "code",
   "execution_count": 7,
   "id": "4bbd0493",
   "metadata": {},
   "outputs": [
    {
     "name": "stdout",
     "output_type": "stream",
     "text": [
      "Overwriting prediction_input.json\n"
     ]
    }
   ],
   "source": [
    "%%writefile prediction_input.json\n",
    "{\"Gender\": [\"M\"],\"Age\": [\"26-35\"],\"Occupation\": [\"0\"],\"City_Category\": [\"B\"],\"Stay_In_Current_City_Years\": [\"4+\"],\"Marital_Status\": [\"0\"]}\n"
   ]
  },
  {
   "cell_type": "code",
   "execution_count": 13,
   "id": "1640018f",
   "metadata": {
    "collapsed": true,
    "jupyter": {
     "outputs_hidden": true
    }
   },
   "outputs": [
    {
     "name": "stderr",
     "output_type": "stream",
     "text": [
      "ERROR: (gcloud.ai-platform.local.predict) b'2021-05-31 12:57:07.471041: I tensorflow/stream_executor/platform/default/dso_loader.cc:49] Successfully opened dynamic library libcudart.so.11.0\\nWARNING:tensorflow:From /opt/conda/lib/python3.7/site-packages/tensorflow/python/compat/v2_compat.py:96: disable_resource_variables (from tensorflow.python.ops.variable_scope) is deprecated and will be removed in a future version.\\nInstructions for updating:\\nnon-resource variables are not supported in the long term\\n2021-05-31 12:57:09.706238: I tensorflow/compiler/jit/xla_cpu_device.cc:41] Not creating XLA devices, tf_xla_enable_xla_devices not set\\n2021-05-31 12:57:09.706591: W tensorflow/stream_executor/platform/default/dso_loader.cc:60] Could not load dynamic library \\'libcuda.so.1\\'; dlerror: libcuda.so.1: cannot open shared object file: No such file or directory; LD_LIBRARY_PATH: /usr/local/cuda/lib64:/usr/local/nccl2/lib:/usr/local/cuda/extras/CUPTI/lib64\\n2021-05-31 12:57:09.706668: W tensorflow/stream_executor/cuda/cuda_driver.cc:326] failed call to cuInit: UNKNOWN ERROR (303)\\n2021-05-31 12:57:09.706704: I tensorflow/stream_executor/cuda/cuda_diagnostics.cc:156] kernel driver does not appear to be running on this host (blackfriday-tensorflow-2-3-20210407-151403): /proc/driver/nvidia/version does not exist\\n2021-05-31 12:57:09.707547: I tensorflow/compiler/jit/xla_gpu_device.cc:99] Not creating XLA devices, tf_xla_enable_xla_devices not set\\nWARNING:tensorflow:From /usr/lib/google-cloud-sdk/lib/third_party/ml_sdk/cloud/ml/prediction/frameworks/tf_prediction_lib.py:236: load (from tensorflow.python.saved_model.loader_impl) is deprecated and will be removed in a future version.\\nInstructions for updating:\\nThis function will only be available through the v1 compatibility library as tf.compat.v1.saved_model.loader.load or tf.compat.v1.saved_model.load. There will be a new function for importing SavedModels in Tensorflow 2.0.\\nWARNING:tensorflow:From /usr/lib/google-cloud-sdk/lib/third_party/ml_sdk/cloud/ml/prediction/frameworks/tf_prediction_lib.py:236: load (from tensorflow.python.saved_model.loader_impl) is deprecated and will be removed in a future version.\\nInstructions for updating:\\nThis function will only be available through the v1 compatibility library as tf.compat.v1.saved_model.loader.load or tf.compat.v1.saved_model.load. There will be a new function for importing SavedModels in Tensorflow 2.0.\\nERROR:root:Failed to load the model due to bad model data. tags: [\\'serve\\']\\nTraceback (most recent call last):\\n  File \"/usr/lib/google-cloud-sdk/lib/third_party/ml_sdk/cloud/ml/prediction/frameworks/tf_prediction_lib.py\", line 236, in load_tf_model\\n    session, tags=list(tags), export_dir=model_path)\\n  File \"/opt/conda/lib/python3.7/site-packages/tensorflow/python/util/deprecation.py\", line 340, in new_func\\n    return func(*args, **kwargs)\\n  File \"/opt/conda/lib/python3.7/site-packages/tensorflow/python/saved_model/loader_impl.py\", line 300, in load\\n    return loader.load(sess, tags, import_scope, **saver_kwargs)\\n  File \"/opt/conda/lib/python3.7/site-packages/tensorflow/python/saved_model/loader_impl.py\", line 453, in load\\n    **saver_kwargs)\\n  File \"/opt/conda/lib/python3.7/site-packages/tensorflow/python/saved_model/loader_impl.py\", line 383, in load_graph\\n    meta_graph_def, import_scope=import_scope, **saver_kwargs)\\n  File \"/opt/conda/lib/python3.7/site-packages/tensorflow/python/training/saver.py\", line 1485, in _import_meta_graph_with_return_elements\\n    **kwargs))\\n  File \"/opt/conda/lib/python3.7/site-packages/tensorflow/python/framework/meta_graph.py\", line 804, in import_scoped_meta_graph_with_return_elements\\n    return_elements=return_elements)\\n  File \"/opt/conda/lib/python3.7/site-packages/tensorflow/python/util/deprecation.py\", line 538, in new_func\\n    return func(*args, **kwargs)\\n  File \"/opt/conda/lib/python3.7/site-packages/tensorflow/python/framework/importer.py\", line 405, in import_graph_def\\n    producer_op_list=producer_op_list)\\n  File \"/opt/conda/lib/python3.7/site-packages/tensorflow/python/framework/importer.py\", line 497, in _import_graph_def_internal\\n    graph._c_graph, serialized, options)  # pylint: disable=protected-access\\ntensorflow.python.framework.errors_impl.NotFoundError: Op type not registered \\'Scann>ScannSearchBatched\\' in binary running on blackfriday-tensorflow-2-3-20210407-151403. Make sure the Op and Kernel are registered in the binary running in this process. Note that if you are loading a saved graph which used ops from tf.contrib, accessing (e.g.) `tf.contrib.resampler` should be done before importing the graph, as contrib ops are lazily registered when the module is first accessed.\\nTraceback (most recent call last):\\n  File \"/usr/lib/google-cloud-sdk/lib/third_party/ml_sdk/cloud/ml/prediction/frameworks/tf_prediction_lib.py\", line 236, in load_tf_model\\n    session, tags=list(tags), export_dir=model_path)\\n  File \"/opt/conda/lib/python3.7/site-packages/tensorflow/python/util/deprecation.py\", line 340, in new_func\\n    return func(*args, **kwargs)\\n  File \"/opt/conda/lib/python3.7/site-packages/tensorflow/python/saved_model/loader_impl.py\", line 300, in load\\n    return loader.load(sess, tags, import_scope, **saver_kwargs)\\n  File \"/opt/conda/lib/python3.7/site-packages/tensorflow/python/saved_model/loader_impl.py\", line 453, in load\\n    **saver_kwargs)\\n  File \"/opt/conda/lib/python3.7/site-packages/tensorflow/python/saved_model/loader_impl.py\", line 383, in load_graph\\n    meta_graph_def, import_scope=import_scope, **saver_kwargs)\\n  File \"/opt/conda/lib/python3.7/site-packages/tensorflow/python/training/saver.py\", line 1485, in _import_meta_graph_with_return_elements\\n    **kwargs))\\n  File \"/opt/conda/lib/python3.7/site-packages/tensorflow/python/framework/meta_graph.py\", line 804, in import_scoped_meta_graph_with_return_elements\\n    return_elements=return_elements)\\n  File \"/opt/conda/lib/python3.7/site-packages/tensorflow/python/util/deprecation.py\", line 538, in new_func\\n    return func(*args, **kwargs)\\n  File \"/opt/conda/lib/python3.7/site-packages/tensorflow/python/framework/importer.py\", line 405, in import_graph_def\\n    producer_op_list=producer_op_list)\\n  File \"/opt/conda/lib/python3.7/site-packages/tensorflow/python/framework/importer.py\", line 497, in _import_graph_def_internal\\n    graph._c_graph, serialized, options)  # pylint: disable=protected-access\\ntensorflow.python.framework.errors_impl.NotFoundError: Op type not registered \\'Scann>ScannSearchBatched\\' in binary running on blackfriday-tensorflow-2-3-20210407-151403. Make sure the Op and Kernel are registered in the binary running in this process. Note that if you are loading a saved graph which used ops from tf.contrib, accessing (e.g.) `tf.contrib.resampler` should be done before importing the graph, as contrib ops are lazily registered when the module is first accessed.\\n\\nDuring handling of the above exception, another exception occurred:\\n\\nTraceback (most recent call last):\\n  File \"/usr/lib/google-cloud-sdk/lib/googlecloudsdk/command_lib/ml_engine/local_predict.py\", line 184, in <module>\\n    main()\\n  File \"/usr/lib/google-cloud-sdk/lib/googlecloudsdk/command_lib/ml_engine/local_predict.py\", line 179, in main\\n    signature_name=args.signature_name)\\n  File \"/usr/lib/google-cloud-sdk/lib/third_party/ml_sdk/cloud/ml/prediction/prediction_lib.py\", line 98, in local_predict\\n    client = create_client(framework, model_dir, **kwargs)\\n  File \"/usr/lib/google-cloud-sdk/lib/third_party/ml_sdk/cloud/ml/prediction/prediction_lib.py\", line 91, in create_client\\n    return create_client_fn(model_path, **kwargs)\\n  File \"/usr/lib/google-cloud-sdk/lib/third_party/ml_sdk/cloud/ml/prediction/frameworks/tf_prediction_lib.py\", line 550, in create_tf_session_client\\n    return SessionClient(*load_tf_model(model_dir, tags, config))\\n  File \"/usr/lib/google-cloud-sdk/lib/third_party/ml_sdk/cloud/ml/prediction/frameworks/tf_prediction_lib.py\", line 242, in load_tf_model\\n    \"%s\\\\n%s\" % (msg, str(e)))\\ncloud.ml.prediction.prediction_utils.PredictionError: Failed to load model: Failed to load the model due to bad model data. tags: [\\'serve\\']\\nOp type not registered \\'Scann>ScannSearchBatched\\' in binary running on blackfriday-tensorflow-2-3-20210407-151403. Make sure the Op and Kernel are registered in the binary running in this process. Note that if you are loading a saved graph which used ops from tf.contrib, accessing (e.g.) `tf.contrib.resampler` should be done before importing the graph, as contrib ops are lazily registered when the module is first accessed. (Error code: 0)\\n'\n"
     ]
    },
    {
     "ename": "CalledProcessError",
     "evalue": "Command 'b'\\nMODEL_DIR=\"gs://mlteam-ml-specialization-2021-blackfriday/aiplatform_jobs/004_hptuning_ed_allfeatures/3/Scann\"\\n\\ngcloud ai-platform local predict --model-dir ${MODEL_DIR}/ \\\\\\n  --json-instances prediction_input.json \\\\\\n  --framework tensorflow \\\\\\n  --signature-name=\\'serving_default\\'\\n'' returned non-zero exit status 1.",
     "output_type": "error",
     "traceback": [
      "\u001b[0;31m---------------------------------------------------------------------------\u001b[0m",
      "\u001b[0;31mCalledProcessError\u001b[0m                        Traceback (most recent call last)",
      "\u001b[0;32m<ipython-input-13-31a23d5098ad>\u001b[0m in \u001b[0;36m<module>\u001b[0;34m\u001b[0m\n\u001b[0;32m----> 1\u001b[0;31m \u001b[0mget_ipython\u001b[0m\u001b[0;34m(\u001b[0m\u001b[0;34m)\u001b[0m\u001b[0;34m.\u001b[0m\u001b[0mrun_cell_magic\u001b[0m\u001b[0;34m(\u001b[0m\u001b[0;34m'bash'\u001b[0m\u001b[0;34m,\u001b[0m \u001b[0;34m''\u001b[0m\u001b[0;34m,\u001b[0m \u001b[0;34m'\\nMODEL_DIR=\"gs://mlteam-ml-specialization-2021-blackfriday/aiplatform_jobs/004_hptuning_ed_allfeatures/3/Scann\"\\n\\ngcloud ai-platform local predict --model-dir ${MODEL_DIR}/ \\\\\\n  --json-instances prediction_input.json \\\\\\n  --framework tensorflow \\\\\\n  --signature-name=\\'serving_default\\'\\n'\u001b[0m\u001b[0;34m)\u001b[0m\u001b[0;34m\u001b[0m\u001b[0;34m\u001b[0m\u001b[0m\n\u001b[0m",
      "\u001b[0;32m/opt/conda/lib/python3.7/site-packages/IPython/core/interactiveshell.py\u001b[0m in \u001b[0;36mrun_cell_magic\u001b[0;34m(self, magic_name, line, cell)\u001b[0m\n\u001b[1;32m   2397\u001b[0m             \u001b[0;32mwith\u001b[0m \u001b[0mself\u001b[0m\u001b[0;34m.\u001b[0m\u001b[0mbuiltin_trap\u001b[0m\u001b[0;34m:\u001b[0m\u001b[0;34m\u001b[0m\u001b[0;34m\u001b[0m\u001b[0m\n\u001b[1;32m   2398\u001b[0m                 \u001b[0margs\u001b[0m \u001b[0;34m=\u001b[0m \u001b[0;34m(\u001b[0m\u001b[0mmagic_arg_s\u001b[0m\u001b[0;34m,\u001b[0m \u001b[0mcell\u001b[0m\u001b[0;34m)\u001b[0m\u001b[0;34m\u001b[0m\u001b[0;34m\u001b[0m\u001b[0m\n\u001b[0;32m-> 2399\u001b[0;31m                 \u001b[0mresult\u001b[0m \u001b[0;34m=\u001b[0m \u001b[0mfn\u001b[0m\u001b[0;34m(\u001b[0m\u001b[0;34m*\u001b[0m\u001b[0margs\u001b[0m\u001b[0;34m,\u001b[0m \u001b[0;34m**\u001b[0m\u001b[0mkwargs\u001b[0m\u001b[0;34m)\u001b[0m\u001b[0;34m\u001b[0m\u001b[0;34m\u001b[0m\u001b[0m\n\u001b[0m\u001b[1;32m   2400\u001b[0m             \u001b[0;32mreturn\u001b[0m \u001b[0mresult\u001b[0m\u001b[0;34m\u001b[0m\u001b[0;34m\u001b[0m\u001b[0m\n\u001b[1;32m   2401\u001b[0m \u001b[0;34m\u001b[0m\u001b[0m\n",
      "\u001b[0;32m/opt/conda/lib/python3.7/site-packages/IPython/core/magics/script.py\u001b[0m in \u001b[0;36mnamed_script_magic\u001b[0;34m(line, cell)\u001b[0m\n\u001b[1;32m    140\u001b[0m             \u001b[0;32melse\u001b[0m\u001b[0;34m:\u001b[0m\u001b[0;34m\u001b[0m\u001b[0;34m\u001b[0m\u001b[0m\n\u001b[1;32m    141\u001b[0m                 \u001b[0mline\u001b[0m \u001b[0;34m=\u001b[0m \u001b[0mscript\u001b[0m\u001b[0;34m\u001b[0m\u001b[0;34m\u001b[0m\u001b[0m\n\u001b[0;32m--> 142\u001b[0;31m             \u001b[0;32mreturn\u001b[0m \u001b[0mself\u001b[0m\u001b[0;34m.\u001b[0m\u001b[0mshebang\u001b[0m\u001b[0;34m(\u001b[0m\u001b[0mline\u001b[0m\u001b[0;34m,\u001b[0m \u001b[0mcell\u001b[0m\u001b[0;34m)\u001b[0m\u001b[0;34m\u001b[0m\u001b[0;34m\u001b[0m\u001b[0m\n\u001b[0m\u001b[1;32m    143\u001b[0m \u001b[0;34m\u001b[0m\u001b[0m\n\u001b[1;32m    144\u001b[0m         \u001b[0;31m# write a basic docstring:\u001b[0m\u001b[0;34m\u001b[0m\u001b[0;34m\u001b[0m\u001b[0;34m\u001b[0m\u001b[0m\n",
      "\u001b[0;32m/opt/conda/lib/python3.7/site-packages/decorator.py\u001b[0m in \u001b[0;36mfun\u001b[0;34m(*args, **kw)\u001b[0m\n\u001b[1;32m    229\u001b[0m             \u001b[0;32mif\u001b[0m \u001b[0;32mnot\u001b[0m \u001b[0mkwsyntax\u001b[0m\u001b[0;34m:\u001b[0m\u001b[0;34m\u001b[0m\u001b[0;34m\u001b[0m\u001b[0m\n\u001b[1;32m    230\u001b[0m                 \u001b[0margs\u001b[0m\u001b[0;34m,\u001b[0m \u001b[0mkw\u001b[0m \u001b[0;34m=\u001b[0m \u001b[0mfix\u001b[0m\u001b[0;34m(\u001b[0m\u001b[0margs\u001b[0m\u001b[0;34m,\u001b[0m \u001b[0mkw\u001b[0m\u001b[0;34m,\u001b[0m \u001b[0msig\u001b[0m\u001b[0;34m)\u001b[0m\u001b[0;34m\u001b[0m\u001b[0;34m\u001b[0m\u001b[0m\n\u001b[0;32m--> 231\u001b[0;31m             \u001b[0;32mreturn\u001b[0m \u001b[0mcaller\u001b[0m\u001b[0;34m(\u001b[0m\u001b[0mfunc\u001b[0m\u001b[0;34m,\u001b[0m \u001b[0;34m*\u001b[0m\u001b[0;34m(\u001b[0m\u001b[0mextras\u001b[0m \u001b[0;34m+\u001b[0m \u001b[0margs\u001b[0m\u001b[0;34m)\u001b[0m\u001b[0;34m,\u001b[0m \u001b[0;34m**\u001b[0m\u001b[0mkw\u001b[0m\u001b[0;34m)\u001b[0m\u001b[0;34m\u001b[0m\u001b[0;34m\u001b[0m\u001b[0m\n\u001b[0m\u001b[1;32m    232\u001b[0m     \u001b[0mfun\u001b[0m\u001b[0;34m.\u001b[0m\u001b[0m__name__\u001b[0m \u001b[0;34m=\u001b[0m \u001b[0mfunc\u001b[0m\u001b[0;34m.\u001b[0m\u001b[0m__name__\u001b[0m\u001b[0;34m\u001b[0m\u001b[0;34m\u001b[0m\u001b[0m\n\u001b[1;32m    233\u001b[0m     \u001b[0mfun\u001b[0m\u001b[0;34m.\u001b[0m\u001b[0m__doc__\u001b[0m \u001b[0;34m=\u001b[0m \u001b[0mfunc\u001b[0m\u001b[0;34m.\u001b[0m\u001b[0m__doc__\u001b[0m\u001b[0;34m\u001b[0m\u001b[0;34m\u001b[0m\u001b[0m\n",
      "\u001b[0;32m/opt/conda/lib/python3.7/site-packages/IPython/core/magic.py\u001b[0m in \u001b[0;36m<lambda>\u001b[0;34m(f, *a, **k)\u001b[0m\n\u001b[1;32m    185\u001b[0m     \u001b[0;31m# but it's overkill for just that one bit of state.\u001b[0m\u001b[0;34m\u001b[0m\u001b[0;34m\u001b[0m\u001b[0;34m\u001b[0m\u001b[0m\n\u001b[1;32m    186\u001b[0m     \u001b[0;32mdef\u001b[0m \u001b[0mmagic_deco\u001b[0m\u001b[0;34m(\u001b[0m\u001b[0marg\u001b[0m\u001b[0;34m)\u001b[0m\u001b[0;34m:\u001b[0m\u001b[0;34m\u001b[0m\u001b[0;34m\u001b[0m\u001b[0m\n\u001b[0;32m--> 187\u001b[0;31m         \u001b[0mcall\u001b[0m \u001b[0;34m=\u001b[0m \u001b[0;32mlambda\u001b[0m \u001b[0mf\u001b[0m\u001b[0;34m,\u001b[0m \u001b[0;34m*\u001b[0m\u001b[0ma\u001b[0m\u001b[0;34m,\u001b[0m \u001b[0;34m**\u001b[0m\u001b[0mk\u001b[0m\u001b[0;34m:\u001b[0m \u001b[0mf\u001b[0m\u001b[0;34m(\u001b[0m\u001b[0;34m*\u001b[0m\u001b[0ma\u001b[0m\u001b[0;34m,\u001b[0m \u001b[0;34m**\u001b[0m\u001b[0mk\u001b[0m\u001b[0;34m)\u001b[0m\u001b[0;34m\u001b[0m\u001b[0;34m\u001b[0m\u001b[0m\n\u001b[0m\u001b[1;32m    188\u001b[0m \u001b[0;34m\u001b[0m\u001b[0m\n\u001b[1;32m    189\u001b[0m         \u001b[0;32mif\u001b[0m \u001b[0mcallable\u001b[0m\u001b[0;34m(\u001b[0m\u001b[0marg\u001b[0m\u001b[0;34m)\u001b[0m\u001b[0;34m:\u001b[0m\u001b[0;34m\u001b[0m\u001b[0;34m\u001b[0m\u001b[0m\n",
      "\u001b[0;32m/opt/conda/lib/python3.7/site-packages/IPython/core/magics/script.py\u001b[0m in \u001b[0;36mshebang\u001b[0;34m(self, line, cell)\u001b[0m\n\u001b[1;32m    243\u001b[0m             \u001b[0msys\u001b[0m\u001b[0;34m.\u001b[0m\u001b[0mstderr\u001b[0m\u001b[0;34m.\u001b[0m\u001b[0mflush\u001b[0m\u001b[0;34m(\u001b[0m\u001b[0;34m)\u001b[0m\u001b[0;34m\u001b[0m\u001b[0;34m\u001b[0m\u001b[0m\n\u001b[1;32m    244\u001b[0m         \u001b[0;32mif\u001b[0m \u001b[0margs\u001b[0m\u001b[0;34m.\u001b[0m\u001b[0mraise_error\u001b[0m \u001b[0;32mand\u001b[0m \u001b[0mp\u001b[0m\u001b[0;34m.\u001b[0m\u001b[0mreturncode\u001b[0m\u001b[0;34m!=\u001b[0m\u001b[0;36m0\u001b[0m\u001b[0;34m:\u001b[0m\u001b[0;34m\u001b[0m\u001b[0;34m\u001b[0m\u001b[0m\n\u001b[0;32m--> 245\u001b[0;31m             \u001b[0;32mraise\u001b[0m \u001b[0mCalledProcessError\u001b[0m\u001b[0;34m(\u001b[0m\u001b[0mp\u001b[0m\u001b[0;34m.\u001b[0m\u001b[0mreturncode\u001b[0m\u001b[0;34m,\u001b[0m \u001b[0mcell\u001b[0m\u001b[0;34m,\u001b[0m \u001b[0moutput\u001b[0m\u001b[0;34m=\u001b[0m\u001b[0mout\u001b[0m\u001b[0;34m,\u001b[0m \u001b[0mstderr\u001b[0m\u001b[0;34m=\u001b[0m\u001b[0merr\u001b[0m\u001b[0;34m)\u001b[0m\u001b[0;34m\u001b[0m\u001b[0;34m\u001b[0m\u001b[0m\n\u001b[0m\u001b[1;32m    246\u001b[0m \u001b[0;34m\u001b[0m\u001b[0m\n\u001b[1;32m    247\u001b[0m     \u001b[0;32mdef\u001b[0m \u001b[0m_run_script\u001b[0m\u001b[0;34m(\u001b[0m\u001b[0mself\u001b[0m\u001b[0;34m,\u001b[0m \u001b[0mp\u001b[0m\u001b[0;34m,\u001b[0m \u001b[0mcell\u001b[0m\u001b[0;34m,\u001b[0m \u001b[0mto_close\u001b[0m\u001b[0;34m)\u001b[0m\u001b[0;34m:\u001b[0m\u001b[0;34m\u001b[0m\u001b[0;34m\u001b[0m\u001b[0m\n",
      "\u001b[0;31mCalledProcessError\u001b[0m: Command 'b'\\nMODEL_DIR=\"gs://mlteam-ml-specialization-2021-blackfriday/aiplatform_jobs/004_hptuning_ed_allfeatures/3/Scann\"\\n\\ngcloud ai-platform local predict --model-dir ${MODEL_DIR}/ \\\\\\n  --json-instances prediction_input.json \\\\\\n  --framework tensorflow \\\\\\n  --signature-name=\\'serving_default\\'\\n'' returned non-zero exit status 1."
     ]
    }
   ],
   "source": [
    "%%bash\n",
    "\n",
    "MODEL_DIR=\"gs://mlteam-ml-specialization-2021-blackfriday/aiplatform_jobs/004_hptuning_ed_allfeatures/3/Scann\"\n",
    "\n",
    "gcloud ai-platform local predict --model-dir ${MODEL_DIR}/ \\\n",
    "  --json-instances prediction_input.json \\\n",
    "  --framework tensorflow \\\n",
    "  --signature-name='serving_default'"
   ]
  },
  {
   "cell_type": "code",
   "execution_count": 15,
   "id": "3da655a2",
   "metadata": {
    "collapsed": true,
    "jupyter": {
     "outputs_hidden": true
    }
   },
   "outputs": [
    {
     "name": "stdout",
     "output_type": "stream",
     "text": [
      "\u001b[m\u001b[1mNAME\u001b[m\n",
      "    gcloud ai-platform local predict - run prediction locally\n",
      "\n",
      "\u001b[m\u001b[1mSYNOPSIS\u001b[m\n",
      "    \u001b[1mgcloud ai-platform local predict\u001b[m \u001b[1m--model-dir\u001b[m=\u001b[4mMODEL_DIR\u001b[m\n",
      "        (\u001b[1m--json-instances\u001b[m=\u001b[4mJSON_INSTANCES\u001b[m | \u001b[1m--json-request\u001b[m=\u001b[4mJSON_REQUEST\u001b[m\n",
      "          | \u001b[1m--text-instances\u001b[m=\u001b[4mTEXT_INSTANCES\u001b[m) [\u001b[1m--framework\u001b[m=\u001b[4mFRAMEWORK\u001b[m]\n",
      "        [\u001b[1m--signature-name\u001b[m=\u001b[4mSIGNATURE_NAME\u001b[m] [\u001b[4mGCLOUD_WIDE_FLAG ...\u001b[m]\n",
      "\n",
      "\u001b[m\u001b[1mDESCRIPTION\u001b[m\n",
      "    \u001b[1mgcloud ai-platform local predict\u001b[m performs prediction locally with the given\n",
      "    instances. It requires the TensorFlow SDK\n",
      "    (https://www.tensorflow.org/install) be installed locally. The output\n",
      "    format mirrors \u001b[1mgcloud ai-platform predict\u001b[m (online prediction).\n",
      "\n",
      "    You cannot use this command with custom prediction routines.\n",
      "\n",
      "\u001b[m\u001b[1mREQUIRED FLAGS\u001b[m\n",
      "     \u001b[1m--model-dir\u001b[m=\u001b[4mMODEL_DIR\u001b[m\n",
      "        Path to the model.\n",
      "\n",
      "     Exactly one of these must be specified:\n",
      "\n",
      "       \u001b[1m--json-instances\u001b[m=\u001b[4mJSON_INSTANCES\u001b[m\n",
      "          Path to a local file from which instances are read. Instances are in\n",
      "          JSON format; newline delimited.\n",
      "\n",
      "          An example of the JSON instances file:\n",
      "\n",
      "              {\"images\": [0.0, ..., 0.1], \"key\": 3}\n",
      "              {\"images\": [0.0, ..., 0.1], \"key\": 2}\n",
      "              ...\n",
      "\n",
      "          This flag accepts \"-\" for stdin.\n",
      "\n",
      "       \u001b[1m--json-request\u001b[m=\u001b[4mJSON_REQUEST\u001b[m\n",
      "          Path to a local file containing the body of JSON request.\n",
      "\n",
      "          An example of a JSON request:\n",
      "\n",
      "              {\n",
      "                \"instances\": [\n",
      "                  {\"x\": [1, 2], \"y\": [3, 4]},\n",
      "                  {\"x\": [-1, -2], \"y\": [-3, -4]}\n",
      "                ]\n",
      "              }\n",
      "\n",
      "          This flag accepts \"-\" for stdin.\n",
      "\n",
      "       \u001b[1m--text-instances\u001b[m=\u001b[4mTEXT_INSTANCES\u001b[m\n",
      "          Path to a local file from which instances are read. Instances are in\n",
      "          UTF-8 encoded text format; newline delimited.\n",
      "\n",
      "          An example of the text instances file:\n",
      "\n",
      "              107,4.9,2.5,4.5,1.7\n",
      "              100,5.7,2.8,4.1,1.3\n",
      "              ...\n",
      "\n",
      "          This flag accepts \"-\" for stdin.\n",
      "\n",
      "\u001b[m\u001b[1mOPTIONAL FLAGS\u001b[m\n",
      "     \u001b[1m--framework\u001b[m=\u001b[4mFRAMEWORK\u001b[m\n",
      "        ML framework used to train this version of the model. If not specified,\n",
      "        defaults to 'tensorflow'. \u001b[4mFRAMEWORK\u001b[m must be one of: \u001b[1mscikit-learn\u001b[m,\n",
      "        \u001b[1mtensorflow\u001b[m, \u001b[1mxgboost\u001b[m.\n",
      "\n",
      "     \u001b[1m--signature-name\u001b[m=\u001b[4mSIGNATURE_NAME\u001b[m\n",
      "        Name of the signature defined in the SavedModel to use for this job.\n",
      "        Defaults to DEFAULT_SERVING_SIGNATURE_DEF_KEY in\n",
      "        https://www.tensorflow.org/api_docs/python/tf/compat/v1/saved_model/signature_constants,\n",
      "        which is \"serving_default\". Only applies to TensorFlow models.\n",
      "\n",
      "\u001b[m\u001b[1mGCLOUD WIDE FLAGS\u001b[m\n",
      "    These flags are available to all commands: --account, --billing-project,\n",
      "    --configuration, --flags-file, --flatten, --format, --help,\n",
      "    --impersonate-service-account, --log-http, --project, --quiet,\n",
      "    --trace-token, --user-output-enabled, --verbosity.\n",
      "\n",
      "    Run \u001b[1m$ gcloud help\u001b[m for details.\n",
      "\n",
      "\u001b[m\u001b[1mNOTES\u001b[m\n",
      "    These variants are also available:\n",
      "\n",
      "        $ gcloud alpha ai-platform local predict\n",
      "\n",
      "        $ gcloud beta ai-platform local predict\n",
      "\n",
      "\u001b[m"
     ]
    }
   ],
   "source": [
    "!gcloud ai-platform local predict --help"
   ]
  },
  {
   "cell_type": "code",
   "execution_count": 10,
   "id": "3b85f96a",
   "metadata": {
    "collapsed": true,
    "jupyter": {
     "outputs_hidden": true
    }
   },
   "outputs": [
    {
     "name": "stdout",
     "output_type": "stream",
     "text": [
      "WARNING:tensorflow:5 out of the last 5 calls to <function recreate_function.<locals>.restored_function_body at 0x7f34b2a6b8c0> triggered tf.function retracing. Tracing is expensive and the excessive number of tracings could be due to (1) creating @tf.function repeatedly in a loop, (2) passing tensors with different shapes, (3) passing Python objects instead of tensors. For (1), please define your @tf.function outside of the loop. For (2), @tf.function has experimental_relax_shapes=True option that relaxes argument shapes that can avoid unnecessary retracing. For (3), please refer to https://www.tensorflow.org/guide/function#controlling_retracing and https://www.tensorflow.org/api_docs/python/tf/function for  more details.\n",
      "WARNING:tensorflow:6 out of the last 6 calls to <function recreate_function.<locals>.restored_function_body at 0x7f34b2a054d0> triggered tf.function retracing. Tracing is expensive and the excessive number of tracings could be due to (1) creating @tf.function repeatedly in a loop, (2) passing tensors with different shapes, (3) passing Python objects instead of tensors. For (1), please define your @tf.function outside of the loop. For (2), @tf.function has experimental_relax_shapes=True option that relaxes argument shapes that can avoid unnecessary retracing. For (3), please refer to https://www.tensorflow.org/guide/function#controlling_retracing and https://www.tensorflow.org/api_docs/python/tf/function for  more details.\n",
      "WARNING:tensorflow:No training configuration found in save file, so the model was *not* compiled. Compile it manually.\n"
     ]
    },
    {
     "data": {
      "text/plain": [
       "<tensorflow.python.keras.saving.saved_model.load.ScaNN at 0x7f34cc65de10>"
      ]
     },
     "execution_count": 10,
     "metadata": {},
     "output_type": "execute_result"
    }
   ],
   "source": [
    "import tensorflow as tf\n",
    "import tensorflow_recommenders as tfrs\n",
    "\n",
    "model_dir=\"gs://mlteam-ml-specialization-2021-blackfriday/aiplatform_jobs/004_hptuning_ed_allfeatures/3/Scann\"\n",
    "\n",
    "model=tf.keras.models.load_model(model_dir)\n",
    "model"
   ]
  },
  {
   "cell_type": "code",
   "execution_count": 12,
   "id": "79b18db2",
   "metadata": {},
   "outputs": [
    {
     "data": {
      "text/plain": [
       "_SignatureMap({'serving_default': <ConcreteFunction signature_wrapper(*, City_Category, Marital_Status, Gender, Age, Stay_In_Current_City_Years, Occupation) at 0x7F34B2BC1F90>})"
      ]
     },
     "execution_count": 12,
     "metadata": {},
     "output_type": "execute_result"
    }
   ],
   "source": [
    "model.signatures"
   ]
  },
  {
   "cell_type": "code",
   "execution_count": 14,
   "id": "03e4221e",
   "metadata": {
    "collapsed": true,
    "jupyter": {
     "outputs_hidden": true
    }
   },
   "outputs": [
    {
     "name": "stdout",
     "output_type": "stream",
     "text": [
      "ERROR: (gcloud.ai-platform.local.predict) b'2021-05-31 12:57:07.471041: I tensorflow/stream_executor/platform/default/dso_loader.cc:49] Successfully opened dynamic library libcudart.so.11.0\n",
      "WARNING:tensorflow:From /opt/conda/lib/python3.7/site-packages/tensorflow/python/compat/v2_compat.py:96: disable_resource_variables (from tensorflow.python.ops.variable_scope) is deprecated and will be removed in a future version.\n",
      "Instructions for updating:\n",
      "non-resource variables are not supported in the long term\n",
      "2021-05-31 12:57:09.706238: I tensorflow/compiler/jit/xla_cpu_device.cc:41] Not creating XLA devices, tf_xla_enable_xla_devices not set\n",
      "2021-05-31 12:57:09.706591: W tensorflow/stream_executor/platform/default/dso_loader.cc:60] Could not load dynamic library 'libcuda.so.1'; dlerror: libcuda.so.1: cannot open shared object file: No such file or directory; LD_LIBRARY_PATH: /usr/local/cuda/lib64:/usr/local/nccl2/lib:/usr/local/cuda/extras/CUPTI/lib64\n",
      "2021-05-31 12:57:09.706668: W tensorflow/stream_executor/cuda/cuda_driver.cc:326] failed call to cuInit: UNKNOWN ERROR (303)\n",
      "2021-05-31 12:57:09.706704: I tensorflow/stream_executor/cuda/cuda_diagnostics.cc:156] kernel driver does not appear to be running on this host (blackfriday-tensorflow-2-3-20210407-151403): /proc/driver/nvidia/version does not exist\n",
      "2021-05-31 12:57:09.707547: I tensorflow/compiler/jit/xla_gpu_device.cc:99] Not creating XLA devices, tf_xla_enable_xla_devices not set\n",
      "WARNING:tensorflow:From /usr/lib/google-cloud-sdk/lib/third_party/ml_sdk/cloud/ml/prediction/frameworks/tf_prediction_lib.py:236: load (from tensorflow.python.saved_model.loader_impl) is deprecated and will be removed in a future version.\n",
      "Instructions for updating:\n",
      "This function will only be available through the v1 compatibility library as tf.compat.v1.saved_model.loader.load or tf.compat.v1.saved_model.load. There will be a new function for importing SavedModels in Tensorflow 2.0.\n",
      "WARNING:tensorflow:From /usr/lib/google-cloud-sdk/lib/third_party/ml_sdk/cloud/ml/prediction/frameworks/tf_prediction_lib.py:236: load (from tensorflow.python.saved_model.loader_impl) is deprecated and will be removed in a future version.\n",
      "Instructions for updating:\n",
      "This function will only be available through the v1 compatibility library as tf.compat.v1.saved_model.loader.load or tf.compat.v1.saved_model.load. There will be a new function for importing SavedModels in Tensorflow 2.0.\n",
      "ERROR:root:Failed to load the model due to bad model data. tags: ['serve']\n",
      "Traceback (most recent call last):\n",
      "  File \"/usr/lib/google-cloud-sdk/lib/third_party/ml_sdk/cloud/ml/prediction/frameworks/tf_prediction_lib.py\", line 236, in load_tf_model\n",
      "    session, tags=list(tags), export_dir=model_path)\n",
      "  File \"/opt/conda/lib/python3.7/site-packages/tensorflow/python/util/deprecation.py\", line 340, in new_func\n",
      "    return func(*args, **kwargs)\n",
      "  File \"/opt/conda/lib/python3.7/site-packages/tensorflow/python/saved_model/loader_impl.py\", line 300, in load\n",
      "    return loader.load(sess, tags, import_scope, **saver_kwargs)\n",
      "  File \"/opt/conda/lib/python3.7/site-packages/tensorflow/python/saved_model/loader_impl.py\", line 453, in load\n",
      "    **saver_kwargs)\n",
      "  File \"/opt/conda/lib/python3.7/site-packages/tensorflow/python/saved_model/loader_impl.py\", line 383, in load_graph\n",
      "    meta_graph_def, import_scope=import_scope, **saver_kwargs)\n",
      "  File \"/opt/conda/lib/python3.7/site-packages/tensorflow/python/training/saver.py\", line 1485, in _import_meta_graph_with_return_elements\n",
      "    **kwargs))\n",
      "  File \"/opt/conda/lib/python3.7/site-packages/tensorflow/python/framework/meta_graph.py\", line 804, in import_scoped_meta_graph_with_return_elements\n",
      "    return_elements=return_elements)\n",
      "  File \"/opt/conda/lib/python3.7/site-packages/tensorflow/python/util/deprecation.py\", line 538, in new_func\n",
      "    return func(*args, **kwargs)\n",
      "  File \"/opt/conda/lib/python3.7/site-packages/tensorflow/python/framework/importer.py\", line 405, in import_graph_def\n",
      "    producer_op_list=producer_op_list)\n",
      "  File \"/opt/conda/lib/python3.7/site-packages/tensorflow/python/framework/importer.py\", line 497, in _import_graph_def_internal\n",
      "    graph._c_graph, serialized, options)  # pylint: disable=protected-access\n",
      "tensorflow.python.framework.errors_impl.NotFoundError: Op type not registered 'Scann>ScannSearchBatched' in binary running on blackfriday-tensorflow-2-3-20210407-151403. Make sure the Op and Kernel are registered in the binary running in this process. Note that if you are loading a saved graph which used ops from tf.contrib, accessing (e.g.) `tf.contrib.resampler` should be done before importing the graph, as contrib ops are lazily registered when the module is first accessed.\n",
      "Traceback (most recent call last):\n",
      "  File \"/usr/lib/google-cloud-sdk/lib/third_party/ml_sdk/cloud/ml/prediction/frameworks/tf_prediction_lib.py\", line 236, in load_tf_model\n",
      "    session, tags=list(tags), export_dir=model_path)\n",
      "  File \"/opt/conda/lib/python3.7/site-packages/tensorflow/python/util/deprecation.py\", line 340, in new_func\n",
      "    return func(*args, **kwargs)\n",
      "  File \"/opt/conda/lib/python3.7/site-packages/tensorflow/python/saved_model/loader_impl.py\", line 300, in load\n",
      "    return loader.load(sess, tags, import_scope, **saver_kwargs)\n",
      "  File \"/opt/conda/lib/python3.7/site-packages/tensorflow/python/saved_model/loader_impl.py\", line 453, in load\n",
      "    **saver_kwargs)\n",
      "  File \"/opt/conda/lib/python3.7/site-packages/tensorflow/python/saved_model/loader_impl.py\", line 383, in load_graph\n",
      "    meta_graph_def, import_scope=import_scope, **saver_kwargs)\n",
      "  File \"/opt/conda/lib/python3.7/site-packages/tensorflow/python/training/saver.py\", line 1485, in _import_meta_graph_with_return_elements\n",
      "    **kwargs))\n",
      "  File \"/opt/conda/lib/python3.7/site-packages/tensorflow/python/framework/meta_graph.py\", line 804, in import_scoped_meta_graph_with_return_elements\n",
      "    return_elements=return_elements)\n",
      "  File \"/opt/conda/lib/python3.7/site-packages/tensorflow/python/util/deprecation.py\", line 538, in new_func\n",
      "    return func(*args, **kwargs)\n",
      "  File \"/opt/conda/lib/python3.7/site-packages/tensorflow/python/framework/importer.py\", line 405, in import_graph_def\n",
      "    producer_op_list=producer_op_list)\n",
      "  File \"/opt/conda/lib/python3.7/site-packages/tensorflow/python/framework/importer.py\", line 497, in _import_graph_def_internal\n",
      "    graph._c_graph, serialized, options)  # pylint: disable=protected-access\n",
      "tensorflow.python.framework.errors_impl.NotFoundError: Op type not registered 'Scann>ScannSearchBatched' in binary running on blackfriday-tensorflow-2-3-20210407-151403. Make sure the Op and Kernel are registered in the binary running in this process. Note that if you are loading a saved graph which used ops from tf.contrib, accessing (e.g.) `tf.contrib.resampler` should be done before importing the graph, as contrib ops are lazily registered when the module is first accessed.\n",
      "\n",
      "During handling of the above exception, another exception occurred:\n",
      "\n",
      "Traceback (most recent call last):\n",
      "  File \"/usr/lib/google-cloud-sdk/lib/googlecloudsdk/command_lib/ml_engine/local_predict.py\", line 184, in <module>\n",
      "    main()\n",
      "  File \"/usr/lib/google-cloud-sdk/lib/googlecloudsdk/command_lib/ml_engine/local_predict.py\", line 179, in main\n",
      "    signature_name=args.signature_name)\n",
      "  File \"/usr/lib/google-cloud-sdk/lib/third_party/ml_sdk/cloud/ml/prediction/prediction_lib.py\", line 98, in local_predict\n",
      "    client = create_client(framework, model_dir, **kwargs)\n",
      "  File \"/usr/lib/google-cloud-sdk/lib/third_party/ml_sdk/cloud/ml/prediction/prediction_lib.py\", line 91, in create_client\n",
      "    return create_client_fn(model_path, **kwargs)\n",
      "  File \"/usr/lib/google-cloud-sdk/lib/third_party/ml_sdk/cloud/ml/prediction/frameworks/tf_prediction_lib.py\", line 550, in create_tf_session_client\n",
      "    return SessionClient(*load_tf_model(model_dir, tags, config))\n",
      "  File \"/usr/lib/google-cloud-sdk/lib/third_party/ml_sdk/cloud/ml/prediction/frameworks/tf_prediction_lib.py\", line 242, in load_tf_model\n",
      "    \"%s\\n%s\" % (msg, str(e)))\n",
      "cloud.ml.prediction.prediction_utils.PredictionError: Failed to load model: Failed to load the model due to bad model data. tags: ['serve']\n",
      "Op type not registered 'Scann>ScannSearchBatched' in binary running on blackfriday-tensorflow-2-3-20210407-151403. Make sure the Op and Kernel are registered in the binary running in this process. Note that if you are loading a saved graph which used ops from tf.contrib, accessing (e.g.) `tf.contrib.resampler` should be done before importing the graph, as contrib ops are lazily registered when the module is first accessed. (Error code: 0)\n",
      "'\n"
     ]
    }
   ],
   "source": [
    "print(\"\"\"ERROR: (gcloud.ai-platform.local.predict) b'2021-05-31 12:57:07.471041: I tensorflow/stream_executor/platform/default/dso_loader.cc:49] Successfully opened dynamic library libcudart.so.11.0\\nWARNING:tensorflow:From /opt/conda/lib/python3.7/site-packages/tensorflow/python/compat/v2_compat.py:96: disable_resource_variables (from tensorflow.python.ops.variable_scope) is deprecated and will be removed in a future version.\\nInstructions for updating:\\nnon-resource variables are not supported in the long term\\n2021-05-31 12:57:09.706238: I tensorflow/compiler/jit/xla_cpu_device.cc:41] Not creating XLA devices, tf_xla_enable_xla_devices not set\\n2021-05-31 12:57:09.706591: W tensorflow/stream_executor/platform/default/dso_loader.cc:60] Could not load dynamic library \\'libcuda.so.1\\'; dlerror: libcuda.so.1: cannot open shared object file: No such file or directory; LD_LIBRARY_PATH: /usr/local/cuda/lib64:/usr/local/nccl2/lib:/usr/local/cuda/extras/CUPTI/lib64\\n2021-05-31 12:57:09.706668: W tensorflow/stream_executor/cuda/cuda_driver.cc:326] failed call to cuInit: UNKNOWN ERROR (303)\\n2021-05-31 12:57:09.706704: I tensorflow/stream_executor/cuda/cuda_diagnostics.cc:156] kernel driver does not appear to be running on this host (blackfriday-tensorflow-2-3-20210407-151403): /proc/driver/nvidia/version does not exist\\n2021-05-31 12:57:09.707547: I tensorflow/compiler/jit/xla_gpu_device.cc:99] Not creating XLA devices, tf_xla_enable_xla_devices not set\\nWARNING:tensorflow:From /usr/lib/google-cloud-sdk/lib/third_party/ml_sdk/cloud/ml/prediction/frameworks/tf_prediction_lib.py:236: load (from tensorflow.python.saved_model.loader_impl) is deprecated and will be removed in a future version.\\nInstructions for updating:\\nThis function will only be available through the v1 compatibility library as tf.compat.v1.saved_model.loader.load or tf.compat.v1.saved_model.load. There will be a new function for importing SavedModels in Tensorflow 2.0.\\nWARNING:tensorflow:From /usr/lib/google-cloud-sdk/lib/third_party/ml_sdk/cloud/ml/prediction/frameworks/tf_prediction_lib.py:236: load (from tensorflow.python.saved_model.loader_impl) is deprecated and will be removed in a future version.\\nInstructions for updating:\\nThis function will only be available through the v1 compatibility library as tf.compat.v1.saved_model.loader.load or tf.compat.v1.saved_model.load. There will be a new function for importing SavedModels in Tensorflow 2.0.\\nERROR:root:Failed to load the model due to bad model data. tags: [\\'serve\\']\\nTraceback (most recent call last):\\n  File \"/usr/lib/google-cloud-sdk/lib/third_party/ml_sdk/cloud/ml/prediction/frameworks/tf_prediction_lib.py\", line 236, in load_tf_model\\n    session, tags=list(tags), export_dir=model_path)\\n  File \"/opt/conda/lib/python3.7/site-packages/tensorflow/python/util/deprecation.py\", line 340, in new_func\\n    return func(*args, **kwargs)\\n  File \"/opt/conda/lib/python3.7/site-packages/tensorflow/python/saved_model/loader_impl.py\", line 300, in load\\n    return loader.load(sess, tags, import_scope, **saver_kwargs)\\n  File \"/opt/conda/lib/python3.7/site-packages/tensorflow/python/saved_model/loader_impl.py\", line 453, in load\\n    **saver_kwargs)\\n  File \"/opt/conda/lib/python3.7/site-packages/tensorflow/python/saved_model/loader_impl.py\", line 383, in load_graph\\n    meta_graph_def, import_scope=import_scope, **saver_kwargs)\\n  File \"/opt/conda/lib/python3.7/site-packages/tensorflow/python/training/saver.py\", line 1485, in _import_meta_graph_with_return_elements\\n    **kwargs))\\n  File \"/opt/conda/lib/python3.7/site-packages/tensorflow/python/framework/meta_graph.py\", line 804, in import_scoped_meta_graph_with_return_elements\\n    return_elements=return_elements)\\n  File \"/opt/conda/lib/python3.7/site-packages/tensorflow/python/util/deprecation.py\", line 538, in new_func\\n    return func(*args, **kwargs)\\n  File \"/opt/conda/lib/python3.7/site-packages/tensorflow/python/framework/importer.py\", line 405, in import_graph_def\\n    producer_op_list=producer_op_list)\\n  File \"/opt/conda/lib/python3.7/site-packages/tensorflow/python/framework/importer.py\", line 497, in _import_graph_def_internal\\n    graph._c_graph, serialized, options)  # pylint: disable=protected-access\\ntensorflow.python.framework.errors_impl.NotFoundError: Op type not registered \\'Scann>ScannSearchBatched\\' in binary running on blackfriday-tensorflow-2-3-20210407-151403. Make sure the Op and Kernel are registered in the binary running in this process. Note that if you are loading a saved graph which used ops from tf.contrib, accessing (e.g.) `tf.contrib.resampler` should be done before importing the graph, as contrib ops are lazily registered when the module is first accessed.\\nTraceback (most recent call last):\\n  File \"/usr/lib/google-cloud-sdk/lib/third_party/ml_sdk/cloud/ml/prediction/frameworks/tf_prediction_lib.py\", line 236, in load_tf_model\\n    session, tags=list(tags), export_dir=model_path)\\n  File \"/opt/conda/lib/python3.7/site-packages/tensorflow/python/util/deprecation.py\", line 340, in new_func\\n    return func(*args, **kwargs)\\n  File \"/opt/conda/lib/python3.7/site-packages/tensorflow/python/saved_model/loader_impl.py\", line 300, in load\\n    return loader.load(sess, tags, import_scope, **saver_kwargs)\\n  File \"/opt/conda/lib/python3.7/site-packages/tensorflow/python/saved_model/loader_impl.py\", line 453, in load\\n    **saver_kwargs)\\n  File \"/opt/conda/lib/python3.7/site-packages/tensorflow/python/saved_model/loader_impl.py\", line 383, in load_graph\\n    meta_graph_def, import_scope=import_scope, **saver_kwargs)\\n  File \"/opt/conda/lib/python3.7/site-packages/tensorflow/python/training/saver.py\", line 1485, in _import_meta_graph_with_return_elements\\n    **kwargs))\\n  File \"/opt/conda/lib/python3.7/site-packages/tensorflow/python/framework/meta_graph.py\", line 804, in import_scoped_meta_graph_with_return_elements\\n    return_elements=return_elements)\\n  File \"/opt/conda/lib/python3.7/site-packages/tensorflow/python/util/deprecation.py\", line 538, in new_func\\n    return func(*args, **kwargs)\\n  File \"/opt/conda/lib/python3.7/site-packages/tensorflow/python/framework/importer.py\", line 405, in import_graph_def\\n    producer_op_list=producer_op_list)\\n  File \"/opt/conda/lib/python3.7/site-packages/tensorflow/python/framework/importer.py\", line 497, in _import_graph_def_internal\\n    graph._c_graph, serialized, options)  # pylint: disable=protected-access\\ntensorflow.python.framework.errors_impl.NotFoundError: Op type not registered \\'Scann>ScannSearchBatched\\' in binary running on blackfriday-tensorflow-2-3-20210407-151403. Make sure the Op and Kernel are registered in the binary running in this process. Note that if you are loading a saved graph which used ops from tf.contrib, accessing (e.g.) `tf.contrib.resampler` should be done before importing the graph, as contrib ops are lazily registered when the module is first accessed.\\n\\nDuring handling of the above exception, another exception occurred:\\n\\nTraceback (most recent call last):\\n  File \"/usr/lib/google-cloud-sdk/lib/googlecloudsdk/command_lib/ml_engine/local_predict.py\", line 184, in <module>\\n    main()\\n  File \"/usr/lib/google-cloud-sdk/lib/googlecloudsdk/command_lib/ml_engine/local_predict.py\", line 179, in main\\n    signature_name=args.signature_name)\\n  File \"/usr/lib/google-cloud-sdk/lib/third_party/ml_sdk/cloud/ml/prediction/prediction_lib.py\", line 98, in local_predict\\n    client = create_client(framework, model_dir, **kwargs)\\n  File \"/usr/lib/google-cloud-sdk/lib/third_party/ml_sdk/cloud/ml/prediction/prediction_lib.py\", line 91, in create_client\\n    return create_client_fn(model_path, **kwargs)\\n  File \"/usr/lib/google-cloud-sdk/lib/third_party/ml_sdk/cloud/ml/prediction/frameworks/tf_prediction_lib.py\", line 550, in create_tf_session_client\\n    return SessionClient(*load_tf_model(model_dir, tags, config))\\n  File \"/usr/lib/google-cloud-sdk/lib/third_party/ml_sdk/cloud/ml/prediction/frameworks/tf_prediction_lib.py\", line 242, in load_tf_model\\n    \"%s\\\\n%s\" % (msg, str(e)))\\ncloud.ml.prediction.prediction_utils.PredictionError: Failed to load model: Failed to load the model due to bad model data. tags: [\\'serve\\']\\nOp type not registered \\'Scann>ScannSearchBatched\\' in binary running on blackfriday-tensorflow-2-3-20210407-151403. Make sure the Op and Kernel are registered in the binary running in this process. Note that if you are loading a saved graph which used ops from tf.contrib, accessing (e.g.) `tf.contrib.resampler` should be done before importing the graph, as contrib ops are lazily registered when the module is first accessed. (Error code: 0)\\n'\"\"\")"
   ]
  },
  {
   "cell_type": "markdown",
   "id": "43bb3e2e",
   "metadata": {},
   "source": [
    "# new approach\n",
    "Tutorials:  \n",
    "https://github.com/google-research/google-research/tree/master/scann/tf_serving  \n",
    "https://www.tensorflow.org/tfx/serving/docker#developing_with_docker  \n",
    "https://cloud.google.com/ai-platform/prediction/docs/use-custom-container  "
   ]
  },
  {
   "cell_type": "markdown",
   "id": "541d3982",
   "metadata": {},
   "source": [
    "## (execute the following cells in terminals)"
   ]
  },
  {
   "cell_type": "markdown",
   "id": "8405ff8f",
   "metadata": {},
   "source": [
    "### making it work locally"
   ]
  },
  {
   "cell_type": "code",
   "execution_count": null,
   "id": "701b8027",
   "metadata": {},
   "outputs": [],
   "source": [
    "%% bash\n",
    "cd /tmp/Scann\n",
    "gsutil -m cp -r gs://mlteam-ml-specialization-2021-blackfriday/aiplatform_jobs/010_hptuning_input_l1/1/Scann .\n",
    "mv Scann 01\n",
    "cd .."
   ]
  },
  {
   "cell_type": "code",
   "execution_count": null,
   "id": "edb98d37",
   "metadata": {},
   "outputs": [],
   "source": [
    "!docker pull google/tf-serving-scann"
   ]
  },
  {
   "cell_type": "code",
   "execution_count": null,
   "id": "7b0a8701",
   "metadata": {},
   "outputs": [],
   "source": [
    "%%bash\n",
    "!docker run -t --rm -p 8501:8501 \\\n",
    "    -v \"$(pwd)/Scann:/models/Scann\" \\\n",
    "    -e MODEL_NAME=Scann \\\n",
    "    google/tf-serving-scann"
   ]
  },
  {
   "cell_type": "code",
   "execution_count": null,
   "id": "919c52dd",
   "metadata": {},
   "outputs": [],
   "source": [
    "curl -d '{\"instances\": [{\"Gender\":\"M\", \"Age\":\"26-35\", \"Occupation\":\"0\", \"City_Category\":\"B\", \"Stay_In_Current_City_Years\":\"4+\", \"Marital_Status\":\"0\"}]}' \\\n",
    "    -X POST http://localhost:8501/v1/models/Scann:predict"
   ]
  },
  {
   "cell_type": "code",
   "execution_count": null,
   "id": "e74ecaec",
   "metadata": {},
   "outputs": [],
   "source": [
    "curl -X GET http://localhost:8501/v1/models/Scann"
   ]
  },
  {
   "cell_type": "code",
   "execution_count": null,
   "id": "136d506b",
   "metadata": {},
   "outputs": [],
   "source": []
  },
  {
   "cell_type": "markdown",
   "id": "82d5fdee",
   "metadata": {},
   "source": [
    "### creating a custom image"
   ]
  },
  {
   "cell_type": "code",
   "execution_count": null,
   "id": "aa60d40c",
   "metadata": {},
   "outputs": [],
   "source": [
    "%%bash\n",
    "\n",
    "docker run -d --name serving_base google/tf-serving-scann\n",
    "docker cp Scann serving_base:/models/Scann\n",
    "docker commit --change \"ENV MODEL_NAME Scann\" serving_base scann000\n",
    "docker kill serving_base"
   ]
  },
  {
   "cell_type": "code",
   "execution_count": null,
   "id": "11b64f5d",
   "metadata": {},
   "outputs": [],
   "source": [
    "docker run -t --rm -p 8501:8501 scann000"
   ]
  },
  {
   "cell_type": "markdown",
   "id": "914154ba",
   "metadata": {},
   "source": [
    "### pushing the image to Artifact Registry "
   ]
  },
  {
   "cell_type": "code",
   "execution_count": null,
   "id": "fe97c9c5",
   "metadata": {},
   "outputs": [],
   "source": [
    "%%bash\n",
    "\n",
    "gcloud auth configure-docker \\\n",
    "    europe-west1-docker.pkg.dev"
   ]
  },
  {
   "cell_type": "code",
   "execution_count": null,
   "id": "4f3be82e",
   "metadata": {},
   "outputs": [],
   "source": [
    "%%bash\n",
    "docker tag scann000 europe-west1-docker.pkg.dev/mlteam-ml-specialization-2021/scann-europe-west1/scann000\n",
    "docker push europe-west1-docker.pkg.dev/mlteam-ml-specialization-2021/scann-europe-west1/scann000"
   ]
  },
  {
   "cell_type": "markdown",
   "id": "dd844b17",
   "metadata": {},
   "source": [
    "### deploy the image to ai platform prediction"
   ]
  },
  {
   "cell_type": "code",
   "execution_count": null,
   "id": "73106ab0",
   "metadata": {},
   "outputs": [],
   "source": [
    "gcloud ai-platform models create scann --region=europe-west1  --enable-logging"
   ]
  },
  {
   "cell_type": "code",
   "execution_count": null,
   "id": "880a180f",
   "metadata": {},
   "outputs": [],
   "source": [
    "gcloud beta ai-platform versions create scann000 \\\n",
    "  --region=europe-west1 \\\n",
    "  --model=scann \\\n",
    "  --machine-type=n1-standard-4 \\\n",
    "  --image=europe-west1-docker.pkg.dev/mlteam-ml-specialization-2021/scann-europe-west1/scann000 \\\n",
    "  --ports=8501 \\\n",
    "  --health-route=/v1/models/Scann \\\n",
    "  --predict-route=/v1/models/Scann:predict"
   ]
  },
  {
   "cell_type": "code",
   "execution_count": null,
   "id": "35079d61",
   "metadata": {},
   "outputs": [],
   "source": [
    "curl -d '{\"instances\": [{\"Gender\":\"M\", \"Age\":\"26-35\", \"Occupation\":\"0\", \"City_Category\":\"B\", \"Stay_In_Current_City_Years\":\"4+\", \"Marital_Status\":\"0\"}]}' \\\n",
    "    -X POST https://ml.googleapis.com/v1/projects/mlteam-ml-specialization-2021/models/scann:predict"
   ]
  },
  {
   "cell_type": "markdown",
   "id": "52ead9e1",
   "metadata": {},
   "source": [
    "# the authentication problem\n",
    "https://developers.google.com/identity/sign-in/web/devconsole-project  \n",
    "https://stackoverflow.com/questions/44087267/google-api-machine-learning-can-i-use-an-api-key  \n",
    "actual solution:  \n",
    "https://stackoverflow.com/questions/57920885/exposing-api-endpoints-for-ai-application-deployed-on-google-ai-platform"
   ]
  },
  {
   "cell_type": "code",
   "execution_count": 2,
   "id": "819a050c",
   "metadata": {},
   "outputs": [
    {
     "name": "stdout",
     "output_type": "stream",
     "text": [
      "{\n",
      "  \"error\": {\n",
      "    \"code\": 404,\n",
      "    \"message\": \"Field: name Error: The model resource: \\\"scann\\\" was not found. Please create the model resource first by using 'gcloud ai-platform models create scann'.\",\n",
      "    \"status\": \"NOT_FOUND\",\n",
      "    \"details\": [\n",
      "      {\n",
      "        \"@type\": \"type.googleapis.com/google.rpc.BadRequest\",\n",
      "        \"fieldViolations\": [\n",
      "          {\n",
      "            \"field\": \"name\",\n",
      "            \"description\": \"The model resource: \\\"scann\\\" was not found. Please create the model resource first by using 'gcloud ai-platform models create scann'.\"\n",
      "          }\n",
      "        ]\n",
      "      }\n",
      "    ]\n",
      "  }\n",
      "}\n"
     ]
    },
    {
     "name": "stderr",
     "output_type": "stream",
     "text": [
      "  % Total    % Received % Xferd  Average Speed   Time    Time     Time  Current\n",
      "                                 Dload  Upload   Total   Spent    Left  Speed\n",
      "100   736    0   594  100   142   1682    402 --:--:-- --:--:-- --:--:--  2084\n"
     ]
    }
   ],
   "source": [
    "%%bash\n",
    "curl -d '{\"instances\": [{\"Gender\":\"M\", \"Age\":\"26-35\", \"Occupation\":\"0\", \"City_Category\":\"B\", \"Stay_In_Current_City_Years\":\"4+\", \"Marital_Status\":\"0\"}]}' \\\n",
    "    -X POST https://ml.googleapis.com/v1/projects/mlteam-ml-specialization-2021/models/scann:predict?access_token\\=\"$(gcloud auth application-default print-access-token)\""
   ]
  },
  {
   "cell_type": "code",
   "execution_count": 3,
   "id": "938b649d",
   "metadata": {},
   "outputs": [
    {
     "name": "stdout",
     "output_type": "stream",
     "text": [
      "{\n",
      "  \"error\": {\n",
      "    \"code\": 404,\n",
      "    \"message\": \"Field: name Error: The model resource: \\\"Scann\\\" was not found. Please create the model resource first by using 'gcloud ai-platform models create Scann'.\",\n",
      "    \"status\": \"NOT_FOUND\",\n",
      "    \"details\": [\n",
      "      {\n",
      "        \"@type\": \"type.googleapis.com/google.rpc.BadRequest\",\n",
      "        \"fieldViolations\": [\n",
      "          {\n",
      "            \"field\": \"name\",\n",
      "            \"description\": \"The model resource: \\\"Scann\\\" was not found. Please create the model resource first by using 'gcloud ai-platform models create Scann'.\"\n",
      "          }\n",
      "        ]\n",
      "      }\n",
      "    ]\n",
      "  }\n",
      "}\n"
     ]
    },
    {
     "name": "stderr",
     "output_type": "stream",
     "text": [
      "  % Total    % Received % Xferd  Average Speed   Time    Time     Time  Current\n",
      "                                 Dload  Upload   Total   Spent    Left  Speed\n",
      "100   736    0   594  100   142   3494    835 --:--:-- --:--:-- --:--:--  4329\n"
     ]
    }
   ],
   "source": [
    "%%bash\n",
    "curl -d '{\"instances\": [{\"Gender\":\"M\", \"Age\":\"26-35\", \"Occupation\":\"0\", \"City_Category\":\"B\", \"Stay_In_Current_City_Years\":\"4+\", \"Marital_Status\":\"0\"}]}' \\\n",
    "    -X POST https://ml.googleapis.com/v1/projects/mlteam-ml-specialization-2021/models/Scann:predict?access_token\\=\"$(gcloud auth application-default print-access-token)\""
   ]
  },
  {
   "cell_type": "code",
   "execution_count": 5,
   "id": "191a63f9",
   "metadata": {},
   "outputs": [
    {
     "name": "stdout",
     "output_type": "stream",
     "text": [
      "{\n",
      "    \"predictions\": [\n",
      "        {\n",
      "            \"output_1\": [0.937263846, 0.924041152, 0.872271657, 0.871285796, 0.87125057, 0.86795187, 0.866047502, 0.842976332, 0.842624664, 0.825717509, 0.825325847, 0.821267, 0.816030681, 0.809625268, 0.805201411, 0.797974706, 0.797350764, 0.793394089, 0.791071653, 0.787898779, 0.787692547, 0.787005603, 0.779338598, 0.77842164, 0.769388616, 0.761679173, 0.760950625, 0.760541737, 0.752021194, 0.749808073, 0.7496593, 0.746087849, 0.744041, 0.739644289, 0.73532474, 0.729165137, 0.720877171, 0.717605352, 0.713925123, 0.712499261, 0.711719155, 0.707999766, 0.7072016, 0.696277797, 0.693609178, 0.689571261, 0.68726784, 0.686388075, 0.6775226, 0.675969958, 0.671759307, 0.670863152, 0.666139245, 0.664369345, 0.660562456, 0.660310626, 0.657311082, 0.649680257, 0.646418691, 0.638485193, 0.636289239, 0.634679675, 0.631946445, 0.630887508, 0.625481665, 0.625257134, 0.621556818, 0.620882034, 0.617762446, 0.617317557, 0.617015958, 0.616082728, 0.615643, 0.615569353, 0.615083, 0.614407241, 0.611667, 0.61078769, 0.609893918, 0.608649194, 0.60788846, 0.607173085, 0.606650233, 0.603790045, 0.60264641, 0.602441788, 0.596636713, 0.596595407, 0.596157491, 0.596106291, 0.594491601, 0.593300819, 0.593274593, 0.592963815, 0.591172338, 0.59102881, 0.590012789, 0.58891654, 0.588911712, 0.588863909],\n",
      "            \"output_2\": [\"P00142742\", \"P00015442\", \"P00132442\", \"P00077842\", \"P00282842\", \"P0094042\", \"P00219542\", \"P00150442\", \"P00043642\", \"P00179542\", \"P00308142\", \"P00347542\", \"P00029142\", \"P00344942\", \"P00032142\", \"P00007142\", \"P00078242\", \"P00365342\", \"P00263642\", \"P00221142\", \"P00210542\", \"P00015742\", \"P00082542\", \"P00147442\", \"P00044542\", \"P00050942\", \"P00108142\", \"P00337742\", \"P00154342\", \"P00218742\", \"P00129142\", \"P00046542\", \"P00179842\", \"P00122642\", \"P00053542\", \"P00198442\", \"P00188042\", \"P00300442\", \"P00038242\", \"P00174642\", \"P00171242\", \"P00311242\", \"P00106142\", \"P00028342\", \"P00147642\", \"P00323142\", \"P00279142\", \"P00125542\", \"P00016942\", \"P00022242\", \"P00366142\", \"P00263242\", \"P00339742\", \"P00269742\", \"P00181042\", \"P00369542\", \"P00223342\", \"P00276042\", \"P00265842\", \"P00213342\", \"P0093942\", \"P00124542\", \"P00281642\", \"P00040642\", \"P0098142\", \"P00351742\", \"P00133642\", \"P00270642\", \"P00135842\", \"P00280842\", \"P0099642\", \"P00060242\", \"P00168042\", \"P00017342\", \"P00137042\", \"P00004442\", \"P00300242\", \"P0098642\", \"P00194842\", \"P00121542\", \"P00037542\", \"P00039342\", \"P0099142\", \"P00016142\", \"P00298942\", \"P00183742\", \"P00135942\", \"P00082442\", \"P00146942\", \"P00160442\", \"P00344742\", \"P0098542\", \"P00038442\", \"P00330142\", \"P00187542\", \"P00008742\", \"P00329342\", \"P00142342\", \"P00305342\", \"P00112042\"]\n",
      "        }\n",
      "    ]\n",
      "}"
     ]
    },
    {
     "name": "stderr",
     "output_type": "stream",
     "text": [
      "  % Total    % Received % Xferd  Average Speed   Time    Time     Time  Current\n",
      "                                 Dload  Upload   Total   Spent    Left  Speed\n",
      "100  2805    0  2663  100   142  11783    628 --:--:-- --:--:-- --:--:-- 12411\n"
     ]
    }
   ],
   "source": [
    "%%bash\n",
    "curl -d '{\"instances\": [{\"Gender\":\"M\", \"Age\":\"26-35\", \"Occupation\":\"0\", \"City_Category\":\"B\", \"Stay_In_Current_City_Years\":\"4+\", \"Marital_Status\":\"0\"}]}' \\\n",
    "    -X POST https://europe-west1-ml.googleapis.com/v1/projects/mlteam-ml-specialization-2021/models/scann:predict?access_token\\=\"$(gcloud auth application-default print-access-token)\""
   ]
  },
  {
   "cell_type": "code",
   "execution_count": null,
   "id": "b398adbe",
   "metadata": {},
   "outputs": [],
   "source": []
  }
 ],
 "metadata": {
  "environment": {
   "name": "tf2-gpu.2-3.m65",
   "type": "gcloud",
   "uri": "gcr.io/deeplearning-platform-release/tf2-gpu.2-3:m65"
  },
  "kernelspec": {
   "display_name": "Python 3",
   "language": "python",
   "name": "python3"
  },
  "language_info": {
   "codemirror_mode": {
    "name": "ipython",
    "version": 3
   },
   "file_extension": ".py",
   "mimetype": "text/x-python",
   "name": "python",
   "nbconvert_exporter": "python",
   "pygments_lexer": "ipython3",
   "version": "3.7.10"
  }
 },
 "nbformat": 4,
 "nbformat_minor": 5
}
