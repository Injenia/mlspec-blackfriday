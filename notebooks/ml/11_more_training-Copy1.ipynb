{
 "cells": [
  {
   "cell_type": "markdown",
   "id": "aad61e07",
   "metadata": {},
   "source": [
    "# checkpoint loading"
   ]
  },
  {
   "cell_type": "code",
   "execution_count": 5,
   "id": "81ffcac8",
   "metadata": {},
   "outputs": [],
   "source": [
    "import tensorflow as tf\n",
    "import tensorflow_recommenders as tfrs\n",
    "\n",
    "import os, sys\n",
    "sys.path.append( os.path.join('..', '..') )\n",
    "\n",
    "from trainer import model, util"
   ]
  },
  {
   "cell_type": "code",
   "execution_count": 34,
   "id": "254021c0",
   "metadata": {},
   "outputs": [
    {
     "name": "stdout",
     "output_type": "stream",
     "text": [
      "WARNING:tensorflow:Layers in a Sequential model should only have a single input tensor, but we receive a <class 'dict'> input: {'Product_ID': <tf.Tensor 'args_1:0' shape=(None,) dtype=string>, 'Product_Category_1': <tf.Tensor 'args_0:0' shape=(None,) dtype=string>}\n",
      "Consider rewriting this model with the Functional API.\n"
     ]
    },
    {
     "name": "stderr",
     "output_type": "stream",
     "text": [
      "WARNING:tensorflow:Layers in a Sequential model should only have a single input tensor, but we receive a <class 'dict'> input: {'Product_ID': <tf.Tensor 'args_1:0' shape=(None,) dtype=string>, 'Product_Category_1': <tf.Tensor 'args_0:0' shape=(None,) dtype=string>}\n",
      "Consider rewriting this model with the Functional API.\n"
     ]
    }
   ],
   "source": [
    "model_dir=\"gs://mlteam-ml-specialization-2021-blackfriday/aiplatform_jobs/012_hptuning_deep/1\"\n",
    "\n",
    "batch_size=30000\n",
    "\n",
    "data_mng = util.DataManager(\n",
    "    train_path=\"gs://mlteam-ml-specialization-2021-blackfriday/dataset/parsed/202104130952/train.csv\", \n",
    "    test_path=\"gs://mlteam-ml-specialization-2021-blackfriday/dataset/parsed/202104130952/test/evalset.csv\", \n",
    "    user_features=[\"Gender\", \"Age\", \"Occupation\", \"City_Category\", \"Stay_In_Current_City_Years\", \"Marital_Status\"], \n",
    "    product_id_col_name=[\"Product_ID\", \"Product_Category_1\"],\n",
    "    train_batch_size = batch_size, \n",
    "    test_batch_size = batch_size,    \n",
    "    shuffle_buffer_size = batch_size, \n",
    "    cache_test_set = False\n",
    ")\n",
    "\n",
    "bf_model = model.create_bf_model(\n",
    "    user_features=data_mng.user_unique_values,\n",
    "    product_features=data_mng.product_unique_values,\n",
    "    embedding_dim=128,\n",
    "    learning_rate=0.01,\n",
    "    topk_candidates=data_mng.tf_product_unique_records,\n",
    "    topk_metric_batch_size=batch_size,\n",
    "    user_layers=[512, 256, 128],\n",
    "    product_layers=[512, 256, 128],\n",
    "    user_input_embedding_dim=16,\n",
    "    user_input_embedding_l1=0.0,\n",
    "    user_input_embedding_l2=0.0,\n",
    "    product_input_embedding_dim=128,\n",
    "    product_input_embedding_l1=0.0,\n",
    "    product_input_embedding_l2=0.0,\n",
    "    temperature=1\n",
    ")"
   ]
  },
  {
   "cell_type": "code",
   "execution_count": 35,
   "id": "91c4eb1a",
   "metadata": {},
   "outputs": [
    {
     "data": {
      "text/plain": [
       "0"
      ]
     },
     "execution_count": 35,
     "metadata": {},
     "output_type": "execute_result"
    }
   ],
   "source": [
    "bf_model.optimizer.iterations.numpy()"
   ]
  },
  {
   "cell_type": "code",
   "execution_count": 36,
   "id": "55bcacb4",
   "metadata": {},
   "outputs": [
    {
     "data": {
      "text/plain": [
       "'gs://mlteam-ml-specialization-2021-blackfriday/aiplatform_jobs/012_hptuning_deep/1/model_checkpoints'"
      ]
     },
     "execution_count": 36,
     "metadata": {},
     "output_type": "execute_result"
    }
   ],
   "source": [
    "latest = tf.train.latest_checkpoint(model_dir)\n",
    "latest"
   ]
  },
  {
   "cell_type": "code",
   "execution_count": 37,
   "id": "058cac11",
   "metadata": {},
   "outputs": [
    {
     "data": {
      "text/plain": [
       "<tensorflow.python.training.tracking.util.CheckpointLoadStatus at 0x7fbb82d2b810>"
      ]
     },
     "execution_count": 37,
     "metadata": {},
     "output_type": "execute_result"
    }
   ],
   "source": [
    "bf_model.load_weights(latest)"
   ]
  },
  {
   "cell_type": "code",
   "execution_count": 38,
   "id": "90b59e25",
   "metadata": {},
   "outputs": [
    {
     "data": {
      "text/plain": [
       "1500"
      ]
     },
     "execution_count": 38,
     "metadata": {},
     "output_type": "execute_result"
    }
   ],
   "source": [
    "bf_model.optimizer.iterations.numpy()"
   ]
  },
  {
   "cell_type": "code",
   "execution_count": 14,
   "id": "984e1b3e",
   "metadata": {},
   "outputs": [
    {
     "data": {
      "text/plain": [
       "True"
      ]
     },
     "execution_count": 14,
     "metadata": {},
     "output_type": "execute_result"
    }
   ],
   "source": [
    "tf.train.latest_checkpoint(model_dir+\"/model_checkpoints\") is None"
   ]
  },
  {
   "cell_type": "markdown",
   "id": "20b61a93",
   "metadata": {},
   "source": [
    "# resuming a previous training"
   ]
  },
  {
   "cell_type": "code",
   "execution_count": 41,
   "id": "0d0397e5",
   "metadata": {},
   "outputs": [
    {
     "name": "stdout",
     "output_type": "stream",
     "text": [
      "Copying gs://mlteam-ml-specialization-2021-blackfriday/aiplatform_jobs/012_hptuning_deep/1/Scann/variables/variables.data-00000-of-00001...\n",
      "Copying gs://mlteam-ml-specialization-2021-blackfriday/aiplatform_jobs/012_hptuning_deep/1/Scann/variables/variables.index...\n",
      "Copying gs://mlteam-ml-specialization-2021-blackfriday/aiplatform_jobs/012_hptuning_deep/1/candidate/variables/variables.index...\n",
      "Copying gs://mlteam-ml-specialization-2021-blackfriday/aiplatform_jobs/012_hptuning_deep/1/Scann/saved_model.pb...\n",
      "Copying gs://mlteam-ml-specialization-2021-blackfriday/aiplatform_jobs/012_hptuning_deep/1/candidate/variables/variables.data-00000-of-00001...\n",
      "Copying gs://mlteam-ml-specialization-2021-blackfriday/aiplatform_jobs/012_hptuning_deep/1/candidate/saved_model.pb...\n",
      "Copying gs://mlteam-ml-specialization-2021-blackfriday/aiplatform_jobs/012_hptuning_deep/1/checkpoint...\n",
      "Copying gs://mlteam-ml-specialization-2021-blackfriday/aiplatform_jobs/012_hptuning_deep/1/model_checkpoints.data-00000-of-00001...\n",
      "Copying gs://mlteam-ml-specialization-2021-blackfriday/aiplatform_jobs/012_hptuning_deep/1/model_checkpoints.index...\n",
      "Copying gs://mlteam-ml-specialization-2021-blackfriday/aiplatform_jobs/012_hptuning_deep/1/params.json...\n",
      "Copying gs://mlteam-ml-specialization-2021-blackfriday/aiplatform_jobs/012_hptuning_deep/1/train/events.out.tfevents.1622812818.cmle-training-15391287979773683023.389.566.v2...\n",
      "Copying gs://mlteam-ml-specialization-2021-blackfriday/aiplatform_jobs/012_hptuning_deep/1/train/events.out.tfevents.1622812849.cmle-training-15391287979773683023.profile-empty...\n",
      "Copying gs://mlteam-ml-specialization-2021-blackfriday/aiplatform_jobs/012_hptuning_deep/1/train/plugins/profile/2021_06_04_13_20_49/cmle-training-15391287979773683023.kernel_stats.pb...\n",
      "Copying gs://mlteam-ml-specialization-2021-blackfriday/aiplatform_jobs/012_hptuning_deep/1/train/plugins/profile/2021_06_04_13_20_49/cmle-training-15391287979773683023.input_pipeline.pb...\n",
      "Copying gs://mlteam-ml-specialization-2021-blackfriday/aiplatform_jobs/012_hptuning_deep/1/train/plugins/profile/2021_06_04_13_20_49/cmle-training-15391287979773683023.memory_profile.json.gz...\n",
      "Copying gs://mlteam-ml-specialization-2021-blackfriday/aiplatform_jobs/012_hptuning_deep/1/train/plugins/profile/2021_06_04_13_20_49/cmle-training-15391287979773683023.overview_page.pb...\n",
      "Copying gs://mlteam-ml-specialization-2021-blackfriday/aiplatform_jobs/012_hptuning_deep/1/train/plugins/profile/2021_06_04_13_20_49/cmle-training-15391287979773683023.tensorflow_stats.pb...\n",
      "Copying gs://mlteam-ml-specialization-2021-blackfriday/aiplatform_jobs/012_hptuning_deep/1/train/plugins/profile/2021_06_04_13_20_49/cmle-training-15391287979773683023.trace.json.gz...\n",
      "Copying gs://mlteam-ml-specialization-2021-blackfriday/aiplatform_jobs/012_hptuning_deep/1/user/saved_model.pb...\n",
      "Copying gs://mlteam-ml-specialization-2021-blackfriday/aiplatform_jobs/012_hptuning_deep/1/train/plugins/profile/2021_06_04_13_20_49/cmle-training-15391287979773683023.xplane.pb...\n",
      "Copying gs://mlteam-ml-specialization-2021-blackfriday/aiplatform_jobs/012_hptuning_deep/1/user/variables/variables.data-00000-of-00001...\n",
      "Copying gs://mlteam-ml-specialization-2021-blackfriday/aiplatform_jobs/012_hptuning_deep/1/user/variables/variables.index...\n",
      "Copying gs://mlteam-ml-specialization-2021-blackfriday/aiplatform_jobs/012_hptuning_deep/1/validation/events.out.tfevents.1622812857.cmle-training-15391287979773683023.389.2454.v2...\n",
      "/ [23/38 files][ 22.2 MiB/ 22.2 MiB]  99% Done                                  \r"
     ]
    }
   ],
   "source": [
    "!gsutil -m cp -r gs://mlteam-ml-specialization-2021-blackfriday/aiplatform_jobs/012_hptuning_deep/1 gs://mlteam-ml-specialization-2021-blackfriday/tmp/012_hptuning_deep/"
   ]
  },
  {
   "cell_type": "code",
   "execution_count": 7,
   "id": "484fd6e2",
   "metadata": {},
   "outputs": [],
   "source": [
    "import tensorflow as tf\n",
    "import os"
   ]
  },
  {
   "cell_type": "code",
   "execution_count": 10,
   "id": "3a9077da",
   "metadata": {},
   "outputs": [],
   "source": [
    "p=\"gs://mlteam-ml-specialization-2021-blackfriday/aiplatform_jobs/021_longer_product_id_and_even_more_categories/1/train\"\n",
    "# gs://mlteam-ml-specialization-2021-blackfriday/aiplatform_jobs/021_longer_product_id_and_even_more_categories\n",
    "eventsfile=None\n",
    "eventsfiles=[os.path.join(p,x) for x in tf.io.gfile.listdir(p) if x.startswith(\"events\")]"
   ]
  },
  {
   "cell_type": "code",
   "execution_count": 11,
   "id": "864a66a4",
   "metadata": {},
   "outputs": [
    {
     "data": {
      "text/plain": [
       "['gs://mlteam-ml-specialization-2021-blackfriday/aiplatform_jobs/021_longer_product_id_and_even_more_categories/1/train/events.out.tfevents.1623923918.cmle-training-6009423449056039176.390.621.v2',\n",
       " 'gs://mlteam-ml-specialization-2021-blackfriday/aiplatform_jobs/021_longer_product_id_and_even_more_categories/1/train/events.out.tfevents.1623923950.cmle-training-6009423449056039176.profile-empty',\n",
       " 'gs://mlteam-ml-specialization-2021-blackfriday/aiplatform_jobs/021_longer_product_id_and_even_more_categories/1/train/events.out.tfevents.1624350167.cmle-training-671492692566482888.390.771.v2',\n",
       " 'gs://mlteam-ml-specialization-2021-blackfriday/aiplatform_jobs/021_longer_product_id_and_even_more_categories/1/train/events.out.tfevents.1624539337.cmle-training-11725472450687410863.389.771.v2']"
      ]
     },
     "execution_count": 11,
     "metadata": {},
     "output_type": "execute_result"
    }
   ],
   "source": [
    "eventsfiles"
   ]
  },
  {
   "cell_type": "code",
   "execution_count": 15,
   "id": "f24c9bab",
   "metadata": {},
   "outputs": [
    {
     "data": {
      "text/plain": [
       "(10482, 2308)"
      ]
     },
     "execution_count": 15,
     "metadata": {},
     "output_type": "execute_result"
    }
   ],
   "source": [
    "from tensorflow.python.summary.summary_iterator import summary_iterator\n",
    "max_step=0\n",
    "for eventsfile in eventsfiles:\n",
    "    for i,summary in enumerate(summary_iterator(eventsfile)):\n",
    "        if summary.step > max_step:\n",
    "            max_step=summary.step\n",
    "i,max_step"
   ]
  },
  {
   "cell_type": "code",
   "execution_count": 14,
   "id": "e1b71fb5",
   "metadata": {},
   "outputs": [
    {
     "ename": "NameError",
     "evalue": "name 'a' is not defined",
     "output_type": "error",
     "traceback": [
      "\u001b[0;31m---------------------------------------------------------------------------\u001b[0m",
      "\u001b[0;31mNameError\u001b[0m                                 Traceback (most recent call last)",
      "\u001b[0;32m<ipython-input-14-4e58eff55948>\u001b[0m in \u001b[0;36m<module>\u001b[0;34m\u001b[0m\n\u001b[0;32m----> 1\u001b[0;31m \u001b[0ma\u001b[0m\u001b[0;34m.\u001b[0m\u001b[0mstep\u001b[0m\u001b[0;34m\u001b[0m\u001b[0;34m\u001b[0m\u001b[0m\n\u001b[0m",
      "\u001b[0;31mNameError\u001b[0m: name 'a' is not defined"
     ]
    }
   ],
   "source": [
    "a.step"
   ]
  },
  {
   "cell_type": "code",
   "execution_count": 20,
   "id": "a2c7e86d",
   "metadata": {},
   "outputs": [],
   "source": [
    "import json\n",
    "\n",
    "os.environ[\"USER_FEATURES\"] = json.dumps([\"Gender\", \"Age\", \"Occupation\", \"City_Category\", \"Stay_In_Current_City_Years\", \"Marital_Status\"])\n",
    "os.environ[\"PRODUCT_FEATURES\"] = json.dumps([\"Product_ID\", \"Product_Category_1\"])"
   ]
  },
  {
   "cell_type": "code",
   "execution_count": null,
   "id": "684c873f",
   "metadata": {},
   "outputs": [],
   "source": [
    "%%bash\n",
    "\n",
    "current_dir=\"$(cd \"$(dirname \"${BASH_SOURCE[0]}\")\" >/dev/null 2>&1 && pwd)\"\n",
    "cd ${current_dir}\"/../..\"\n",
    "\n",
    "python -m trainer.task \\\n",
    "  --train-path=\"gs://mlteam-ml-specialization-2021-blackfriday/dataset/parsed/202104130952/train.csv\" \\\n",
    "  --eval-path=\"gs://mlteam-ml-specialization-2021-blackfriday/dataset/parsed/202104130952/test/evalset.csv\" \\\n",
    "  --job-dir=\"gs://mlteam-ml-specialization-2021-blackfriday/tmp/012_hptuning_deep/\" \\\n",
    "  --batch-size=30000 \\\n",
    "  --scann-num-neighbors=100 \\\n",
    "  --user-features='[\"Gender\", \"Age\", \"Occupation\", \"City_Category\", \"Stay_In_Current_City_Years\", \"Marital_Status\"]' \\\n",
    "  --num-epochs=10 \\\n",
    "  --learning-rate=0.01 \\\n",
    "  --product-input-embedding-dim=128 \\\n",
    "  --common-layers=\"[512, 256, 128]\" \\\n",
    "  --product-features='[\"Product_ID\", \"Product_Category_1\"]' \\\n",
    "  --user-input-embedding-dim=16 \\\n",
    "  --embedding-dim=128\n"
   ]
  },
  {
   "cell_type": "code",
   "execution_count": 74,
   "id": "d372854a",
   "metadata": {},
   "outputs": [
    {
     "name": "stdout",
     "output_type": "stream",
     "text": [
      "jobId: bf_012_TEST_20210618_132325\n",
      "state: QUEUED\n",
      "createTime: '2021-06-18T13:23:27Z'\n",
      "etag: L63F4olbRgs=\n",
      "jobId: bf_012_TEST_20210618_132325\n",
      "state: PREPARING\n",
      "trainingInput:\n",
      "  args:\n",
      "  - --train-path=gs://mlteam-ml-specialization-2021-blackfriday/dataset/parsed/202104130952/train.csv\n",
      "  - --eval-path=gs://mlteam-ml-specialization-2021-blackfriday/dataset/parsed/202104130952/test/evalset.csv\n",
      "  - ' '\n",
      "  - --job-dir=gs://mlteam-ml-specialization-2021-blackfriday/tmp/012_hptuning_deep/\n",
      "  - --batch-size=30000\n",
      "  - --scann-num-neighbors=100\n",
      "  - --user-features=[\"Gender\", \"Age\", \"Occupation\", \"City_Category\", \"Stay_In_Current_City_Years\",\n",
      "    \"Marital_Status\"]\n",
      "  - --num-epochs=10\n",
      "  - --learning-rate=0.01\n",
      "  - --product-input-embedding-dim=128\n",
      "  - --common-layers=[512, 256, 128]\n",
      "  - --product-features=[\"Product_ID\", \"Product_Category_1\"]\n",
      "  - --user-input-embedding-dim=16\n",
      "  - --embedding-dim=128\n",
      "  jobDir: gs://mlteam-ml-specialization-2021-blackfriday/tmp/012_hptuning_deep/\n",
      "  packageUris:\n",
      "  - gs://mlteam-ml-specialization-2021-blackfriday/tmp/012_hptuning_deep/packages/3ef31f04011a3ff67bc7a34e8233746f4bd8c759a3c624337e610c0fc000453b/mlspec-blackfriday-0.1.tar.gz\n",
      "  pythonModule: trainer.task\n",
      "  pythonVersion: '3.7'\n",
      "  region: europe-west1\n",
      "  runtimeVersion: '2.4'\n",
      "trainingOutput: {}\n"
     ]
    },
    {
     "name": "stderr",
     "output_type": "stream",
     "text": [
      "Job [bf_012_TEST_20210618_132325] submitted successfully.\n",
      "Your job is still active. You may view the status of your job with the command\n",
      "\n",
      "  $ gcloud ai-platform jobs describe bf_012_TEST_20210618_132325\n",
      "\n",
      "or continue streaming the logs with the command\n",
      "\n",
      "  $ gcloud ai-platform jobs stream-logs bf_012_TEST_20210618_132325\n",
      "\n",
      "View job in the Cloud Console at:\n",
      "https://console.cloud.google.com/mlengine/jobs/bf_012_TEST_20210618_132325?project=mlteam-ml-specialization-2021\n",
      "\n",
      "View logs at:\n",
      "https://console.cloud.google.com/logs?resource=ml_job%2Fjob_id%2Fbf_012_TEST_20210618_132325&project=mlteam-ml-specialization-2021\n"
     ]
    }
   ],
   "source": [
    "%%bash\n",
    "\n",
    "# JOB_NAME: the name of your job running on AI Platform.\n",
    "JOB_NAME=bf_012_TEST_$(date +%Y%m%d_%H%M%S)\n",
    "\n",
    "# REGION: select a region from https://cloud.google.com/ai-platform/training/docs/regions\n",
    "# or use the default '`us-central1`'. The region is where the model will be deployed.\n",
    "REGION=europe-west1\n",
    "PYTHON_VERSION=3.7\n",
    "RUNTIME_VERSION=2.4\n",
    "\n",
    "current_dir=\"$(cd \"$(dirname \"${BASH_SOURCE[0]}\")\" >/dev/null 2>&1 && pwd)\"\n",
    "cd ${current_dir}\"/../..\"\n",
    "\n",
    "gcloud ai-platform jobs submit training \"${JOB_NAME}\" \\\n",
    "  --package-path trainer/ \\\n",
    "  --module-name trainer.task \\\n",
    "  --region ${REGION} \\\n",
    "  --python-version ${PYTHON_VERSION} \\\n",
    "  --runtime-version ${RUNTIME_VERSION} \\\n",
    "  --job-dir \"gs://mlteam-ml-specialization-2021-blackfriday/tmp/012_hptuning_deep/\" \\\n",
    "  -- \\\n",
    "  --train-path=\"gs://mlteam-ml-specialization-2021-blackfriday/dataset/parsed/202104130952/train.csv\" \\\n",
    "  --eval-path=\"gs://mlteam-ml-specialization-2021-blackfriday/dataset/parsed/202104130952/test/evalset.csv\" \\ \\\n",
    "  --job-dir=\"gs://mlteam-ml-specialization-2021-blackfriday/tmp/012_hptuning_deep/\" \\\n",
    "  --batch-size=30000 \\\n",
    "  --scann-num-neighbors=100 \\\n",
    "  --user-features=\"${USER_FEATURES}\" \\\n",
    "  --num-epochs=10 \\\n",
    "  --learning-rate=0.01 \\\n",
    "  --product-input-embedding-dim=128 \\\n",
    "  --common-layers=\"[512, 256, 128]\" \\\n",
    "  --product-features=\"${PRODUCT_FEATURES}\" \\\n",
    "  --user-input-embedding-dim=16 \\\n",
    "  --embedding-dim=128\n",
    "\n",
    "gcloud ai-platform jobs describe ${JOB_NAME}"
   ]
  },
  {
   "cell_type": "code",
   "execution_count": null,
   "id": "029cc523",
   "metadata": {},
   "outputs": [],
   "source": []
  }
 ],
 "metadata": {
  "environment": {
   "name": "tf2-gpu.2-3.m65",
   "type": "gcloud",
   "uri": "gcr.io/deeplearning-platform-release/tf2-gpu.2-3:m65"
  },
  "kernelspec": {
   "display_name": "Python 3",
   "language": "python",
   "name": "python3"
  },
  "language_info": {
   "codemirror_mode": {
    "name": "ipython",
    "version": 3
   },
   "file_extension": ".py",
   "mimetype": "text/x-python",
   "name": "python",
   "nbconvert_exporter": "python",
   "pygments_lexer": "ipython3",
   "version": "3.7.10"
  }
 },
 "nbformat": 4,
 "nbformat_minor": 5
}
