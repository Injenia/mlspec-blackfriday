{
 "cells": [
  {
   "cell_type": "code",
   "execution_count": 39,
   "id": "51be2859",
   "metadata": {},
   "outputs": [],
   "source": [
    "import tensorflow as tf\n",
    "import tensorflow_recommenders as tfrs\n",
    "import pandas as pd\n",
    "import os\n",
    "from tqdm.auto import tqdm\n",
    "\n",
    "tqdm.pandas()"
   ]
  },
  {
   "cell_type": "markdown",
   "id": "4319c70e",
   "metadata": {},
   "source": [
    "# params"
   ]
  },
  {
   "cell_type": "code",
   "execution_count": 87,
   "id": "412ede75",
   "metadata": {},
   "outputs": [],
   "source": [
    "dataset_location = \"gs://mlteam-ml-specialization-2021-blackfriday/dataset/raw/\"\n",
    "trainset = os.path.join(dataset_location, \"train.csv\") \n",
    "testset = os.path.join(dataset_location, \"test.csv\") \n",
    "model_location = \"gs://mlteam-ml-specialization-2021-blackfriday/aiplatform_jobs/bf_20210513_110816/2/2/Scann\"\n",
    "k_min = 10"
   ]
  },
  {
   "cell_type": "markdown",
   "id": "a70dff81",
   "metadata": {},
   "source": [
    "# baseline"
   ]
  },
  {
   "cell_type": "code",
   "execution_count": 8,
   "id": "29f79d00",
   "metadata": {},
   "outputs": [],
   "source": [
    "class BlackFridayBaseline:\n",
    "    def __init__(self, trainset_location, user_features_list, build_inplace=False):\n",
    "        self.trainset_location, self.user_features_list = trainset_location, user_features_list\n",
    "        if build_inplace:\n",
    "            self.build()\n",
    "        \n",
    "    def build(self):\n",
    "        self.df = pd.read_csv(self.trainset_location).groupby(\n",
    "            user_features+[\"Product_ID\"])[\"User_ID\"].count().reset_index().rename(\n",
    "            columns={\"User_ID\":\"count_product\"})\n",
    "        \n",
    "    def predict(self, user_features, n_products):\n",
    "        mask = None\n",
    "        for k,v in user_features.items():\n",
    "            if mask is None:\n",
    "                mask = self.df[k]==v\n",
    "            else:\n",
    "                mask = mask&(self.df[k]==v)\n",
    "        return self.df[mask].sort_values(self.user_features_list+[\"count_product\"])[\"Product_ID\"].values[:n_products]\n",
    "        "
   ]
  },
  {
   "cell_type": "code",
   "execution_count": 9,
   "id": "8501a3d8",
   "metadata": {},
   "outputs": [],
   "source": [
    "user_features = [\n",
    "    \"Gender\",\n",
    "    \"Age\",\n",
    "    \"Occupation\",\n",
    "    \"City_Category\",\n",
    "    \"Stay_In_Current_City_Years\",\n",
    "    \"Marital_Status\"\n",
    "    ]"
   ]
  },
  {
   "cell_type": "code",
   "execution_count": 10,
   "id": "e3ab0a0f",
   "metadata": {},
   "outputs": [
    {
     "data": {
      "text/plain": [
       "array(['P00034742', 'P00035542', 'P00048742', 'P00057542', 'P00058242',\n",
       "       'P00102642', 'P00129542', 'P00137242', 'P00145042', 'P00154642'],\n",
       "      dtype=object)"
      ]
     },
     "execution_count": 10,
     "metadata": {},
     "output_type": "execute_result"
    }
   ],
   "source": [
    "# test\n",
    "BlackFridayBaseline(trainset, user_features, True).predict(\n",
    "    {'Gender': 'F',\n",
    "     'Age': '0-17',\n",
    "     'Occupation': 0,\n",
    "     'City_Category': 'A',\n",
    "     'Stay_In_Current_City_Years': '2',\n",
    "     'Marital_Status': 0}, \n",
    "    10)"
   ]
  },
  {
   "cell_type": "markdown",
   "id": "128c73e6",
   "metadata": {},
   "source": [
    "# model"
   ]
  },
  {
   "cell_type": "code",
   "execution_count": 14,
   "id": "a99e0127",
   "metadata": {},
   "outputs": [
    {
     "name": "stdout",
     "output_type": "stream",
     "text": [
      "WARNING:tensorflow:5 out of the last 5 calls to <function recreate_function.<locals>.restored_function_body at 0x7f66fd483710> triggered tf.function retracing. Tracing is expensive and the excessive number of tracings could be due to (1) creating @tf.function repeatedly in a loop, (2) passing tensors with different shapes, (3) passing Python objects instead of tensors. For (1), please define your @tf.function outside of the loop. For (2), @tf.function has experimental_relax_shapes=True option that relaxes argument shapes that can avoid unnecessary retracing. For (3), please refer to https://www.tensorflow.org/guide/function#controlling_retracing and https://www.tensorflow.org/api_docs/python/tf/function for  more details.\n",
      "WARNING:tensorflow:6 out of the last 6 calls to <function recreate_function.<locals>.restored_function_body at 0x7f66fd483440> triggered tf.function retracing. Tracing is expensive and the excessive number of tracings could be due to (1) creating @tf.function repeatedly in a loop, (2) passing tensors with different shapes, (3) passing Python objects instead of tensors. For (1), please define your @tf.function outside of the loop. For (2), @tf.function has experimental_relax_shapes=True option that relaxes argument shapes that can avoid unnecessary retracing. For (3), please refer to https://www.tensorflow.org/guide/function#controlling_retracing and https://www.tensorflow.org/api_docs/python/tf/function for  more details.\n",
      "WARNING:tensorflow:No training configuration found in save file, so the model was *not* compiled. Compile it manually.\n"
     ]
    },
    {
     "data": {
      "text/plain": [
       "<tensorflow.python.keras.saving.saved_model.load.ScaNN at 0x7f66edfc67d0>"
      ]
     },
     "execution_count": 14,
     "metadata": {},
     "output_type": "execute_result"
    }
   ],
   "source": [
    "model = tf.keras.models.load_model(model_location)\n",
    "model"
   ]
  },
  {
   "cell_type": "code",
   "execution_count": 25,
   "id": "4ce0e452",
   "metadata": {},
   "outputs": [],
   "source": [
    "class PredictionModel:\n",
    "    def __init__(self, model_path, build_inplace=False):\n",
    "        self.odel_path=model_path\n",
    "        if build_inplace:\n",
    "            self.build()\n",
    "    \n",
    "    def build(self):\n",
    "        self.model=tf.keras.models.load_model(model_location)\n",
    "        \n",
    "    def predict_batch(self, model_input):\n",
    "        scores, products = self.model({k:tf.constant(v) for k,v in model_input.items()})\n",
    "        return products.numpy()\n",
    "    \n",
    "    def predict_single(self, model_input):\n",
    "        scores, products = self.model({k:tf.constant([v]) for k,v in model_input.items()})\n",
    "        return products.numpy()"
   ]
  },
  {
   "cell_type": "code",
   "execution_count": 26,
   "id": "bc8ef940",
   "metadata": {},
   "outputs": [
    {
     "name": "stdout",
     "output_type": "stream",
     "text": [
      "WARNING:tensorflow:11 out of the last 11 calls to <function recreate_function.<locals>.restored_function_body at 0x7f66ddace7a0> triggered tf.function retracing. Tracing is expensive and the excessive number of tracings could be due to (1) creating @tf.function repeatedly in a loop, (2) passing tensors with different shapes, (3) passing Python objects instead of tensors. For (1), please define your @tf.function outside of the loop. For (2), @tf.function has experimental_relax_shapes=True option that relaxes argument shapes that can avoid unnecessary retracing. For (3), please refer to https://www.tensorflow.org/guide/function#controlling_retracing and https://www.tensorflow.org/api_docs/python/tf/function for  more details.\n",
      "WARNING:tensorflow:11 out of the last 11 calls to <function recreate_function.<locals>.restored_function_body at 0x7f66ddac6050> triggered tf.function retracing. Tracing is expensive and the excessive number of tracings could be due to (1) creating @tf.function repeatedly in a loop, (2) passing tensors with different shapes, (3) passing Python objects instead of tensors. For (1), please define your @tf.function outside of the loop. For (2), @tf.function has experimental_relax_shapes=True option that relaxes argument shapes that can avoid unnecessary retracing. For (3), please refer to https://www.tensorflow.org/guide/function#controlling_retracing and https://www.tensorflow.org/api_docs/python/tf/function for  more details.\n",
      "WARNING:tensorflow:11 out of the last 11 calls to <function recreate_function.<locals>.restored_function_body at 0x7f66ddadec20> triggered tf.function retracing. Tracing is expensive and the excessive number of tracings could be due to (1) creating @tf.function repeatedly in a loop, (2) passing tensors with different shapes, (3) passing Python objects instead of tensors. For (1), please define your @tf.function outside of the loop. For (2), @tf.function has experimental_relax_shapes=True option that relaxes argument shapes that can avoid unnecessary retracing. For (3), please refer to https://www.tensorflow.org/guide/function#controlling_retracing and https://www.tensorflow.org/api_docs/python/tf/function for  more details.\n",
      "WARNING:tensorflow:11 out of the last 11 calls to <function recreate_function.<locals>.restored_function_body at 0x7f66ddacc680> triggered tf.function retracing. Tracing is expensive and the excessive number of tracings could be due to (1) creating @tf.function repeatedly in a loop, (2) passing tensors with different shapes, (3) passing Python objects instead of tensors. For (1), please define your @tf.function outside of the loop. For (2), @tf.function has experimental_relax_shapes=True option that relaxes argument shapes that can avoid unnecessary retracing. For (3), please refer to https://www.tensorflow.org/guide/function#controlling_retracing and https://www.tensorflow.org/api_docs/python/tf/function for  more details.\n",
      "WARNING:tensorflow:11 out of the last 11 calls to <function recreate_function.<locals>.restored_function_body at 0x7f66de3ac710> triggered tf.function retracing. Tracing is expensive and the excessive number of tracings could be due to (1) creating @tf.function repeatedly in a loop, (2) passing tensors with different shapes, (3) passing Python objects instead of tensors. For (1), please define your @tf.function outside of the loop. For (2), @tf.function has experimental_relax_shapes=True option that relaxes argument shapes that can avoid unnecessary retracing. For (3), please refer to https://www.tensorflow.org/guide/function#controlling_retracing and https://www.tensorflow.org/api_docs/python/tf/function for  more details.\n",
      "WARNING:tensorflow:11 out of the last 11 calls to <function recreate_function.<locals>.restored_function_body at 0x7f66de3ac9e0> triggered tf.function retracing. Tracing is expensive and the excessive number of tracings could be due to (1) creating @tf.function repeatedly in a loop, (2) passing tensors with different shapes, (3) passing Python objects instead of tensors. For (1), please define your @tf.function outside of the loop. For (2), @tf.function has experimental_relax_shapes=True option that relaxes argument shapes that can avoid unnecessary retracing. For (3), please refer to https://www.tensorflow.org/guide/function#controlling_retracing and https://www.tensorflow.org/api_docs/python/tf/function for  more details.\n",
      "WARNING:tensorflow:No training configuration found in save file, so the model was *not* compiled. Compile it manually.\n",
      "WARNING:tensorflow:11 out of the last 11 calls to <function recreate_function.<locals>.restored_function_body at 0x7f66ddb054d0> triggered tf.function retracing. Tracing is expensive and the excessive number of tracings could be due to (1) creating @tf.function repeatedly in a loop, (2) passing tensors with different shapes, (3) passing Python objects instead of tensors. For (1), please define your @tf.function outside of the loop. For (2), @tf.function has experimental_relax_shapes=True option that relaxes argument shapes that can avoid unnecessary retracing. For (3), please refer to https://www.tensorflow.org/guide/function#controlling_retracing and https://www.tensorflow.org/api_docs/python/tf/function for  more details.\n"
     ]
    },
    {
     "data": {
      "text/plain": [
       "array([[b'P00137142', b'P00265142', b'P00293742', b'P00248742',\n",
       "        b'P00178342', b'P00183542', b'P00337642', b'P00339042',\n",
       "        b'P00214842', b'P00087342']], dtype=object)"
      ]
     },
     "execution_count": 26,
     "metadata": {},
     "output_type": "execute_result"
    }
   ],
   "source": [
    "PredictionModel(model_location, True).predict_single({k: str(v) for k,v in \n",
    "    {'Gender': 'F',\n",
    "     'Age': '0-17',\n",
    "     'Occupation': 0,\n",
    "     'City_Category': 'A',\n",
    "     'Stay_In_Current_City_Years': '2',\n",
    "     'Marital_Status': 0}.items()})"
   ]
  },
  {
   "cell_type": "markdown",
   "id": "a90ff10e",
   "metadata": {},
   "source": [
    "# ground truth"
   ]
  },
  {
   "cell_type": "code",
   "execution_count": 32,
   "id": "c152b196",
   "metadata": {},
   "outputs": [],
   "source": [
    "df=pd.read_csv(testset).groupby(user_features)[\"Product_ID\"].apply(list).reset_index()"
   ]
  },
  {
   "cell_type": "code",
   "execution_count": 33,
   "id": "67816aec",
   "metadata": {},
   "outputs": [
    {
     "data": {
      "text/html": [
       "<div>\n",
       "<style scoped>\n",
       "    .dataframe tbody tr th:only-of-type {\n",
       "        vertical-align: middle;\n",
       "    }\n",
       "\n",
       "    .dataframe tbody tr th {\n",
       "        vertical-align: top;\n",
       "    }\n",
       "\n",
       "    .dataframe thead th {\n",
       "        text-align: right;\n",
       "    }\n",
       "</style>\n",
       "<table border=\"1\" class=\"dataframe\">\n",
       "  <thead>\n",
       "    <tr style=\"text-align: right;\">\n",
       "      <th></th>\n",
       "      <th>Gender</th>\n",
       "      <th>Age</th>\n",
       "      <th>Occupation</th>\n",
       "      <th>City_Category</th>\n",
       "      <th>Stay_In_Current_City_Years</th>\n",
       "      <th>Marital_Status</th>\n",
       "      <th>Product_ID</th>\n",
       "    </tr>\n",
       "  </thead>\n",
       "  <tbody>\n",
       "    <tr>\n",
       "      <th>0</th>\n",
       "      <td>F</td>\n",
       "      <td>0-17</td>\n",
       "      <td>0</td>\n",
       "      <td>A</td>\n",
       "      <td>2</td>\n",
       "      <td>0</td>\n",
       "      <td>[P00145442, P00240142, P00057342, P00249742]</td>\n",
       "    </tr>\n",
       "    <tr>\n",
       "      <th>1</th>\n",
       "      <td>F</td>\n",
       "      <td>0-17</td>\n",
       "      <td>0</td>\n",
       "      <td>B</td>\n",
       "      <td>1</td>\n",
       "      <td>0</td>\n",
       "      <td>[P00085642, P00252642, P00119542, P00294242, P...</td>\n",
       "    </tr>\n",
       "    <tr>\n",
       "      <th>2</th>\n",
       "      <td>F</td>\n",
       "      <td>0-17</td>\n",
       "      <td>0</td>\n",
       "      <td>B</td>\n",
       "      <td>3</td>\n",
       "      <td>0</td>\n",
       "      <td>[P00057742, P00309942, P00118342, P00025442, P...</td>\n",
       "    </tr>\n",
       "    <tr>\n",
       "      <th>3</th>\n",
       "      <td>F</td>\n",
       "      <td>0-17</td>\n",
       "      <td>0</td>\n",
       "      <td>C</td>\n",
       "      <td>0</td>\n",
       "      <td>0</td>\n",
       "      <td>[P00251442, P00025642, P00006042, P00327542, P...</td>\n",
       "    </tr>\n",
       "    <tr>\n",
       "      <th>4</th>\n",
       "      <td>F</td>\n",
       "      <td>0-17</td>\n",
       "      <td>0</td>\n",
       "      <td>C</td>\n",
       "      <td>1</td>\n",
       "      <td>0</td>\n",
       "      <td>[P00325742, P00294542, P00178242, P0096842, P0...</td>\n",
       "    </tr>\n",
       "    <tr>\n",
       "      <th>...</th>\n",
       "      <td>...</td>\n",
       "      <td>...</td>\n",
       "      <td>...</td>\n",
       "      <td>...</td>\n",
       "      <td>...</td>\n",
       "      <td>...</td>\n",
       "      <td>...</td>\n",
       "    </tr>\n",
       "    <tr>\n",
       "      <th>2425</th>\n",
       "      <td>M</td>\n",
       "      <td>55+</td>\n",
       "      <td>20</td>\n",
       "      <td>C</td>\n",
       "      <td>0</td>\n",
       "      <td>1</td>\n",
       "      <td>[P00194242, P00280442, P00232242, P00161542, P...</td>\n",
       "    </tr>\n",
       "    <tr>\n",
       "      <th>2426</th>\n",
       "      <td>M</td>\n",
       "      <td>55+</td>\n",
       "      <td>20</td>\n",
       "      <td>C</td>\n",
       "      <td>1</td>\n",
       "      <td>0</td>\n",
       "      <td>[P00368342, P00357642, P00087342, P00339042, P...</td>\n",
       "    </tr>\n",
       "    <tr>\n",
       "      <th>2427</th>\n",
       "      <td>M</td>\n",
       "      <td>55+</td>\n",
       "      <td>20</td>\n",
       "      <td>C</td>\n",
       "      <td>1</td>\n",
       "      <td>1</td>\n",
       "      <td>[P00207942, P00042742, P00187842, P00120042, P...</td>\n",
       "    </tr>\n",
       "    <tr>\n",
       "      <th>2428</th>\n",
       "      <td>M</td>\n",
       "      <td>55+</td>\n",
       "      <td>20</td>\n",
       "      <td>C</td>\n",
       "      <td>2</td>\n",
       "      <td>1</td>\n",
       "      <td>[P00021942, P00291042, P00294142, P00297042, P...</td>\n",
       "    </tr>\n",
       "    <tr>\n",
       "      <th>2429</th>\n",
       "      <td>M</td>\n",
       "      <td>55+</td>\n",
       "      <td>20</td>\n",
       "      <td>C</td>\n",
       "      <td>3</td>\n",
       "      <td>1</td>\n",
       "      <td>[P00227842, P00221542, P00110742, P00326242, P...</td>\n",
       "    </tr>\n",
       "  </tbody>\n",
       "</table>\n",
       "<p>2430 rows × 7 columns</p>\n",
       "</div>"
      ],
      "text/plain": [
       "     Gender   Age  Occupation City_Category Stay_In_Current_City_Years  \\\n",
       "0         F  0-17           0             A                          2   \n",
       "1         F  0-17           0             B                          1   \n",
       "2         F  0-17           0             B                          3   \n",
       "3         F  0-17           0             C                          0   \n",
       "4         F  0-17           0             C                          1   \n",
       "...     ...   ...         ...           ...                        ...   \n",
       "2425      M   55+          20             C                          0   \n",
       "2426      M   55+          20             C                          1   \n",
       "2427      M   55+          20             C                          1   \n",
       "2428      M   55+          20             C                          2   \n",
       "2429      M   55+          20             C                          3   \n",
       "\n",
       "      Marital_Status                                         Product_ID  \n",
       "0                  0       [P00145442, P00240142, P00057342, P00249742]  \n",
       "1                  0  [P00085642, P00252642, P00119542, P00294242, P...  \n",
       "2                  0  [P00057742, P00309942, P00118342, P00025442, P...  \n",
       "3                  0  [P00251442, P00025642, P00006042, P00327542, P...  \n",
       "4                  0  [P00325742, P00294542, P00178242, P0096842, P0...  \n",
       "...              ...                                                ...  \n",
       "2425               1  [P00194242, P00280442, P00232242, P00161542, P...  \n",
       "2426               0  [P00368342, P00357642, P00087342, P00339042, P...  \n",
       "2427               1  [P00207942, P00042742, P00187842, P00120042, P...  \n",
       "2428               1  [P00021942, P00291042, P00294142, P00297042, P...  \n",
       "2429               1  [P00227842, P00221542, P00110742, P00326242, P...  \n",
       "\n",
       "[2430 rows x 7 columns]"
      ]
     },
     "execution_count": 33,
     "metadata": {},
     "output_type": "execute_result"
    }
   ],
   "source": [
    "df"
   ]
  },
  {
   "cell_type": "code",
   "execution_count": 34,
   "id": "657f90dc",
   "metadata": {},
   "outputs": [],
   "source": [
    "baseline = BlackFridayBaseline(trainset, user_features, True)"
   ]
  },
  {
   "cell_type": "code",
   "execution_count": 41,
   "id": "43c1fc0d",
   "metadata": {},
   "outputs": [
    {
     "data": {
      "application/vnd.jupyter.widget-view+json": {
       "model_id": "708422e31bfb4ad4b7e1c526669bd4d1",
       "version_major": 2,
       "version_minor": 0
      },
      "text/plain": [
       "  0%|          | 0/2430 [00:00<?, ?it/s]"
      ]
     },
     "metadata": {},
     "output_type": "display_data"
    }
   ],
   "source": [
    "df[\"baseline\"]=df[user_features].progress_apply(lambda x: baseline.predict(x, k_min), axis=1)"
   ]
  },
  {
   "cell_type": "code",
   "execution_count": 42,
   "id": "93b46baf",
   "metadata": {},
   "outputs": [
    {
     "name": "stdout",
     "output_type": "stream",
     "text": [
      "WARNING:tensorflow:11 out of the last 11 calls to <function recreate_function.<locals>.restored_function_body at 0x7f66ddd46170> triggered tf.function retracing. Tracing is expensive and the excessive number of tracings could be due to (1) creating @tf.function repeatedly in a loop, (2) passing tensors with different shapes, (3) passing Python objects instead of tensors. For (1), please define your @tf.function outside of the loop. For (2), @tf.function has experimental_relax_shapes=True option that relaxes argument shapes that can avoid unnecessary retracing. For (3), please refer to https://www.tensorflow.org/guide/function#controlling_retracing and https://www.tensorflow.org/api_docs/python/tf/function for  more details.\n",
      "WARNING:tensorflow:11 out of the last 11 calls to <function recreate_function.<locals>.restored_function_body at 0x7f66ddd6e3b0> triggered tf.function retracing. Tracing is expensive and the excessive number of tracings could be due to (1) creating @tf.function repeatedly in a loop, (2) passing tensors with different shapes, (3) passing Python objects instead of tensors. For (1), please define your @tf.function outside of the loop. For (2), @tf.function has experimental_relax_shapes=True option that relaxes argument shapes that can avoid unnecessary retracing. For (3), please refer to https://www.tensorflow.org/guide/function#controlling_retracing and https://www.tensorflow.org/api_docs/python/tf/function for  more details.\n",
      "WARNING:tensorflow:11 out of the last 11 calls to <function recreate_function.<locals>.restored_function_body at 0x7f66ddd0e200> triggered tf.function retracing. Tracing is expensive and the excessive number of tracings could be due to (1) creating @tf.function repeatedly in a loop, (2) passing tensors with different shapes, (3) passing Python objects instead of tensors. For (1), please define your @tf.function outside of the loop. For (2), @tf.function has experimental_relax_shapes=True option that relaxes argument shapes that can avoid unnecessary retracing. For (3), please refer to https://www.tensorflow.org/guide/function#controlling_retracing and https://www.tensorflow.org/api_docs/python/tf/function for  more details.\n",
      "WARNING:tensorflow:11 out of the last 11 calls to <function recreate_function.<locals>.restored_function_body at 0x7f66ddd0e050> triggered tf.function retracing. Tracing is expensive and the excessive number of tracings could be due to (1) creating @tf.function repeatedly in a loop, (2) passing tensors with different shapes, (3) passing Python objects instead of tensors. For (1), please define your @tf.function outside of the loop. For (2), @tf.function has experimental_relax_shapes=True option that relaxes argument shapes that can avoid unnecessary retracing. For (3), please refer to https://www.tensorflow.org/guide/function#controlling_retracing and https://www.tensorflow.org/api_docs/python/tf/function for  more details.\n",
      "WARNING:tensorflow:11 out of the last 11 calls to <function recreate_function.<locals>.restored_function_body at 0x7f66ddd66cb0> triggered tf.function retracing. Tracing is expensive and the excessive number of tracings could be due to (1) creating @tf.function repeatedly in a loop, (2) passing tensors with different shapes, (3) passing Python objects instead of tensors. For (1), please define your @tf.function outside of the loop. For (2), @tf.function has experimental_relax_shapes=True option that relaxes argument shapes that can avoid unnecessary retracing. For (3), please refer to https://www.tensorflow.org/guide/function#controlling_retracing and https://www.tensorflow.org/api_docs/python/tf/function for  more details.\n",
      "WARNING:tensorflow:11 out of the last 11 calls to <function recreate_function.<locals>.restored_function_body at 0x7f66ddd614d0> triggered tf.function retracing. Tracing is expensive and the excessive number of tracings could be due to (1) creating @tf.function repeatedly in a loop, (2) passing tensors with different shapes, (3) passing Python objects instead of tensors. For (1), please define your @tf.function outside of the loop. For (2), @tf.function has experimental_relax_shapes=True option that relaxes argument shapes that can avoid unnecessary retracing. For (3), please refer to https://www.tensorflow.org/guide/function#controlling_retracing and https://www.tensorflow.org/api_docs/python/tf/function for  more details.\n",
      "WARNING:tensorflow:No training configuration found in save file, so the model was *not* compiled. Compile it manually.\n"
     ]
    }
   ],
   "source": [
    "model = PredictionModel(model_location, True)"
   ]
  },
  {
   "cell_type": "code",
   "execution_count": 64,
   "id": "7087ed4a",
   "metadata": {},
   "outputs": [
    {
     "data": {
      "application/vnd.jupyter.widget-view+json": {
       "model_id": "4d6721d1e7764f068b781346e7a531a8",
       "version_major": 2,
       "version_minor": 0
      },
      "text/plain": [
       "  0%|          | 0/2430 [00:00<?, ?it/s]"
      ]
     },
     "metadata": {},
     "output_type": "display_data"
    }
   ],
   "source": [
    "df[\"predictions\"]=df[user_features].progress_apply(lambda x: model.predict_single({k:str(v) for k,v in x.items()})[0].astype(str), axis=1)"
   ]
  },
  {
   "cell_type": "code",
   "execution_count": 65,
   "id": "3346bf5b",
   "metadata": {},
   "outputs": [
    {
     "data": {
      "text/html": [
       "<div>\n",
       "<style scoped>\n",
       "    .dataframe tbody tr th:only-of-type {\n",
       "        vertical-align: middle;\n",
       "    }\n",
       "\n",
       "    .dataframe tbody tr th {\n",
       "        vertical-align: top;\n",
       "    }\n",
       "\n",
       "    .dataframe thead th {\n",
       "        text-align: right;\n",
       "    }\n",
       "</style>\n",
       "<table border=\"1\" class=\"dataframe\">\n",
       "  <thead>\n",
       "    <tr style=\"text-align: right;\">\n",
       "      <th></th>\n",
       "      <th>Gender</th>\n",
       "      <th>Age</th>\n",
       "      <th>Occupation</th>\n",
       "      <th>City_Category</th>\n",
       "      <th>Stay_In_Current_City_Years</th>\n",
       "      <th>Marital_Status</th>\n",
       "      <th>Product_ID</th>\n",
       "      <th>baseline</th>\n",
       "      <th>predictions</th>\n",
       "    </tr>\n",
       "  </thead>\n",
       "  <tbody>\n",
       "    <tr>\n",
       "      <th>0</th>\n",
       "      <td>F</td>\n",
       "      <td>0-17</td>\n",
       "      <td>0</td>\n",
       "      <td>A</td>\n",
       "      <td>2</td>\n",
       "      <td>0</td>\n",
       "      <td>[P00145442, P00240142, P00057342, P00249742]</td>\n",
       "      <td>[P00034742, P00035542, P00048742, P00057542, P...</td>\n",
       "      <td>[P00137142, P00265142, P00293742, P00248742, P...</td>\n",
       "    </tr>\n",
       "    <tr>\n",
       "      <th>1</th>\n",
       "      <td>F</td>\n",
       "      <td>0-17</td>\n",
       "      <td>0</td>\n",
       "      <td>B</td>\n",
       "      <td>1</td>\n",
       "      <td>0</td>\n",
       "      <td>[P00085642, P00252642, P00119542, P00294242, P...</td>\n",
       "      <td>[P00000142, P00003442, P00003642, P00003942, P...</td>\n",
       "      <td>[P00146242, P00238142, P0096642, P00370642, P0...</td>\n",
       "    </tr>\n",
       "    <tr>\n",
       "      <th>2</th>\n",
       "      <td>F</td>\n",
       "      <td>0-17</td>\n",
       "      <td>0</td>\n",
       "      <td>B</td>\n",
       "      <td>3</td>\n",
       "      <td>0</td>\n",
       "      <td>[P00057742, P00309942, P00118342, P00025442, P...</td>\n",
       "      <td>[P00001042, P00001142, P00002942, P00004442, P...</td>\n",
       "      <td>[P00238142, P00137142, P00310342, P00187942, P...</td>\n",
       "    </tr>\n",
       "    <tr>\n",
       "      <th>3</th>\n",
       "      <td>F</td>\n",
       "      <td>0-17</td>\n",
       "      <td>0</td>\n",
       "      <td>C</td>\n",
       "      <td>0</td>\n",
       "      <td>0</td>\n",
       "      <td>[P00251442, P00025642, P00006042, P00327542, P...</td>\n",
       "      <td>[P00000242, P00000842, P00001342, P00002742, P...</td>\n",
       "      <td>[P00238142, P00187942, P00146242, P00104842, P...</td>\n",
       "    </tr>\n",
       "    <tr>\n",
       "      <th>4</th>\n",
       "      <td>F</td>\n",
       "      <td>0-17</td>\n",
       "      <td>0</td>\n",
       "      <td>C</td>\n",
       "      <td>1</td>\n",
       "      <td>0</td>\n",
       "      <td>[P00325742, P00294542, P00178242, P0096842, P0...</td>\n",
       "      <td>[P00000242, P00000442, P00000742, P00003442, P...</td>\n",
       "      <td>[P00238142, P00370642, P00146242, P00358742, P...</td>\n",
       "    </tr>\n",
       "    <tr>\n",
       "      <th>...</th>\n",
       "      <td>...</td>\n",
       "      <td>...</td>\n",
       "      <td>...</td>\n",
       "      <td>...</td>\n",
       "      <td>...</td>\n",
       "      <td>...</td>\n",
       "      <td>...</td>\n",
       "      <td>...</td>\n",
       "      <td>...</td>\n",
       "    </tr>\n",
       "    <tr>\n",
       "      <th>2425</th>\n",
       "      <td>M</td>\n",
       "      <td>55+</td>\n",
       "      <td>20</td>\n",
       "      <td>C</td>\n",
       "      <td>0</td>\n",
       "      <td>1</td>\n",
       "      <td>[P00194242, P00280442, P00232242, P00161542, P...</td>\n",
       "      <td>[P00005942, P00024742, P00155442, P00161142, P...</td>\n",
       "      <td>[P00354742, P00313642, P00256042, P00271242, P...</td>\n",
       "    </tr>\n",
       "    <tr>\n",
       "      <th>2426</th>\n",
       "      <td>M</td>\n",
       "      <td>55+</td>\n",
       "      <td>20</td>\n",
       "      <td>C</td>\n",
       "      <td>1</td>\n",
       "      <td>0</td>\n",
       "      <td>[P00368342, P00357642, P00087342, P00339042, P...</td>\n",
       "      <td>[P00046742, P00083842, P00085042, P00087642, P...</td>\n",
       "      <td>[P00354742, P00311542, P00158042, P00116542, P...</td>\n",
       "    </tr>\n",
       "    <tr>\n",
       "      <th>2427</th>\n",
       "      <td>M</td>\n",
       "      <td>55+</td>\n",
       "      <td>20</td>\n",
       "      <td>C</td>\n",
       "      <td>1</td>\n",
       "      <td>1</td>\n",
       "      <td>[P00207942, P00042742, P00187842, P00120042, P...</td>\n",
       "      <td>[P00000642, P00001742, P00002542, P00010742, P...</td>\n",
       "      <td>[P00354742, P00158042, P00311542, P00331842, P...</td>\n",
       "    </tr>\n",
       "    <tr>\n",
       "      <th>2428</th>\n",
       "      <td>M</td>\n",
       "      <td>55+</td>\n",
       "      <td>20</td>\n",
       "      <td>C</td>\n",
       "      <td>2</td>\n",
       "      <td>1</td>\n",
       "      <td>[P00021942, P00291042, P00294142, P00297042, P...</td>\n",
       "      <td>[P00001642, P00005042, P00015642, P00016542, P...</td>\n",
       "      <td>[P00275642, P00158042, P00273442, P00116542, P...</td>\n",
       "    </tr>\n",
       "    <tr>\n",
       "      <th>2429</th>\n",
       "      <td>M</td>\n",
       "      <td>55+</td>\n",
       "      <td>20</td>\n",
       "      <td>C</td>\n",
       "      <td>3</td>\n",
       "      <td>1</td>\n",
       "      <td>[P00227842, P00221542, P00110742, P00326242, P...</td>\n",
       "      <td>[P00030842, P00035342, P00052842, P00057642, P...</td>\n",
       "      <td>[P00158042, P00313642, P00273442, P00354742, P...</td>\n",
       "    </tr>\n",
       "  </tbody>\n",
       "</table>\n",
       "<p>2430 rows × 9 columns</p>\n",
       "</div>"
      ],
      "text/plain": [
       "     Gender   Age  Occupation City_Category Stay_In_Current_City_Years  \\\n",
       "0         F  0-17           0             A                          2   \n",
       "1         F  0-17           0             B                          1   \n",
       "2         F  0-17           0             B                          3   \n",
       "3         F  0-17           0             C                          0   \n",
       "4         F  0-17           0             C                          1   \n",
       "...     ...   ...         ...           ...                        ...   \n",
       "2425      M   55+          20             C                          0   \n",
       "2426      M   55+          20             C                          1   \n",
       "2427      M   55+          20             C                          1   \n",
       "2428      M   55+          20             C                          2   \n",
       "2429      M   55+          20             C                          3   \n",
       "\n",
       "      Marital_Status                                         Product_ID  \\\n",
       "0                  0       [P00145442, P00240142, P00057342, P00249742]   \n",
       "1                  0  [P00085642, P00252642, P00119542, P00294242, P...   \n",
       "2                  0  [P00057742, P00309942, P00118342, P00025442, P...   \n",
       "3                  0  [P00251442, P00025642, P00006042, P00327542, P...   \n",
       "4                  0  [P00325742, P00294542, P00178242, P0096842, P0...   \n",
       "...              ...                                                ...   \n",
       "2425               1  [P00194242, P00280442, P00232242, P00161542, P...   \n",
       "2426               0  [P00368342, P00357642, P00087342, P00339042, P...   \n",
       "2427               1  [P00207942, P00042742, P00187842, P00120042, P...   \n",
       "2428               1  [P00021942, P00291042, P00294142, P00297042, P...   \n",
       "2429               1  [P00227842, P00221542, P00110742, P00326242, P...   \n",
       "\n",
       "                                               baseline  \\\n",
       "0     [P00034742, P00035542, P00048742, P00057542, P...   \n",
       "1     [P00000142, P00003442, P00003642, P00003942, P...   \n",
       "2     [P00001042, P00001142, P00002942, P00004442, P...   \n",
       "3     [P00000242, P00000842, P00001342, P00002742, P...   \n",
       "4     [P00000242, P00000442, P00000742, P00003442, P...   \n",
       "...                                                 ...   \n",
       "2425  [P00005942, P00024742, P00155442, P00161142, P...   \n",
       "2426  [P00046742, P00083842, P00085042, P00087642, P...   \n",
       "2427  [P00000642, P00001742, P00002542, P00010742, P...   \n",
       "2428  [P00001642, P00005042, P00015642, P00016542, P...   \n",
       "2429  [P00030842, P00035342, P00052842, P00057642, P...   \n",
       "\n",
       "                                            predictions  \n",
       "0     [P00137142, P00265142, P00293742, P00248742, P...  \n",
       "1     [P00146242, P00238142, P0096642, P00370642, P0...  \n",
       "2     [P00238142, P00137142, P00310342, P00187942, P...  \n",
       "3     [P00238142, P00187942, P00146242, P00104842, P...  \n",
       "4     [P00238142, P00370642, P00146242, P00358742, P...  \n",
       "...                                                 ...  \n",
       "2425  [P00354742, P00313642, P00256042, P00271242, P...  \n",
       "2426  [P00354742, P00311542, P00158042, P00116542, P...  \n",
       "2427  [P00354742, P00158042, P00311542, P00331842, P...  \n",
       "2428  [P00275642, P00158042, P00273442, P00116542, P...  \n",
       "2429  [P00158042, P00313642, P00273442, P00354742, P...  \n",
       "\n",
       "[2430 rows x 9 columns]"
      ]
     },
     "execution_count": 65,
     "metadata": {},
     "output_type": "execute_result"
    }
   ],
   "source": [
    "df"
   ]
  },
  {
   "cell_type": "code",
   "execution_count": 97,
   "id": "4b590f62",
   "metadata": {},
   "outputs": [
    {
     "data": {
      "application/vnd.jupyter.widget-view+json": {
       "model_id": "d36a51ffafa84f73b5b4ec138fadf8b4",
       "version_major": 2,
       "version_minor": 0
      },
      "text/plain": [
       "  0%|          | 0/2147 [00:00<?, ?it/s]"
      ]
     },
     "metadata": {},
     "output_type": "display_data"
    },
    {
     "data": {
      "application/vnd.jupyter.widget-view+json": {
       "model_id": "465152f90b0a4c81ada15f434a188b6b",
       "version_major": 2,
       "version_minor": 0
      },
      "text/plain": [
       "  0%|          | 0/2147 [00:00<?, ?it/s]"
      ]
     },
     "metadata": {},
     "output_type": "display_data"
    }
   ],
   "source": [
    "df_orig=df\n",
    "df=df_orig[df_orig[\"Product_ID\"].apply(len) >= k_min]\n",
    "df_metrics = pd.DataFrame(index=df.index)\n",
    "df_metrics[\"baseline_precision\"]=df[[\"Product_ID\",\"baseline\"]].progress_apply(lambda x: np.intersect1d(x[\"Product_ID\"],x[\"baseline\"]).shape[0]/k_min,axis=1)\n",
    "df_metrics[\"predictions_precision\"]=df[[\"Product_ID\",\"predictions\"]].progress_apply(lambda x: np.intersect1d(x[\"Product_ID\"],x[\"predictions\"]).shape[0]/k_min,axis=1)"
   ]
  },
  {
   "cell_type": "code",
   "execution_count": 116,
   "id": "fb980918",
   "metadata": {},
   "outputs": [
    {
     "data": {
      "text/plain": [
       "<AxesSubplot:>"
      ]
     },
     "execution_count": 116,
     "metadata": {},
     "output_type": "execute_result"
    },
    {
     "data": {
      "image/png": "[encoded data removed]",
      "text/plain": [
       "<Figure size 1440x720 with 1 Axes>"
      ]
     },
     "metadata": {
      "needs_background": "light"
     },
     "output_type": "display_data"
    }
   ],
   "source": [
    "pd.DataFrame([\n",
    "    df_metrics[\"baseline_precision\"].apply(lambda x: round(x,2)).value_counts(),\n",
    "    df_metrics[\"predictions_precision\"].apply(lambda x: round(x,2)).value_counts()\n",
    "]).transpose().fillna(0).plot.bar(figsize=(20,10))"
   ]
  },
  {
   "cell_type": "code",
   "execution_count": 118,
   "id": "6c1c9a6b",
   "metadata": {},
   "outputs": [
    {
     "data": {
      "text/plain": [
       "baseline_precision       0.048067\n",
       "predictions_precision    0.041593\n",
       "dtype: float64"
      ]
     },
     "execution_count": 118,
     "metadata": {},
     "output_type": "execute_result"
    }
   ],
   "source": [
    "df_metrics[[\"baseline_precision\",\"predictions_precision\"]].mean()"
   ]
  },
  {
   "cell_type": "code",
   "execution_count": null,
   "id": "89d4eee4",
   "metadata": {},
   "outputs": [],
   "source": []
  }
 ],
 "metadata": {
  "environment": {
   "name": "tf2-gpu.2-3.m65",
   "type": "gcloud",
   "uri": "gcr.io/deeplearning-platform-release/tf2-gpu.2-3:m65"
  },
  "kernelspec": {
   "display_name": "Python 3",
   "language": "python",
   "name": "python3"
  },
  "language_info": {
   "codemirror_mode": {
    "name": "ipython",
    "version": 3
   },
   "file_extension": ".py",
   "mimetype": "text/x-python",
   "name": "python",
   "nbconvert_exporter": "python",
   "pygments_lexer": "ipython3",
   "version": "3.7.10"
  }
 },
 "nbformat": 4,
 "nbformat_minor": 5
}
