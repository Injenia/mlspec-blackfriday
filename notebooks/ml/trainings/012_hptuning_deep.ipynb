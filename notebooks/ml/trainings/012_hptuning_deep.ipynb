{
 "cells": [
  {
   "cell_type": "code",
   "execution_count": 1,
   "id": "24ff661a",
   "metadata": {},
   "outputs": [],
   "source": [
    "from oauth2client.client import GoogleCredentials\n",
    "from googleapiclient import discovery\n",
    "from googleapiclient import errors\n",
    "import tensorflow as tf\n",
    "import tensorflow_recommenders as tfrs\n",
    "import pandas as pd\n",
    "import numpy as np\n",
    "import json\n",
    "import os\n",
    "\n",
    "from tqdm.auto import tqdm\n",
    "tqdm.pandas(leave=False)"
   ]
  },
  {
   "cell_type": "markdown",
   "id": "0c73447a",
   "metadata": {},
   "source": [
    "# Training"
   ]
  },
  {
   "cell_type": "markdown",
   "id": "7fa9e14b",
   "metadata": {},
   "source": [
    "## configuration"
   ]
  },
  {
   "cell_type": "code",
   "execution_count": 2,
   "id": "5000e284",
   "metadata": {},
   "outputs": [],
   "source": [
    "PROJECT                  = \"mlteam-ml-specialization-2021\"\n",
    "TRAIN_PATH               = \"gs://mlteam-ml-specialization-2021-blackfriday/dataset/parsed/202104130952/train.csv\"\n",
    "EVAL_PATH                = \"gs://mlteam-ml-specialization-2021-blackfriday/dataset/parsed/202104130952/test/evalset.csv\"\n",
    "TEST_PATH                = \"gs://mlteam-ml-specialization-2021-blackfriday/dataset/parsed/202104130952/test/testset.csv\"\n",
    "MODEL_NAME               = \"012_hptuning_deep\"\n",
    "BATCH_SIZE               = 30000 #1 epoch -> 3 steps\n",
    "NUM_EPOCHS               = 500\n",
    "SCANN_NUM_NEIGHBORS      = 100\n",
    "#LEARNING_RATE            = 0.01\n",
    "EMBEDDING_DIM            = 128\n",
    "USER_FEATURES            = [\"Gender\", \"Age\", \"Occupation\", \"City_Category\", \"Stay_In_Current_City_Years\", \"Marital_Status\"]\n",
    "#USER_INPUT_EMBEDDING_DIM = 8\n",
    "FORCE                    = True"
   ]
  },
  {
   "cell_type": "code",
   "execution_count": 6,
   "id": "483a1dd8",
   "metadata": {},
   "outputs": [
    {
     "name": "stdout",
     "output_type": "stream",
     "text": [
      "Overwriting config.yaml\n"
     ]
    }
   ],
   "source": [
    "%%writefile config.yaml\n",
    "trainingInput:\n",
    "  hyperparameters:\n",
    "    goal: MINIMIZE\n",
    "    hyperparameterMetricTag: epoch_total_loss\n",
    "    maxTrials: 4\n",
    "    maxParallelTrials: 4\n",
    "    enableTrialEarlyStopping: False\n",
    "    params:\n",
    "    - parameterName: learning-rate\n",
    "      type: DISCRETE\n",
    "      discreteValues:\n",
    "      - 0.001\n",
    "      - 0.01\n",
    "    - parameterName: product-input-embedding-dim\n",
    "      type: DISCRETE\n",
    "      discreteValues:\n",
    "      - 128\n",
    "    - parameterName: embedding-dim\n",
    "      type: DISCRETE\n",
    "      discreteValues:\n",
    "      - 128\n",
    "    - parameterName: common-layers\n",
    "      type: CATEGORICAL\n",
    "      categoricalValues:\n",
    "      - '[512, 256, 128]'\n",
    "    - parameterName: product-features\n",
    "      type: CATEGORICAL\n",
    "      categoricalValues:\n",
    "      - '[\"Product_ID\", \"Product_Category_1\"]'\n",
    "    - parameterName: user-input-embedding-dim\n",
    "      type: DISCRETE\n",
    "      discreteValues:\n",
    "      - 8\n",
    "      - 16"
   ]
  },
  {
   "cell_type": "code",
   "execution_count": 4,
   "id": "510617f3",
   "metadata": {},
   "outputs": [],
   "source": [
    "MODEL_PATH = os.path.join(\"gs://mlteam-ml-specialization-2021-blackfriday/aiplatform_jobs\", MODEL_NAME)\n",
    "if tf.io.gfile.exists(MODEL_PATH):\n",
    "    if FORCE:\n",
    "        tf.io.gfile.rmtree(MODEL_PATH)\n",
    "    else:\n",
    "        assert not tf.io.gfile.exists(MODEL_PATH), f\"{MODEL_PATH} already exists, set FORCE=True to overwrite\"\n",
    "\n",
    "\n",
    "os.environ[\"TRAIN_PATH\"]               = str(TRAIN_PATH)\n",
    "os.environ[\"EVAL_PATH\"]                = str(EVAL_PATH)\n",
    "os.environ[\"TEST_PATH\"]                = str(TEST_PATH)\n",
    "os.environ[\"MODEL_NAME\"]               = str(MODEL_NAME)\n",
    "os.environ[\"MODEL_PATH\"]               = str(MODEL_PATH)\n",
    "os.environ[\"BATCH_SIZE\"]               = str(BATCH_SIZE)\n",
    "os.environ[\"NUM_EPOCHS\"]               = str(NUM_EPOCHS)\n",
    "os.environ[\"SCANN_NUM_NEIGHBORS\"]      = str(SCANN_NUM_NEIGHBORS)\n",
    "#os.environ[\"LEARNING_RATE\"]            = str(LEARNING_RATE)\n",
    "os.environ[\"EMBEDDING_DIM\"]            = str(EMBEDDING_DIM)\n",
    "#os.environ[\"USER_INPUT_EMBEDDING_DIM\"] = str(USER_INPUT_EMBEDDING_DIM)\n",
    "os.environ[\"USER_FEATURES\"]            = json.dumps(USER_FEATURES)"
   ]
  },
  {
   "cell_type": "markdown",
   "id": "295940e1",
   "metadata": {},
   "source": [
    "## launch"
   ]
  },
  {
   "cell_type": "code",
   "execution_count": 7,
   "id": "75617d88",
   "metadata": {},
   "outputs": [
    {
     "name": "stdout",
     "output_type": "stream",
     "text": [
      "jobId: bf_012_hptuning_deep_20210604_131509\n",
      "state: QUEUED\n",
      "createTime: '2021-06-04T13:15:12Z'\n",
      "etag: Ed86ZDkUX-0=\n",
      "jobId: bf_012_hptuning_deep_20210604_131509\n",
      "state: PREPARING\n",
      "trainingInput:\n",
      "  args:\n",
      "  - --train-path=gs://mlteam-ml-specialization-2021-blackfriday/dataset/parsed/202104130952/train.csv\n",
      "  - --eval-path=gs://mlteam-ml-specialization-2021-blackfriday/dataset/parsed/202104130952/test/evalset.csv\n",
      "  - --job-dir=gs://mlteam-ml-specialization-2021-blackfriday/aiplatform_jobs/012_hptuning_deep\n",
      "  - --batch-size=30000\n",
      "  - --scann-num-neighbors=100\n",
      "  - --user-features=[\"Gender\", \"Age\", \"Occupation\", \"City_Category\", \"Stay_In_Current_City_Years\",\n",
      "    \"Marital_Status\"]\n",
      "  - --num-epochs=500\n",
      "  - --embedding-dim=128\n",
      "  hyperparameters:\n",
      "    goal: MINIMIZE\n",
      "    hyperparameterMetricTag: epoch_total_loss\n",
      "    maxParallelTrials: 4\n",
      "    maxTrials: 4\n",
      "    params:\n",
      "    - discreteValues:\n",
      "      - 0.001\n",
      "      - 0.01\n",
      "      parameterName: learning-rate\n",
      "      type: DISCRETE\n",
      "    - discreteValues:\n",
      "      - 128.0\n",
      "      parameterName: product-input-embedding-dim\n",
      "      type: DISCRETE\n",
      "    - discreteValues:\n",
      "      - 128.0\n",
      "      parameterName: embedding-dim\n",
      "      type: DISCRETE\n",
      "    - categoricalValues:\n",
      "      - '[512, 256, 128]'\n",
      "      parameterName: common-layers\n",
      "      type: CATEGORICAL\n",
      "    - categoricalValues:\n",
      "      - '[\"Product_ID\", \"Product_Category_1\"]'\n",
      "      parameterName: product-features\n",
      "      type: CATEGORICAL\n",
      "    - discreteValues:\n",
      "      - 8.0\n",
      "      - 16.0\n",
      "      parameterName: user-input-embedding-dim\n",
      "      type: DISCRETE\n",
      "  jobDir: gs://mlteam-ml-specialization-2021-blackfriday/aiplatform_jobs/012_hptuning_deep\n",
      "  packageUris:\n",
      "  - gs://mlteam-ml-specialization-2021-blackfriday/aiplatform_jobs/012_hptuning_deep/packages/c7f6e3d20ac667f408b160cf2c005fc3180ecfac7472185510cb8ac3fbafa63f/mlspec-blackfriday-0.1.tar.gz\n",
      "  pythonModule: trainer.task\n",
      "  pythonVersion: '3.7'\n",
      "  region: europe-west1\n",
      "  runtimeVersion: '2.4'\n",
      "trainingOutput:\n",
      "  isHyperparameterTuningJob: true\n"
     ]
    },
    {
     "name": "stderr",
     "output_type": "stream",
     "text": [
      "Job [bf_012_hptuning_deep_20210604_131509] submitted successfully.\n",
      "Your job is still active. You may view the status of your job with the command\n",
      "\n",
      "  $ gcloud ai-platform jobs describe bf_012_hptuning_deep_20210604_131509\n",
      "\n",
      "or continue streaming the logs with the command\n",
      "\n",
      "  $ gcloud ai-platform jobs stream-logs bf_012_hptuning_deep_20210604_131509\n",
      "\n",
      "View job in the Cloud Console at:\n",
      "https://console.cloud.google.com/mlengine/jobs/bf_012_hptuning_deep_20210604_131509?project=mlteam-ml-specialization-2021\n",
      "\n",
      "View logs at:\n",
      "https://console.cloud.google.com/logs?resource=ml_job%2Fjob_id%2Fbf_012_hptuning_deep_20210604_131509&project=mlteam-ml-specialization-2021\n"
     ]
    }
   ],
   "source": [
    "%%bash\n",
    "\n",
    "# JOB_NAME: the name of your job running on AI Platform.\n",
    "JOB_NAME=bf_${MODEL_NAME}_$(date +%Y%m%d_%H%M%S)\n",
    "\n",
    "# REGION: select a region from https://cloud.google.com/ai-platform/training/docs/regions\n",
    "# or use the default '`us-central1`'. The region is where the model will be deployed.\n",
    "REGION=europe-west1\n",
    "PYTHON_VERSION=3.7\n",
    "RUNTIME_VERSION=2.4\n",
    "\n",
    "current_dir=\"$(cd \"$(dirname \"${BASH_SOURCE[0]}\")\" >/dev/null 2>&1 && pwd)\"\n",
    "cd ${current_dir}\"/../../..\"\n",
    "\n",
    "config_file=\"${current_dir}/config.yaml\"\n",
    "\n",
    "gcloud ai-platform jobs submit training \"${JOB_NAME}\" \\\n",
    "  --package-path trainer/ \\\n",
    "  --module-name trainer.task \\\n",
    "  --region ${REGION} \\\n",
    "  --python-version ${PYTHON_VERSION} \\\n",
    "  --runtime-version ${RUNTIME_VERSION} \\\n",
    "  --job-dir \"${MODEL_PATH}\" \\\n",
    "  --config \"${config_file}\" \\\n",
    "  -- \\\n",
    "  --train-path=\"${TRAIN_PATH}\" \\\n",
    "  --eval-path=\"${EVAL_PATH}\" \\\n",
    "  --job-dir=\"${MODEL_PATH}\" \\\n",
    "  --batch-size=${BATCH_SIZE} \\\n",
    "  --scann-num-neighbors=${SCANN_NUM_NEIGHBORS} \\\n",
    "  --user-features=\"${USER_FEATURES}\" \\\n",
    "  --num-epochs=${NUM_EPOCHS} \\\n",
    "  --embedding-dim=${EMBEDDING_DIM} \n",
    "\n",
    "#  --user-input-embedding-dim=${USER_INPUT_EMBEDDING_DIM}\n",
    "#  --learning-rate=${LEARNING_RATE} \\\n",
    "\n",
    "gcloud ai-platform jobs describe ${JOB_NAME}"
   ]
  },
  {
   "cell_type": "code",
   "execution_count": 8,
   "id": "c9dd688d",
   "metadata": {},
   "outputs": [],
   "source": [
    "!rm -rf config.yaml"
   ]
  },
  {
   "cell_type": "code",
   "execution_count": 9,
   "id": "e36bc36f",
   "metadata": {},
   "outputs": [],
   "source": [
    "metadata_path = os.path.join(\"gs://mlteam-ml-specialization-2021-blackfriday/aiplatform_jobs\", MODEL_NAME, \"metadata.json\")\n",
    "\n",
    "ml               = discovery.build('ml','v1')\n",
    "projectId        = 'projects/{}'.format(PROJECT)\n",
    "ai_platform_data = ml.projects().jobs().list(parent=projectId).execute()\n",
    "jobs             = ai_platform_data[\"jobs\"]\n",
    "latest_job       = sorted([j for j in jobs if j['jobId'].startswith(f\"bf_{MODEL_NAME}\")], key=lambda x: x[\"jobId\"])[-1]\n",
    "if latest_job[\"trainingOutput\"].get('isHyperparameterTuningJob',None) is not None:\n",
    "    trials = latest_job[\"trainingOutput\"][\"trials\"]\n",
    "    json.dump(trials, tf.io.gfile.GFile(metadata_path, \"w\"))\n",
    "else:\n",
    "    metadata = [{\n",
    "        'trialId'        : '1',\n",
    "        'hyperparameters': {},\n",
    "        'startTime'      : latest_job[\"startTime\"],\n",
    "        'endTime'        : latest_job[\"endTime\"],\n",
    "        'state'          : latest_job[\"state\"],\n",
    "    }]\n",
    "    json.dump(metadata, tf.io.gfile.GFile(metadata_path, \"w\"))"
   ]
  },
  {
   "cell_type": "markdown",
   "id": "12d115d8",
   "metadata": {},
   "source": [
    "# Evaluation"
   ]
  },
  {
   "cell_type": "markdown",
   "id": "7959cffc",
   "metadata": {},
   "source": [
    "## ground truth"
   ]
  },
  {
   "cell_type": "code",
   "execution_count": 10,
   "id": "3bd6f73b",
   "metadata": {},
   "outputs": [],
   "source": [
    "ALL_USER_FEATURES   = [\"Gender\", \"Age\", \"Occupation\", \"City_Category\", \"Stay_In_Current_City_Years\", \"Marital_Status\"] \n",
    "\n",
    "df = pd.read_csv(TEST_PATH)"
   ]
  },
  {
   "cell_type": "markdown",
   "id": "3bf9eec2",
   "metadata": {},
   "source": [
    "## baseline"
   ]
  },
  {
   "cell_type": "code",
   "execution_count": 11,
   "id": "46a96497",
   "metadata": {},
   "outputs": [],
   "source": [
    "class BlackFridayBaseline:\n",
    "    def __init__(self, trainset_location, user_features_list, build_inplace=False):\n",
    "        self.trainset_location, self.user_features_list = trainset_location, user_features_list\n",
    "        if build_inplace:\n",
    "            self.build()\n",
    "        \n",
    "    def build(self):\n",
    "        self.df = pd.read_csv(self.trainset_location).groupby(\n",
    "            self.user_features_list+[\"Product_ID\"])[\"User_ID\"].count().reset_index().rename(\n",
    "            columns={\"User_ID\":\"count_product\"})\n",
    "        \n",
    "    def predict(self, user_features, n_products):\n",
    "        mask = None\n",
    "        for k,v in user_features.items():\n",
    "            if mask is None:\n",
    "                mask = self.df[k]==v\n",
    "            else:\n",
    "                mask = mask&(self.df[k]==v)\n",
    "        return self.df[mask].sort_values(self.user_features_list+[\"count_product\"])[\"Product_ID\"].values[:n_products]\n",
    "        "
   ]
  },
  {
   "cell_type": "markdown",
   "id": "fe69fff5",
   "metadata": {},
   "source": [
    "## model(s)"
   ]
  },
  {
   "cell_type": "code",
   "execution_count": 12,
   "id": "6268f916",
   "metadata": {},
   "outputs": [],
   "source": [
    "class PredictionModel:\n",
    "    def __init__(self, model_path, build_inplace=False):\n",
    "        self.model_path=model_path\n",
    "        if build_inplace:\n",
    "            self.build()\n",
    "    \n",
    "    def build(self):\n",
    "        self.model=tf.keras.models.load_model(self.model_path)\n",
    "        \n",
    "    def predict_batch(self, model_input, n_products):\n",
    "        scores, products = self.model({k:tf.constant(v) for k,v in model_input.items()})\n",
    "        return products.numpy()[:,:n_products]\n",
    "    \n",
    "    def predict_single(self, model_input, n_products):\n",
    "        scores, products = self.model({k:tf.constant([v]) for k,v in model_input.items()})\n",
    "        return products.numpy()[0,:n_products]\n",
    "    \n",
    "\n",
    "\n",
    "    "
   ]
  },
  {
   "cell_type": "markdown",
   "id": "a29b1839",
   "metadata": {},
   "source": [
    "## stats"
   ]
  },
  {
   "cell_type": "code",
   "execution_count": 13,
   "id": "10a85276",
   "metadata": {},
   "outputs": [
    {
     "data": {
      "application/vnd.jupyter.widget-view+json": {
       "model_id": "",
       "version_major": 2,
       "version_minor": 0
      },
      "text/plain": [
       "  0%|          | 0/4 [00:00<?, ?it/s]"
      ]
     },
     "metadata": {},
     "output_type": "display_data"
    },
    {
     "data": {
      "application/vnd.jupyter.widget-view+json": {
       "model_id": "",
       "version_major": 2,
       "version_minor": 0
      },
      "text/plain": [
       "  0%|          | 0/2430 [00:00<?, ?it/s]"
      ]
     },
     "metadata": {},
     "output_type": "display_data"
    },
    {
     "data": {
      "application/vnd.jupyter.widget-view+json": {
       "model_id": "",
       "version_major": 2,
       "version_minor": 0
      },
      "text/plain": [
       "  0%|          | 0/2430 [00:00<?, ?it/s]"
      ]
     },
     "metadata": {},
     "output_type": "display_data"
    },
    {
     "data": {
      "application/vnd.jupyter.widget-view+json": {
       "model_id": "",
       "version_major": 2,
       "version_minor": 0
      },
      "text/plain": [
       "  0%|          | 0/2430 [00:00<?, ?it/s]"
      ]
     },
     "metadata": {},
     "output_type": "display_data"
    },
    {
     "data": {
      "application/vnd.jupyter.widget-view+json": {
       "model_id": "",
       "version_major": 2,
       "version_minor": 0
      },
      "text/plain": [
       "  0%|          | 0/2430 [00:00<?, ?it/s]"
      ]
     },
     "metadata": {},
     "output_type": "display_data"
    },
    {
     "data": {
      "application/vnd.jupyter.widget-view+json": {
       "model_id": "",
       "version_major": 2,
       "version_minor": 0
      },
      "text/plain": [
       "  0%|          | 0/2430 [00:00<?, ?it/s]"
      ]
     },
     "metadata": {},
     "output_type": "display_data"
    },
    {
     "data": {
      "application/vnd.jupyter.widget-view+json": {
       "model_id": "",
       "version_major": 2,
       "version_minor": 0
      },
      "text/plain": [
       "  0%|          | 0/2430 [00:00<?, ?it/s]"
      ]
     },
     "metadata": {},
     "output_type": "display_data"
    },
    {
     "data": {
      "application/vnd.jupyter.widget-view+json": {
       "model_id": "",
       "version_major": 2,
       "version_minor": 0
      },
      "text/plain": [
       "  0%|          | 0/2430 [00:00<?, ?it/s]"
      ]
     },
     "metadata": {},
     "output_type": "display_data"
    },
    {
     "data": {
      "application/vnd.jupyter.widget-view+json": {
       "model_id": "",
       "version_major": 2,
       "version_minor": 0
      },
      "text/plain": [
       "  0%|          | 0/2430 [00:00<?, ?it/s]"
      ]
     },
     "metadata": {},
     "output_type": "display_data"
    },
    {
     "data": {
      "application/vnd.jupyter.widget-view+json": {
       "model_id": "",
       "version_major": 2,
       "version_minor": 0
      },
      "text/plain": [
       "  0%|          | 0/2430 [00:00<?, ?it/s]"
      ]
     },
     "metadata": {},
     "output_type": "display_data"
    },
    {
     "data": {
      "application/vnd.jupyter.widget-view+json": {
       "model_id": "",
       "version_major": 2,
       "version_minor": 0
      },
      "text/plain": [
       "  0%|          | 0/2430 [00:00<?, ?it/s]"
      ]
     },
     "metadata": {},
     "output_type": "display_data"
    },
    {
     "data": {
      "application/vnd.jupyter.widget-view+json": {
       "model_id": "",
       "version_major": 2,
       "version_minor": 0
      },
      "text/plain": [
       "  0%|          | 0/2430 [00:00<?, ?it/s]"
      ]
     },
     "metadata": {},
     "output_type": "display_data"
    },
    {
     "data": {
      "application/vnd.jupyter.widget-view+json": {
       "model_id": "",
       "version_major": 2,
       "version_minor": 0
      },
      "text/plain": [
       "  0%|          | 0/2430 [00:00<?, ?it/s]"
      ]
     },
     "metadata": {},
     "output_type": "display_data"
    },
    {
     "data": {
      "application/vnd.jupyter.widget-view+json": {
       "model_id": "",
       "version_major": 2,
       "version_minor": 0
      },
      "text/plain": [
       "  0%|          | 0/4 [00:00<?, ?it/s]"
      ]
     },
     "metadata": {},
     "output_type": "display_data"
    },
    {
     "data": {
      "application/vnd.jupyter.widget-view+json": {
       "model_id": "",
       "version_major": 2,
       "version_minor": 0
      },
      "text/plain": [
       "  0%|          | 0/4 [00:00<?, ?it/s]"
      ]
     },
     "metadata": {},
     "output_type": "display_data"
    },
    {
     "data": {
      "application/vnd.jupyter.widget-view+json": {
       "model_id": "",
       "version_major": 2,
       "version_minor": 0
      },
      "text/plain": [
       "  0%|          | 0/2430 [00:00<?, ?it/s]"
      ]
     },
     "metadata": {},
     "output_type": "display_data"
    },
    {
     "data": {
      "application/vnd.jupyter.widget-view+json": {
       "model_id": "",
       "version_major": 2,
       "version_minor": 0
      },
      "text/plain": [
       "  0%|          | 0/2430 [00:00<?, ?it/s]"
      ]
     },
     "metadata": {},
     "output_type": "display_data"
    },
    {
     "data": {
      "application/vnd.jupyter.widget-view+json": {
       "model_id": "",
       "version_major": 2,
       "version_minor": 0
      },
      "text/plain": [
       "  0%|          | 0/2430 [00:00<?, ?it/s]"
      ]
     },
     "metadata": {},
     "output_type": "display_data"
    },
    {
     "data": {
      "application/vnd.jupyter.widget-view+json": {
       "model_id": "",
       "version_major": 2,
       "version_minor": 0
      },
      "text/plain": [
       "  0%|          | 0/2430 [00:00<?, ?it/s]"
      ]
     },
     "metadata": {},
     "output_type": "display_data"
    },
    {
     "data": {
      "application/vnd.jupyter.widget-view+json": {
       "model_id": "",
       "version_major": 2,
       "version_minor": 0
      },
      "text/plain": [
       "  0%|          | 0/2430 [00:00<?, ?it/s]"
      ]
     },
     "metadata": {},
     "output_type": "display_data"
    },
    {
     "data": {
      "application/vnd.jupyter.widget-view+json": {
       "model_id": "",
       "version_major": 2,
       "version_minor": 0
      },
      "text/plain": [
       "  0%|          | 0/2430 [00:00<?, ?it/s]"
      ]
     },
     "metadata": {},
     "output_type": "display_data"
    },
    {
     "data": {
      "application/vnd.jupyter.widget-view+json": {
       "model_id": "",
       "version_major": 2,
       "version_minor": 0
      },
      "text/plain": [
       "  0%|          | 0/2430 [00:00<?, ?it/s]"
      ]
     },
     "metadata": {},
     "output_type": "display_data"
    },
    {
     "data": {
      "application/vnd.jupyter.widget-view+json": {
       "model_id": "",
       "version_major": 2,
       "version_minor": 0
      },
      "text/plain": [
       "  0%|          | 0/2430 [00:00<?, ?it/s]"
      ]
     },
     "metadata": {},
     "output_type": "display_data"
    },
    {
     "data": {
      "application/vnd.jupyter.widget-view+json": {
       "model_id": "",
       "version_major": 2,
       "version_minor": 0
      },
      "text/plain": [
       "  0%|          | 0/2430 [00:00<?, ?it/s]"
      ]
     },
     "metadata": {},
     "output_type": "display_data"
    },
    {
     "data": {
      "application/vnd.jupyter.widget-view+json": {
       "model_id": "",
       "version_major": 2,
       "version_minor": 0
      },
      "text/plain": [
       "  0%|          | 0/2430 [00:00<?, ?it/s]"
      ]
     },
     "metadata": {},
     "output_type": "display_data"
    },
    {
     "data": {
      "application/vnd.jupyter.widget-view+json": {
       "model_id": "",
       "version_major": 2,
       "version_minor": 0
      },
      "text/plain": [
       "  0%|          | 0/2430 [00:00<?, ?it/s]"
      ]
     },
     "metadata": {},
     "output_type": "display_data"
    },
    {
     "data": {
      "application/vnd.jupyter.widget-view+json": {
       "model_id": "",
       "version_major": 2,
       "version_minor": 0
      },
      "text/plain": [
       "  0%|          | 0/2430 [00:00<?, ?it/s]"
      ]
     },
     "metadata": {},
     "output_type": "display_data"
    },
    {
     "data": {
      "application/vnd.jupyter.widget-view+json": {
       "model_id": "",
       "version_major": 2,
       "version_minor": 0
      },
      "text/plain": [
       "  0%|          | 0/4 [00:00<?, ?it/s]"
      ]
     },
     "metadata": {},
     "output_type": "display_data"
    },
    {
     "data": {
      "application/vnd.jupyter.widget-view+json": {
       "model_id": "",
       "version_major": 2,
       "version_minor": 0
      },
      "text/plain": [
       "  0%|          | 0/2430 [00:00<?, ?it/s]"
      ]
     },
     "metadata": {},
     "output_type": "display_data"
    },
    {
     "data": {
      "application/vnd.jupyter.widget-view+json": {
       "model_id": "",
       "version_major": 2,
       "version_minor": 0
      },
      "text/plain": [
       "  0%|          | 0/2430 [00:00<?, ?it/s]"
      ]
     },
     "metadata": {},
     "output_type": "display_data"
    },
    {
     "data": {
      "application/vnd.jupyter.widget-view+json": {
       "model_id": "",
       "version_major": 2,
       "version_minor": 0
      },
      "text/plain": [
       "  0%|          | 0/2430 [00:00<?, ?it/s]"
      ]
     },
     "metadata": {},
     "output_type": "display_data"
    },
    {
     "data": {
      "application/vnd.jupyter.widget-view+json": {
       "model_id": "",
       "version_major": 2,
       "version_minor": 0
      },
      "text/plain": [
       "  0%|          | 0/2430 [00:00<?, ?it/s]"
      ]
     },
     "metadata": {},
     "output_type": "display_data"
    },
    {
     "data": {
      "application/vnd.jupyter.widget-view+json": {
       "model_id": "",
       "version_major": 2,
       "version_minor": 0
      },
      "text/plain": [
       "  0%|          | 0/2430 [00:00<?, ?it/s]"
      ]
     },
     "metadata": {},
     "output_type": "display_data"
    },
    {
     "data": {
      "application/vnd.jupyter.widget-view+json": {
       "model_id": "",
       "version_major": 2,
       "version_minor": 0
      },
      "text/plain": [
       "  0%|          | 0/2430 [00:00<?, ?it/s]"
      ]
     },
     "metadata": {},
     "output_type": "display_data"
    },
    {
     "data": {
      "application/vnd.jupyter.widget-view+json": {
       "model_id": "",
       "version_major": 2,
       "version_minor": 0
      },
      "text/plain": [
       "  0%|          | 0/2430 [00:00<?, ?it/s]"
      ]
     },
     "metadata": {},
     "output_type": "display_data"
    },
    {
     "data": {
      "application/vnd.jupyter.widget-view+json": {
       "model_id": "",
       "version_major": 2,
       "version_minor": 0
      },
      "text/plain": [
       "  0%|          | 0/2430 [00:00<?, ?it/s]"
      ]
     },
     "metadata": {},
     "output_type": "display_data"
    },
    {
     "data": {
      "application/vnd.jupyter.widget-view+json": {
       "model_id": "",
       "version_major": 2,
       "version_minor": 0
      },
      "text/plain": [
       "  0%|          | 0/2430 [00:00<?, ?it/s]"
      ]
     },
     "metadata": {},
     "output_type": "display_data"
    },
    {
     "data": {
      "application/vnd.jupyter.widget-view+json": {
       "model_id": "",
       "version_major": 2,
       "version_minor": 0
      },
      "text/plain": [
       "  0%|          | 0/2430 [00:00<?, ?it/s]"
      ]
     },
     "metadata": {},
     "output_type": "display_data"
    },
    {
     "data": {
      "application/vnd.jupyter.widget-view+json": {
       "model_id": "",
       "version_major": 2,
       "version_minor": 0
      },
      "text/plain": [
       "  0%|          | 0/2430 [00:00<?, ?it/s]"
      ]
     },
     "metadata": {},
     "output_type": "display_data"
    },
    {
     "data": {
      "application/vnd.jupyter.widget-view+json": {
       "model_id": "",
       "version_major": 2,
       "version_minor": 0
      },
      "text/plain": [
       "  0%|          | 0/2430 [00:00<?, ?it/s]"
      ]
     },
     "metadata": {},
     "output_type": "display_data"
    },
    {
     "data": {
      "application/vnd.jupyter.widget-view+json": {
       "model_id": "",
       "version_major": 2,
       "version_minor": 0
      },
      "text/plain": [
       "  0%|          | 0/4 [00:00<?, ?it/s]"
      ]
     },
     "metadata": {},
     "output_type": "display_data"
    },
    {
     "data": {
      "application/vnd.jupyter.widget-view+json": {
       "model_id": "",
       "version_major": 2,
       "version_minor": 0
      },
      "text/plain": [
       "  0%|          | 0/2430 [00:00<?, ?it/s]"
      ]
     },
     "metadata": {},
     "output_type": "display_data"
    },
    {
     "data": {
      "application/vnd.jupyter.widget-view+json": {
       "model_id": "",
       "version_major": 2,
       "version_minor": 0
      },
      "text/plain": [
       "  0%|          | 0/2430 [00:00<?, ?it/s]"
      ]
     },
     "metadata": {},
     "output_type": "display_data"
    },
    {
     "data": {
      "application/vnd.jupyter.widget-view+json": {
       "model_id": "",
       "version_major": 2,
       "version_minor": 0
      },
      "text/plain": [
       "  0%|          | 0/2430 [00:00<?, ?it/s]"
      ]
     },
     "metadata": {},
     "output_type": "display_data"
    },
    {
     "data": {
      "application/vnd.jupyter.widget-view+json": {
       "model_id": "",
       "version_major": 2,
       "version_minor": 0
      },
      "text/plain": [
       "  0%|          | 0/2430 [00:00<?, ?it/s]"
      ]
     },
     "metadata": {},
     "output_type": "display_data"
    },
    {
     "data": {
      "application/vnd.jupyter.widget-view+json": {
       "model_id": "",
       "version_major": 2,
       "version_minor": 0
      },
      "text/plain": [
       "  0%|          | 0/2430 [00:00<?, ?it/s]"
      ]
     },
     "metadata": {},
     "output_type": "display_data"
    },
    {
     "data": {
      "application/vnd.jupyter.widget-view+json": {
       "model_id": "",
       "version_major": 2,
       "version_minor": 0
      },
      "text/plain": [
       "  0%|          | 0/2430 [00:00<?, ?it/s]"
      ]
     },
     "metadata": {},
     "output_type": "display_data"
    },
    {
     "data": {
      "application/vnd.jupyter.widget-view+json": {
       "model_id": "",
       "version_major": 2,
       "version_minor": 0
      },
      "text/plain": [
       "  0%|          | 0/2430 [00:00<?, ?it/s]"
      ]
     },
     "metadata": {},
     "output_type": "display_data"
    },
    {
     "data": {
      "application/vnd.jupyter.widget-view+json": {
       "model_id": "",
       "version_major": 2,
       "version_minor": 0
      },
      "text/plain": [
       "  0%|          | 0/2430 [00:00<?, ?it/s]"
      ]
     },
     "metadata": {},
     "output_type": "display_data"
    },
    {
     "data": {
      "application/vnd.jupyter.widget-view+json": {
       "model_id": "",
       "version_major": 2,
       "version_minor": 0
      },
      "text/plain": [
       "  0%|          | 0/2430 [00:00<?, ?it/s]"
      ]
     },
     "metadata": {},
     "output_type": "display_data"
    },
    {
     "data": {
      "application/vnd.jupyter.widget-view+json": {
       "model_id": "",
       "version_major": 2,
       "version_minor": 0
      },
      "text/plain": [
       "  0%|          | 0/2430 [00:00<?, ?it/s]"
      ]
     },
     "metadata": {},
     "output_type": "display_data"
    },
    {
     "data": {
      "application/vnd.jupyter.widget-view+json": {
       "model_id": "",
       "version_major": 2,
       "version_minor": 0
      },
      "text/plain": [
       "  0%|          | 0/2430 [00:00<?, ?it/s]"
      ]
     },
     "metadata": {},
     "output_type": "display_data"
    },
    {
     "data": {
      "application/vnd.jupyter.widget-view+json": {
       "model_id": "",
       "version_major": 2,
       "version_minor": 0
      },
      "text/plain": [
       "  0%|          | 0/2430 [00:00<?, ?it/s]"
      ]
     },
     "metadata": {},
     "output_type": "display_data"
    },
    {
     "data": {
      "application/vnd.jupyter.widget-view+json": {
       "model_id": "",
       "version_major": 2,
       "version_minor": 0
      },
      "text/plain": [
       "  0%|          | 0/4 [00:00<?, ?it/s]"
      ]
     },
     "metadata": {},
     "output_type": "display_data"
    },
    {
     "data": {
      "application/vnd.jupyter.widget-view+json": {
       "model_id": "",
       "version_major": 2,
       "version_minor": 0
      },
      "text/plain": [
       "  0%|          | 0/2430 [00:00<?, ?it/s]"
      ]
     },
     "metadata": {},
     "output_type": "display_data"
    },
    {
     "data": {
      "application/vnd.jupyter.widget-view+json": {
       "model_id": "",
       "version_major": 2,
       "version_minor": 0
      },
      "text/plain": [
       "  0%|          | 0/2430 [00:00<?, ?it/s]"
      ]
     },
     "metadata": {},
     "output_type": "display_data"
    },
    {
     "data": {
      "application/vnd.jupyter.widget-view+json": {
       "model_id": "",
       "version_major": 2,
       "version_minor": 0
      },
      "text/plain": [
       "  0%|          | 0/2430 [00:00<?, ?it/s]"
      ]
     },
     "metadata": {},
     "output_type": "display_data"
    },
    {
     "data": {
      "application/vnd.jupyter.widget-view+json": {
       "model_id": "",
       "version_major": 2,
       "version_minor": 0
      },
      "text/plain": [
       "  0%|          | 0/2430 [00:00<?, ?it/s]"
      ]
     },
     "metadata": {},
     "output_type": "display_data"
    },
    {
     "data": {
      "application/vnd.jupyter.widget-view+json": {
       "model_id": "",
       "version_major": 2,
       "version_minor": 0
      },
      "text/plain": [
       "  0%|          | 0/2430 [00:00<?, ?it/s]"
      ]
     },
     "metadata": {},
     "output_type": "display_data"
    },
    {
     "data": {
      "application/vnd.jupyter.widget-view+json": {
       "model_id": "",
       "version_major": 2,
       "version_minor": 0
      },
      "text/plain": [
       "  0%|          | 0/2430 [00:00<?, ?it/s]"
      ]
     },
     "metadata": {},
     "output_type": "display_data"
    },
    {
     "data": {
      "application/vnd.jupyter.widget-view+json": {
       "model_id": "",
       "version_major": 2,
       "version_minor": 0
      },
      "text/plain": [
       "  0%|          | 0/2430 [00:00<?, ?it/s]"
      ]
     },
     "metadata": {},
     "output_type": "display_data"
    },
    {
     "data": {
      "application/vnd.jupyter.widget-view+json": {
       "model_id": "",
       "version_major": 2,
       "version_minor": 0
      },
      "text/plain": [
       "  0%|          | 0/2430 [00:00<?, ?it/s]"
      ]
     },
     "metadata": {},
     "output_type": "display_data"
    },
    {
     "data": {
      "application/vnd.jupyter.widget-view+json": {
       "model_id": "",
       "version_major": 2,
       "version_minor": 0
      },
      "text/plain": [
       "  0%|          | 0/2430 [00:00<?, ?it/s]"
      ]
     },
     "metadata": {},
     "output_type": "display_data"
    },
    {
     "data": {
      "application/vnd.jupyter.widget-view+json": {
       "model_id": "",
       "version_major": 2,
       "version_minor": 0
      },
      "text/plain": [
       "  0%|          | 0/2430 [00:00<?, ?it/s]"
      ]
     },
     "metadata": {},
     "output_type": "display_data"
    },
    {
     "data": {
      "application/vnd.jupyter.widget-view+json": {
       "model_id": "",
       "version_major": 2,
       "version_minor": 0
      },
      "text/plain": [
       "  0%|          | 0/2430 [00:00<?, ?it/s]"
      ]
     },
     "metadata": {},
     "output_type": "display_data"
    },
    {
     "data": {
      "application/vnd.jupyter.widget-view+json": {
       "model_id": "",
       "version_major": 2,
       "version_minor": 0
      },
      "text/plain": [
       "  0%|          | 0/2430 [00:00<?, ?it/s]"
      ]
     },
     "metadata": {},
     "output_type": "display_data"
    },
    {
     "data": {
      "text/html": [
       "<div>\n",
       "<style scoped>\n",
       "    .dataframe tbody tr th:only-of-type {\n",
       "        vertical-align: middle;\n",
       "    }\n",
       "\n",
       "    .dataframe tbody tr th {\n",
       "        vertical-align: top;\n",
       "    }\n",
       "\n",
       "    .dataframe thead th {\n",
       "        text-align: right;\n",
       "    }\n",
       "</style>\n",
       "<table border=\"1\" class=\"dataframe\">\n",
       "  <thead>\n",
       "    <tr style=\"text-align: right;\">\n",
       "      <th></th>\n",
       "      <th>top</th>\n",
       "      <th>model</th>\n",
       "      <th>tp</th>\n",
       "      <th>fp</th>\n",
       "      <th>fn</th>\n",
       "      <th>reach</th>\n",
       "      <th>precision</th>\n",
       "      <th>recall</th>\n",
       "      <th>tp_over_reach</th>\n",
       "    </tr>\n",
       "  </thead>\n",
       "  <tbody>\n",
       "    <tr>\n",
       "      <th>baseline_top1</th>\n",
       "      <td>1</td>\n",
       "      <td>baseline</td>\n",
       "      <td>637</td>\n",
       "      <td>1754</td>\n",
       "      <td>273647</td>\n",
       "      <td>2391</td>\n",
       "      <td>0.266416</td>\n",
       "      <td>0.002322</td>\n",
       "      <td>0.266416</td>\n",
       "    </tr>\n",
       "    <tr>\n",
       "      <th>baseline_top10</th>\n",
       "      <td>10</td>\n",
       "      <td>baseline</td>\n",
       "      <td>5184</td>\n",
       "      <td>14437</td>\n",
       "      <td>269100</td>\n",
       "      <td>19618</td>\n",
       "      <td>0.264207</td>\n",
       "      <td>0.0189</td>\n",
       "      <td>0.264247</td>\n",
       "    </tr>\n",
       "    <tr>\n",
       "      <th>baseline_top50</th>\n",
       "      <td>50</td>\n",
       "      <td>baseline</td>\n",
       "      <td>15198</td>\n",
       "      <td>39057</td>\n",
       "      <td>259086</td>\n",
       "      <td>54252</td>\n",
       "      <td>0.280122</td>\n",
       "      <td>0.05541</td>\n",
       "      <td>0.280137</td>\n",
       "    </tr>\n",
       "    <tr>\n",
       "      <th>baseline_top100</th>\n",
       "      <td>100</td>\n",
       "      <td>baseline</td>\n",
       "      <td>19780</td>\n",
       "      <td>47500</td>\n",
       "      <td>254504</td>\n",
       "      <td>67277</td>\n",
       "      <td>0.293995</td>\n",
       "      <td>0.072115</td>\n",
       "      <td>0.294008</td>\n",
       "    </tr>\n",
       "    <tr>\n",
       "      <th>trial_4_top1</th>\n",
       "      <td>1</td>\n",
       "      <td>trial_4</td>\n",
       "      <td>115</td>\n",
       "      <td>2315</td>\n",
       "      <td>274169</td>\n",
       "      <td>2430</td>\n",
       "      <td>0.047325</td>\n",
       "      <td>0.000419</td>\n",
       "      <td>0.047325</td>\n",
       "    </tr>\n",
       "    <tr>\n",
       "      <th>trial_4_top10</th>\n",
       "      <td>10</td>\n",
       "      <td>trial_4</td>\n",
       "      <td>1260</td>\n",
       "      <td>23040</td>\n",
       "      <td>273024</td>\n",
       "      <td>23612</td>\n",
       "      <td>0.051852</td>\n",
       "      <td>0.004594</td>\n",
       "      <td>0.053363</td>\n",
       "    </tr>\n",
       "    <tr>\n",
       "      <th>trial_4_top50</th>\n",
       "      <td>50</td>\n",
       "      <td>trial_4</td>\n",
       "      <td>7421</td>\n",
       "      <td>114079</td>\n",
       "      <td>266863</td>\n",
       "      <td>91899</td>\n",
       "      <td>0.061078</td>\n",
       "      <td>0.027056</td>\n",
       "      <td>0.080752</td>\n",
       "    </tr>\n",
       "    <tr>\n",
       "      <th>trial_4_top100</th>\n",
       "      <td>100</td>\n",
       "      <td>trial_4</td>\n",
       "      <td>15863</td>\n",
       "      <td>227137</td>\n",
       "      <td>258421</td>\n",
       "      <td>146329</td>\n",
       "      <td>0.06528</td>\n",
       "      <td>0.057834</td>\n",
       "      <td>0.108406</td>\n",
       "    </tr>\n",
       "    <tr>\n",
       "      <th>trial_3_top1</th>\n",
       "      <td>1</td>\n",
       "      <td>trial_3</td>\n",
       "      <td>27</td>\n",
       "      <td>2403</td>\n",
       "      <td>274257</td>\n",
       "      <td>2430</td>\n",
       "      <td>0.011111</td>\n",
       "      <td>0.000098</td>\n",
       "      <td>0.011111</td>\n",
       "    </tr>\n",
       "    <tr>\n",
       "      <th>trial_3_top10</th>\n",
       "      <td>10</td>\n",
       "      <td>trial_3</td>\n",
       "      <td>295</td>\n",
       "      <td>24005</td>\n",
       "      <td>273989</td>\n",
       "      <td>23612</td>\n",
       "      <td>0.01214</td>\n",
       "      <td>0.001076</td>\n",
       "      <td>0.012494</td>\n",
       "    </tr>\n",
       "    <tr>\n",
       "      <th>trial_3_top50</th>\n",
       "      <td>50</td>\n",
       "      <td>trial_3</td>\n",
       "      <td>2407</td>\n",
       "      <td>119093</td>\n",
       "      <td>271877</td>\n",
       "      <td>91899</td>\n",
       "      <td>0.019811</td>\n",
       "      <td>0.008776</td>\n",
       "      <td>0.026192</td>\n",
       "    </tr>\n",
       "    <tr>\n",
       "      <th>trial_3_top100</th>\n",
       "      <td>100</td>\n",
       "      <td>trial_3</td>\n",
       "      <td>6269</td>\n",
       "      <td>236731</td>\n",
       "      <td>268015</td>\n",
       "      <td>146329</td>\n",
       "      <td>0.025798</td>\n",
       "      <td>0.022856</td>\n",
       "      <td>0.042842</td>\n",
       "    </tr>\n",
       "    <tr>\n",
       "      <th>trial_2_top1</th>\n",
       "      <td>1</td>\n",
       "      <td>trial_2</td>\n",
       "      <td>31</td>\n",
       "      <td>2399</td>\n",
       "      <td>274253</td>\n",
       "      <td>2430</td>\n",
       "      <td>0.012757</td>\n",
       "      <td>0.000113</td>\n",
       "      <td>0.012757</td>\n",
       "    </tr>\n",
       "    <tr>\n",
       "      <th>trial_2_top10</th>\n",
       "      <td>10</td>\n",
       "      <td>trial_2</td>\n",
       "      <td>350</td>\n",
       "      <td>23950</td>\n",
       "      <td>273934</td>\n",
       "      <td>23612</td>\n",
       "      <td>0.014403</td>\n",
       "      <td>0.001276</td>\n",
       "      <td>0.014823</td>\n",
       "    </tr>\n",
       "    <tr>\n",
       "      <th>trial_2_top50</th>\n",
       "      <td>50</td>\n",
       "      <td>trial_2</td>\n",
       "      <td>2528</td>\n",
       "      <td>118972</td>\n",
       "      <td>271756</td>\n",
       "      <td>91899</td>\n",
       "      <td>0.020807</td>\n",
       "      <td>0.009217</td>\n",
       "      <td>0.027508</td>\n",
       "    </tr>\n",
       "    <tr>\n",
       "      <th>trial_2_top100</th>\n",
       "      <td>100</td>\n",
       "      <td>trial_2</td>\n",
       "      <td>6226</td>\n",
       "      <td>236774</td>\n",
       "      <td>268058</td>\n",
       "      <td>146329</td>\n",
       "      <td>0.025621</td>\n",
       "      <td>0.022699</td>\n",
       "      <td>0.042548</td>\n",
       "    </tr>\n",
       "    <tr>\n",
       "      <th>trial_1_top1</th>\n",
       "      <td>1</td>\n",
       "      <td>trial_1</td>\n",
       "      <td>175</td>\n",
       "      <td>2255</td>\n",
       "      <td>274109</td>\n",
       "      <td>2430</td>\n",
       "      <td>0.072016</td>\n",
       "      <td>0.000638</td>\n",
       "      <td>0.072016</td>\n",
       "    </tr>\n",
       "    <tr>\n",
       "      <th>trial_1_top10</th>\n",
       "      <td>10</td>\n",
       "      <td>trial_1</td>\n",
       "      <td>1623</td>\n",
       "      <td>22677</td>\n",
       "      <td>272661</td>\n",
       "      <td>23612</td>\n",
       "      <td>0.06679</td>\n",
       "      <td>0.005917</td>\n",
       "      <td>0.068736</td>\n",
       "    </tr>\n",
       "    <tr>\n",
       "      <th>trial_1_top50</th>\n",
       "      <td>50</td>\n",
       "      <td>trial_1</td>\n",
       "      <td>8883</td>\n",
       "      <td>112617</td>\n",
       "      <td>265401</td>\n",
       "      <td>91899</td>\n",
       "      <td>0.073111</td>\n",
       "      <td>0.032386</td>\n",
       "      <td>0.09666</td>\n",
       "    </tr>\n",
       "    <tr>\n",
       "      <th>trial_1_top100</th>\n",
       "      <td>100</td>\n",
       "      <td>trial_1</td>\n",
       "      <td>17733</td>\n",
       "      <td>225267</td>\n",
       "      <td>256551</td>\n",
       "      <td>146329</td>\n",
       "      <td>0.072975</td>\n",
       "      <td>0.064652</td>\n",
       "      <td>0.121186</td>\n",
       "    </tr>\n",
       "  </tbody>\n",
       "</table>\n",
       "</div>"
      ],
      "text/plain": [
       "                 top     model     tp      fp      fn   reach precision  \\\n",
       "baseline_top1      1  baseline    637    1754  273647    2391  0.266416   \n",
       "baseline_top10    10  baseline   5184   14437  269100   19618  0.264207   \n",
       "baseline_top50    50  baseline  15198   39057  259086   54252  0.280122   \n",
       "baseline_top100  100  baseline  19780   47500  254504   67277  0.293995   \n",
       "trial_4_top1       1   trial_4    115    2315  274169    2430  0.047325   \n",
       "trial_4_top10     10   trial_4   1260   23040  273024   23612  0.051852   \n",
       "trial_4_top50     50   trial_4   7421  114079  266863   91899  0.061078   \n",
       "trial_4_top100   100   trial_4  15863  227137  258421  146329   0.06528   \n",
       "trial_3_top1       1   trial_3     27    2403  274257    2430  0.011111   \n",
       "trial_3_top10     10   trial_3    295   24005  273989   23612   0.01214   \n",
       "trial_3_top50     50   trial_3   2407  119093  271877   91899  0.019811   \n",
       "trial_3_top100   100   trial_3   6269  236731  268015  146329  0.025798   \n",
       "trial_2_top1       1   trial_2     31    2399  274253    2430  0.012757   \n",
       "trial_2_top10     10   trial_2    350   23950  273934   23612  0.014403   \n",
       "trial_2_top50     50   trial_2   2528  118972  271756   91899  0.020807   \n",
       "trial_2_top100   100   trial_2   6226  236774  268058  146329  0.025621   \n",
       "trial_1_top1       1   trial_1    175    2255  274109    2430  0.072016   \n",
       "trial_1_top10     10   trial_1   1623   22677  272661   23612   0.06679   \n",
       "trial_1_top50     50   trial_1   8883  112617  265401   91899  0.073111   \n",
       "trial_1_top100   100   trial_1  17733  225267  256551  146329  0.072975   \n",
       "\n",
       "                   recall tp_over_reach  \n",
       "baseline_top1    0.002322      0.266416  \n",
       "baseline_top10     0.0189      0.264247  \n",
       "baseline_top50    0.05541      0.280137  \n",
       "baseline_top100  0.072115      0.294008  \n",
       "trial_4_top1     0.000419      0.047325  \n",
       "trial_4_top10    0.004594      0.053363  \n",
       "trial_4_top50    0.027056      0.080752  \n",
       "trial_4_top100   0.057834      0.108406  \n",
       "trial_3_top1     0.000098      0.011111  \n",
       "trial_3_top10    0.001076      0.012494  \n",
       "trial_3_top50    0.008776      0.026192  \n",
       "trial_3_top100   0.022856      0.042842  \n",
       "trial_2_top1     0.000113      0.012757  \n",
       "trial_2_top10    0.001276      0.014823  \n",
       "trial_2_top50    0.009217      0.027508  \n",
       "trial_2_top100   0.022699      0.042548  \n",
       "trial_1_top1     0.000638      0.072016  \n",
       "trial_1_top10    0.005917      0.068736  \n",
       "trial_1_top50    0.032386       0.09666  \n",
       "trial_1_top100   0.064652      0.121186  "
      ]
     },
     "execution_count": 13,
     "metadata": {},
     "output_type": "execute_result"
    }
   ],
   "source": [
    "tf.compat.v1.logging.set_verbosity(tf.compat.v1.logging.ERROR)\n",
    "df_grouped = pd.read_csv(TEST_PATH).groupby(ALL_USER_FEATURES)[\"Product_ID\"].apply(list).apply(np.array).reset_index()\n",
    "top_k = [1, 10, 50, 100]\n",
    "results = dict()\n",
    "\n",
    "baseline = BlackFridayBaseline(TRAIN_PATH, ALL_USER_FEATURES, True)\n",
    "for k in tqdm(top_k, leave=False):\n",
    "    metrics_id = f\"baseline_top{k}\"\n",
    "    df_grouped[metrics_id]         = df_grouped[ALL_USER_FEATURES].progress_apply(lambda x: baseline.predict(x, k), axis=1)\n",
    "    baseline_true_positives        = df_grouped.progress_apply(lambda x: np.intersect1d(x[\"Product_ID\"],x[metrics_id]).shape[0], axis=1).sum()\n",
    "    baseline_false_negatives       = df.shape[0] - baseline_true_positives\n",
    "    baseline_false_positives       = df_grouped[metrics_id].apply(lambda x: x.shape[0]).sum() - baseline_true_positives\n",
    "    baseline_reach                 = df_grouped.progress_apply(lambda x: min(x[\"Product_ID\"].shape[0],x[metrics_id].shape[0]), axis=1).sum()\n",
    "    results[f\"baseline_top{k}\"]    = {\n",
    "        \"top\"  : k,\n",
    "        \"model\": \"baseline\",\n",
    "        \"tp\"   : baseline_true_positives,\n",
    "        \"fp\"   : baseline_false_positives,\n",
    "        \"fn\"   : baseline_false_negatives,\n",
    "        \"reach\": baseline_reach #portata\n",
    "    }\n",
    "    \n",
    "\n",
    "metadata_path = os.path.join(\"gs://mlteam-ml-specialization-2021-blackfriday/aiplatform_jobs\", MODEL_NAME, \"metadata.json\")\n",
    "metadata = json.load(tf.io.gfile.GFile(metadata_path, \"r\"))\n",
    "for j in tqdm(metadata, leave=False):\n",
    "    model = PredictionModel(os.path.join(\"gs://mlteam-ml-specialization-2021-blackfriday/aiplatform_jobs\", MODEL_NAME, j['trialId'], 'Scann'), True)\n",
    "    hps = json.dumps(j[\"hyperparameters\"])\n",
    "    model_id = f\"trial_{j['trialId']}\"\n",
    "    for k in tqdm(top_k, leave=False):\n",
    "        metrics_id=f\"trial_{j['trialId']}_top{k}\"\n",
    "        df_grouped[metrics_id] = df_grouped[USER_FEATURES].progress_apply(lambda x: model.predict_single(x.astype(str), k).astype(str), axis=1)\n",
    "        tp = df_grouped.progress_apply(lambda x: np.intersect1d(x[\"Product_ID\"],x[metrics_id]).shape[0], axis=1).sum()\n",
    "        fn = df.shape[0] - tp\n",
    "        fp = df_grouped[metrics_id].apply(lambda x: x.shape[0]).sum() - tp\n",
    "        reach = df_grouped.progress_apply(lambda x: min(len(x[\"Product_ID\"]),x[metrics_id].shape[0]), axis=1).sum() \n",
    "        results[metrics_id] = {\n",
    "            \"top\"  : k,\n",
    "            \"model\": model_id,\n",
    "            \"tp\"   : tp,\n",
    "            \"fp\"   : fp,\n",
    "            \"fn\"   : fn,\n",
    "            \"reach\": reach\n",
    "        }\n",
    "    \n",
    "df_results = pd.DataFrame(results).T\n",
    "df_results[\"precision\"] = df_results[\"tp\"]/(df_results[\"tp\"]+df_results[\"fp\"])\n",
    "df_results[\"recall\"] = df_results[\"tp\"]/(df_results[\"tp\"]+df_results[\"fn\"])\n",
    "df_results[\"tp_over_reach\"] = df_results[\"tp\"]/df_results[\"reach\"]\n",
    "df_results"
   ]
  },
  {
   "cell_type": "code",
   "execution_count": 14,
   "id": "4b21db6d",
   "metadata": {},
   "outputs": [
    {
     "data": {
      "text/html": [
       "<div>\n",
       "<style scoped>\n",
       "    .dataframe tbody tr th:only-of-type {\n",
       "        vertical-align: middle;\n",
       "    }\n",
       "\n",
       "    .dataframe tbody tr th {\n",
       "        vertical-align: top;\n",
       "    }\n",
       "\n",
       "    .dataframe thead th {\n",
       "        text-align: right;\n",
       "    }\n",
       "</style>\n",
       "<table border=\"1\" class=\"dataframe\">\n",
       "  <thead>\n",
       "    <tr style=\"text-align: right;\">\n",
       "      <th>top</th>\n",
       "      <th>1</th>\n",
       "      <th>10</th>\n",
       "      <th>50</th>\n",
       "      <th>100</th>\n",
       "    </tr>\n",
       "    <tr>\n",
       "      <th>model</th>\n",
       "      <th></th>\n",
       "      <th></th>\n",
       "      <th></th>\n",
       "      <th></th>\n",
       "    </tr>\n",
       "  </thead>\n",
       "  <tbody>\n",
       "    <tr>\n",
       "      <th>baseline</th>\n",
       "      <td>0.266416</td>\n",
       "      <td>0.264207</td>\n",
       "      <td>0.280122</td>\n",
       "      <td>0.293995</td>\n",
       "    </tr>\n",
       "    <tr>\n",
       "      <th>trial_1</th>\n",
       "      <td>0.072016</td>\n",
       "      <td>0.06679</td>\n",
       "      <td>0.073111</td>\n",
       "      <td>0.072975</td>\n",
       "    </tr>\n",
       "    <tr>\n",
       "      <th>trial_2</th>\n",
       "      <td>0.012757</td>\n",
       "      <td>0.014403</td>\n",
       "      <td>0.020807</td>\n",
       "      <td>0.025621</td>\n",
       "    </tr>\n",
       "    <tr>\n",
       "      <th>trial_3</th>\n",
       "      <td>0.011111</td>\n",
       "      <td>0.01214</td>\n",
       "      <td>0.019811</td>\n",
       "      <td>0.025798</td>\n",
       "    </tr>\n",
       "    <tr>\n",
       "      <th>trial_4</th>\n",
       "      <td>0.047325</td>\n",
       "      <td>0.051852</td>\n",
       "      <td>0.061078</td>\n",
       "      <td>0.06528</td>\n",
       "    </tr>\n",
       "  </tbody>\n",
       "</table>\n",
       "</div>"
      ],
      "text/plain": [
       "top            1         10        50        100\n",
       "model                                           \n",
       "baseline  0.266416  0.264207  0.280122  0.293995\n",
       "trial_1   0.072016   0.06679  0.073111  0.072975\n",
       "trial_2   0.012757  0.014403  0.020807  0.025621\n",
       "trial_3   0.011111   0.01214  0.019811  0.025798\n",
       "trial_4   0.047325  0.051852  0.061078   0.06528"
      ]
     },
     "execution_count": 14,
     "metadata": {},
     "output_type": "execute_result"
    }
   ],
   "source": [
    "df_results.pivot(\"model\",\"top\",\"precision\")"
   ]
  },
  {
   "cell_type": "code",
   "execution_count": 15,
   "id": "3daa9026",
   "metadata": {},
   "outputs": [
    {
     "data": {
      "text/html": [
       "<div>\n",
       "<style scoped>\n",
       "    .dataframe tbody tr th:only-of-type {\n",
       "        vertical-align: middle;\n",
       "    }\n",
       "\n",
       "    .dataframe tbody tr th {\n",
       "        vertical-align: top;\n",
       "    }\n",
       "\n",
       "    .dataframe thead th {\n",
       "        text-align: right;\n",
       "    }\n",
       "</style>\n",
       "<table border=\"1\" class=\"dataframe\">\n",
       "  <thead>\n",
       "    <tr style=\"text-align: right;\">\n",
       "      <th>top</th>\n",
       "      <th>1</th>\n",
       "      <th>10</th>\n",
       "      <th>50</th>\n",
       "      <th>100</th>\n",
       "    </tr>\n",
       "    <tr>\n",
       "      <th>model</th>\n",
       "      <th></th>\n",
       "      <th></th>\n",
       "      <th></th>\n",
       "      <th></th>\n",
       "    </tr>\n",
       "  </thead>\n",
       "  <tbody>\n",
       "    <tr>\n",
       "      <th>baseline</th>\n",
       "      <td>0.002322</td>\n",
       "      <td>0.0189</td>\n",
       "      <td>0.05541</td>\n",
       "      <td>0.072115</td>\n",
       "    </tr>\n",
       "    <tr>\n",
       "      <th>trial_1</th>\n",
       "      <td>0.000638</td>\n",
       "      <td>0.005917</td>\n",
       "      <td>0.032386</td>\n",
       "      <td>0.064652</td>\n",
       "    </tr>\n",
       "    <tr>\n",
       "      <th>trial_2</th>\n",
       "      <td>0.000113</td>\n",
       "      <td>0.001276</td>\n",
       "      <td>0.009217</td>\n",
       "      <td>0.022699</td>\n",
       "    </tr>\n",
       "    <tr>\n",
       "      <th>trial_3</th>\n",
       "      <td>0.000098</td>\n",
       "      <td>0.001076</td>\n",
       "      <td>0.008776</td>\n",
       "      <td>0.022856</td>\n",
       "    </tr>\n",
       "    <tr>\n",
       "      <th>trial_4</th>\n",
       "      <td>0.000419</td>\n",
       "      <td>0.004594</td>\n",
       "      <td>0.027056</td>\n",
       "      <td>0.057834</td>\n",
       "    </tr>\n",
       "  </tbody>\n",
       "</table>\n",
       "</div>"
      ],
      "text/plain": [
       "top            1         10        50        100\n",
       "model                                           \n",
       "baseline  0.002322    0.0189   0.05541  0.072115\n",
       "trial_1   0.000638  0.005917  0.032386  0.064652\n",
       "trial_2   0.000113  0.001276  0.009217  0.022699\n",
       "trial_3   0.000098  0.001076  0.008776  0.022856\n",
       "trial_4   0.000419  0.004594  0.027056  0.057834"
      ]
     },
     "execution_count": 15,
     "metadata": {},
     "output_type": "execute_result"
    }
   ],
   "source": [
    "df_results.pivot(\"model\",\"top\",\"recall\")"
   ]
  },
  {
   "cell_type": "code",
   "execution_count": 16,
   "id": "d078999a",
   "metadata": {},
   "outputs": [
    {
     "data": {
      "text/html": [
       "<div>\n",
       "<style scoped>\n",
       "    .dataframe tbody tr th:only-of-type {\n",
       "        vertical-align: middle;\n",
       "    }\n",
       "\n",
       "    .dataframe tbody tr th {\n",
       "        vertical-align: top;\n",
       "    }\n",
       "\n",
       "    .dataframe thead th {\n",
       "        text-align: right;\n",
       "    }\n",
       "</style>\n",
       "<table border=\"1\" class=\"dataframe\">\n",
       "  <thead>\n",
       "    <tr style=\"text-align: right;\">\n",
       "      <th>top</th>\n",
       "      <th>1</th>\n",
       "      <th>10</th>\n",
       "      <th>50</th>\n",
       "      <th>100</th>\n",
       "    </tr>\n",
       "    <tr>\n",
       "      <th>model</th>\n",
       "      <th></th>\n",
       "      <th></th>\n",
       "      <th></th>\n",
       "      <th></th>\n",
       "    </tr>\n",
       "  </thead>\n",
       "  <tbody>\n",
       "    <tr>\n",
       "      <th>baseline</th>\n",
       "      <td>0.266416</td>\n",
       "      <td>0.264247</td>\n",
       "      <td>0.280137</td>\n",
       "      <td>0.294008</td>\n",
       "    </tr>\n",
       "    <tr>\n",
       "      <th>trial_1</th>\n",
       "      <td>0.072016</td>\n",
       "      <td>0.068736</td>\n",
       "      <td>0.09666</td>\n",
       "      <td>0.121186</td>\n",
       "    </tr>\n",
       "    <tr>\n",
       "      <th>trial_2</th>\n",
       "      <td>0.012757</td>\n",
       "      <td>0.014823</td>\n",
       "      <td>0.027508</td>\n",
       "      <td>0.042548</td>\n",
       "    </tr>\n",
       "    <tr>\n",
       "      <th>trial_3</th>\n",
       "      <td>0.011111</td>\n",
       "      <td>0.012494</td>\n",
       "      <td>0.026192</td>\n",
       "      <td>0.042842</td>\n",
       "    </tr>\n",
       "    <tr>\n",
       "      <th>trial_4</th>\n",
       "      <td>0.047325</td>\n",
       "      <td>0.053363</td>\n",
       "      <td>0.080752</td>\n",
       "      <td>0.108406</td>\n",
       "    </tr>\n",
       "  </tbody>\n",
       "</table>\n",
       "</div>"
      ],
      "text/plain": [
       "top            1         10        50        100\n",
       "model                                           \n",
       "baseline  0.266416  0.264247  0.280137  0.294008\n",
       "trial_1   0.072016  0.068736   0.09666  0.121186\n",
       "trial_2   0.012757  0.014823  0.027508  0.042548\n",
       "trial_3   0.011111  0.012494  0.026192  0.042842\n",
       "trial_4   0.047325  0.053363  0.080752  0.108406"
      ]
     },
     "execution_count": 16,
     "metadata": {},
     "output_type": "execute_result"
    }
   ],
   "source": [
    "df_results.pivot(\"model\",\"top\",\"tp_over_reach\")"
   ]
  },
  {
   "cell_type": "code",
   "execution_count": null,
   "id": "601703f7",
   "metadata": {},
   "outputs": [],
   "source": []
  }
 ],
 "metadata": {
  "environment": {
   "name": "tf2-gpu.2-3.m65",
   "type": "gcloud",
   "uri": "gcr.io/deeplearning-platform-release/tf2-gpu.2-3:m65"
  },
  "kernelspec": {
   "display_name": "Python 3",
   "language": "python",
   "name": "python3"
  },
  "language_info": {
   "codemirror_mode": {
    "name": "ipython",
    "version": 3
   },
   "file_extension": ".py",
   "mimetype": "text/x-python",
   "name": "python",
   "nbconvert_exporter": "python",
   "pygments_lexer": "ipython3",
   "version": "3.7.10"
  }
 },
 "nbformat": 4,
 "nbformat_minor": 5
}
