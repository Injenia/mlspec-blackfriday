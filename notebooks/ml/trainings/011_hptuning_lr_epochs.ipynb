{
 "cells": [
  {
   "cell_type": "code",
   "execution_count": 14,
   "id": "7538a26c",
   "metadata": {},
   "outputs": [],
   "source": [
    "from oauth2client.client import GoogleCredentials\n",
    "from googleapiclient import discovery\n",
    "from googleapiclient import errors\n",
    "import tensorflow as tf\n",
    "import tensorflow_recommenders as tfrs\n",
    "import pandas as pd\n",
    "import numpy as np\n",
    "import json\n",
    "import os\n",
    "\n",
    "from tqdm.auto import tqdm\n",
    "tqdm.pandas(leave=False)"
   ]
  },
  {
   "cell_type": "markdown",
   "id": "170f808f",
   "metadata": {},
   "source": [
    "# Training"
   ]
  },
  {
   "cell_type": "markdown",
   "id": "a22c60fa",
   "metadata": {},
   "source": [
    "## configuration"
   ]
  },
  {
   "cell_type": "code",
   "execution_count": 8,
   "id": "6efb7892",
   "metadata": {},
   "outputs": [],
   "source": [
    "PROJECT                  = \"mlteam-ml-specialization-2021\"\n",
    "TRAIN_PATH               = \"gs://mlteam-ml-specialization-2021-blackfriday/dataset/parsed/202104130952/train.csv\"\n",
    "EVAL_PATH                = \"gs://mlteam-ml-specialization-2021-blackfriday/dataset/parsed/202104130952/test/evalset.csv\"\n",
    "TEST_PATH                = \"gs://mlteam-ml-specialization-2021-blackfriday/dataset/parsed/202104130952/test/testset.csv\"\n",
    "MODEL_NAME               = \"011_hptuning_lr_epochs\"\n",
    "BATCH_SIZE               = 30000 #1 epoch -> 3 steps\n",
    "NUM_EPOCHS               = 500\n",
    "SCANN_NUM_NEIGHBORS      = 100\n",
    "#LEARNING_RATE            = 0.01\n",
    "EMBEDDING_DIM            = 128\n",
    "USER_FEATURES            = [\"Gender\", \"Age\", \"Occupation\", \"City_Category\", \"Stay_In_Current_City_Years\", \"Marital_Status\"]\n",
    "USER_INPUT_EMBEDDING_DIM = 8\n",
    "FORCE                    = True"
   ]
  },
  {
   "cell_type": "code",
   "execution_count": 9,
   "id": "0e37f707",
   "metadata": {},
   "outputs": [
    {
     "name": "stdout",
     "output_type": "stream",
     "text": [
      "Writing config.yaml\n"
     ]
    }
   ],
   "source": [
    "%%writefile config.yaml\n",
    "trainingInput:\n",
    "  hyperparameters:\n",
    "    goal: MINIMIZE\n",
    "    hyperparameterMetricTag: epoch_total_loss\n",
    "    maxTrials: 9\n",
    "    maxParallelTrials: 9\n",
    "    enableTrialEarlyStopping: False\n",
    "    params:\n",
    "    - parameterName: num-epochs\n",
    "      type: DISCRETE\n",
    "      discreteValues:\n",
    "      - 10\n",
    "      - 50\n",
    "      - 200\n",
    "    - parameterName: learning-rate\n",
    "      type: DISCRETE\n",
    "      discreteValues:\n",
    "      - 0.0001\n",
    "      - 0.001\n",
    "      - 0.01\n",
    "    - parameterName: product-input-embedding-dim\n",
    "      type: DISCRETE\n",
    "      discreteValues:\n",
    "      - 128\n",
    "    - parameterName: embedding-dim\n",
    "      type: DISCRETE\n",
    "      discreteValues:\n",
    "      - 128\n",
    "    - parameterName: common-layers\n",
    "      type: CATEGORICAL\n",
    "      categoricalValues:\n",
    "      - '[256]'\n",
    "    - parameterName: product-features\n",
    "      type: CATEGORICAL\n",
    "      categoricalValues:\n",
    "      - '[\"Product_ID\", \"Product_Category_1\"]'"
   ]
  },
  {
   "cell_type": "code",
   "execution_count": 10,
   "id": "4e61845b",
   "metadata": {},
   "outputs": [],
   "source": [
    "MODEL_PATH = os.path.join(\"gs://mlteam-ml-specialization-2021-blackfriday/aiplatform_jobs\", MODEL_NAME)\n",
    "if tf.io.gfile.exists(MODEL_PATH):\n",
    "    if FORCE:\n",
    "        tf.io.gfile.rmtree(MODEL_PATH)\n",
    "    else:\n",
    "        assert not tf.io.gfile.exists(MODEL_PATH), f\"{MODEL_PATH} already exists, set FORCE=True to overwrite\"\n",
    "\n",
    "\n",
    "os.environ[\"TRAIN_PATH\"]               = str(TRAIN_PATH)\n",
    "os.environ[\"EVAL_PATH\"]                = str(EVAL_PATH)\n",
    "os.environ[\"TEST_PATH\"]                = str(TEST_PATH)\n",
    "os.environ[\"MODEL_NAME\"]               = str(MODEL_NAME)\n",
    "os.environ[\"MODEL_PATH\"]               = str(MODEL_PATH)\n",
    "os.environ[\"BATCH_SIZE\"]               = str(BATCH_SIZE)\n",
    "#os.environ[\"NUM_EPOCHS\"]               = str(NUM_EPOCHS)\n",
    "os.environ[\"SCANN_NUM_NEIGHBORS\"]      = str(SCANN_NUM_NEIGHBORS)\n",
    "#os.environ[\"LEARNING_RATE\"]            = str(LEARNING_RATE)\n",
    "os.environ[\"EMBEDDING_DIM\"]            = str(EMBEDDING_DIM)\n",
    "os.environ[\"USER_INPUT_EMBEDDING_DIM\"] = str(USER_INPUT_EMBEDDING_DIM)\n",
    "os.environ[\"USER_FEATURES\"]            = json.dumps(USER_FEATURES)"
   ]
  },
  {
   "cell_type": "markdown",
   "id": "0a230446",
   "metadata": {},
   "source": [
    "## launch"
   ]
  },
  {
   "cell_type": "code",
   "execution_count": 11,
   "id": "6779cb73",
   "metadata": {},
   "outputs": [
    {
     "name": "stdout",
     "output_type": "stream",
     "text": [
      "jobId: bf_011_hptuning_lr_epochs_20210604_100012\n",
      "state: QUEUED\n",
      "createTime: '2021-06-04T10:00:15Z'\n",
      "etag: oQQCKkiRBk4=\n",
      "jobId: bf_011_hptuning_lr_epochs_20210604_100012\n",
      "state: PREPARING\n",
      "trainingInput:\n",
      "  args:\n",
      "  - --train-path=gs://mlteam-ml-specialization-2021-blackfriday/dataset/parsed/202104130952/train.csv\n",
      "  - --eval-path=gs://mlteam-ml-specialization-2021-blackfriday/dataset/parsed/202104130952/test/evalset.csv\n",
      "  - --job-dir=gs://mlteam-ml-specialization-2021-blackfriday/aiplatform_jobs/011_hptuning_lr_epochs\n",
      "  - --batch-size=30000\n",
      "  - --scann-num-neighbors=100\n",
      "  - --user-features=[\"Gender\", \"Age\", \"Occupation\", \"City_Category\", \"Stay_In_Current_City_Years\",\n",
      "    \"Marital_Status\"]\n",
      "  - --embedding-dim=128\n",
      "  - --user-input-embedding-dim=8\n",
      "  hyperparameters:\n",
      "    goal: MINIMIZE\n",
      "    hyperparameterMetricTag: epoch_total_loss\n",
      "    maxParallelTrials: 9\n",
      "    maxTrials: 9\n",
      "    params:\n",
      "    - discreteValues:\n",
      "      - 10.0\n",
      "      - 50.0\n",
      "      - 200.0\n",
      "      parameterName: num-epochs\n",
      "      type: DISCRETE\n",
      "    - discreteValues:\n",
      "      - 0.0001\n",
      "      - 0.001\n",
      "      - 0.01\n",
      "      parameterName: learning-rate\n",
      "      type: DISCRETE\n",
      "    - discreteValues:\n",
      "      - 128.0\n",
      "      parameterName: product-input-embedding-dim\n",
      "      type: DISCRETE\n",
      "    - discreteValues:\n",
      "      - 128.0\n",
      "      parameterName: embedding-dim\n",
      "      type: DISCRETE\n",
      "    - categoricalValues:\n",
      "      - '[256]'\n",
      "      parameterName: common-layers\n",
      "      type: CATEGORICAL\n",
      "    - categoricalValues:\n",
      "      - '[\"Product_ID\", \"Product_Category_1\"]'\n",
      "      parameterName: product-features\n",
      "      type: CATEGORICAL\n",
      "  jobDir: gs://mlteam-ml-specialization-2021-blackfriday/aiplatform_jobs/011_hptuning_lr_epochs\n",
      "  packageUris:\n",
      "  - gs://mlteam-ml-specialization-2021-blackfriday/aiplatform_jobs/011_hptuning_lr_epochs/packages/e09d27e6c3d55d8febe51f196548f0d9c42d77f89b077f7b14a04fd56ac7353e/mlspec-blackfriday-0.1.tar.gz\n",
      "  pythonModule: trainer.task\n",
      "  pythonVersion: '3.7'\n",
      "  region: europe-west1\n",
      "  runtimeVersion: '2.4'\n",
      "trainingOutput:\n",
      "  isHyperparameterTuningJob: true\n"
     ]
    },
    {
     "name": "stderr",
     "output_type": "stream",
     "text": [
      "Job [bf_011_hptuning_lr_epochs_20210604_100012] submitted successfully.\n",
      "Your job is still active. You may view the status of your job with the command\n",
      "\n",
      "  $ gcloud ai-platform jobs describe bf_011_hptuning_lr_epochs_20210604_100012\n",
      "\n",
      "or continue streaming the logs with the command\n",
      "\n",
      "  $ gcloud ai-platform jobs stream-logs bf_011_hptuning_lr_epochs_20210604_100012\n",
      "\n",
      "View job in the Cloud Console at:\n",
      "https://console.cloud.google.com/mlengine/jobs/bf_011_hptuning_lr_epochs_20210604_100012?project=mlteam-ml-specialization-2021\n",
      "\n",
      "View logs at:\n",
      "https://console.cloud.google.com/logs?resource=ml_job%2Fjob_id%2Fbf_011_hptuning_lr_epochs_20210604_100012&project=mlteam-ml-specialization-2021\n"
     ]
    }
   ],
   "source": [
    "%%bash\n",
    "\n",
    "# JOB_NAME: the name of your job running on AI Platform.\n",
    "JOB_NAME=bf_${MODEL_NAME}_$(date +%Y%m%d_%H%M%S)\n",
    "\n",
    "# REGION: select a region from https://cloud.google.com/ai-platform/training/docs/regions\n",
    "# or use the default '`us-central1`'. The region is where the model will be deployed.\n",
    "REGION=europe-west1\n",
    "PYTHON_VERSION=3.7\n",
    "RUNTIME_VERSION=2.4\n",
    "\n",
    "current_dir=\"$(cd \"$(dirname \"${BASH_SOURCE[0]}\")\" >/dev/null 2>&1 && pwd)\"\n",
    "cd ${current_dir}\"/../../..\"\n",
    "\n",
    "config_file=\"${current_dir}/config.yaml\"\n",
    "\n",
    "gcloud ai-platform jobs submit training \"${JOB_NAME}\" \\\n",
    "  --package-path trainer/ \\\n",
    "  --module-name trainer.task \\\n",
    "  --region ${REGION} \\\n",
    "  --python-version ${PYTHON_VERSION} \\\n",
    "  --runtime-version ${RUNTIME_VERSION} \\\n",
    "  --job-dir \"${MODEL_PATH}\" \\\n",
    "  --config \"${config_file}\" \\\n",
    "  -- \\\n",
    "  --train-path=\"${TRAIN_PATH}\" \\\n",
    "  --eval-path=\"${EVAL_PATH}\" \\\n",
    "  --job-dir=\"${MODEL_PATH}\" \\\n",
    "  --batch-size=${BATCH_SIZE} \\\n",
    "  --scann-num-neighbors=${SCANN_NUM_NEIGHBORS} \\\n",
    "  --user-features=\"${USER_FEATURES}\" \\\n",
    "  --embedding-dim=${EMBEDDING_DIM} \\\n",
    "  --user-input-embedding-dim=${USER_INPUT_EMBEDDING_DIM}\n",
    "\n",
    "#  --num-epochs=${NUM_EPOCHS} \\\n",
    "#  --learning-rate=${LEARNING_RATE} \\\n",
    "\n",
    "gcloud ai-platform jobs describe ${JOB_NAME}"
   ]
  },
  {
   "cell_type": "code",
   "execution_count": 12,
   "id": "f7b4aee4",
   "metadata": {},
   "outputs": [],
   "source": [
    "!rm -rf config.yaml"
   ]
  },
  {
   "cell_type": "code",
   "execution_count": 15,
   "id": "72b4bf4e",
   "metadata": {},
   "outputs": [],
   "source": [
    "metadata_path = os.path.join(\"gs://mlteam-ml-specialization-2021-blackfriday/aiplatform_jobs\", MODEL_NAME, \"metadata.json\")\n",
    "\n",
    "ml               = discovery.build('ml','v1')\n",
    "projectId        = 'projects/{}'.format(PROJECT)\n",
    "ai_platform_data = ml.projects().jobs().list(parent=projectId).execute()\n",
    "jobs             = ai_platform_data[\"jobs\"]\n",
    "latest_job       = sorted([j for j in jobs if j['jobId'].startswith(f\"bf_{MODEL_NAME}\")], key=lambda x: x[\"jobId\"])[-1]\n",
    "if latest_job[\"trainingOutput\"].get('isHyperparameterTuningJob',None) is not None:\n",
    "    trials = latest_job[\"trainingOutput\"][\"trials\"]\n",
    "    json.dump(trials, tf.io.gfile.GFile(metadata_path, \"w\"))\n",
    "else:\n",
    "    metadata = [{\n",
    "        'trialId'        : '1',\n",
    "        'hyperparameters': {},\n",
    "        'startTime'      : latest_job[\"startTime\"],\n",
    "        'endTime'        : latest_job[\"endTime\"],\n",
    "        'state'          : latest_job[\"state\"],\n",
    "    }]\n",
    "    json.dump(metadata, tf.io.gfile.GFile(metadata_path, \"w\"))"
   ]
  },
  {
   "cell_type": "markdown",
   "id": "f6ff691f",
   "metadata": {},
   "source": [
    "# Evaluation"
   ]
  },
  {
   "cell_type": "markdown",
   "id": "087481ec",
   "metadata": {},
   "source": [
    "## ground truth"
   ]
  },
  {
   "cell_type": "code",
   "execution_count": 16,
   "id": "bae1cbe7",
   "metadata": {},
   "outputs": [],
   "source": [
    "ALL_USER_FEATURES   = [\"Gender\", \"Age\", \"Occupation\", \"City_Category\", \"Stay_In_Current_City_Years\", \"Marital_Status\"] \n",
    "\n",
    "df = pd.read_csv(TEST_PATH)"
   ]
  },
  {
   "cell_type": "markdown",
   "id": "b5a2ab77",
   "metadata": {},
   "source": [
    "## baseline"
   ]
  },
  {
   "cell_type": "code",
   "execution_count": 17,
   "id": "6dfef037",
   "metadata": {},
   "outputs": [],
   "source": [
    "class BlackFridayBaseline:\n",
    "    def __init__(self, trainset_location, user_features_list, build_inplace=False):\n",
    "        self.trainset_location, self.user_features_list = trainset_location, user_features_list\n",
    "        if build_inplace:\n",
    "            self.build()\n",
    "        \n",
    "    def build(self):\n",
    "        self.df = pd.read_csv(self.trainset_location).groupby(\n",
    "            self.user_features_list+[\"Product_ID\"])[\"User_ID\"].count().reset_index().rename(\n",
    "            columns={\"User_ID\":\"count_product\"})\n",
    "        \n",
    "    def predict(self, user_features, n_products):\n",
    "        mask = None\n",
    "        for k,v in user_features.items():\n",
    "            if mask is None:\n",
    "                mask = self.df[k]==v\n",
    "            else:\n",
    "                mask = mask&(self.df[k]==v)\n",
    "        return self.df[mask].sort_values(self.user_features_list+[\"count_product\"])[\"Product_ID\"].values[:n_products]\n",
    "        "
   ]
  },
  {
   "cell_type": "markdown",
   "id": "363e8926",
   "metadata": {},
   "source": [
    "## model(s)"
   ]
  },
  {
   "cell_type": "code",
   "execution_count": 18,
   "id": "ab0b462b",
   "metadata": {},
   "outputs": [],
   "source": [
    "class PredictionModel:\n",
    "    def __init__(self, model_path, build_inplace=False):\n",
    "        self.model_path=model_path\n",
    "        if build_inplace:\n",
    "            self.build()\n",
    "    \n",
    "    def build(self):\n",
    "        self.model=tf.keras.models.load_model(self.model_path)\n",
    "        \n",
    "    def predict_batch(self, model_input, n_products):\n",
    "        scores, products = self.model({k:tf.constant(v) for k,v in model_input.items()})\n",
    "        return products.numpy()[:,:n_products]\n",
    "    \n",
    "    def predict_single(self, model_input, n_products):\n",
    "        scores, products = self.model({k:tf.constant([v]) for k,v in model_input.items()})\n",
    "        return products.numpy()[0,:n_products]\n",
    "    \n",
    "\n",
    "\n",
    "    "
   ]
  },
  {
   "cell_type": "markdown",
   "id": "40d6089d",
   "metadata": {},
   "source": [
    "## stats"
   ]
  },
  {
   "cell_type": "code",
   "execution_count": 19,
   "id": "56ec6bbf",
   "metadata": {},
   "outputs": [
    {
     "data": {
      "application/vnd.jupyter.widget-view+json": {
       "model_id": "",
       "version_major": 2,
       "version_minor": 0
      },
      "text/plain": [
       "  0%|          | 0/4 [00:00<?, ?it/s]"
      ]
     },
     "metadata": {},
     "output_type": "display_data"
    },
    {
     "data": {
      "application/vnd.jupyter.widget-view+json": {
       "model_id": "",
       "version_major": 2,
       "version_minor": 0
      },
      "text/plain": [
       "  0%|          | 0/2430 [00:00<?, ?it/s]"
      ]
     },
     "metadata": {},
     "output_type": "display_data"
    },
    {
     "data": {
      "application/vnd.jupyter.widget-view+json": {
       "model_id": "",
       "version_major": 2,
       "version_minor": 0
      },
      "text/plain": [
       "  0%|          | 0/2430 [00:00<?, ?it/s]"
      ]
     },
     "metadata": {},
     "output_type": "display_data"
    },
    {
     "data": {
      "application/vnd.jupyter.widget-view+json": {
       "model_id": "",
       "version_major": 2,
       "version_minor": 0
      },
      "text/plain": [
       "  0%|          | 0/2430 [00:00<?, ?it/s]"
      ]
     },
     "metadata": {},
     "output_type": "display_data"
    },
    {
     "data": {
      "application/vnd.jupyter.widget-view+json": {
       "model_id": "",
       "version_major": 2,
       "version_minor": 0
      },
      "text/plain": [
       "  0%|          | 0/2430 [00:00<?, ?it/s]"
      ]
     },
     "metadata": {},
     "output_type": "display_data"
    },
    {
     "data": {
      "application/vnd.jupyter.widget-view+json": {
       "model_id": "",
       "version_major": 2,
       "version_minor": 0
      },
      "text/plain": [
       "  0%|          | 0/2430 [00:00<?, ?it/s]"
      ]
     },
     "metadata": {},
     "output_type": "display_data"
    },
    {
     "data": {
      "application/vnd.jupyter.widget-view+json": {
       "model_id": "",
       "version_major": 2,
       "version_minor": 0
      },
      "text/plain": [
       "  0%|          | 0/2430 [00:00<?, ?it/s]"
      ]
     },
     "metadata": {},
     "output_type": "display_data"
    },
    {
     "data": {
      "application/vnd.jupyter.widget-view+json": {
       "model_id": "",
       "version_major": 2,
       "version_minor": 0
      },
      "text/plain": [
       "  0%|          | 0/2430 [00:00<?, ?it/s]"
      ]
     },
     "metadata": {},
     "output_type": "display_data"
    },
    {
     "data": {
      "application/vnd.jupyter.widget-view+json": {
       "model_id": "",
       "version_major": 2,
       "version_minor": 0
      },
      "text/plain": [
       "  0%|          | 0/2430 [00:00<?, ?it/s]"
      ]
     },
     "metadata": {},
     "output_type": "display_data"
    },
    {
     "data": {
      "application/vnd.jupyter.widget-view+json": {
       "model_id": "",
       "version_major": 2,
       "version_minor": 0
      },
      "text/plain": [
       "  0%|          | 0/2430 [00:00<?, ?it/s]"
      ]
     },
     "metadata": {},
     "output_type": "display_data"
    },
    {
     "data": {
      "application/vnd.jupyter.widget-view+json": {
       "model_id": "",
       "version_major": 2,
       "version_minor": 0
      },
      "text/plain": [
       "  0%|          | 0/2430 [00:00<?, ?it/s]"
      ]
     },
     "metadata": {},
     "output_type": "display_data"
    },
    {
     "data": {
      "application/vnd.jupyter.widget-view+json": {
       "model_id": "",
       "version_major": 2,
       "version_minor": 0
      },
      "text/plain": [
       "  0%|          | 0/2430 [00:00<?, ?it/s]"
      ]
     },
     "metadata": {},
     "output_type": "display_data"
    },
    {
     "data": {
      "application/vnd.jupyter.widget-view+json": {
       "model_id": "",
       "version_major": 2,
       "version_minor": 0
      },
      "text/plain": [
       "  0%|          | 0/2430 [00:00<?, ?it/s]"
      ]
     },
     "metadata": {},
     "output_type": "display_data"
    },
    {
     "data": {
      "application/vnd.jupyter.widget-view+json": {
       "model_id": "",
       "version_major": 2,
       "version_minor": 0
      },
      "text/plain": [
       "  0%|          | 0/9 [00:00<?, ?it/s]"
      ]
     },
     "metadata": {},
     "output_type": "display_data"
    },
    {
     "data": {
      "application/vnd.jupyter.widget-view+json": {
       "model_id": "",
       "version_major": 2,
       "version_minor": 0
      },
      "text/plain": [
       "  0%|          | 0/4 [00:00<?, ?it/s]"
      ]
     },
     "metadata": {},
     "output_type": "display_data"
    },
    {
     "data": {
      "application/vnd.jupyter.widget-view+json": {
       "model_id": "",
       "version_major": 2,
       "version_minor": 0
      },
      "text/plain": [
       "  0%|          | 0/2430 [00:00<?, ?it/s]"
      ]
     },
     "metadata": {},
     "output_type": "display_data"
    },
    {
     "data": {
      "application/vnd.jupyter.widget-view+json": {
       "model_id": "",
       "version_major": 2,
       "version_minor": 0
      },
      "text/plain": [
       "  0%|          | 0/2430 [00:00<?, ?it/s]"
      ]
     },
     "metadata": {},
     "output_type": "display_data"
    },
    {
     "data": {
      "application/vnd.jupyter.widget-view+json": {
       "model_id": "",
       "version_major": 2,
       "version_minor": 0
      },
      "text/plain": [
       "  0%|          | 0/2430 [00:00<?, ?it/s]"
      ]
     },
     "metadata": {},
     "output_type": "display_data"
    },
    {
     "data": {
      "application/vnd.jupyter.widget-view+json": {
       "model_id": "",
       "version_major": 2,
       "version_minor": 0
      },
      "text/plain": [
       "  0%|          | 0/2430 [00:00<?, ?it/s]"
      ]
     },
     "metadata": {},
     "output_type": "display_data"
    },
    {
     "data": {
      "application/vnd.jupyter.widget-view+json": {
       "model_id": "",
       "version_major": 2,
       "version_minor": 0
      },
      "text/plain": [
       "  0%|          | 0/2430 [00:00<?, ?it/s]"
      ]
     },
     "metadata": {},
     "output_type": "display_data"
    },
    {
     "data": {
      "application/vnd.jupyter.widget-view+json": {
       "model_id": "",
       "version_major": 2,
       "version_minor": 0
      },
      "text/plain": [
       "  0%|          | 0/2430 [00:00<?, ?it/s]"
      ]
     },
     "metadata": {},
     "output_type": "display_data"
    },
    {
     "data": {
      "application/vnd.jupyter.widget-view+json": {
       "model_id": "",
       "version_major": 2,
       "version_minor": 0
      },
      "text/plain": [
       "  0%|          | 0/2430 [00:00<?, ?it/s]"
      ]
     },
     "metadata": {},
     "output_type": "display_data"
    },
    {
     "data": {
      "application/vnd.jupyter.widget-view+json": {
       "model_id": "",
       "version_major": 2,
       "version_minor": 0
      },
      "text/plain": [
       "  0%|          | 0/2430 [00:00<?, ?it/s]"
      ]
     },
     "metadata": {},
     "output_type": "display_data"
    },
    {
     "data": {
      "application/vnd.jupyter.widget-view+json": {
       "model_id": "",
       "version_major": 2,
       "version_minor": 0
      },
      "text/plain": [
       "  0%|          | 0/2430 [00:00<?, ?it/s]"
      ]
     },
     "metadata": {},
     "output_type": "display_data"
    },
    {
     "data": {
      "application/vnd.jupyter.widget-view+json": {
       "model_id": "",
       "version_major": 2,
       "version_minor": 0
      },
      "text/plain": [
       "  0%|          | 0/2430 [00:00<?, ?it/s]"
      ]
     },
     "metadata": {},
     "output_type": "display_data"
    },
    {
     "data": {
      "application/vnd.jupyter.widget-view+json": {
       "model_id": "",
       "version_major": 2,
       "version_minor": 0
      },
      "text/plain": [
       "  0%|          | 0/2430 [00:00<?, ?it/s]"
      ]
     },
     "metadata": {},
     "output_type": "display_data"
    },
    {
     "data": {
      "application/vnd.jupyter.widget-view+json": {
       "model_id": "",
       "version_major": 2,
       "version_minor": 0
      },
      "text/plain": [
       "  0%|          | 0/2430 [00:00<?, ?it/s]"
      ]
     },
     "metadata": {},
     "output_type": "display_data"
    },
    {
     "data": {
      "application/vnd.jupyter.widget-view+json": {
       "model_id": "",
       "version_major": 2,
       "version_minor": 0
      },
      "text/plain": [
       "  0%|          | 0/4 [00:00<?, ?it/s]"
      ]
     },
     "metadata": {},
     "output_type": "display_data"
    },
    {
     "data": {
      "application/vnd.jupyter.widget-view+json": {
       "model_id": "",
       "version_major": 2,
       "version_minor": 0
      },
      "text/plain": [
       "  0%|          | 0/2430 [00:00<?, ?it/s]"
      ]
     },
     "metadata": {},
     "output_type": "display_data"
    },
    {
     "data": {
      "application/vnd.jupyter.widget-view+json": {
       "model_id": "",
       "version_major": 2,
       "version_minor": 0
      },
      "text/plain": [
       "  0%|          | 0/2430 [00:00<?, ?it/s]"
      ]
     },
     "metadata": {},
     "output_type": "display_data"
    },
    {
     "data": {
      "application/vnd.jupyter.widget-view+json": {
       "model_id": "",
       "version_major": 2,
       "version_minor": 0
      },
      "text/plain": [
       "  0%|          | 0/2430 [00:00<?, ?it/s]"
      ]
     },
     "metadata": {},
     "output_type": "display_data"
    },
    {
     "data": {
      "application/vnd.jupyter.widget-view+json": {
       "model_id": "",
       "version_major": 2,
       "version_minor": 0
      },
      "text/plain": [
       "  0%|          | 0/2430 [00:00<?, ?it/s]"
      ]
     },
     "metadata": {},
     "output_type": "display_data"
    },
    {
     "data": {
      "application/vnd.jupyter.widget-view+json": {
       "model_id": "",
       "version_major": 2,
       "version_minor": 0
      },
      "text/plain": [
       "  0%|          | 0/2430 [00:00<?, ?it/s]"
      ]
     },
     "metadata": {},
     "output_type": "display_data"
    },
    {
     "data": {
      "application/vnd.jupyter.widget-view+json": {
       "model_id": "",
       "version_major": 2,
       "version_minor": 0
      },
      "text/plain": [
       "  0%|          | 0/2430 [00:00<?, ?it/s]"
      ]
     },
     "metadata": {},
     "output_type": "display_data"
    },
    {
     "data": {
      "application/vnd.jupyter.widget-view+json": {
       "model_id": "",
       "version_major": 2,
       "version_minor": 0
      },
      "text/plain": [
       "  0%|          | 0/2430 [00:00<?, ?it/s]"
      ]
     },
     "metadata": {},
     "output_type": "display_data"
    },
    {
     "data": {
      "application/vnd.jupyter.widget-view+json": {
       "model_id": "",
       "version_major": 2,
       "version_minor": 0
      },
      "text/plain": [
       "  0%|          | 0/2430 [00:00<?, ?it/s]"
      ]
     },
     "metadata": {},
     "output_type": "display_data"
    },
    {
     "data": {
      "application/vnd.jupyter.widget-view+json": {
       "model_id": "",
       "version_major": 2,
       "version_minor": 0
      },
      "text/plain": [
       "  0%|          | 0/2430 [00:00<?, ?it/s]"
      ]
     },
     "metadata": {},
     "output_type": "display_data"
    },
    {
     "data": {
      "application/vnd.jupyter.widget-view+json": {
       "model_id": "",
       "version_major": 2,
       "version_minor": 0
      },
      "text/plain": [
       "  0%|          | 0/2430 [00:00<?, ?it/s]"
      ]
     },
     "metadata": {},
     "output_type": "display_data"
    },
    {
     "data": {
      "application/vnd.jupyter.widget-view+json": {
       "model_id": "",
       "version_major": 2,
       "version_minor": 0
      },
      "text/plain": [
       "  0%|          | 0/2430 [00:00<?, ?it/s]"
      ]
     },
     "metadata": {},
     "output_type": "display_data"
    },
    {
     "data": {
      "application/vnd.jupyter.widget-view+json": {
       "model_id": "",
       "version_major": 2,
       "version_minor": 0
      },
      "text/plain": [
       "  0%|          | 0/2430 [00:00<?, ?it/s]"
      ]
     },
     "metadata": {},
     "output_type": "display_data"
    },
    {
     "data": {
      "application/vnd.jupyter.widget-view+json": {
       "model_id": "",
       "version_major": 2,
       "version_minor": 0
      },
      "text/plain": [
       "  0%|          | 0/4 [00:00<?, ?it/s]"
      ]
     },
     "metadata": {},
     "output_type": "display_data"
    },
    {
     "data": {
      "application/vnd.jupyter.widget-view+json": {
       "model_id": "",
       "version_major": 2,
       "version_minor": 0
      },
      "text/plain": [
       "  0%|          | 0/2430 [00:00<?, ?it/s]"
      ]
     },
     "metadata": {},
     "output_type": "display_data"
    },
    {
     "data": {
      "application/vnd.jupyter.widget-view+json": {
       "model_id": "",
       "version_major": 2,
       "version_minor": 0
      },
      "text/plain": [
       "  0%|          | 0/2430 [00:00<?, ?it/s]"
      ]
     },
     "metadata": {},
     "output_type": "display_data"
    },
    {
     "data": {
      "application/vnd.jupyter.widget-view+json": {
       "model_id": "",
       "version_major": 2,
       "version_minor": 0
      },
      "text/plain": [
       "  0%|          | 0/2430 [00:00<?, ?it/s]"
      ]
     },
     "metadata": {},
     "output_type": "display_data"
    },
    {
     "data": {
      "application/vnd.jupyter.widget-view+json": {
       "model_id": "",
       "version_major": 2,
       "version_minor": 0
      },
      "text/plain": [
       "  0%|          | 0/2430 [00:00<?, ?it/s]"
      ]
     },
     "metadata": {},
     "output_type": "display_data"
    },
    {
     "data": {
      "application/vnd.jupyter.widget-view+json": {
       "model_id": "",
       "version_major": 2,
       "version_minor": 0
      },
      "text/plain": [
       "  0%|          | 0/2430 [00:00<?, ?it/s]"
      ]
     },
     "metadata": {},
     "output_type": "display_data"
    },
    {
     "data": {
      "application/vnd.jupyter.widget-view+json": {
       "model_id": "",
       "version_major": 2,
       "version_minor": 0
      },
      "text/plain": [
       "  0%|          | 0/2430 [00:00<?, ?it/s]"
      ]
     },
     "metadata": {},
     "output_type": "display_data"
    },
    {
     "data": {
      "application/vnd.jupyter.widget-view+json": {
       "model_id": "",
       "version_major": 2,
       "version_minor": 0
      },
      "text/plain": [
       "  0%|          | 0/2430 [00:00<?, ?it/s]"
      ]
     },
     "metadata": {},
     "output_type": "display_data"
    },
    {
     "data": {
      "application/vnd.jupyter.widget-view+json": {
       "model_id": "",
       "version_major": 2,
       "version_minor": 0
      },
      "text/plain": [
       "  0%|          | 0/2430 [00:00<?, ?it/s]"
      ]
     },
     "metadata": {},
     "output_type": "display_data"
    },
    {
     "data": {
      "application/vnd.jupyter.widget-view+json": {
       "model_id": "",
       "version_major": 2,
       "version_minor": 0
      },
      "text/plain": [
       "  0%|          | 0/2430 [00:00<?, ?it/s]"
      ]
     },
     "metadata": {},
     "output_type": "display_data"
    },
    {
     "data": {
      "application/vnd.jupyter.widget-view+json": {
       "model_id": "",
       "version_major": 2,
       "version_minor": 0
      },
      "text/plain": [
       "  0%|          | 0/2430 [00:00<?, ?it/s]"
      ]
     },
     "metadata": {},
     "output_type": "display_data"
    },
    {
     "data": {
      "application/vnd.jupyter.widget-view+json": {
       "model_id": "",
       "version_major": 2,
       "version_minor": 0
      },
      "text/plain": [
       "  0%|          | 0/2430 [00:00<?, ?it/s]"
      ]
     },
     "metadata": {},
     "output_type": "display_data"
    },
    {
     "data": {
      "application/vnd.jupyter.widget-view+json": {
       "model_id": "",
       "version_major": 2,
       "version_minor": 0
      },
      "text/plain": [
       "  0%|          | 0/2430 [00:00<?, ?it/s]"
      ]
     },
     "metadata": {},
     "output_type": "display_data"
    },
    {
     "data": {
      "application/vnd.jupyter.widget-view+json": {
       "model_id": "",
       "version_major": 2,
       "version_minor": 0
      },
      "text/plain": [
       "  0%|          | 0/4 [00:00<?, ?it/s]"
      ]
     },
     "metadata": {},
     "output_type": "display_data"
    },
    {
     "data": {
      "application/vnd.jupyter.widget-view+json": {
       "model_id": "",
       "version_major": 2,
       "version_minor": 0
      },
      "text/plain": [
       "  0%|          | 0/2430 [00:00<?, ?it/s]"
      ]
     },
     "metadata": {},
     "output_type": "display_data"
    },
    {
     "data": {
      "application/vnd.jupyter.widget-view+json": {
       "model_id": "",
       "version_major": 2,
       "version_minor": 0
      },
      "text/plain": [
       "  0%|          | 0/2430 [00:00<?, ?it/s]"
      ]
     },
     "metadata": {},
     "output_type": "display_data"
    },
    {
     "data": {
      "application/vnd.jupyter.widget-view+json": {
       "model_id": "",
       "version_major": 2,
       "version_minor": 0
      },
      "text/plain": [
       "  0%|          | 0/2430 [00:00<?, ?it/s]"
      ]
     },
     "metadata": {},
     "output_type": "display_data"
    },
    {
     "data": {
      "application/vnd.jupyter.widget-view+json": {
       "model_id": "",
       "version_major": 2,
       "version_minor": 0
      },
      "text/plain": [
       "  0%|          | 0/2430 [00:00<?, ?it/s]"
      ]
     },
     "metadata": {},
     "output_type": "display_data"
    },
    {
     "data": {
      "application/vnd.jupyter.widget-view+json": {
       "model_id": "",
       "version_major": 2,
       "version_minor": 0
      },
      "text/plain": [
       "  0%|          | 0/2430 [00:00<?, ?it/s]"
      ]
     },
     "metadata": {},
     "output_type": "display_data"
    },
    {
     "data": {
      "application/vnd.jupyter.widget-view+json": {
       "model_id": "",
       "version_major": 2,
       "version_minor": 0
      },
      "text/plain": [
       "  0%|          | 0/2430 [00:00<?, ?it/s]"
      ]
     },
     "metadata": {},
     "output_type": "display_data"
    },
    {
     "data": {
      "application/vnd.jupyter.widget-view+json": {
       "model_id": "",
       "version_major": 2,
       "version_minor": 0
      },
      "text/plain": [
       "  0%|          | 0/2430 [00:00<?, ?it/s]"
      ]
     },
     "metadata": {},
     "output_type": "display_data"
    },
    {
     "data": {
      "application/vnd.jupyter.widget-view+json": {
       "model_id": "",
       "version_major": 2,
       "version_minor": 0
      },
      "text/plain": [
       "  0%|          | 0/2430 [00:00<?, ?it/s]"
      ]
     },
     "metadata": {},
     "output_type": "display_data"
    },
    {
     "data": {
      "application/vnd.jupyter.widget-view+json": {
       "model_id": "",
       "version_major": 2,
       "version_minor": 0
      },
      "text/plain": [
       "  0%|          | 0/2430 [00:00<?, ?it/s]"
      ]
     },
     "metadata": {},
     "output_type": "display_data"
    },
    {
     "data": {
      "application/vnd.jupyter.widget-view+json": {
       "model_id": "",
       "version_major": 2,
       "version_minor": 0
      },
      "text/plain": [
       "  0%|          | 0/2430 [00:00<?, ?it/s]"
      ]
     },
     "metadata": {},
     "output_type": "display_data"
    },
    {
     "data": {
      "application/vnd.jupyter.widget-view+json": {
       "model_id": "",
       "version_major": 2,
       "version_minor": 0
      },
      "text/plain": [
       "  0%|          | 0/2430 [00:00<?, ?it/s]"
      ]
     },
     "metadata": {},
     "output_type": "display_data"
    },
    {
     "data": {
      "application/vnd.jupyter.widget-view+json": {
       "model_id": "",
       "version_major": 2,
       "version_minor": 0
      },
      "text/plain": [
       "  0%|          | 0/2430 [00:00<?, ?it/s]"
      ]
     },
     "metadata": {},
     "output_type": "display_data"
    },
    {
     "data": {
      "application/vnd.jupyter.widget-view+json": {
       "model_id": "",
       "version_major": 2,
       "version_minor": 0
      },
      "text/plain": [
       "  0%|          | 0/4 [00:00<?, ?it/s]"
      ]
     },
     "metadata": {},
     "output_type": "display_data"
    },
    {
     "data": {
      "application/vnd.jupyter.widget-view+json": {
       "model_id": "",
       "version_major": 2,
       "version_minor": 0
      },
      "text/plain": [
       "  0%|          | 0/2430 [00:00<?, ?it/s]"
      ]
     },
     "metadata": {},
     "output_type": "display_data"
    },
    {
     "data": {
      "application/vnd.jupyter.widget-view+json": {
       "model_id": "",
       "version_major": 2,
       "version_minor": 0
      },
      "text/plain": [
       "  0%|          | 0/2430 [00:00<?, ?it/s]"
      ]
     },
     "metadata": {},
     "output_type": "display_data"
    },
    {
     "data": {
      "application/vnd.jupyter.widget-view+json": {
       "model_id": "",
       "version_major": 2,
       "version_minor": 0
      },
      "text/plain": [
       "  0%|          | 0/2430 [00:00<?, ?it/s]"
      ]
     },
     "metadata": {},
     "output_type": "display_data"
    },
    {
     "data": {
      "application/vnd.jupyter.widget-view+json": {
       "model_id": "",
       "version_major": 2,
       "version_minor": 0
      },
      "text/plain": [
       "  0%|          | 0/2430 [00:00<?, ?it/s]"
      ]
     },
     "metadata": {},
     "output_type": "display_data"
    },
    {
     "data": {
      "application/vnd.jupyter.widget-view+json": {
       "model_id": "",
       "version_major": 2,
       "version_minor": 0
      },
      "text/plain": [
       "  0%|          | 0/2430 [00:00<?, ?it/s]"
      ]
     },
     "metadata": {},
     "output_type": "display_data"
    },
    {
     "data": {
      "application/vnd.jupyter.widget-view+json": {
       "model_id": "",
       "version_major": 2,
       "version_minor": 0
      },
      "text/plain": [
       "  0%|          | 0/2430 [00:00<?, ?it/s]"
      ]
     },
     "metadata": {},
     "output_type": "display_data"
    },
    {
     "data": {
      "application/vnd.jupyter.widget-view+json": {
       "model_id": "",
       "version_major": 2,
       "version_minor": 0
      },
      "text/plain": [
       "  0%|          | 0/2430 [00:00<?, ?it/s]"
      ]
     },
     "metadata": {},
     "output_type": "display_data"
    },
    {
     "data": {
      "application/vnd.jupyter.widget-view+json": {
       "model_id": "",
       "version_major": 2,
       "version_minor": 0
      },
      "text/plain": [
       "  0%|          | 0/2430 [00:00<?, ?it/s]"
      ]
     },
     "metadata": {},
     "output_type": "display_data"
    },
    {
     "data": {
      "application/vnd.jupyter.widget-view+json": {
       "model_id": "",
       "version_major": 2,
       "version_minor": 0
      },
      "text/plain": [
       "  0%|          | 0/2430 [00:00<?, ?it/s]"
      ]
     },
     "metadata": {},
     "output_type": "display_data"
    },
    {
     "data": {
      "application/vnd.jupyter.widget-view+json": {
       "model_id": "",
       "version_major": 2,
       "version_minor": 0
      },
      "text/plain": [
       "  0%|          | 0/2430 [00:00<?, ?it/s]"
      ]
     },
     "metadata": {},
     "output_type": "display_data"
    },
    {
     "data": {
      "application/vnd.jupyter.widget-view+json": {
       "model_id": "",
       "version_major": 2,
       "version_minor": 0
      },
      "text/plain": [
       "  0%|          | 0/2430 [00:00<?, ?it/s]"
      ]
     },
     "metadata": {},
     "output_type": "display_data"
    },
    {
     "data": {
      "application/vnd.jupyter.widget-view+json": {
       "model_id": "",
       "version_major": 2,
       "version_minor": 0
      },
      "text/plain": [
       "  0%|          | 0/2430 [00:00<?, ?it/s]"
      ]
     },
     "metadata": {},
     "output_type": "display_data"
    },
    {
     "data": {
      "application/vnd.jupyter.widget-view+json": {
       "model_id": "",
       "version_major": 2,
       "version_minor": 0
      },
      "text/plain": [
       "  0%|          | 0/4 [00:00<?, ?it/s]"
      ]
     },
     "metadata": {},
     "output_type": "display_data"
    },
    {
     "data": {
      "application/vnd.jupyter.widget-view+json": {
       "model_id": "",
       "version_major": 2,
       "version_minor": 0
      },
      "text/plain": [
       "  0%|          | 0/2430 [00:00<?, ?it/s]"
      ]
     },
     "metadata": {},
     "output_type": "display_data"
    },
    {
     "data": {
      "application/vnd.jupyter.widget-view+json": {
       "model_id": "",
       "version_major": 2,
       "version_minor": 0
      },
      "text/plain": [
       "  0%|          | 0/2430 [00:00<?, ?it/s]"
      ]
     },
     "metadata": {},
     "output_type": "display_data"
    },
    {
     "data": {
      "application/vnd.jupyter.widget-view+json": {
       "model_id": "",
       "version_major": 2,
       "version_minor": 0
      },
      "text/plain": [
       "  0%|          | 0/2430 [00:00<?, ?it/s]"
      ]
     },
     "metadata": {},
     "output_type": "display_data"
    },
    {
     "data": {
      "application/vnd.jupyter.widget-view+json": {
       "model_id": "",
       "version_major": 2,
       "version_minor": 0
      },
      "text/plain": [
       "  0%|          | 0/2430 [00:00<?, ?it/s]"
      ]
     },
     "metadata": {},
     "output_type": "display_data"
    },
    {
     "data": {
      "application/vnd.jupyter.widget-view+json": {
       "model_id": "",
       "version_major": 2,
       "version_minor": 0
      },
      "text/plain": [
       "  0%|          | 0/2430 [00:00<?, ?it/s]"
      ]
     },
     "metadata": {},
     "output_type": "display_data"
    },
    {
     "data": {
      "application/vnd.jupyter.widget-view+json": {
       "model_id": "",
       "version_major": 2,
       "version_minor": 0
      },
      "text/plain": [
       "  0%|          | 0/2430 [00:00<?, ?it/s]"
      ]
     },
     "metadata": {},
     "output_type": "display_data"
    },
    {
     "data": {
      "application/vnd.jupyter.widget-view+json": {
       "model_id": "",
       "version_major": 2,
       "version_minor": 0
      },
      "text/plain": [
       "  0%|          | 0/2430 [00:00<?, ?it/s]"
      ]
     },
     "metadata": {},
     "output_type": "display_data"
    },
    {
     "data": {
      "application/vnd.jupyter.widget-view+json": {
       "model_id": "",
       "version_major": 2,
       "version_minor": 0
      },
      "text/plain": [
       "  0%|          | 0/2430 [00:00<?, ?it/s]"
      ]
     },
     "metadata": {},
     "output_type": "display_data"
    },
    {
     "data": {
      "application/vnd.jupyter.widget-view+json": {
       "model_id": "",
       "version_major": 2,
       "version_minor": 0
      },
      "text/plain": [
       "  0%|          | 0/2430 [00:00<?, ?it/s]"
      ]
     },
     "metadata": {},
     "output_type": "display_data"
    },
    {
     "data": {
      "application/vnd.jupyter.widget-view+json": {
       "model_id": "",
       "version_major": 2,
       "version_minor": 0
      },
      "text/plain": [
       "  0%|          | 0/2430 [00:00<?, ?it/s]"
      ]
     },
     "metadata": {},
     "output_type": "display_data"
    },
    {
     "data": {
      "application/vnd.jupyter.widget-view+json": {
       "model_id": "",
       "version_major": 2,
       "version_minor": 0
      },
      "text/plain": [
       "  0%|          | 0/2430 [00:00<?, ?it/s]"
      ]
     },
     "metadata": {},
     "output_type": "display_data"
    },
    {
     "data": {
      "application/vnd.jupyter.widget-view+json": {
       "model_id": "",
       "version_major": 2,
       "version_minor": 0
      },
      "text/plain": [
       "  0%|          | 0/2430 [00:00<?, ?it/s]"
      ]
     },
     "metadata": {},
     "output_type": "display_data"
    },
    {
     "data": {
      "application/vnd.jupyter.widget-view+json": {
       "model_id": "",
       "version_major": 2,
       "version_minor": 0
      },
      "text/plain": [
       "  0%|          | 0/4 [00:00<?, ?it/s]"
      ]
     },
     "metadata": {},
     "output_type": "display_data"
    },
    {
     "data": {
      "application/vnd.jupyter.widget-view+json": {
       "model_id": "",
       "version_major": 2,
       "version_minor": 0
      },
      "text/plain": [
       "  0%|          | 0/2430 [00:00<?, ?it/s]"
      ]
     },
     "metadata": {},
     "output_type": "display_data"
    },
    {
     "data": {
      "application/vnd.jupyter.widget-view+json": {
       "model_id": "",
       "version_major": 2,
       "version_minor": 0
      },
      "text/plain": [
       "  0%|          | 0/2430 [00:00<?, ?it/s]"
      ]
     },
     "metadata": {},
     "output_type": "display_data"
    },
    {
     "data": {
      "application/vnd.jupyter.widget-view+json": {
       "model_id": "",
       "version_major": 2,
       "version_minor": 0
      },
      "text/plain": [
       "  0%|          | 0/2430 [00:00<?, ?it/s]"
      ]
     },
     "metadata": {},
     "output_type": "display_data"
    },
    {
     "data": {
      "application/vnd.jupyter.widget-view+json": {
       "model_id": "",
       "version_major": 2,
       "version_minor": 0
      },
      "text/plain": [
       "  0%|          | 0/2430 [00:00<?, ?it/s]"
      ]
     },
     "metadata": {},
     "output_type": "display_data"
    },
    {
     "data": {
      "application/vnd.jupyter.widget-view+json": {
       "model_id": "",
       "version_major": 2,
       "version_minor": 0
      },
      "text/plain": [
       "  0%|          | 0/2430 [00:00<?, ?it/s]"
      ]
     },
     "metadata": {},
     "output_type": "display_data"
    },
    {
     "data": {
      "application/vnd.jupyter.widget-view+json": {
       "model_id": "",
       "version_major": 2,
       "version_minor": 0
      },
      "text/plain": [
       "  0%|          | 0/2430 [00:00<?, ?it/s]"
      ]
     },
     "metadata": {},
     "output_type": "display_data"
    },
    {
     "data": {
      "application/vnd.jupyter.widget-view+json": {
       "model_id": "",
       "version_major": 2,
       "version_minor": 0
      },
      "text/plain": [
       "  0%|          | 0/2430 [00:00<?, ?it/s]"
      ]
     },
     "metadata": {},
     "output_type": "display_data"
    },
    {
     "data": {
      "application/vnd.jupyter.widget-view+json": {
       "model_id": "",
       "version_major": 2,
       "version_minor": 0
      },
      "text/plain": [
       "  0%|          | 0/2430 [00:00<?, ?it/s]"
      ]
     },
     "metadata": {},
     "output_type": "display_data"
    },
    {
     "data": {
      "application/vnd.jupyter.widget-view+json": {
       "model_id": "",
       "version_major": 2,
       "version_minor": 0
      },
      "text/plain": [
       "  0%|          | 0/2430 [00:00<?, ?it/s]"
      ]
     },
     "metadata": {},
     "output_type": "display_data"
    },
    {
     "data": {
      "application/vnd.jupyter.widget-view+json": {
       "model_id": "",
       "version_major": 2,
       "version_minor": 0
      },
      "text/plain": [
       "  0%|          | 0/2430 [00:00<?, ?it/s]"
      ]
     },
     "metadata": {},
     "output_type": "display_data"
    },
    {
     "data": {
      "application/vnd.jupyter.widget-view+json": {
       "model_id": "",
       "version_major": 2,
       "version_minor": 0
      },
      "text/plain": [
       "  0%|          | 0/2430 [00:00<?, ?it/s]"
      ]
     },
     "metadata": {},
     "output_type": "display_data"
    },
    {
     "data": {
      "application/vnd.jupyter.widget-view+json": {
       "model_id": "",
       "version_major": 2,
       "version_minor": 0
      },
      "text/plain": [
       "  0%|          | 0/2430 [00:00<?, ?it/s]"
      ]
     },
     "metadata": {},
     "output_type": "display_data"
    },
    {
     "data": {
      "application/vnd.jupyter.widget-view+json": {
       "model_id": "",
       "version_major": 2,
       "version_minor": 0
      },
      "text/plain": [
       "  0%|          | 0/4 [00:00<?, ?it/s]"
      ]
     },
     "metadata": {},
     "output_type": "display_data"
    },
    {
     "data": {
      "application/vnd.jupyter.widget-view+json": {
       "model_id": "",
       "version_major": 2,
       "version_minor": 0
      },
      "text/plain": [
       "  0%|          | 0/2430 [00:00<?, ?it/s]"
      ]
     },
     "metadata": {},
     "output_type": "display_data"
    },
    {
     "data": {
      "application/vnd.jupyter.widget-view+json": {
       "model_id": "",
       "version_major": 2,
       "version_minor": 0
      },
      "text/plain": [
       "  0%|          | 0/2430 [00:00<?, ?it/s]"
      ]
     },
     "metadata": {},
     "output_type": "display_data"
    },
    {
     "data": {
      "application/vnd.jupyter.widget-view+json": {
       "model_id": "",
       "version_major": 2,
       "version_minor": 0
      },
      "text/plain": [
       "  0%|          | 0/2430 [00:00<?, ?it/s]"
      ]
     },
     "metadata": {},
     "output_type": "display_data"
    },
    {
     "data": {
      "application/vnd.jupyter.widget-view+json": {
       "model_id": "",
       "version_major": 2,
       "version_minor": 0
      },
      "text/plain": [
       "  0%|          | 0/2430 [00:00<?, ?it/s]"
      ]
     },
     "metadata": {},
     "output_type": "display_data"
    },
    {
     "data": {
      "application/vnd.jupyter.widget-view+json": {
       "model_id": "",
       "version_major": 2,
       "version_minor": 0
      },
      "text/plain": [
       "  0%|          | 0/2430 [00:00<?, ?it/s]"
      ]
     },
     "metadata": {},
     "output_type": "display_data"
    },
    {
     "data": {
      "application/vnd.jupyter.widget-view+json": {
       "model_id": "",
       "version_major": 2,
       "version_minor": 0
      },
      "text/plain": [
       "  0%|          | 0/2430 [00:00<?, ?it/s]"
      ]
     },
     "metadata": {},
     "output_type": "display_data"
    },
    {
     "data": {
      "application/vnd.jupyter.widget-view+json": {
       "model_id": "",
       "version_major": 2,
       "version_minor": 0
      },
      "text/plain": [
       "  0%|          | 0/2430 [00:00<?, ?it/s]"
      ]
     },
     "metadata": {},
     "output_type": "display_data"
    },
    {
     "data": {
      "application/vnd.jupyter.widget-view+json": {
       "model_id": "",
       "version_major": 2,
       "version_minor": 0
      },
      "text/plain": [
       "  0%|          | 0/2430 [00:00<?, ?it/s]"
      ]
     },
     "metadata": {},
     "output_type": "display_data"
    },
    {
     "data": {
      "application/vnd.jupyter.widget-view+json": {
       "model_id": "",
       "version_major": 2,
       "version_minor": 0
      },
      "text/plain": [
       "  0%|          | 0/2430 [00:00<?, ?it/s]"
      ]
     },
     "metadata": {},
     "output_type": "display_data"
    },
    {
     "data": {
      "application/vnd.jupyter.widget-view+json": {
       "model_id": "",
       "version_major": 2,
       "version_minor": 0
      },
      "text/plain": [
       "  0%|          | 0/2430 [00:00<?, ?it/s]"
      ]
     },
     "metadata": {},
     "output_type": "display_data"
    },
    {
     "data": {
      "application/vnd.jupyter.widget-view+json": {
       "model_id": "",
       "version_major": 2,
       "version_minor": 0
      },
      "text/plain": [
       "  0%|          | 0/2430 [00:00<?, ?it/s]"
      ]
     },
     "metadata": {},
     "output_type": "display_data"
    },
    {
     "data": {
      "application/vnd.jupyter.widget-view+json": {
       "model_id": "",
       "version_major": 2,
       "version_minor": 0
      },
      "text/plain": [
       "  0%|          | 0/2430 [00:00<?, ?it/s]"
      ]
     },
     "metadata": {},
     "output_type": "display_data"
    },
    {
     "data": {
      "application/vnd.jupyter.widget-view+json": {
       "model_id": "",
       "version_major": 2,
       "version_minor": 0
      },
      "text/plain": [
       "  0%|          | 0/4 [00:00<?, ?it/s]"
      ]
     },
     "metadata": {},
     "output_type": "display_data"
    },
    {
     "data": {
      "application/vnd.jupyter.widget-view+json": {
       "model_id": "",
       "version_major": 2,
       "version_minor": 0
      },
      "text/plain": [
       "  0%|          | 0/2430 [00:00<?, ?it/s]"
      ]
     },
     "metadata": {},
     "output_type": "display_data"
    },
    {
     "data": {
      "application/vnd.jupyter.widget-view+json": {
       "model_id": "",
       "version_major": 2,
       "version_minor": 0
      },
      "text/plain": [
       "  0%|          | 0/2430 [00:00<?, ?it/s]"
      ]
     },
     "metadata": {},
     "output_type": "display_data"
    },
    {
     "data": {
      "application/vnd.jupyter.widget-view+json": {
       "model_id": "",
       "version_major": 2,
       "version_minor": 0
      },
      "text/plain": [
       "  0%|          | 0/2430 [00:00<?, ?it/s]"
      ]
     },
     "metadata": {},
     "output_type": "display_data"
    },
    {
     "data": {
      "application/vnd.jupyter.widget-view+json": {
       "model_id": "",
       "version_major": 2,
       "version_minor": 0
      },
      "text/plain": [
       "  0%|          | 0/2430 [00:00<?, ?it/s]"
      ]
     },
     "metadata": {},
     "output_type": "display_data"
    },
    {
     "data": {
      "application/vnd.jupyter.widget-view+json": {
       "model_id": "",
       "version_major": 2,
       "version_minor": 0
      },
      "text/plain": [
       "  0%|          | 0/2430 [00:00<?, ?it/s]"
      ]
     },
     "metadata": {},
     "output_type": "display_data"
    },
    {
     "data": {
      "application/vnd.jupyter.widget-view+json": {
       "model_id": "",
       "version_major": 2,
       "version_minor": 0
      },
      "text/plain": [
       "  0%|          | 0/2430 [00:00<?, ?it/s]"
      ]
     },
     "metadata": {},
     "output_type": "display_data"
    },
    {
     "data": {
      "application/vnd.jupyter.widget-view+json": {
       "model_id": "",
       "version_major": 2,
       "version_minor": 0
      },
      "text/plain": [
       "  0%|          | 0/2430 [00:00<?, ?it/s]"
      ]
     },
     "metadata": {},
     "output_type": "display_data"
    },
    {
     "data": {
      "application/vnd.jupyter.widget-view+json": {
       "model_id": "",
       "version_major": 2,
       "version_minor": 0
      },
      "text/plain": [
       "  0%|          | 0/2430 [00:00<?, ?it/s]"
      ]
     },
     "metadata": {},
     "output_type": "display_data"
    },
    {
     "data": {
      "application/vnd.jupyter.widget-view+json": {
       "model_id": "",
       "version_major": 2,
       "version_minor": 0
      },
      "text/plain": [
       "  0%|          | 0/2430 [00:00<?, ?it/s]"
      ]
     },
     "metadata": {},
     "output_type": "display_data"
    },
    {
     "data": {
      "application/vnd.jupyter.widget-view+json": {
       "model_id": "",
       "version_major": 2,
       "version_minor": 0
      },
      "text/plain": [
       "  0%|          | 0/2430 [00:00<?, ?it/s]"
      ]
     },
     "metadata": {},
     "output_type": "display_data"
    },
    {
     "data": {
      "application/vnd.jupyter.widget-view+json": {
       "model_id": "",
       "version_major": 2,
       "version_minor": 0
      },
      "text/plain": [
       "  0%|          | 0/2430 [00:00<?, ?it/s]"
      ]
     },
     "metadata": {},
     "output_type": "display_data"
    },
    {
     "data": {
      "application/vnd.jupyter.widget-view+json": {
       "model_id": "",
       "version_major": 2,
       "version_minor": 0
      },
      "text/plain": [
       "  0%|          | 0/2430 [00:00<?, ?it/s]"
      ]
     },
     "metadata": {},
     "output_type": "display_data"
    },
    {
     "data": {
      "text/html": [
       "<div>\n",
       "<style scoped>\n",
       "    .dataframe tbody tr th:only-of-type {\n",
       "        vertical-align: middle;\n",
       "    }\n",
       "\n",
       "    .dataframe tbody tr th {\n",
       "        vertical-align: top;\n",
       "    }\n",
       "\n",
       "    .dataframe thead th {\n",
       "        text-align: right;\n",
       "    }\n",
       "</style>\n",
       "<table border=\"1\" class=\"dataframe\">\n",
       "  <thead>\n",
       "    <tr style=\"text-align: right;\">\n",
       "      <th></th>\n",
       "      <th>top</th>\n",
       "      <th>model</th>\n",
       "      <th>tp</th>\n",
       "      <th>fp</th>\n",
       "      <th>fn</th>\n",
       "      <th>reach</th>\n",
       "      <th>precision</th>\n",
       "      <th>recall</th>\n",
       "      <th>tp_over_reach</th>\n",
       "    </tr>\n",
       "  </thead>\n",
       "  <tbody>\n",
       "    <tr>\n",
       "      <th>baseline_top1</th>\n",
       "      <td>1</td>\n",
       "      <td>baseline</td>\n",
       "      <td>637</td>\n",
       "      <td>1754</td>\n",
       "      <td>273647</td>\n",
       "      <td>2391</td>\n",
       "      <td>0.266416</td>\n",
       "      <td>0.002322</td>\n",
       "      <td>0.266416</td>\n",
       "    </tr>\n",
       "    <tr>\n",
       "      <th>baseline_top10</th>\n",
       "      <td>10</td>\n",
       "      <td>baseline</td>\n",
       "      <td>5184</td>\n",
       "      <td>14437</td>\n",
       "      <td>269100</td>\n",
       "      <td>19618</td>\n",
       "      <td>0.264207</td>\n",
       "      <td>0.0189</td>\n",
       "      <td>0.264247</td>\n",
       "    </tr>\n",
       "    <tr>\n",
       "      <th>baseline_top50</th>\n",
       "      <td>50</td>\n",
       "      <td>baseline</td>\n",
       "      <td>15198</td>\n",
       "      <td>39057</td>\n",
       "      <td>259086</td>\n",
       "      <td>54252</td>\n",
       "      <td>0.280122</td>\n",
       "      <td>0.05541</td>\n",
       "      <td>0.280137</td>\n",
       "    </tr>\n",
       "    <tr>\n",
       "      <th>baseline_top100</th>\n",
       "      <td>100</td>\n",
       "      <td>baseline</td>\n",
       "      <td>19780</td>\n",
       "      <td>47500</td>\n",
       "      <td>254504</td>\n",
       "      <td>67277</td>\n",
       "      <td>0.293995</td>\n",
       "      <td>0.072115</td>\n",
       "      <td>0.294008</td>\n",
       "    </tr>\n",
       "    <tr>\n",
       "      <th>trial_9_top1</th>\n",
       "      <td>1</td>\n",
       "      <td>trial_9</td>\n",
       "      <td>92</td>\n",
       "      <td>2338</td>\n",
       "      <td>274192</td>\n",
       "      <td>2430</td>\n",
       "      <td>0.03786</td>\n",
       "      <td>0.000335</td>\n",
       "      <td>0.03786</td>\n",
       "    </tr>\n",
       "    <tr>\n",
       "      <th>trial_9_top10</th>\n",
       "      <td>10</td>\n",
       "      <td>trial_9</td>\n",
       "      <td>1078</td>\n",
       "      <td>23222</td>\n",
       "      <td>273206</td>\n",
       "      <td>23612</td>\n",
       "      <td>0.044362</td>\n",
       "      <td>0.00393</td>\n",
       "      <td>0.045655</td>\n",
       "    </tr>\n",
       "    <tr>\n",
       "      <th>trial_9_top50</th>\n",
       "      <td>50</td>\n",
       "      <td>trial_9</td>\n",
       "      <td>6914</td>\n",
       "      <td>114586</td>\n",
       "      <td>267370</td>\n",
       "      <td>91899</td>\n",
       "      <td>0.056905</td>\n",
       "      <td>0.025207</td>\n",
       "      <td>0.075235</td>\n",
       "    </tr>\n",
       "    <tr>\n",
       "      <th>trial_9_top100</th>\n",
       "      <td>100</td>\n",
       "      <td>trial_9</td>\n",
       "      <td>15173</td>\n",
       "      <td>227827</td>\n",
       "      <td>259111</td>\n",
       "      <td>146329</td>\n",
       "      <td>0.06244</td>\n",
       "      <td>0.055319</td>\n",
       "      <td>0.103691</td>\n",
       "    </tr>\n",
       "    <tr>\n",
       "      <th>trial_8_top1</th>\n",
       "      <td>1</td>\n",
       "      <td>trial_8</td>\n",
       "      <td>102</td>\n",
       "      <td>2328</td>\n",
       "      <td>274182</td>\n",
       "      <td>2430</td>\n",
       "      <td>0.041975</td>\n",
       "      <td>0.000372</td>\n",
       "      <td>0.041975</td>\n",
       "    </tr>\n",
       "    <tr>\n",
       "      <th>trial_8_top10</th>\n",
       "      <td>10</td>\n",
       "      <td>trial_8</td>\n",
       "      <td>877</td>\n",
       "      <td>23423</td>\n",
       "      <td>273407</td>\n",
       "      <td>23612</td>\n",
       "      <td>0.036091</td>\n",
       "      <td>0.003197</td>\n",
       "      <td>0.037142</td>\n",
       "    </tr>\n",
       "    <tr>\n",
       "      <th>trial_8_top50</th>\n",
       "      <td>50</td>\n",
       "      <td>trial_8</td>\n",
       "      <td>4074</td>\n",
       "      <td>117426</td>\n",
       "      <td>270210</td>\n",
       "      <td>91899</td>\n",
       "      <td>0.033531</td>\n",
       "      <td>0.014853</td>\n",
       "      <td>0.044331</td>\n",
       "    </tr>\n",
       "    <tr>\n",
       "      <th>trial_8_top100</th>\n",
       "      <td>100</td>\n",
       "      <td>trial_8</td>\n",
       "      <td>7982</td>\n",
       "      <td>235018</td>\n",
       "      <td>266302</td>\n",
       "      <td>146329</td>\n",
       "      <td>0.032848</td>\n",
       "      <td>0.029101</td>\n",
       "      <td>0.054548</td>\n",
       "    </tr>\n",
       "    <tr>\n",
       "      <th>trial_7_top1</th>\n",
       "      <td>1</td>\n",
       "      <td>trial_7</td>\n",
       "      <td>151</td>\n",
       "      <td>2279</td>\n",
       "      <td>274133</td>\n",
       "      <td>2430</td>\n",
       "      <td>0.06214</td>\n",
       "      <td>0.000551</td>\n",
       "      <td>0.06214</td>\n",
       "    </tr>\n",
       "    <tr>\n",
       "      <th>trial_7_top10</th>\n",
       "      <td>10</td>\n",
       "      <td>trial_7</td>\n",
       "      <td>1566</td>\n",
       "      <td>22734</td>\n",
       "      <td>272718</td>\n",
       "      <td>23612</td>\n",
       "      <td>0.064444</td>\n",
       "      <td>0.005709</td>\n",
       "      <td>0.066322</td>\n",
       "    </tr>\n",
       "    <tr>\n",
       "      <th>trial_7_top50</th>\n",
       "      <td>50</td>\n",
       "      <td>trial_7</td>\n",
       "      <td>6832</td>\n",
       "      <td>114668</td>\n",
       "      <td>267452</td>\n",
       "      <td>91899</td>\n",
       "      <td>0.05623</td>\n",
       "      <td>0.024908</td>\n",
       "      <td>0.074342</td>\n",
       "    </tr>\n",
       "    <tr>\n",
       "      <th>trial_7_top100</th>\n",
       "      <td>100</td>\n",
       "      <td>trial_7</td>\n",
       "      <td>12813</td>\n",
       "      <td>230187</td>\n",
       "      <td>261471</td>\n",
       "      <td>146329</td>\n",
       "      <td>0.052728</td>\n",
       "      <td>0.046714</td>\n",
       "      <td>0.087563</td>\n",
       "    </tr>\n",
       "    <tr>\n",
       "      <th>trial_6_top1</th>\n",
       "      <td>1</td>\n",
       "      <td>trial_6</td>\n",
       "      <td>29</td>\n",
       "      <td>2401</td>\n",
       "      <td>274255</td>\n",
       "      <td>2430</td>\n",
       "      <td>0.011934</td>\n",
       "      <td>0.000106</td>\n",
       "      <td>0.011934</td>\n",
       "    </tr>\n",
       "    <tr>\n",
       "      <th>trial_6_top10</th>\n",
       "      <td>10</td>\n",
       "      <td>trial_6</td>\n",
       "      <td>196</td>\n",
       "      <td>24104</td>\n",
       "      <td>274088</td>\n",
       "      <td>23612</td>\n",
       "      <td>0.008066</td>\n",
       "      <td>0.000715</td>\n",
       "      <td>0.008301</td>\n",
       "    </tr>\n",
       "    <tr>\n",
       "      <th>trial_6_top50</th>\n",
       "      <td>50</td>\n",
       "      <td>trial_6</td>\n",
       "      <td>1113</td>\n",
       "      <td>120387</td>\n",
       "      <td>273171</td>\n",
       "      <td>91899</td>\n",
       "      <td>0.00916</td>\n",
       "      <td>0.004058</td>\n",
       "      <td>0.012111</td>\n",
       "    </tr>\n",
       "    <tr>\n",
       "      <th>trial_6_top100</th>\n",
       "      <td>100</td>\n",
       "      <td>trial_6</td>\n",
       "      <td>3362</td>\n",
       "      <td>239638</td>\n",
       "      <td>270922</td>\n",
       "      <td>146329</td>\n",
       "      <td>0.013835</td>\n",
       "      <td>0.012257</td>\n",
       "      <td>0.022976</td>\n",
       "    </tr>\n",
       "    <tr>\n",
       "      <th>trial_5_top1</th>\n",
       "      <td>1</td>\n",
       "      <td>trial_5</td>\n",
       "      <td>42</td>\n",
       "      <td>2388</td>\n",
       "      <td>274242</td>\n",
       "      <td>2430</td>\n",
       "      <td>0.017284</td>\n",
       "      <td>0.000153</td>\n",
       "      <td>0.017284</td>\n",
       "    </tr>\n",
       "    <tr>\n",
       "      <th>trial_5_top10</th>\n",
       "      <td>10</td>\n",
       "      <td>trial_5</td>\n",
       "      <td>538</td>\n",
       "      <td>23762</td>\n",
       "      <td>273746</td>\n",
       "      <td>23612</td>\n",
       "      <td>0.02214</td>\n",
       "      <td>0.001961</td>\n",
       "      <td>0.022785</td>\n",
       "    </tr>\n",
       "    <tr>\n",
       "      <th>trial_5_top50</th>\n",
       "      <td>50</td>\n",
       "      <td>trial_5</td>\n",
       "      <td>3148</td>\n",
       "      <td>118352</td>\n",
       "      <td>271136</td>\n",
       "      <td>91899</td>\n",
       "      <td>0.025909</td>\n",
       "      <td>0.011477</td>\n",
       "      <td>0.034255</td>\n",
       "    </tr>\n",
       "    <tr>\n",
       "      <th>trial_5_top100</th>\n",
       "      <td>100</td>\n",
       "      <td>trial_5</td>\n",
       "      <td>6752</td>\n",
       "      <td>236248</td>\n",
       "      <td>267532</td>\n",
       "      <td>146329</td>\n",
       "      <td>0.027786</td>\n",
       "      <td>0.024617</td>\n",
       "      <td>0.046143</td>\n",
       "    </tr>\n",
       "    <tr>\n",
       "      <th>trial_4_top1</th>\n",
       "      <td>1</td>\n",
       "      <td>trial_4</td>\n",
       "      <td>68</td>\n",
       "      <td>2362</td>\n",
       "      <td>274216</td>\n",
       "      <td>2430</td>\n",
       "      <td>0.027984</td>\n",
       "      <td>0.000248</td>\n",
       "      <td>0.027984</td>\n",
       "    </tr>\n",
       "    <tr>\n",
       "      <th>trial_4_top10</th>\n",
       "      <td>10</td>\n",
       "      <td>trial_4</td>\n",
       "      <td>424</td>\n",
       "      <td>23876</td>\n",
       "      <td>273860</td>\n",
       "      <td>23612</td>\n",
       "      <td>0.017449</td>\n",
       "      <td>0.001546</td>\n",
       "      <td>0.017957</td>\n",
       "    </tr>\n",
       "    <tr>\n",
       "      <th>trial_4_top50</th>\n",
       "      <td>50</td>\n",
       "      <td>trial_4</td>\n",
       "      <td>3189</td>\n",
       "      <td>118311</td>\n",
       "      <td>271095</td>\n",
       "      <td>91899</td>\n",
       "      <td>0.026247</td>\n",
       "      <td>0.011627</td>\n",
       "      <td>0.034701</td>\n",
       "    </tr>\n",
       "    <tr>\n",
       "      <th>trial_4_top100</th>\n",
       "      <td>100</td>\n",
       "      <td>trial_4</td>\n",
       "      <td>8223</td>\n",
       "      <td>234777</td>\n",
       "      <td>266061</td>\n",
       "      <td>146329</td>\n",
       "      <td>0.03384</td>\n",
       "      <td>0.02998</td>\n",
       "      <td>0.056195</td>\n",
       "    </tr>\n",
       "    <tr>\n",
       "      <th>trial_3_top1</th>\n",
       "      <td>1</td>\n",
       "      <td>trial_3</td>\n",
       "      <td>113</td>\n",
       "      <td>2317</td>\n",
       "      <td>274171</td>\n",
       "      <td>2430</td>\n",
       "      <td>0.046502</td>\n",
       "      <td>0.000412</td>\n",
       "      <td>0.046502</td>\n",
       "    </tr>\n",
       "    <tr>\n",
       "      <th>trial_3_top10</th>\n",
       "      <td>10</td>\n",
       "      <td>trial_3</td>\n",
       "      <td>1173</td>\n",
       "      <td>23127</td>\n",
       "      <td>273111</td>\n",
       "      <td>23612</td>\n",
       "      <td>0.048272</td>\n",
       "      <td>0.004277</td>\n",
       "      <td>0.049678</td>\n",
       "    </tr>\n",
       "    <tr>\n",
       "      <th>trial_3_top50</th>\n",
       "      <td>50</td>\n",
       "      <td>trial_3</td>\n",
       "      <td>5553</td>\n",
       "      <td>115947</td>\n",
       "      <td>268731</td>\n",
       "      <td>91899</td>\n",
       "      <td>0.045704</td>\n",
       "      <td>0.020245</td>\n",
       "      <td>0.060425</td>\n",
       "    </tr>\n",
       "    <tr>\n",
       "      <th>trial_3_top100</th>\n",
       "      <td>100</td>\n",
       "      <td>trial_3</td>\n",
       "      <td>10853</td>\n",
       "      <td>232147</td>\n",
       "      <td>263431</td>\n",
       "      <td>146329</td>\n",
       "      <td>0.044663</td>\n",
       "      <td>0.039568</td>\n",
       "      <td>0.074168</td>\n",
       "    </tr>\n",
       "    <tr>\n",
       "      <th>trial_2_top1</th>\n",
       "      <td>1</td>\n",
       "      <td>trial_2</td>\n",
       "      <td>101</td>\n",
       "      <td>2329</td>\n",
       "      <td>274183</td>\n",
       "      <td>2430</td>\n",
       "      <td>0.041564</td>\n",
       "      <td>0.000368</td>\n",
       "      <td>0.041564</td>\n",
       "    </tr>\n",
       "    <tr>\n",
       "      <th>trial_2_top10</th>\n",
       "      <td>10</td>\n",
       "      <td>trial_2</td>\n",
       "      <td>831</td>\n",
       "      <td>23469</td>\n",
       "      <td>273453</td>\n",
       "      <td>23612</td>\n",
       "      <td>0.034198</td>\n",
       "      <td>0.00303</td>\n",
       "      <td>0.035194</td>\n",
       "    </tr>\n",
       "    <tr>\n",
       "      <th>trial_2_top50</th>\n",
       "      <td>50</td>\n",
       "      <td>trial_2</td>\n",
       "      <td>4037</td>\n",
       "      <td>117463</td>\n",
       "      <td>270247</td>\n",
       "      <td>91899</td>\n",
       "      <td>0.033226</td>\n",
       "      <td>0.014718</td>\n",
       "      <td>0.043929</td>\n",
       "    </tr>\n",
       "    <tr>\n",
       "      <th>trial_2_top100</th>\n",
       "      <td>100</td>\n",
       "      <td>trial_2</td>\n",
       "      <td>7846</td>\n",
       "      <td>235115</td>\n",
       "      <td>266438</td>\n",
       "      <td>146296</td>\n",
       "      <td>0.032293</td>\n",
       "      <td>0.028605</td>\n",
       "      <td>0.053631</td>\n",
       "    </tr>\n",
       "    <tr>\n",
       "      <th>trial_1_top1</th>\n",
       "      <td>1</td>\n",
       "      <td>trial_1</td>\n",
       "      <td>272</td>\n",
       "      <td>2158</td>\n",
       "      <td>274012</td>\n",
       "      <td>2430</td>\n",
       "      <td>0.111934</td>\n",
       "      <td>0.000992</td>\n",
       "      <td>0.111934</td>\n",
       "    </tr>\n",
       "    <tr>\n",
       "      <th>trial_1_top10</th>\n",
       "      <td>10</td>\n",
       "      <td>trial_1</td>\n",
       "      <td>2051</td>\n",
       "      <td>22249</td>\n",
       "      <td>272233</td>\n",
       "      <td>23612</td>\n",
       "      <td>0.084403</td>\n",
       "      <td>0.007478</td>\n",
       "      <td>0.086863</td>\n",
       "    </tr>\n",
       "    <tr>\n",
       "      <th>trial_1_top50</th>\n",
       "      <td>50</td>\n",
       "      <td>trial_1</td>\n",
       "      <td>7722</td>\n",
       "      <td>113778</td>\n",
       "      <td>266562</td>\n",
       "      <td>91899</td>\n",
       "      <td>0.063556</td>\n",
       "      <td>0.028153</td>\n",
       "      <td>0.084027</td>\n",
       "    </tr>\n",
       "    <tr>\n",
       "      <th>trial_1_top100</th>\n",
       "      <td>100</td>\n",
       "      <td>trial_1</td>\n",
       "      <td>14070</td>\n",
       "      <td>228930</td>\n",
       "      <td>260214</td>\n",
       "      <td>146329</td>\n",
       "      <td>0.057901</td>\n",
       "      <td>0.051297</td>\n",
       "      <td>0.096153</td>\n",
       "    </tr>\n",
       "  </tbody>\n",
       "</table>\n",
       "</div>"
      ],
      "text/plain": [
       "                 top     model     tp      fp      fn   reach precision  \\\n",
       "baseline_top1      1  baseline    637    1754  273647    2391  0.266416   \n",
       "baseline_top10    10  baseline   5184   14437  269100   19618  0.264207   \n",
       "baseline_top50    50  baseline  15198   39057  259086   54252  0.280122   \n",
       "baseline_top100  100  baseline  19780   47500  254504   67277  0.293995   \n",
       "trial_9_top1       1   trial_9     92    2338  274192    2430   0.03786   \n",
       "trial_9_top10     10   trial_9   1078   23222  273206   23612  0.044362   \n",
       "trial_9_top50     50   trial_9   6914  114586  267370   91899  0.056905   \n",
       "trial_9_top100   100   trial_9  15173  227827  259111  146329   0.06244   \n",
       "trial_8_top1       1   trial_8    102    2328  274182    2430  0.041975   \n",
       "trial_8_top10     10   trial_8    877   23423  273407   23612  0.036091   \n",
       "trial_8_top50     50   trial_8   4074  117426  270210   91899  0.033531   \n",
       "trial_8_top100   100   trial_8   7982  235018  266302  146329  0.032848   \n",
       "trial_7_top1       1   trial_7    151    2279  274133    2430   0.06214   \n",
       "trial_7_top10     10   trial_7   1566   22734  272718   23612  0.064444   \n",
       "trial_7_top50     50   trial_7   6832  114668  267452   91899   0.05623   \n",
       "trial_7_top100   100   trial_7  12813  230187  261471  146329  0.052728   \n",
       "trial_6_top1       1   trial_6     29    2401  274255    2430  0.011934   \n",
       "trial_6_top10     10   trial_6    196   24104  274088   23612  0.008066   \n",
       "trial_6_top50     50   trial_6   1113  120387  273171   91899   0.00916   \n",
       "trial_6_top100   100   trial_6   3362  239638  270922  146329  0.013835   \n",
       "trial_5_top1       1   trial_5     42    2388  274242    2430  0.017284   \n",
       "trial_5_top10     10   trial_5    538   23762  273746   23612   0.02214   \n",
       "trial_5_top50     50   trial_5   3148  118352  271136   91899  0.025909   \n",
       "trial_5_top100   100   trial_5   6752  236248  267532  146329  0.027786   \n",
       "trial_4_top1       1   trial_4     68    2362  274216    2430  0.027984   \n",
       "trial_4_top10     10   trial_4    424   23876  273860   23612  0.017449   \n",
       "trial_4_top50     50   trial_4   3189  118311  271095   91899  0.026247   \n",
       "trial_4_top100   100   trial_4   8223  234777  266061  146329   0.03384   \n",
       "trial_3_top1       1   trial_3    113    2317  274171    2430  0.046502   \n",
       "trial_3_top10     10   trial_3   1173   23127  273111   23612  0.048272   \n",
       "trial_3_top50     50   trial_3   5553  115947  268731   91899  0.045704   \n",
       "trial_3_top100   100   trial_3  10853  232147  263431  146329  0.044663   \n",
       "trial_2_top1       1   trial_2    101    2329  274183    2430  0.041564   \n",
       "trial_2_top10     10   trial_2    831   23469  273453   23612  0.034198   \n",
       "trial_2_top50     50   trial_2   4037  117463  270247   91899  0.033226   \n",
       "trial_2_top100   100   trial_2   7846  235115  266438  146296  0.032293   \n",
       "trial_1_top1       1   trial_1    272    2158  274012    2430  0.111934   \n",
       "trial_1_top10     10   trial_1   2051   22249  272233   23612  0.084403   \n",
       "trial_1_top50     50   trial_1   7722  113778  266562   91899  0.063556   \n",
       "trial_1_top100   100   trial_1  14070  228930  260214  146329  0.057901   \n",
       "\n",
       "                   recall tp_over_reach  \n",
       "baseline_top1    0.002322      0.266416  \n",
       "baseline_top10     0.0189      0.264247  \n",
       "baseline_top50    0.05541      0.280137  \n",
       "baseline_top100  0.072115      0.294008  \n",
       "trial_9_top1     0.000335       0.03786  \n",
       "trial_9_top10     0.00393      0.045655  \n",
       "trial_9_top50    0.025207      0.075235  \n",
       "trial_9_top100   0.055319      0.103691  \n",
       "trial_8_top1     0.000372      0.041975  \n",
       "trial_8_top10    0.003197      0.037142  \n",
       "trial_8_top50    0.014853      0.044331  \n",
       "trial_8_top100   0.029101      0.054548  \n",
       "trial_7_top1     0.000551       0.06214  \n",
       "trial_7_top10    0.005709      0.066322  \n",
       "trial_7_top50    0.024908      0.074342  \n",
       "trial_7_top100   0.046714      0.087563  \n",
       "trial_6_top1     0.000106      0.011934  \n",
       "trial_6_top10    0.000715      0.008301  \n",
       "trial_6_top50    0.004058      0.012111  \n",
       "trial_6_top100   0.012257      0.022976  \n",
       "trial_5_top1     0.000153      0.017284  \n",
       "trial_5_top10    0.001961      0.022785  \n",
       "trial_5_top50    0.011477      0.034255  \n",
       "trial_5_top100   0.024617      0.046143  \n",
       "trial_4_top1     0.000248      0.027984  \n",
       "trial_4_top10    0.001546      0.017957  \n",
       "trial_4_top50    0.011627      0.034701  \n",
       "trial_4_top100    0.02998      0.056195  \n",
       "trial_3_top1     0.000412      0.046502  \n",
       "trial_3_top10    0.004277      0.049678  \n",
       "trial_3_top50    0.020245      0.060425  \n",
       "trial_3_top100   0.039568      0.074168  \n",
       "trial_2_top1     0.000368      0.041564  \n",
       "trial_2_top10     0.00303      0.035194  \n",
       "trial_2_top50    0.014718      0.043929  \n",
       "trial_2_top100   0.028605      0.053631  \n",
       "trial_1_top1     0.000992      0.111934  \n",
       "trial_1_top10    0.007478      0.086863  \n",
       "trial_1_top50    0.028153      0.084027  \n",
       "trial_1_top100   0.051297      0.096153  "
      ]
     },
     "execution_count": 19,
     "metadata": {},
     "output_type": "execute_result"
    }
   ],
   "source": [
    "tf.compat.v1.logging.set_verbosity(tf.compat.v1.logging.ERROR)\n",
    "df_grouped = pd.read_csv(TEST_PATH).groupby(ALL_USER_FEATURES)[\"Product_ID\"].apply(list).apply(np.array).reset_index()\n",
    "top_k = [1, 10, 50, 100]\n",
    "results = dict()\n",
    "\n",
    "baseline = BlackFridayBaseline(TRAIN_PATH, ALL_USER_FEATURES, True)\n",
    "for k in tqdm(top_k, leave=False):\n",
    "    metrics_id = f\"baseline_top{k}\"\n",
    "    df_grouped[metrics_id]         = df_grouped[ALL_USER_FEATURES].progress_apply(lambda x: baseline.predict(x, k), axis=1)\n",
    "    baseline_true_positives        = df_grouped.progress_apply(lambda x: np.intersect1d(x[\"Product_ID\"],x[metrics_id]).shape[0], axis=1).sum()\n",
    "    baseline_false_negatives       = df.shape[0] - baseline_true_positives\n",
    "    baseline_false_positives       = df_grouped[metrics_id].apply(lambda x: x.shape[0]).sum() - baseline_true_positives\n",
    "    baseline_reach                 = df_grouped.progress_apply(lambda x: min(x[\"Product_ID\"].shape[0],x[metrics_id].shape[0]), axis=1).sum()\n",
    "    results[f\"baseline_top{k}\"]    = {\n",
    "        \"top\"  : k,\n",
    "        \"model\": \"baseline\",\n",
    "        \"tp\"   : baseline_true_positives,\n",
    "        \"fp\"   : baseline_false_positives,\n",
    "        \"fn\"   : baseline_false_negatives,\n",
    "        \"reach\": baseline_reach #portata\n",
    "    }\n",
    "    \n",
    "\n",
    "metadata_path = os.path.join(\"gs://mlteam-ml-specialization-2021-blackfriday/aiplatform_jobs\", MODEL_NAME, \"metadata.json\")\n",
    "metadata = json.load(tf.io.gfile.GFile(metadata_path, \"r\"))\n",
    "for j in tqdm(metadata, leave=False):\n",
    "    model = PredictionModel(os.path.join(\"gs://mlteam-ml-specialization-2021-blackfriday/aiplatform_jobs\", MODEL_NAME, j['trialId'], 'Scann'), True)\n",
    "    hps = json.dumps(j[\"hyperparameters\"])\n",
    "    model_id = f\"trial_{j['trialId']}\"\n",
    "    for k in tqdm(top_k, leave=False):\n",
    "        metrics_id=f\"trial_{j['trialId']}_top{k}\"\n",
    "        df_grouped[metrics_id] = df_grouped[USER_FEATURES].progress_apply(lambda x: model.predict_single(x.astype(str), k).astype(str), axis=1)\n",
    "        tp = df_grouped.progress_apply(lambda x: np.intersect1d(x[\"Product_ID\"],x[metrics_id]).shape[0], axis=1).sum()\n",
    "        fn = df.shape[0] - tp\n",
    "        fp = df_grouped[metrics_id].apply(lambda x: x.shape[0]).sum() - tp\n",
    "        reach = df_grouped.progress_apply(lambda x: min(len(x[\"Product_ID\"]),x[metrics_id].shape[0]), axis=1).sum() \n",
    "        results[metrics_id] = {\n",
    "            \"top\"  : k,\n",
    "            \"model\": model_id,\n",
    "            \"tp\"   : tp,\n",
    "            \"fp\"   : fp,\n",
    "            \"fn\"   : fn,\n",
    "            \"reach\": reach\n",
    "        }\n",
    "    \n",
    "df_results = pd.DataFrame(results).T\n",
    "df_results[\"precision\"] = df_results[\"tp\"]/(df_results[\"tp\"]+df_results[\"fp\"])\n",
    "df_results[\"recall\"] = df_results[\"tp\"]/(df_results[\"tp\"]+df_results[\"fn\"])\n",
    "df_results[\"tp_over_reach\"] = df_results[\"tp\"]/df_results[\"reach\"]\n",
    "df_results"
   ]
  },
  {
   "cell_type": "code",
   "execution_count": 20,
   "id": "1f1f37a5",
   "metadata": {},
   "outputs": [
    {
     "data": {
      "text/html": [
       "<div>\n",
       "<style scoped>\n",
       "    .dataframe tbody tr th:only-of-type {\n",
       "        vertical-align: middle;\n",
       "    }\n",
       "\n",
       "    .dataframe tbody tr th {\n",
       "        vertical-align: top;\n",
       "    }\n",
       "\n",
       "    .dataframe thead th {\n",
       "        text-align: right;\n",
       "    }\n",
       "</style>\n",
       "<table border=\"1\" class=\"dataframe\">\n",
       "  <thead>\n",
       "    <tr style=\"text-align: right;\">\n",
       "      <th>top</th>\n",
       "      <th>1</th>\n",
       "      <th>10</th>\n",
       "      <th>50</th>\n",
       "      <th>100</th>\n",
       "    </tr>\n",
       "    <tr>\n",
       "      <th>model</th>\n",
       "      <th></th>\n",
       "      <th></th>\n",
       "      <th></th>\n",
       "      <th></th>\n",
       "    </tr>\n",
       "  </thead>\n",
       "  <tbody>\n",
       "    <tr>\n",
       "      <th>baseline</th>\n",
       "      <td>0.266416</td>\n",
       "      <td>0.264207</td>\n",
       "      <td>0.280122</td>\n",
       "      <td>0.293995</td>\n",
       "    </tr>\n",
       "    <tr>\n",
       "      <th>trial_1</th>\n",
       "      <td>0.111934</td>\n",
       "      <td>0.084403</td>\n",
       "      <td>0.063556</td>\n",
       "      <td>0.057901</td>\n",
       "    </tr>\n",
       "    <tr>\n",
       "      <th>trial_2</th>\n",
       "      <td>0.041564</td>\n",
       "      <td>0.034198</td>\n",
       "      <td>0.033226</td>\n",
       "      <td>0.032293</td>\n",
       "    </tr>\n",
       "    <tr>\n",
       "      <th>trial_3</th>\n",
       "      <td>0.046502</td>\n",
       "      <td>0.048272</td>\n",
       "      <td>0.045704</td>\n",
       "      <td>0.044663</td>\n",
       "    </tr>\n",
       "    <tr>\n",
       "      <th>trial_4</th>\n",
       "      <td>0.027984</td>\n",
       "      <td>0.017449</td>\n",
       "      <td>0.026247</td>\n",
       "      <td>0.03384</td>\n",
       "    </tr>\n",
       "    <tr>\n",
       "      <th>trial_5</th>\n",
       "      <td>0.017284</td>\n",
       "      <td>0.02214</td>\n",
       "      <td>0.025909</td>\n",
       "      <td>0.027786</td>\n",
       "    </tr>\n",
       "    <tr>\n",
       "      <th>trial_6</th>\n",
       "      <td>0.011934</td>\n",
       "      <td>0.008066</td>\n",
       "      <td>0.00916</td>\n",
       "      <td>0.013835</td>\n",
       "    </tr>\n",
       "    <tr>\n",
       "      <th>trial_7</th>\n",
       "      <td>0.06214</td>\n",
       "      <td>0.064444</td>\n",
       "      <td>0.05623</td>\n",
       "      <td>0.052728</td>\n",
       "    </tr>\n",
       "    <tr>\n",
       "      <th>trial_8</th>\n",
       "      <td>0.041975</td>\n",
       "      <td>0.036091</td>\n",
       "      <td>0.033531</td>\n",
       "      <td>0.032848</td>\n",
       "    </tr>\n",
       "    <tr>\n",
       "      <th>trial_9</th>\n",
       "      <td>0.03786</td>\n",
       "      <td>0.044362</td>\n",
       "      <td>0.056905</td>\n",
       "      <td>0.06244</td>\n",
       "    </tr>\n",
       "  </tbody>\n",
       "</table>\n",
       "</div>"
      ],
      "text/plain": [
       "top            1         10        50        100\n",
       "model                                           \n",
       "baseline  0.266416  0.264207  0.280122  0.293995\n",
       "trial_1   0.111934  0.084403  0.063556  0.057901\n",
       "trial_2   0.041564  0.034198  0.033226  0.032293\n",
       "trial_3   0.046502  0.048272  0.045704  0.044663\n",
       "trial_4   0.027984  0.017449  0.026247   0.03384\n",
       "trial_5   0.017284   0.02214  0.025909  0.027786\n",
       "trial_6   0.011934  0.008066   0.00916  0.013835\n",
       "trial_7    0.06214  0.064444   0.05623  0.052728\n",
       "trial_8   0.041975  0.036091  0.033531  0.032848\n",
       "trial_9    0.03786  0.044362  0.056905   0.06244"
      ]
     },
     "execution_count": 20,
     "metadata": {},
     "output_type": "execute_result"
    }
   ],
   "source": [
    "df_results.pivot(\"model\",\"top\",\"precision\")"
   ]
  },
  {
   "cell_type": "code",
   "execution_count": 21,
   "id": "1955acf3",
   "metadata": {},
   "outputs": [
    {
     "data": {
      "text/html": [
       "<div>\n",
       "<style scoped>\n",
       "    .dataframe tbody tr th:only-of-type {\n",
       "        vertical-align: middle;\n",
       "    }\n",
       "\n",
       "    .dataframe tbody tr th {\n",
       "        vertical-align: top;\n",
       "    }\n",
       "\n",
       "    .dataframe thead th {\n",
       "        text-align: right;\n",
       "    }\n",
       "</style>\n",
       "<table border=\"1\" class=\"dataframe\">\n",
       "  <thead>\n",
       "    <tr style=\"text-align: right;\">\n",
       "      <th>top</th>\n",
       "      <th>1</th>\n",
       "      <th>10</th>\n",
       "      <th>50</th>\n",
       "      <th>100</th>\n",
       "    </tr>\n",
       "    <tr>\n",
       "      <th>model</th>\n",
       "      <th></th>\n",
       "      <th></th>\n",
       "      <th></th>\n",
       "      <th></th>\n",
       "    </tr>\n",
       "  </thead>\n",
       "  <tbody>\n",
       "    <tr>\n",
       "      <th>baseline</th>\n",
       "      <td>0.002322</td>\n",
       "      <td>0.0189</td>\n",
       "      <td>0.05541</td>\n",
       "      <td>0.072115</td>\n",
       "    </tr>\n",
       "    <tr>\n",
       "      <th>trial_1</th>\n",
       "      <td>0.000992</td>\n",
       "      <td>0.007478</td>\n",
       "      <td>0.028153</td>\n",
       "      <td>0.051297</td>\n",
       "    </tr>\n",
       "    <tr>\n",
       "      <th>trial_2</th>\n",
       "      <td>0.000368</td>\n",
       "      <td>0.00303</td>\n",
       "      <td>0.014718</td>\n",
       "      <td>0.028605</td>\n",
       "    </tr>\n",
       "    <tr>\n",
       "      <th>trial_3</th>\n",
       "      <td>0.000412</td>\n",
       "      <td>0.004277</td>\n",
       "      <td>0.020245</td>\n",
       "      <td>0.039568</td>\n",
       "    </tr>\n",
       "    <tr>\n",
       "      <th>trial_4</th>\n",
       "      <td>0.000248</td>\n",
       "      <td>0.001546</td>\n",
       "      <td>0.011627</td>\n",
       "      <td>0.02998</td>\n",
       "    </tr>\n",
       "    <tr>\n",
       "      <th>trial_5</th>\n",
       "      <td>0.000153</td>\n",
       "      <td>0.001961</td>\n",
       "      <td>0.011477</td>\n",
       "      <td>0.024617</td>\n",
       "    </tr>\n",
       "    <tr>\n",
       "      <th>trial_6</th>\n",
       "      <td>0.000106</td>\n",
       "      <td>0.000715</td>\n",
       "      <td>0.004058</td>\n",
       "      <td>0.012257</td>\n",
       "    </tr>\n",
       "    <tr>\n",
       "      <th>trial_7</th>\n",
       "      <td>0.000551</td>\n",
       "      <td>0.005709</td>\n",
       "      <td>0.024908</td>\n",
       "      <td>0.046714</td>\n",
       "    </tr>\n",
       "    <tr>\n",
       "      <th>trial_8</th>\n",
       "      <td>0.000372</td>\n",
       "      <td>0.003197</td>\n",
       "      <td>0.014853</td>\n",
       "      <td>0.029101</td>\n",
       "    </tr>\n",
       "    <tr>\n",
       "      <th>trial_9</th>\n",
       "      <td>0.000335</td>\n",
       "      <td>0.00393</td>\n",
       "      <td>0.025207</td>\n",
       "      <td>0.055319</td>\n",
       "    </tr>\n",
       "  </tbody>\n",
       "</table>\n",
       "</div>"
      ],
      "text/plain": [
       "top            1         10        50        100\n",
       "model                                           \n",
       "baseline  0.002322    0.0189   0.05541  0.072115\n",
       "trial_1   0.000992  0.007478  0.028153  0.051297\n",
       "trial_2   0.000368   0.00303  0.014718  0.028605\n",
       "trial_3   0.000412  0.004277  0.020245  0.039568\n",
       "trial_4   0.000248  0.001546  0.011627   0.02998\n",
       "trial_5   0.000153  0.001961  0.011477  0.024617\n",
       "trial_6   0.000106  0.000715  0.004058  0.012257\n",
       "trial_7   0.000551  0.005709  0.024908  0.046714\n",
       "trial_8   0.000372  0.003197  0.014853  0.029101\n",
       "trial_9   0.000335   0.00393  0.025207  0.055319"
      ]
     },
     "execution_count": 21,
     "metadata": {},
     "output_type": "execute_result"
    }
   ],
   "source": [
    "df_results.pivot(\"model\",\"top\",\"recall\")"
   ]
  },
  {
   "cell_type": "code",
   "execution_count": 22,
   "id": "d6c1f675",
   "metadata": {},
   "outputs": [
    {
     "data": {
      "text/html": [
       "<div>\n",
       "<style scoped>\n",
       "    .dataframe tbody tr th:only-of-type {\n",
       "        vertical-align: middle;\n",
       "    }\n",
       "\n",
       "    .dataframe tbody tr th {\n",
       "        vertical-align: top;\n",
       "    }\n",
       "\n",
       "    .dataframe thead th {\n",
       "        text-align: right;\n",
       "    }\n",
       "</style>\n",
       "<table border=\"1\" class=\"dataframe\">\n",
       "  <thead>\n",
       "    <tr style=\"text-align: right;\">\n",
       "      <th>top</th>\n",
       "      <th>1</th>\n",
       "      <th>10</th>\n",
       "      <th>50</th>\n",
       "      <th>100</th>\n",
       "    </tr>\n",
       "    <tr>\n",
       "      <th>model</th>\n",
       "      <th></th>\n",
       "      <th></th>\n",
       "      <th></th>\n",
       "      <th></th>\n",
       "    </tr>\n",
       "  </thead>\n",
       "  <tbody>\n",
       "    <tr>\n",
       "      <th>baseline</th>\n",
       "      <td>0.266416</td>\n",
       "      <td>0.264247</td>\n",
       "      <td>0.280137</td>\n",
       "      <td>0.294008</td>\n",
       "    </tr>\n",
       "    <tr>\n",
       "      <th>trial_1</th>\n",
       "      <td>0.111934</td>\n",
       "      <td>0.086863</td>\n",
       "      <td>0.084027</td>\n",
       "      <td>0.096153</td>\n",
       "    </tr>\n",
       "    <tr>\n",
       "      <th>trial_2</th>\n",
       "      <td>0.041564</td>\n",
       "      <td>0.035194</td>\n",
       "      <td>0.043929</td>\n",
       "      <td>0.053631</td>\n",
       "    </tr>\n",
       "    <tr>\n",
       "      <th>trial_3</th>\n",
       "      <td>0.046502</td>\n",
       "      <td>0.049678</td>\n",
       "      <td>0.060425</td>\n",
       "      <td>0.074168</td>\n",
       "    </tr>\n",
       "    <tr>\n",
       "      <th>trial_4</th>\n",
       "      <td>0.027984</td>\n",
       "      <td>0.017957</td>\n",
       "      <td>0.034701</td>\n",
       "      <td>0.056195</td>\n",
       "    </tr>\n",
       "    <tr>\n",
       "      <th>trial_5</th>\n",
       "      <td>0.017284</td>\n",
       "      <td>0.022785</td>\n",
       "      <td>0.034255</td>\n",
       "      <td>0.046143</td>\n",
       "    </tr>\n",
       "    <tr>\n",
       "      <th>trial_6</th>\n",
       "      <td>0.011934</td>\n",
       "      <td>0.008301</td>\n",
       "      <td>0.012111</td>\n",
       "      <td>0.022976</td>\n",
       "    </tr>\n",
       "    <tr>\n",
       "      <th>trial_7</th>\n",
       "      <td>0.06214</td>\n",
       "      <td>0.066322</td>\n",
       "      <td>0.074342</td>\n",
       "      <td>0.087563</td>\n",
       "    </tr>\n",
       "    <tr>\n",
       "      <th>trial_8</th>\n",
       "      <td>0.041975</td>\n",
       "      <td>0.037142</td>\n",
       "      <td>0.044331</td>\n",
       "      <td>0.054548</td>\n",
       "    </tr>\n",
       "    <tr>\n",
       "      <th>trial_9</th>\n",
       "      <td>0.03786</td>\n",
       "      <td>0.045655</td>\n",
       "      <td>0.075235</td>\n",
       "      <td>0.103691</td>\n",
       "    </tr>\n",
       "  </tbody>\n",
       "</table>\n",
       "</div>"
      ],
      "text/plain": [
       "top            1         10        50        100\n",
       "model                                           \n",
       "baseline  0.266416  0.264247  0.280137  0.294008\n",
       "trial_1   0.111934  0.086863  0.084027  0.096153\n",
       "trial_2   0.041564  0.035194  0.043929  0.053631\n",
       "trial_3   0.046502  0.049678  0.060425  0.074168\n",
       "trial_4   0.027984  0.017957  0.034701  0.056195\n",
       "trial_5   0.017284  0.022785  0.034255  0.046143\n",
       "trial_6   0.011934  0.008301  0.012111  0.022976\n",
       "trial_7    0.06214  0.066322  0.074342  0.087563\n",
       "trial_8   0.041975  0.037142  0.044331  0.054548\n",
       "trial_9    0.03786  0.045655  0.075235  0.103691"
      ]
     },
     "execution_count": 22,
     "metadata": {},
     "output_type": "execute_result"
    }
   ],
   "source": [
    "df_results.pivot(\"model\",\"top\",\"tp_over_reach\")"
   ]
  },
  {
   "cell_type": "code",
   "execution_count": null,
   "id": "c8f41a75",
   "metadata": {},
   "outputs": [],
   "source": []
  }
 ],
 "metadata": {
  "environment": {
   "name": "tf2-gpu.2-3.m65",
   "type": "gcloud",
   "uri": "gcr.io/deeplearning-platform-release/tf2-gpu.2-3:m65"
  },
  "kernelspec": {
   "display_name": "Python 3",
   "language": "python",
   "name": "python3"
  },
  "language_info": {
   "codemirror_mode": {
    "name": "ipython",
    "version": 3
   },
   "file_extension": ".py",
   "mimetype": "text/x-python",
   "name": "python",
   "nbconvert_exporter": "python",
   "pygments_lexer": "ipython3",
   "version": "3.7.10"
  }
 },
 "nbformat": 4,
 "nbformat_minor": 5
}
