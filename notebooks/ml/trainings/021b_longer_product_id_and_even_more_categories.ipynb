{
 "cells": [
  {
   "cell_type": "code",
   "execution_count": 1,
   "id": "81ff8ba1",
   "metadata": {},
   "outputs": [],
   "source": [
    "from oauth2client.client import GoogleCredentials\n",
    "from googleapiclient import discovery\n",
    "from googleapiclient import errors\n",
    "import tensorflow as tf\n",
    "import tensorflow_recommenders as tfrs\n",
    "import pandas as pd\n",
    "import numpy as np\n",
    "import json\n",
    "import os\n",
    "\n",
    "from tqdm.auto import tqdm\n",
    "tqdm.pandas(leave=False)"
   ]
  },
  {
   "cell_type": "markdown",
   "id": "a6ea267e",
   "metadata": {},
   "source": [
    "# Training"
   ]
  },
  {
   "cell_type": "markdown",
   "id": "a0f3cc81",
   "metadata": {},
   "source": [
    "## configuration"
   ]
  },
  {
   "cell_type": "code",
   "execution_count": 2,
   "id": "1e0f763e",
   "metadata": {},
   "outputs": [],
   "source": [
    "GCS_ROOT     = \"gs://mlteam-ml-specialization-2021-blackfriday/aiplatform_jobs\"\n",
    "TRIAL_NUMBER = 1\n",
    "RESUME_FROM  = \"021_longer_product_id_and_even_more_categories\""
   ]
  },
  {
   "cell_type": "code",
   "execution_count": 3,
   "id": "907db717",
   "metadata": {},
   "outputs": [],
   "source": [
    "PROJECT                  = \"mlteam-ml-specialization-2021\"\n",
    "TRAIN_PATH               = \"gs://mlteam-ml-specialization-2021-blackfriday/dataset/parsed/202104130952/preprocessed_category_train_.csv\"\n",
    "EVAL_PATH                = \"gs://mlteam-ml-specialization-2021-blackfriday/dataset/parsed/202104130952/test/preprocessed_category_evalset.csv\"\n",
    "TEST_PATH                = \"gs://mlteam-ml-specialization-2021-blackfriday/dataset/parsed/202104130952/test/preprocessed_category_testset.csv\"\n",
    "MODEL_NAME               = \"021b_longer_product_id_and_even_more_categories\"\n",
    "BATCH_SIZE               = 30000\n",
    "NUM_EPOCHS               = 1\n",
    "SCANN_NUM_NEIGHBORS      = 100\n",
    "LEARNING_RATE            = 0.01\n",
    "EMBEDDING_DIM            = 128\n",
    "USER_FEATURES            = [\"Gender\", \"Age\", \"Occupation\", \"City_Category\", \"Stay_In_Current_City_Years\", \"Marital_Status\"]\n",
    "USER_INPUT_EMBEDDING_DIM = 8\n",
    "COMMON_LAYERS            = [512, 256, 128]\n",
    "PRODUCT_FEATURES         = [\"Product_ID\", \"Product_Category_1\", \"Product_Category_1.2\"]\n",
    "PRODUCT_INPUT_EMBEDDING_DIM = 128\n",
    "FORCE                    = False"
   ]
  },
  {
   "cell_type": "code",
   "execution_count": 4,
   "id": "dd23da55",
   "metadata": {},
   "outputs": [],
   "source": [
    "import os \n",
    "MODEL_PATH = os.path.join(GCS_ROOT, MODEL_NAME)\n",
    "os.environ[\"GCS_ROOT\"]                 = str(GCS_ROOT)\n",
    "os.environ[\"RESUME_FROM\"]              = str(RESUME_FROM)\n",
    "os.environ[\"TRIAL_NUMBER\"]             = str(TRIAL_NUMBER)\n",
    "os.environ[\"TRAIN_PATH\"]               = str(TRAIN_PATH)\n",
    "os.environ[\"EVAL_PATH\"]                = str(EVAL_PATH)\n",
    "os.environ[\"TEST_PATH\"]                = str(TEST_PATH)\n",
    "os.environ[\"MODEL_NAME\"]               = str(MODEL_NAME)\n",
    "os.environ[\"MODEL_PATH\"]               = str(MODEL_PATH)\n",
    "os.environ[\"BATCH_SIZE\"]               = str(BATCH_SIZE)\n",
    "os.environ[\"NUM_EPOCHS\"]               = str(NUM_EPOCHS)\n",
    "os.environ[\"SCANN_NUM_NEIGHBORS\"]      = str(SCANN_NUM_NEIGHBORS)\n",
    "os.environ[\"LEARNING_RATE\"]            = str(LEARNING_RATE)\n",
    "os.environ[\"EMBEDDING_DIM\"]            = str(EMBEDDING_DIM)\n",
    "os.environ[\"USER_INPUT_EMBEDDING_DIM\"] = str(USER_INPUT_EMBEDDING_DIM)\n",
    "os.environ[\"USER_FEATURES\"]            = json.dumps(USER_FEATURES)\n",
    "os.environ[\"COMMON_LAYERS\"]            = json.dumps(COMMON_LAYERS)\n",
    "os.environ[\"PRODUCT_FEATURES\"]         = json.dumps(PRODUCT_FEATURES)\n",
    "os.environ[\"PRODUCT_INPUT_EMBEDDING_DIM\"] = str(PRODUCT_INPUT_EMBEDDING_DIM)"
   ]
  },
  {
   "cell_type": "markdown",
   "id": "9be6faa2",
   "metadata": {},
   "source": [
    "## launch"
   ]
  },
  {
   "cell_type": "code",
   "execution_count": 5,
   "id": "51f4325a",
   "metadata": {},
   "outputs": [
    {
     "name": "stderr",
     "output_type": "stream",
     "text": [
      "Copying gs://mlteam-ml-specialization-2021-blackfriday/aiplatform_jobs/021_longer_product_id_and_even_more_categories/1/Scann/saved_model.pb...\n",
      "Copying gs://mlteam-ml-specialization-2021-blackfriday/aiplatform_jobs/021_longer_product_id_and_even_more_categories/1/Scann/variables/variables.data-00000-of-00001...\n",
      "Copying gs://mlteam-ml-specialization-2021-blackfriday/aiplatform_jobs/021_longer_product_id_and_even_more_categories/1/Scann/variables/variables.index...\n",
      "Copying gs://mlteam-ml-specialization-2021-blackfriday/aiplatform_jobs/021_longer_product_id_and_even_more_categories/1/candidate/variables/variables.index...\n",
      "Copying gs://mlteam-ml-specialization-2021-blackfriday/aiplatform_jobs/021_longer_product_id_and_even_more_categories/1/candidate/saved_model.pb...\n",
      "Copying gs://mlteam-ml-specialization-2021-blackfriday/aiplatform_jobs/021_longer_product_id_and_even_more_categories/1/model_checkpoints.data-00000-of-00001...\n",
      "Copying gs://mlteam-ml-specialization-2021-blackfriday/aiplatform_jobs/021_longer_product_id_and_even_more_categories/1/candidate/variables/variables.data-00000-of-00001...\n",
      "Copying gs://mlteam-ml-specialization-2021-blackfriday/aiplatform_jobs/021_longer_product_id_and_even_more_categories/1/checkpoint...\n",
      "Copying gs://mlteam-ml-specialization-2021-blackfriday/aiplatform_jobs/021_longer_product_id_and_even_more_categories/1/params.json...\n",
      "Copying gs://mlteam-ml-specialization-2021-blackfriday/aiplatform_jobs/021_longer_product_id_and_even_more_categories/1/model_checkpoints.index...\n",
      "Copying gs://mlteam-ml-specialization-2021-blackfriday/aiplatform_jobs/021_longer_product_id_and_even_more_categories/1/train/events.out.tfevents.1623923918.cmle-training-6009423449056039176.390.621.v2...\n",
      "Copying gs://mlteam-ml-specialization-2021-blackfriday/aiplatform_jobs/021_longer_product_id_and_even_more_categories/1/train/events.out.tfevents.1623923950.cmle-training-6009423449056039176.profile-empty...\n",
      "Copying gs://mlteam-ml-specialization-2021-blackfriday/aiplatform_jobs/021_longer_product_id_and_even_more_categories/1/train/events.out.tfevents.1624350167.cmle-training-671492692566482888.390.771.v2...\n",
      "Copying gs://mlteam-ml-specialization-2021-blackfriday/aiplatform_jobs/021_longer_product_id_and_even_more_categories/1/train/events.out.tfevents.1624539337.cmle-training-11725472450687410863.389.771.v2...\n",
      "Copying gs://mlteam-ml-specialization-2021-blackfriday/aiplatform_jobs/021_longer_product_id_and_even_more_categories/1/train/plugins/profile/2021_06_17_09_59_10/cmle-training-6009423449056039176.input_pipeline.pb...\n",
      "Copying gs://mlteam-ml-specialization-2021-blackfriday/aiplatform_jobs/021_longer_product_id_and_even_more_categories/1/train/plugins/profile/2021_06_17_09_59_10/cmle-training-6009423449056039176.kernel_stats.pb...\n",
      "Copying gs://mlteam-ml-specialization-2021-blackfriday/aiplatform_jobs/021_longer_product_id_and_even_more_categories/1/train/plugins/profile/2021_06_17_09_59_10/cmle-training-6009423449056039176.memory_profile.json.gz...\n",
      "Copying gs://mlteam-ml-specialization-2021-blackfriday/aiplatform_jobs/021_longer_product_id_and_even_more_categories/1/train/plugins/profile/2021_06_17_09_59_10/cmle-training-6009423449056039176.overview_page.pb...\n",
      "Copying gs://mlteam-ml-specialization-2021-blackfriday/aiplatform_jobs/021_longer_product_id_and_even_more_categories/1/train/plugins/profile/2021_06_17_09_59_10/cmle-training-6009423449056039176.tensorflow_stats.pb...\n",
      "Copying gs://mlteam-ml-specialization-2021-blackfriday/aiplatform_jobs/021_longer_product_id_and_even_more_categories/1/train/plugins/profile/2021_06_17_09_59_10/cmle-training-6009423449056039176.trace.json.gz...\n",
      "Copying gs://mlteam-ml-specialization-2021-blackfriday/aiplatform_jobs/021_longer_product_id_and_even_more_categories/1/train/plugins/profile/2021_06_17_09_59_10/cmle-training-6009423449056039176.xplane.pb...\n",
      "Copying gs://mlteam-ml-specialization-2021-blackfriday/aiplatform_jobs/021_longer_product_id_and_even_more_categories/1/train/plugins/profile/2021_06_22_08_23_28/cmle-training-671492692566482888.input_pipeline.pb...\n",
      "Copying gs://mlteam-ml-specialization-2021-blackfriday/aiplatform_jobs/021_longer_product_id_and_even_more_categories/1/train/plugins/profile/2021_06_22_08_23_28/cmle-training-671492692566482888.kernel_stats.pb...\n",
      "Copying gs://mlteam-ml-specialization-2021-blackfriday/aiplatform_jobs/021_longer_product_id_and_even_more_categories/1/train/plugins/profile/2021_06_22_08_23_28/cmle-training-671492692566482888.memory_profile.json.gz...\n",
      "Copying gs://mlteam-ml-specialization-2021-blackfriday/aiplatform_jobs/021_longer_product_id_and_even_more_categories/1/train/plugins/profile/2021_06_22_08_23_28/cmle-training-671492692566482888.overview_page.pb...\n",
      "Copying gs://mlteam-ml-specialization-2021-blackfriday/aiplatform_jobs/021_longer_product_id_and_even_more_categories/1/train/plugins/profile/2021_06_22_08_23_28/cmle-training-671492692566482888.tensorflow_stats.pb...\n",
      "Copying gs://mlteam-ml-specialization-2021-blackfriday/aiplatform_jobs/021_longer_product_id_and_even_more_categories/1/train/plugins/profile/2021_06_22_08_23_28/cmle-training-671492692566482888.xplane.pb...\n",
      "Copying gs://mlteam-ml-specialization-2021-blackfriday/aiplatform_jobs/021_longer_product_id_and_even_more_categories/1/train/plugins/profile/2021_06_22_08_23_28/cmle-training-671492692566482888.trace.json.gz...\n",
      "Copying gs://mlteam-ml-specialization-2021-blackfriday/aiplatform_jobs/021_longer_product_id_and_even_more_categories/1/train/plugins/profile/2021_06_24_12_56_19/cmle-training-11725472450687410863.input_pipeline.pb...\n",
      "Copying gs://mlteam-ml-specialization-2021-blackfriday/aiplatform_jobs/021_longer_product_id_and_even_more_categories/1/train/plugins/profile/2021_06_24_12_56_19/cmle-training-11725472450687410863.kernel_stats.pb...\n",
      "Copying gs://mlteam-ml-specialization-2021-blackfriday/aiplatform_jobs/021_longer_product_id_and_even_more_categories/1/train/plugins/profile/2021_06_24_12_56_19/cmle-training-11725472450687410863.memory_profile.json.gz...\n",
      "Copying gs://mlteam-ml-specialization-2021-blackfriday/aiplatform_jobs/021_longer_product_id_and_even_more_categories/1/train/plugins/profile/2021_06_24_12_56_19/cmle-training-11725472450687410863.overview_page.pb...\n",
      "Copying gs://mlteam-ml-specialization-2021-blackfriday/aiplatform_jobs/021_longer_product_id_and_even_more_categories/1/train/plugins/profile/2021_06_24_12_56_19/cmle-training-11725472450687410863.tensorflow_stats.pb...\n",
      "Copying gs://mlteam-ml-specialization-2021-blackfriday/aiplatform_jobs/021_longer_product_id_and_even_more_categories/1/train/plugins/profile/2021_06_24_12_56_19/cmle-training-11725472450687410863.trace.json.gz...\n",
      "Copying gs://mlteam-ml-specialization-2021-blackfriday/aiplatform_jobs/021_longer_product_id_and_even_more_categories/1/train/plugins/profile/2021_06_24_12_56_19/cmle-training-11725472450687410863.xplane.pb...\n",
      "Copying gs://mlteam-ml-specialization-2021-blackfriday/aiplatform_jobs/021_longer_product_id_and_even_more_categories/1/user/saved_model.pb...\n",
      "Copying gs://mlteam-ml-specialization-2021-blackfriday/aiplatform_jobs/021_longer_product_id_and_even_more_categories/1/user/variables/variables.data-00000-of-00001...\n",
      "Copying gs://mlteam-ml-specialization-2021-blackfriday/aiplatform_jobs/021_longer_product_id_and_even_more_categories/1/user/variables/variables.index...\n",
      "Copying gs://mlteam-ml-specialization-2021-blackfriday/aiplatform_jobs/021_longer_product_id_and_even_more_categories/1/validation/events.out.tfevents.1623923959.cmle-training-6009423449056039176.390.2616.v2...\n",
      "Copying gs://mlteam-ml-specialization-2021-blackfriday/aiplatform_jobs/021_longer_product_id_and_even_more_categories/1/validation/events.out.tfevents.1624350216.cmle-training-671492692566482888.390.2748.v2...\n",
      "Copying gs://mlteam-ml-specialization-2021-blackfriday/aiplatform_jobs/021_longer_product_id_and_even_more_categories/1/validation/events.out.tfevents.1624539387.cmle-training-11725472450687410863.389.2748.v2...\n",
      "/ [41/42 files][ 33.8 MiB/ 33.8 MiB]  99% Done                                  \r"
     ]
    }
   ],
   "source": [
    "%%bash\n",
    "gsutil -m cp -r ${GCS_ROOT}/${RESUME_FROM}/${TRIAL_NUMBER} ${GCS_ROOT}/${MODEL_NAME}/"
   ]
  },
  {
   "cell_type": "code",
   "execution_count": 6,
   "id": "e0e4e0bd",
   "metadata": {},
   "outputs": [
    {
     "name": "stdout",
     "output_type": "stream",
     "text": [
      "jobId: bf_021b_longer_product_id_and_even_more_categories_20210628_092004\n",
      "state: QUEUED\n",
      "createTime: '2021-06-28T09:20:07Z'\n",
      "etag: yDEy6TZNjEw=\n",
      "jobId: bf_021b_longer_product_id_and_even_more_categories_20210628_092004\n",
      "state: PREPARING\n",
      "trainingInput:\n",
      "  args:\n",
      "  - --train-path=gs://mlteam-ml-specialization-2021-blackfriday/dataset/parsed/202104130952/preprocessed_category_train_.csv\n",
      "  - --eval-path=gs://mlteam-ml-specialization-2021-blackfriday/dataset/parsed/202104130952/test/preprocessed_category_evalset.csv\n",
      "  - --job-dir=gs://mlteam-ml-specialization-2021-blackfriday/aiplatform_jobs/021b_longer_product_id_and_even_more_categories\n",
      "  - --batch-size=30000\n",
      "  - --scann-num-neighbors=100\n",
      "  - --user-features=[\"Gender\", \"Age\", \"Occupation\", \"City_Category\", \"Stay_In_Current_City_Years\",\n",
      "    \"Marital_Status\"]\n",
      "  - --num-epochs=1\n",
      "  - --user-input-embedding-dim=8\n",
      "  - --learning-rate=0.01\n",
      "  - --embedding-dim=128\n",
      "  - --product-input-embedding-dim=128\n",
      "  - --common-layers=[512, 256, 128]\n",
      "  - --product-features=[\"Product_ID\", \"Product_Category_1\", \"Product_Category_1.2\"]\n",
      "  - --trial=1\n",
      "  jobDir: gs://mlteam-ml-specialization-2021-blackfriday/aiplatform_jobs/021b_longer_product_id_and_even_more_categories\n",
      "  packageUris:\n",
      "  - gs://mlteam-ml-specialization-2021-blackfriday/aiplatform_jobs/021b_longer_product_id_and_even_more_categories/packages/b2f5ce0660db3863f3d416db0fc33e8bbad9cd1a2e7b90ff13b9f15e9da9fe6b/mlspec-blackfriday-0.1.tar.gz\n",
      "  pythonModule: trainer.task\n",
      "  pythonVersion: '3.7'\n",
      "  region: europe-west1\n",
      "  runtimeVersion: '2.4'\n",
      "trainingOutput: {}\n"
     ]
    },
    {
     "name": "stderr",
     "output_type": "stream",
     "text": [
      "Job [bf_021b_longer_product_id_and_even_more_categories_20210628_092004] submitted successfully.\n",
      "Your job is still active. You may view the status of your job with the command\n",
      "\n",
      "  $ gcloud ai-platform jobs describe bf_021b_longer_product_id_and_even_more_categories_20210628_092004\n",
      "\n",
      "or continue streaming the logs with the command\n",
      "\n",
      "  $ gcloud ai-platform jobs stream-logs bf_021b_longer_product_id_and_even_more_categories_20210628_092004\n",
      "\n",
      "View job in the Cloud Console at:\n",
      "https://console.cloud.google.com/mlengine/jobs/bf_021b_longer_product_id_and_even_more_categories_20210628_092004?project=mlteam-ml-specialization-2021\n",
      "\n",
      "View logs at:\n",
      "https://console.cloud.google.com/logs?resource=ml_job%2Fjob_id%2Fbf_021b_longer_product_id_and_even_more_categories_20210628_092004&project=mlteam-ml-specialization-2021\n"
     ]
    }
   ],
   "source": [
    "%%bash\n",
    "\n",
    "# JOB_NAME: the name of your job running on AI Platform.\n",
    "JOB_NAME=bf_${MODEL_NAME}_$(date +%Y%m%d_%H%M%S)\n",
    "\n",
    "# REGION: select a region from https://cloud.google.com/ai-platform/training/docs/regions\n",
    "# or use the default '`us-central1`'. The region is where the model will be deployed.\n",
    "REGION=europe-west1\n",
    "PYTHON_VERSION=3.7\n",
    "RUNTIME_VERSION=2.4\n",
    "\n",
    "current_dir=\"$(cd \"$(dirname \"${BASH_SOURCE[0]}\")\" >/dev/null 2>&1 && pwd)\"\n",
    "cd ${current_dir}\"/../../..\"\n",
    "\n",
    "gcloud ai-platform jobs submit training \"${JOB_NAME}\" \\\n",
    "  --package-path trainer/ \\\n",
    "  --module-name trainer.task \\\n",
    "  --region ${REGION} \\\n",
    "  --python-version ${PYTHON_VERSION} \\\n",
    "  --runtime-version ${RUNTIME_VERSION} \\\n",
    "  --job-dir \"${MODEL_PATH}\" \\\n",
    "  -- \\\n",
    "  --train-path=\"${TRAIN_PATH}\" \\\n",
    "  --eval-path=\"${EVAL_PATH}\" \\\n",
    "  --job-dir=\"${MODEL_PATH}\" \\\n",
    "  --batch-size=${BATCH_SIZE} \\\n",
    "  --scann-num-neighbors=${SCANN_NUM_NEIGHBORS} \\\n",
    "  --user-features=\"${USER_FEATURES}\" \\\n",
    "  --num-epochs=${NUM_EPOCHS} \\\n",
    "  --user-input-embedding-dim=${USER_INPUT_EMBEDDING_DIM} \\\n",
    "  --learning-rate=${LEARNING_RATE} \\\n",
    "  --embedding-dim=${EMBEDDING_DIM} \\\n",
    "  --product-input-embedding-dim=${PRODUCT_INPUT_EMBEDDING_DIM} \\\n",
    "  --common-layers=\"${COMMON_LAYERS}\" \\\n",
    "  --product-features=\"${PRODUCT_FEATURES}\" \\\n",
    "  --trial=${TRIAL_NUMBER} \n",
    "\n",
    "gcloud ai-platform jobs describe ${JOB_NAME}"
   ]
  },
  {
   "cell_type": "code",
   "execution_count": 7,
   "id": "7aa71932",
   "metadata": {},
   "outputs": [],
   "source": [
    "metadata_path = os.path.join(\"gs://mlteam-ml-specialization-2021-blackfriday/aiplatform_jobs\", MODEL_NAME, \"metadata.json\")\n",
    "\n",
    "ml               = discovery.build('ml','v1')\n",
    "projectId        = 'projects/{}'.format(PROJECT)\n",
    "ai_platform_data = ml.projects().jobs().list(parent=projectId).execute()\n",
    "jobs             = ai_platform_data[\"jobs\"]\n",
    "latest_job       = sorted([j for j in jobs if j['jobId'].startswith(f\"bf_{MODEL_NAME}\")], key=lambda x: x[\"jobId\"])[-1]\n",
    "\n",
    "metadata = [{\n",
    "    'trialId'        : TRIAL_NUMBER,\n",
    "    'hyperparameters': {},\n",
    "    'startTime'      : latest_job[\"startTime\"],\n",
    "    'endTime'        : latest_job[\"endTime\"],\n",
    "    'state'          : latest_job[\"state\"],\n",
    "}]\n",
    "json.dump(metadata, tf.io.gfile.GFile(metadata_path, \"w\"))"
   ]
  },
  {
   "cell_type": "markdown",
   "id": "b7a4d6e8",
   "metadata": {},
   "source": [
    "# Evaluation"
   ]
  },
  {
   "cell_type": "markdown",
   "id": "41d28b4b",
   "metadata": {},
   "source": [
    "## ground truth"
   ]
  },
  {
   "cell_type": "code",
   "execution_count": 8,
   "id": "b5598b94",
   "metadata": {},
   "outputs": [],
   "source": [
    "ALL_USER_FEATURES   = [\"Gender\", \"Age\", \"Occupation\", \"City_Category\", \"Stay_In_Current_City_Years\", \"Marital_Status\"] \n",
    "\n",
    "df = pd.read_csv(TEST_PATH)"
   ]
  },
  {
   "cell_type": "markdown",
   "id": "d6404cc2",
   "metadata": {},
   "source": [
    "## baseline"
   ]
  },
  {
   "cell_type": "code",
   "execution_count": 9,
   "id": "07494a5c",
   "metadata": {},
   "outputs": [],
   "source": [
    "class BlackFridayBaseline:\n",
    "    def __init__(self, trainset_location, user_features_list, build_inplace=False):\n",
    "        self.trainset_location, self.user_features_list = trainset_location, user_features_list\n",
    "        if build_inplace:\n",
    "            self.build()\n",
    "        \n",
    "    def build(self):\n",
    "        self.df = pd.read_csv(self.trainset_location).groupby(\n",
    "            self.user_features_list+[\"Product_ID\"])[\"User_ID\"].count().reset_index().rename(\n",
    "            columns={\"User_ID\":\"count_product\"})\n",
    "        \n",
    "    def predict(self, user_features, n_products):\n",
    "        mask = None\n",
    "        for k,v in user_features.items():\n",
    "            if mask is None:\n",
    "                mask = self.df[k]==v\n",
    "            else:\n",
    "                mask = mask&(self.df[k]==v)\n",
    "        return self.df[mask].sort_values(self.user_features_list+[\"count_product\"])[\"Product_ID\"].values[:n_products]\n",
    "        "
   ]
  },
  {
   "cell_type": "markdown",
   "id": "6dbeed4b",
   "metadata": {},
   "source": [
    "## model(s)"
   ]
  },
  {
   "cell_type": "code",
   "execution_count": 10,
   "id": "9b2cffd8",
   "metadata": {},
   "outputs": [],
   "source": [
    "class PredictionModel:\n",
    "    def __init__(self, model_path, build_inplace=False):\n",
    "        self.model_path=model_path\n",
    "        if build_inplace:\n",
    "            self.build()\n",
    "    \n",
    "    def build(self):\n",
    "        self.model=tf.keras.models.load_model(self.model_path)\n",
    "        \n",
    "    def predict_batch(self, model_input, n_products):\n",
    "        scores, products = self.model({k:tf.constant(v) for k,v in model_input.items()})\n",
    "        return products.numpy()[:,:n_products]\n",
    "    \n",
    "    def predict_single(self, model_input, n_products):\n",
    "        scores, products = self.model({k:tf.constant([v]) for k,v in model_input.items()})\n",
    "        return products.numpy()[0,:n_products]\n",
    "    \n",
    "\n",
    "\n",
    "    "
   ]
  },
  {
   "cell_type": "markdown",
   "id": "4317aa5f",
   "metadata": {},
   "source": [
    "## stats"
   ]
  },
  {
   "cell_type": "code",
   "execution_count": 11,
   "id": "7387febf",
   "metadata": {},
   "outputs": [
    {
     "data": {
      "application/vnd.jupyter.widget-view+json": {
       "model_id": "",
       "version_major": 2,
       "version_minor": 0
      },
      "text/plain": [
       "  0%|          | 0/4 [00:00<?, ?it/s]"
      ]
     },
     "metadata": {},
     "output_type": "display_data"
    },
    {
     "data": {
      "application/vnd.jupyter.widget-view+json": {
       "model_id": "",
       "version_major": 2,
       "version_minor": 0
      },
      "text/plain": [
       "  0%|          | 0/2430 [00:00<?, ?it/s]"
      ]
     },
     "metadata": {},
     "output_type": "display_data"
    },
    {
     "data": {
      "application/vnd.jupyter.widget-view+json": {
       "model_id": "",
       "version_major": 2,
       "version_minor": 0
      },
      "text/plain": [
       "  0%|          | 0/2430 [00:00<?, ?it/s]"
      ]
     },
     "metadata": {},
     "output_type": "display_data"
    },
    {
     "data": {
      "application/vnd.jupyter.widget-view+json": {
       "model_id": "",
       "version_major": 2,
       "version_minor": 0
      },
      "text/plain": [
       "  0%|          | 0/2430 [00:00<?, ?it/s]"
      ]
     },
     "metadata": {},
     "output_type": "display_data"
    },
    {
     "data": {
      "application/vnd.jupyter.widget-view+json": {
       "model_id": "",
       "version_major": 2,
       "version_minor": 0
      },
      "text/plain": [
       "  0%|          | 0/2430 [00:00<?, ?it/s]"
      ]
     },
     "metadata": {},
     "output_type": "display_data"
    },
    {
     "data": {
      "application/vnd.jupyter.widget-view+json": {
       "model_id": "",
       "version_major": 2,
       "version_minor": 0
      },
      "text/plain": [
       "  0%|          | 0/2430 [00:00<?, ?it/s]"
      ]
     },
     "metadata": {},
     "output_type": "display_data"
    },
    {
     "data": {
      "application/vnd.jupyter.widget-view+json": {
       "model_id": "",
       "version_major": 2,
       "version_minor": 0
      },
      "text/plain": [
       "  0%|          | 0/2430 [00:00<?, ?it/s]"
      ]
     },
     "metadata": {},
     "output_type": "display_data"
    },
    {
     "data": {
      "application/vnd.jupyter.widget-view+json": {
       "model_id": "",
       "version_major": 2,
       "version_minor": 0
      },
      "text/plain": [
       "  0%|          | 0/2430 [00:00<?, ?it/s]"
      ]
     },
     "metadata": {},
     "output_type": "display_data"
    },
    {
     "data": {
      "application/vnd.jupyter.widget-view+json": {
       "model_id": "",
       "version_major": 2,
       "version_minor": 0
      },
      "text/plain": [
       "  0%|          | 0/2430 [00:00<?, ?it/s]"
      ]
     },
     "metadata": {},
     "output_type": "display_data"
    },
    {
     "data": {
      "application/vnd.jupyter.widget-view+json": {
       "model_id": "",
       "version_major": 2,
       "version_minor": 0
      },
      "text/plain": [
       "  0%|          | 0/2430 [00:00<?, ?it/s]"
      ]
     },
     "metadata": {},
     "output_type": "display_data"
    },
    {
     "data": {
      "application/vnd.jupyter.widget-view+json": {
       "model_id": "",
       "version_major": 2,
       "version_minor": 0
      },
      "text/plain": [
       "  0%|          | 0/2430 [00:00<?, ?it/s]"
      ]
     },
     "metadata": {},
     "output_type": "display_data"
    },
    {
     "data": {
      "application/vnd.jupyter.widget-view+json": {
       "model_id": "",
       "version_major": 2,
       "version_minor": 0
      },
      "text/plain": [
       "  0%|          | 0/2430 [00:00<?, ?it/s]"
      ]
     },
     "metadata": {},
     "output_type": "display_data"
    },
    {
     "data": {
      "application/vnd.jupyter.widget-view+json": {
       "model_id": "",
       "version_major": 2,
       "version_minor": 0
      },
      "text/plain": [
       "  0%|          | 0/2430 [00:00<?, ?it/s]"
      ]
     },
     "metadata": {},
     "output_type": "display_data"
    }
   ],
   "source": [
    "tf.compat.v1.logging.set_verbosity(tf.compat.v1.logging.ERROR)\n",
    "df_grouped = pd.read_csv(TEST_PATH).groupby(ALL_USER_FEATURES)[\"Product_ID\"].apply(list).apply(np.array).reset_index()\n",
    "top_k = [1, 10, 50, 100]\n",
    "results = dict()\n",
    "\n",
    "baseline = BlackFridayBaseline(TRAIN_PATH, ALL_USER_FEATURES, True)\n",
    "for k in tqdm(top_k, leave=False):\n",
    "    metrics_id = f\"baseline_top{k}\"\n",
    "    df_grouped[metrics_id]         = df_grouped[ALL_USER_FEATURES].progress_apply(lambda x: baseline.predict(x, k), axis=1)\n",
    "    baseline_true_positives        = df_grouped.progress_apply(lambda x: np.intersect1d(x[\"Product_ID\"],x[metrics_id]).shape[0], axis=1).sum()\n",
    "    baseline_false_negatives       = df.shape[0] - baseline_true_positives\n",
    "    baseline_false_positives       = df_grouped[metrics_id].apply(lambda x: x.shape[0]).sum() - baseline_true_positives\n",
    "    baseline_reach                 = df_grouped.progress_apply(lambda x: min(x[\"Product_ID\"].shape[0],x[metrics_id].shape[0]), axis=1).sum()\n",
    "    results[f\"baseline_top{k}\"]    = {\n",
    "        \"top\"  : k,\n",
    "        \"model\": \"baseline\",\n",
    "        \"tp\"   : baseline_true_positives,\n",
    "        \"fp\"   : baseline_false_positives,\n",
    "        \"fn\"   : baseline_false_negatives,\n",
    "        \"reach\": baseline_reach #portata\n",
    "    }\n",
    "    \n",
    "\n",
    "metadata_path = os.path.join(\"gs://mlteam-ml-specialization-2021-blackfriday/aiplatform_jobs\", MODEL_NAME, \"metadata.json\")\n",
    "metadata = json.load(tf.io.gfile.GFile(metadata_path, \"r\"))\n"
   ]
  },
  {
   "cell_type": "code",
   "execution_count": 12,
   "id": "4b4e8d10",
   "metadata": {},
   "outputs": [
    {
     "data": {
      "application/vnd.jupyter.widget-view+json": {
       "model_id": "",
       "version_major": 2,
       "version_minor": 0
      },
      "text/plain": [
       "  0%|          | 0/1 [00:00<?, ?it/s]"
      ]
     },
     "metadata": {},
     "output_type": "display_data"
    },
    {
     "data": {
      "application/vnd.jupyter.widget-view+json": {
       "model_id": "",
       "version_major": 2,
       "version_minor": 0
      },
      "text/plain": [
       "  0%|          | 0/4 [00:00<?, ?it/s]"
      ]
     },
     "metadata": {},
     "output_type": "display_data"
    },
    {
     "data": {
      "application/vnd.jupyter.widget-view+json": {
       "model_id": "",
       "version_major": 2,
       "version_minor": 0
      },
      "text/plain": [
       "  0%|          | 0/2430 [00:00<?, ?it/s]"
      ]
     },
     "metadata": {},
     "output_type": "display_data"
    },
    {
     "data": {
      "application/vnd.jupyter.widget-view+json": {
       "model_id": "",
       "version_major": 2,
       "version_minor": 0
      },
      "text/plain": [
       "  0%|          | 0/2430 [00:00<?, ?it/s]"
      ]
     },
     "metadata": {},
     "output_type": "display_data"
    },
    {
     "data": {
      "application/vnd.jupyter.widget-view+json": {
       "model_id": "",
       "version_major": 2,
       "version_minor": 0
      },
      "text/plain": [
       "  0%|          | 0/2430 [00:00<?, ?it/s]"
      ]
     },
     "metadata": {},
     "output_type": "display_data"
    },
    {
     "data": {
      "application/vnd.jupyter.widget-view+json": {
       "model_id": "",
       "version_major": 2,
       "version_minor": 0
      },
      "text/plain": [
       "  0%|          | 0/2430 [00:00<?, ?it/s]"
      ]
     },
     "metadata": {},
     "output_type": "display_data"
    },
    {
     "data": {
      "application/vnd.jupyter.widget-view+json": {
       "model_id": "",
       "version_major": 2,
       "version_minor": 0
      },
      "text/plain": [
       "  0%|          | 0/2430 [00:00<?, ?it/s]"
      ]
     },
     "metadata": {},
     "output_type": "display_data"
    },
    {
     "data": {
      "application/vnd.jupyter.widget-view+json": {
       "model_id": "",
       "version_major": 2,
       "version_minor": 0
      },
      "text/plain": [
       "  0%|          | 0/2430 [00:00<?, ?it/s]"
      ]
     },
     "metadata": {},
     "output_type": "display_data"
    },
    {
     "data": {
      "application/vnd.jupyter.widget-view+json": {
       "model_id": "",
       "version_major": 2,
       "version_minor": 0
      },
      "text/plain": [
       "  0%|          | 0/2430 [00:00<?, ?it/s]"
      ]
     },
     "metadata": {},
     "output_type": "display_data"
    },
    {
     "data": {
      "application/vnd.jupyter.widget-view+json": {
       "model_id": "",
       "version_major": 2,
       "version_minor": 0
      },
      "text/plain": [
       "  0%|          | 0/2430 [00:00<?, ?it/s]"
      ]
     },
     "metadata": {},
     "output_type": "display_data"
    },
    {
     "data": {
      "application/vnd.jupyter.widget-view+json": {
       "model_id": "",
       "version_major": 2,
       "version_minor": 0
      },
      "text/plain": [
       "  0%|          | 0/2430 [00:00<?, ?it/s]"
      ]
     },
     "metadata": {},
     "output_type": "display_data"
    },
    {
     "data": {
      "application/vnd.jupyter.widget-view+json": {
       "model_id": "",
       "version_major": 2,
       "version_minor": 0
      },
      "text/plain": [
       "  0%|          | 0/2430 [00:00<?, ?it/s]"
      ]
     },
     "metadata": {},
     "output_type": "display_data"
    },
    {
     "data": {
      "application/vnd.jupyter.widget-view+json": {
       "model_id": "",
       "version_major": 2,
       "version_minor": 0
      },
      "text/plain": [
       "  0%|          | 0/2430 [00:00<?, ?it/s]"
      ]
     },
     "metadata": {},
     "output_type": "display_data"
    },
    {
     "data": {
      "application/vnd.jupyter.widget-view+json": {
       "model_id": "",
       "version_major": 2,
       "version_minor": 0
      },
      "text/plain": [
       "  0%|          | 0/2430 [00:00<?, ?it/s]"
      ]
     },
     "metadata": {},
     "output_type": "display_data"
    },
    {
     "data": {
      "text/html": [
       "<div>\n",
       "<style scoped>\n",
       "    .dataframe tbody tr th:only-of-type {\n",
       "        vertical-align: middle;\n",
       "    }\n",
       "\n",
       "    .dataframe tbody tr th {\n",
       "        vertical-align: top;\n",
       "    }\n",
       "\n",
       "    .dataframe thead th {\n",
       "        text-align: right;\n",
       "    }\n",
       "</style>\n",
       "<table border=\"1\" class=\"dataframe\">\n",
       "  <thead>\n",
       "    <tr style=\"text-align: right;\">\n",
       "      <th></th>\n",
       "      <th>top</th>\n",
       "      <th>model</th>\n",
       "      <th>tp</th>\n",
       "      <th>fp</th>\n",
       "      <th>fn</th>\n",
       "      <th>reach</th>\n",
       "      <th>precision</th>\n",
       "      <th>recall</th>\n",
       "      <th>tp_over_reach</th>\n",
       "    </tr>\n",
       "  </thead>\n",
       "  <tbody>\n",
       "    <tr>\n",
       "      <th>baseline_top1</th>\n",
       "      <td>1</td>\n",
       "      <td>baseline</td>\n",
       "      <td>637</td>\n",
       "      <td>1754</td>\n",
       "      <td>273647</td>\n",
       "      <td>2391</td>\n",
       "      <td>0.266416</td>\n",
       "      <td>0.002322</td>\n",
       "      <td>0.266416</td>\n",
       "    </tr>\n",
       "    <tr>\n",
       "      <th>baseline_top10</th>\n",
       "      <td>10</td>\n",
       "      <td>baseline</td>\n",
       "      <td>5184</td>\n",
       "      <td>14437</td>\n",
       "      <td>269100</td>\n",
       "      <td>19618</td>\n",
       "      <td>0.264207</td>\n",
       "      <td>0.0189</td>\n",
       "      <td>0.264247</td>\n",
       "    </tr>\n",
       "    <tr>\n",
       "      <th>baseline_top50</th>\n",
       "      <td>50</td>\n",
       "      <td>baseline</td>\n",
       "      <td>15198</td>\n",
       "      <td>39057</td>\n",
       "      <td>259086</td>\n",
       "      <td>54252</td>\n",
       "      <td>0.280122</td>\n",
       "      <td>0.05541</td>\n",
       "      <td>0.280137</td>\n",
       "    </tr>\n",
       "    <tr>\n",
       "      <th>baseline_top100</th>\n",
       "      <td>100</td>\n",
       "      <td>baseline</td>\n",
       "      <td>19780</td>\n",
       "      <td>47500</td>\n",
       "      <td>254504</td>\n",
       "      <td>67277</td>\n",
       "      <td>0.293995</td>\n",
       "      <td>0.072115</td>\n",
       "      <td>0.294008</td>\n",
       "    </tr>\n",
       "    <tr>\n",
       "      <th>trial_1_top1</th>\n",
       "      <td>1</td>\n",
       "      <td>trial_1</td>\n",
       "      <td>349</td>\n",
       "      <td>2081</td>\n",
       "      <td>273935</td>\n",
       "      <td>2430</td>\n",
       "      <td>0.143621</td>\n",
       "      <td>0.001272</td>\n",
       "      <td>0.143621</td>\n",
       "    </tr>\n",
       "    <tr>\n",
       "      <th>trial_1_top10</th>\n",
       "      <td>10</td>\n",
       "      <td>trial_1</td>\n",
       "      <td>3012</td>\n",
       "      <td>21288</td>\n",
       "      <td>271272</td>\n",
       "      <td>23612</td>\n",
       "      <td>0.123951</td>\n",
       "      <td>0.010981</td>\n",
       "      <td>0.127562</td>\n",
       "    </tr>\n",
       "    <tr>\n",
       "      <th>trial_1_top50</th>\n",
       "      <td>50</td>\n",
       "      <td>trial_1</td>\n",
       "      <td>13846</td>\n",
       "      <td>107654</td>\n",
       "      <td>260438</td>\n",
       "      <td>91899</td>\n",
       "      <td>0.113959</td>\n",
       "      <td>0.050481</td>\n",
       "      <td>0.150665</td>\n",
       "    </tr>\n",
       "    <tr>\n",
       "      <th>trial_1_top100</th>\n",
       "      <td>100</td>\n",
       "      <td>trial_1</td>\n",
       "      <td>26898</td>\n",
       "      <td>216102</td>\n",
       "      <td>247386</td>\n",
       "      <td>146329</td>\n",
       "      <td>0.110691</td>\n",
       "      <td>0.098066</td>\n",
       "      <td>0.183819</td>\n",
       "    </tr>\n",
       "  </tbody>\n",
       "</table>\n",
       "</div>"
      ],
      "text/plain": [
       "                 top     model     tp      fp      fn   reach precision  \\\n",
       "baseline_top1      1  baseline    637    1754  273647    2391  0.266416   \n",
       "baseline_top10    10  baseline   5184   14437  269100   19618  0.264207   \n",
       "baseline_top50    50  baseline  15198   39057  259086   54252  0.280122   \n",
       "baseline_top100  100  baseline  19780   47500  254504   67277  0.293995   \n",
       "trial_1_top1       1   trial_1    349    2081  273935    2430  0.143621   \n",
       "trial_1_top10     10   trial_1   3012   21288  271272   23612  0.123951   \n",
       "trial_1_top50     50   trial_1  13846  107654  260438   91899  0.113959   \n",
       "trial_1_top100   100   trial_1  26898  216102  247386  146329  0.110691   \n",
       "\n",
       "                   recall tp_over_reach  \n",
       "baseline_top1    0.002322      0.266416  \n",
       "baseline_top10     0.0189      0.264247  \n",
       "baseline_top50    0.05541      0.280137  \n",
       "baseline_top100  0.072115      0.294008  \n",
       "trial_1_top1     0.001272      0.143621  \n",
       "trial_1_top10    0.010981      0.127562  \n",
       "trial_1_top50    0.050481      0.150665  \n",
       "trial_1_top100   0.098066      0.183819  "
      ]
     },
     "execution_count": 12,
     "metadata": {},
     "output_type": "execute_result"
    }
   ],
   "source": [
    "for j in tqdm(metadata, leave=False):\n",
    "    model = PredictionModel(os.path.join(\"gs://mlteam-ml-specialization-2021-blackfriday/aiplatform_jobs\", MODEL_NAME, str(j['trialId']), 'Scann'), True)\n",
    "    hps = json.dumps(j[\"hyperparameters\"])\n",
    "    model_id = f\"trial_{j['trialId']}\"\n",
    "    for k in tqdm(top_k, leave=False):\n",
    "        metrics_id=f\"trial_{j['trialId']}_top{k}\"\n",
    "        df_grouped[metrics_id] = df_grouped[USER_FEATURES].progress_apply(lambda x: model.predict_single(x.astype(str), k).astype(str), axis=1)\n",
    "        tp = df_grouped.progress_apply(lambda x: np.intersect1d(x[\"Product_ID\"],x[metrics_id]).shape[0], axis=1).sum()\n",
    "        fn = df.shape[0] - tp\n",
    "        fp = df_grouped[metrics_id].apply(lambda x: x.shape[0]).sum() - tp\n",
    "        reach = df_grouped.progress_apply(lambda x: min(len(x[\"Product_ID\"]),x[metrics_id].shape[0]), axis=1).sum() \n",
    "        results[metrics_id] = {\n",
    "            \"top\"  : k,\n",
    "            \"model\": model_id,\n",
    "            \"tp\"   : tp,\n",
    "            \"fp\"   : fp,\n",
    "            \"fn\"   : fn,\n",
    "            \"reach\": reach\n",
    "        }\n",
    "    \n",
    "df_results = pd.DataFrame(results).T\n",
    "df_results[\"precision\"] = df_results[\"tp\"]/(df_results[\"tp\"]+df_results[\"fp\"])\n",
    "df_results[\"recall\"] = df_results[\"tp\"]/(df_results[\"tp\"]+df_results[\"fn\"])\n",
    "df_results[\"tp_over_reach\"] = df_results[\"tp\"]/df_results[\"reach\"]\n",
    "df_results"
   ]
  },
  {
   "cell_type": "code",
   "execution_count": 13,
   "id": "866b5297",
   "metadata": {},
   "outputs": [
    {
     "data": {
      "text/html": [
       "<div>\n",
       "<style scoped>\n",
       "    .dataframe tbody tr th:only-of-type {\n",
       "        vertical-align: middle;\n",
       "    }\n",
       "\n",
       "    .dataframe tbody tr th {\n",
       "        vertical-align: top;\n",
       "    }\n",
       "\n",
       "    .dataframe thead th {\n",
       "        text-align: right;\n",
       "    }\n",
       "</style>\n",
       "<table border=\"1\" class=\"dataframe\">\n",
       "  <thead>\n",
       "    <tr style=\"text-align: right;\">\n",
       "      <th>top</th>\n",
       "      <th>1</th>\n",
       "      <th>10</th>\n",
       "      <th>50</th>\n",
       "      <th>100</th>\n",
       "    </tr>\n",
       "    <tr>\n",
       "      <th>model</th>\n",
       "      <th></th>\n",
       "      <th></th>\n",
       "      <th></th>\n",
       "      <th></th>\n",
       "    </tr>\n",
       "  </thead>\n",
       "  <tbody>\n",
       "    <tr>\n",
       "      <th>baseline</th>\n",
       "      <td>0.266416</td>\n",
       "      <td>0.264207</td>\n",
       "      <td>0.280122</td>\n",
       "      <td>0.293995</td>\n",
       "    </tr>\n",
       "    <tr>\n",
       "      <th>trial_1</th>\n",
       "      <td>0.143621</td>\n",
       "      <td>0.123951</td>\n",
       "      <td>0.113959</td>\n",
       "      <td>0.110691</td>\n",
       "    </tr>\n",
       "  </tbody>\n",
       "</table>\n",
       "</div>"
      ],
      "text/plain": [
       "top            1         10        50        100\n",
       "model                                           \n",
       "baseline  0.266416  0.264207  0.280122  0.293995\n",
       "trial_1   0.143621  0.123951  0.113959  0.110691"
      ]
     },
     "execution_count": 13,
     "metadata": {},
     "output_type": "execute_result"
    }
   ],
   "source": [
    "df_results.pivot(\"model\",\"top\",\"precision\")"
   ]
  },
  {
   "cell_type": "code",
   "execution_count": 14,
   "id": "a1cc8127",
   "metadata": {},
   "outputs": [
    {
     "data": {
      "text/html": [
       "<div>\n",
       "<style scoped>\n",
       "    .dataframe tbody tr th:only-of-type {\n",
       "        vertical-align: middle;\n",
       "    }\n",
       "\n",
       "    .dataframe tbody tr th {\n",
       "        vertical-align: top;\n",
       "    }\n",
       "\n",
       "    .dataframe thead th {\n",
       "        text-align: right;\n",
       "    }\n",
       "</style>\n",
       "<table border=\"1\" class=\"dataframe\">\n",
       "  <thead>\n",
       "    <tr style=\"text-align: right;\">\n",
       "      <th>top</th>\n",
       "      <th>1</th>\n",
       "      <th>10</th>\n",
       "      <th>50</th>\n",
       "      <th>100</th>\n",
       "    </tr>\n",
       "    <tr>\n",
       "      <th>model</th>\n",
       "      <th></th>\n",
       "      <th></th>\n",
       "      <th></th>\n",
       "      <th></th>\n",
       "    </tr>\n",
       "  </thead>\n",
       "  <tbody>\n",
       "    <tr>\n",
       "      <th>baseline</th>\n",
       "      <td>0.002322</td>\n",
       "      <td>0.0189</td>\n",
       "      <td>0.05541</td>\n",
       "      <td>0.072115</td>\n",
       "    </tr>\n",
       "    <tr>\n",
       "      <th>trial_1</th>\n",
       "      <td>0.001272</td>\n",
       "      <td>0.010981</td>\n",
       "      <td>0.050481</td>\n",
       "      <td>0.098066</td>\n",
       "    </tr>\n",
       "  </tbody>\n",
       "</table>\n",
       "</div>"
      ],
      "text/plain": [
       "top            1         10        50        100\n",
       "model                                           \n",
       "baseline  0.002322    0.0189   0.05541  0.072115\n",
       "trial_1   0.001272  0.010981  0.050481  0.098066"
      ]
     },
     "execution_count": 14,
     "metadata": {},
     "output_type": "execute_result"
    }
   ],
   "source": [
    "df_results.pivot(\"model\",\"top\",\"recall\")"
   ]
  },
  {
   "cell_type": "code",
   "execution_count": 15,
   "id": "6e0894b7",
   "metadata": {},
   "outputs": [
    {
     "data": {
      "text/html": [
       "<div>\n",
       "<style scoped>\n",
       "    .dataframe tbody tr th:only-of-type {\n",
       "        vertical-align: middle;\n",
       "    }\n",
       "\n",
       "    .dataframe tbody tr th {\n",
       "        vertical-align: top;\n",
       "    }\n",
       "\n",
       "    .dataframe thead th {\n",
       "        text-align: right;\n",
       "    }\n",
       "</style>\n",
       "<table border=\"1\" class=\"dataframe\">\n",
       "  <thead>\n",
       "    <tr style=\"text-align: right;\">\n",
       "      <th>top</th>\n",
       "      <th>1</th>\n",
       "      <th>10</th>\n",
       "      <th>50</th>\n",
       "      <th>100</th>\n",
       "    </tr>\n",
       "    <tr>\n",
       "      <th>model</th>\n",
       "      <th></th>\n",
       "      <th></th>\n",
       "      <th></th>\n",
       "      <th></th>\n",
       "    </tr>\n",
       "  </thead>\n",
       "  <tbody>\n",
       "    <tr>\n",
       "      <th>baseline</th>\n",
       "      <td>0.266416</td>\n",
       "      <td>0.264247</td>\n",
       "      <td>0.280137</td>\n",
       "      <td>0.294008</td>\n",
       "    </tr>\n",
       "    <tr>\n",
       "      <th>trial_1</th>\n",
       "      <td>0.143621</td>\n",
       "      <td>0.127562</td>\n",
       "      <td>0.150665</td>\n",
       "      <td>0.183819</td>\n",
       "    </tr>\n",
       "  </tbody>\n",
       "</table>\n",
       "</div>"
      ],
      "text/plain": [
       "top            1         10        50        100\n",
       "model                                           \n",
       "baseline  0.266416  0.264247  0.280137  0.294008\n",
       "trial_1   0.143621  0.127562  0.150665  0.183819"
      ]
     },
     "execution_count": 15,
     "metadata": {},
     "output_type": "execute_result"
    }
   ],
   "source": [
    "df_results.pivot(\"model\",\"top\",\"tp_over_reach\")"
   ]
  },
  {
   "cell_type": "code",
   "execution_count": null,
   "id": "12949f9d",
   "metadata": {},
   "outputs": [],
   "source": []
  }
 ],
 "metadata": {
  "environment": {
   "name": "tf2-gpu.2-3.m65",
   "type": "gcloud",
   "uri": "gcr.io/deeplearning-platform-release/tf2-gpu.2-3:m65"
  },
  "kernelspec": {
   "display_name": "Python 3",
   "language": "python",
   "name": "python3"
  },
  "language_info": {
   "codemirror_mode": {
    "name": "ipython",
    "version": 3
   },
   "file_extension": ".py",
   "mimetype": "text/x-python",
   "name": "python",
   "nbconvert_exporter": "python",
   "pygments_lexer": "ipython3",
   "version": "3.7.10"
  }
 },
 "nbformat": 4,
 "nbformat_minor": 5
}
