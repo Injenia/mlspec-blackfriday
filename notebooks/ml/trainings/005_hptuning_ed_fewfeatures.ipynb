{
 "cells": [
  {
   "cell_type": "code",
   "execution_count": 1,
   "id": "a4c6f477",
   "metadata": {},
   "outputs": [],
   "source": [
    "from oauth2client.client import GoogleCredentials\n",
    "from googleapiclient import discovery\n",
    "from googleapiclient import errors\n",
    "import tensorflow as tf\n",
    "import tensorflow_recommenders as tfrs\n",
    "import pandas as pd\n",
    "import numpy as np\n",
    "import json\n",
    "import os\n",
    "\n",
    "from tqdm.auto import tqdm\n",
    "tqdm.pandas(leave=False)"
   ]
  },
  {
   "cell_type": "markdown",
   "id": "3ce39069",
   "metadata": {},
   "source": [
    "# Training"
   ]
  },
  {
   "cell_type": "markdown",
   "id": "cef0b13e",
   "metadata": {},
   "source": [
    "## configuration"
   ]
  },
  {
   "cell_type": "code",
   "execution_count": 2,
   "id": "29312466",
   "metadata": {},
   "outputs": [],
   "source": [
    "PROJECT             = \"mlteam-ml-specialization-2021\"\n",
    "TRAIN_PATH          = \"gs://mlteam-ml-specialization-2021-blackfriday/dataset/parsed/202104130952/train.csv\"\n",
    "EVAL_PATH           = \"gs://mlteam-ml-specialization-2021-blackfriday/dataset/parsed/202104130952/test/evalset.csv\"\n",
    "TEST_PATH           = \"gs://mlteam-ml-specialization-2021-blackfriday/dataset/parsed/202104130952/test/testset.csv\"\n",
    "MODEL_NAME          = \"005_hptuning_ed_fewfeatures\"\n",
    "BATCH_SIZE          = 30000 #1 epoch -> 3 steps\n",
    "NUM_EPOCHS          = 1000\n",
    "SCANN_NUM_NEIGHBORS = 100\n",
    "#LEARNING_RATE       = 0.01\n",
    "#EMBEDDING_DIM       = 128\n",
    "USER_FEATURES       = [\"Gender\", \"Age\", \"Occupation\"]\n",
    "FORCE               = False"
   ]
  },
  {
   "cell_type": "code",
   "execution_count": 5,
   "id": "10340858",
   "metadata": {},
   "outputs": [
    {
     "name": "stdout",
     "output_type": "stream",
     "text": [
      "Overwriting config.yaml\n"
     ]
    }
   ],
   "source": [
    "%%writefile config.yaml\n",
    "trainingInput:\n",
    "  hyperparameters:\n",
    "    goal: MINIMIZE\n",
    "    hyperparameterMetricTag: epoch_total_loss\n",
    "    maxTrials: 3\n",
    "    maxParallelTrials: 3\n",
    "    enableTrialEarlyStopping: False\n",
    "    params:\n",
    "    - parameterName: learning-rate\n",
    "      type: DISCRETE\n",
    "      discreteValues:\n",
    "      - 0.01\n",
    "    - parameterName: embedding-dim\n",
    "      type: DISCRETE\n",
    "      discreteValues:\n",
    "      - 8\n",
    "      - 32\n",
    "      - 128"
   ]
  },
  {
   "cell_type": "code",
   "execution_count": 7,
   "id": "b119289c",
   "metadata": {},
   "outputs": [],
   "source": [
    "MODEL_PATH = os.path.join(\"gs://mlteam-ml-specialization-2021-blackfriday/aiplatform_jobs\", MODEL_NAME)\n",
    "if tf.io.gfile.exists(MODEL_PATH):\n",
    "    if FORCE:\n",
    "        tf.io.gfile.rmtree(MODEL_PATH)\n",
    "    else:\n",
    "        assert not tf.io.gfile.exists(MODEL_PATH), f\"{MODEL_PATH} already exists, set FORCE=True to overwrite\"\n",
    "\n",
    "\n",
    "os.environ[\"TRAIN_PATH\"]          = str(TRAIN_PATH)\n",
    "os.environ[\"EVAL_PATH\"]           = str(EVAL_PATH)\n",
    "os.environ[\"TEST_PATH\"]           = str(TEST_PATH)\n",
    "os.environ[\"MODEL_NAME\"]          = str(MODEL_NAME)\n",
    "os.environ[\"MODEL_PATH\"]          = str(MODEL_PATH)\n",
    "os.environ[\"BATCH_SIZE\"]          = str(BATCH_SIZE)\n",
    "os.environ[\"NUM_EPOCHS\"]          = str(NUM_EPOCHS)\n",
    "os.environ[\"SCANN_NUM_NEIGHBORS\"] = str(SCANN_NUM_NEIGHBORS)\n",
    "#os.environ[\"LEARNING_RATE\"]       = str(LEARNING_RATE)\n",
    "#os.environ[\"EMBEDDING_DIM\"]       = str(EMBEDDING_DIM)\n",
    "os.environ[\"USER_FEATURES\"]       = json.dumps(USER_FEATURES)"
   ]
  },
  {
   "cell_type": "markdown",
   "id": "5da3b4ac",
   "metadata": {},
   "source": [
    "## launch"
   ]
  },
  {
   "cell_type": "code",
   "execution_count": 8,
   "id": "9bf78747",
   "metadata": {},
   "outputs": [
    {
     "name": "stdout",
     "output_type": "stream",
     "text": [
      "jobId: bf_005_hptuning_ed_fewfeatures_20210528_105613\n",
      "state: QUEUED\n",
      "createTime: '2021-05-28T10:56:16Z'\n",
      "etag: C9Uc5GYzYRQ=\n",
      "jobId: bf_005_hptuning_ed_fewfeatures_20210528_105613\n",
      "state: PREPARING\n",
      "trainingInput:\n",
      "  args:\n",
      "  - --train-path=gs://mlteam-ml-specialization-2021-blackfriday/dataset/parsed/202104130952/train.csv\n",
      "  - --eval-path=gs://mlteam-ml-specialization-2021-blackfriday/dataset/parsed/202104130952/test/evalset.csv\n",
      "  - --job-dir=gs://mlteam-ml-specialization-2021-blackfriday/aiplatform_jobs/005_hptuning_ed_fewfeatures\n",
      "  - --num-epochs=1000\n",
      "  - --batch-size=30000\n",
      "  - --scann-num-neighbors=100\n",
      "  - --user-features=[\"Gender\", \"Age\", \"Occupation\"]\n",
      "  hyperparameters:\n",
      "    goal: MINIMIZE\n",
      "    hyperparameterMetricTag: epoch_total_loss\n",
      "    maxParallelTrials: 3\n",
      "    maxTrials: 3\n",
      "    params:\n",
      "    - discreteValues:\n",
      "      - 0.01\n",
      "      parameterName: learning-rate\n",
      "      type: DISCRETE\n",
      "    - discreteValues:\n",
      "      - 8.0\n",
      "      - 32.0\n",
      "      - 128.0\n",
      "      parameterName: embedding-dim\n",
      "      type: DISCRETE\n",
      "  jobDir: gs://mlteam-ml-specialization-2021-blackfriday/aiplatform_jobs/005_hptuning_ed_fewfeatures\n",
      "  packageUris:\n",
      "  - gs://mlteam-ml-specialization-2021-blackfriday/aiplatform_jobs/005_hptuning_ed_fewfeatures/packages/9f4d2b2933322501352098419c1e5c42f96e8dd232b30849ff7fdcb2b05dd20b/mlspec-blackfriday-0.1.tar.gz\n",
      "  pythonModule: trainer.task\n",
      "  pythonVersion: '3.7'\n",
      "  region: europe-west1\n",
      "  runtimeVersion: '2.4'\n",
      "trainingOutput:\n",
      "  isHyperparameterTuningJob: true\n"
     ]
    },
    {
     "name": "stderr",
     "output_type": "stream",
     "text": [
      "Job [bf_005_hptuning_ed_fewfeatures_20210528_105613] submitted successfully.\n",
      "Your job is still active. You may view the status of your job with the command\n",
      "\n",
      "  $ gcloud ai-platform jobs describe bf_005_hptuning_ed_fewfeatures_20210528_105613\n",
      "\n",
      "or continue streaming the logs with the command\n",
      "\n",
      "  $ gcloud ai-platform jobs stream-logs bf_005_hptuning_ed_fewfeatures_20210528_105613\n",
      "\n",
      "View job in the Cloud Console at:\n",
      "https://console.cloud.google.com/mlengine/jobs/bf_005_hptuning_ed_fewfeatures_20210528_105613?project=mlteam-ml-specialization-2021\n",
      "\n",
      "View logs at:\n",
      "https://console.cloud.google.com/logs?resource=ml_job%2Fjob_id%2Fbf_005_hptuning_ed_fewfeatures_20210528_105613&project=mlteam-ml-specialization-2021\n"
     ]
    }
   ],
   "source": [
    "%%bash\n",
    "\n",
    "# JOB_NAME: the name of your job running on AI Platform.\n",
    "JOB_NAME=bf_${MODEL_NAME}_$(date +%Y%m%d_%H%M%S)\n",
    "\n",
    "# REGION: select a region from https://cloud.google.com/ai-platform/training/docs/regions\n",
    "# or use the default '`us-central1`'. The region is where the model will be deployed.\n",
    "REGION=europe-west1\n",
    "PYTHON_VERSION=3.7\n",
    "RUNTIME_VERSION=2.4\n",
    "\n",
    "current_dir=\"$(cd \"$(dirname \"${BASH_SOURCE[0]}\")\" >/dev/null 2>&1 && pwd)\"\n",
    "cd ${current_dir}\"/../../..\"\n",
    "\n",
    "config_file=\"${current_dir}/config.yaml\"\n",
    "\n",
    "gcloud ai-platform jobs submit training \"${JOB_NAME}\" \\\n",
    "  --package-path trainer/ \\\n",
    "  --module-name trainer.task \\\n",
    "  --region ${REGION} \\\n",
    "  --python-version ${PYTHON_VERSION} \\\n",
    "  --runtime-version ${RUNTIME_VERSION} \\\n",
    "  --job-dir \"${MODEL_PATH}\" \\\n",
    "  --config \"${config_file}\" \\\n",
    "  -- \\\n",
    "  --train-path=\"${TRAIN_PATH}\" \\\n",
    "  --eval-path=\"${EVAL_PATH}\" \\\n",
    "  --job-dir=\"${MODEL_PATH}\" \\\n",
    "  --num-epochs=${NUM_EPOCHS} \\\n",
    "  --batch-size=${BATCH_SIZE} \\\n",
    "  --scann-num-neighbors=${SCANN_NUM_NEIGHBORS} \\\n",
    "  --user-features=\"${USER_FEATURES}\"\n",
    "\n",
    "#  --learning-rate=${LEARNING_RATE} \\\n",
    "#  --embedding-dim=${EMBEDDING_DIM} \\\n",
    "\n",
    "gcloud ai-platform jobs describe ${JOB_NAME}"
   ]
  },
  {
   "cell_type": "code",
   "execution_count": 9,
   "id": "243c75e4",
   "metadata": {},
   "outputs": [],
   "source": [
    "!rm -rf config.yaml"
   ]
  },
  {
   "cell_type": "code",
   "execution_count": 3,
   "id": "7dca1886",
   "metadata": {},
   "outputs": [],
   "source": [
    "metadata_path = os.path.join(\"gs://mlteam-ml-specialization-2021-blackfriday/aiplatform_jobs\", MODEL_NAME, \"metadata.json\")\n",
    "\n",
    "ml               = discovery.build('ml','v1')\n",
    "projectId        = 'projects/{}'.format(PROJECT)\n",
    "ai_platform_data = ml.projects().jobs().list(parent=projectId).execute()\n",
    "jobs             = ai_platform_data[\"jobs\"]\n",
    "latest_job       = sorted([j for j in jobs if j['jobId'].startswith(f\"bf_{MODEL_NAME}\")], key=lambda x: x[\"jobId\"])[-1]\n",
    "if latest_job[\"trainingOutput\"].get('isHyperparameterTuningJob',None) is not None:\n",
    "    trials = latest_job[\"trainingOutput\"][\"trials\"]\n",
    "    json.dump(trials, tf.io.gfile.GFile(metadata_path, \"w\"))\n",
    "else:\n",
    "    metadata = [{\n",
    "        'trialId'        : '1',\n",
    "        'hyperparameters': {},\n",
    "        'startTime'      : latest_job[\"startTime\"],\n",
    "        'endTime'        : latest_job[\"endTime\"],\n",
    "        'state'          : latest_job[\"state\"],\n",
    "    }]\n",
    "    json.dump(metadata, tf.io.gfile.GFile(metadata_path, \"w\"))"
   ]
  },
  {
   "cell_type": "markdown",
   "id": "958e014d",
   "metadata": {},
   "source": [
    "# Evaluation"
   ]
  },
  {
   "cell_type": "markdown",
   "id": "beecc015",
   "metadata": {},
   "source": [
    "## ground truth"
   ]
  },
  {
   "cell_type": "code",
   "execution_count": 4,
   "id": "a7251519",
   "metadata": {},
   "outputs": [],
   "source": [
    "ALL_USER_FEATURES   = [\"Gender\", \"Age\", \"Occupation\", \"City_Category\", \"Stay_In_Current_City_Years\", \"Marital_Status\"] \n",
    "\n",
    "df = pd.read_csv(TEST_PATH)"
   ]
  },
  {
   "cell_type": "markdown",
   "id": "c480d5a8",
   "metadata": {},
   "source": [
    "## baseline"
   ]
  },
  {
   "cell_type": "code",
   "execution_count": 5,
   "id": "fffa1437",
   "metadata": {},
   "outputs": [],
   "source": [
    "class BlackFridayBaseline:\n",
    "    def __init__(self, trainset_location, user_features_list, build_inplace=False):\n",
    "        self.trainset_location, self.user_features_list = trainset_location, user_features_list\n",
    "        if build_inplace:\n",
    "            self.build()\n",
    "        \n",
    "    def build(self):\n",
    "        self.df = pd.read_csv(self.trainset_location).groupby(\n",
    "            self.user_features_list+[\"Product_ID\"])[\"User_ID\"].count().reset_index().rename(\n",
    "            columns={\"User_ID\":\"count_product\"})\n",
    "        \n",
    "    def predict(self, user_features, n_products):\n",
    "        mask = None\n",
    "        for k,v in user_features.items():\n",
    "            if mask is None:\n",
    "                mask = self.df[k]==v\n",
    "            else:\n",
    "                mask = mask&(self.df[k]==v)\n",
    "        return self.df[mask].sort_values(self.user_features_list+[\"count_product\"])[\"Product_ID\"].values[:n_products]\n",
    "        "
   ]
  },
  {
   "cell_type": "markdown",
   "id": "61a7853c",
   "metadata": {},
   "source": [
    "## model(s)"
   ]
  },
  {
   "cell_type": "code",
   "execution_count": 6,
   "id": "a6cc5ecf",
   "metadata": {},
   "outputs": [],
   "source": [
    "class PredictionModel:\n",
    "    def __init__(self, model_path, build_inplace=False):\n",
    "        self.model_path=model_path\n",
    "        if build_inplace:\n",
    "            self.build()\n",
    "    \n",
    "    def build(self):\n",
    "        self.model=tf.keras.models.load_model(self.model_path)\n",
    "        \n",
    "    def predict_batch(self, model_input, n_products):\n",
    "        scores, products = self.model({k:tf.constant(v) for k,v in model_input.items()})\n",
    "        return products.numpy()[:,:n_products]\n",
    "    \n",
    "    def predict_single(self, model_input, n_products):\n",
    "        scores, products = self.model({k:tf.constant([v]) for k,v in model_input.items()})\n",
    "        return products.numpy()[0,:n_products]\n",
    "    \n",
    "\n",
    "\n",
    "    "
   ]
  },
  {
   "cell_type": "markdown",
   "id": "43ba3ae5",
   "metadata": {},
   "source": [
    "## stats"
   ]
  },
  {
   "cell_type": "code",
   "execution_count": 7,
   "id": "4c26a842",
   "metadata": {},
   "outputs": [
    {
     "data": {
      "application/vnd.jupyter.widget-view+json": {
       "model_id": "",
       "version_major": 2,
       "version_minor": 0
      },
      "text/plain": [
       "  0%|          | 0/4 [00:00<?, ?it/s]"
      ]
     },
     "metadata": {},
     "output_type": "display_data"
    },
    {
     "data": {
      "application/vnd.jupyter.widget-view+json": {
       "model_id": "",
       "version_major": 2,
       "version_minor": 0
      },
      "text/plain": [
       "  0%|          | 0/2430 [00:00<?, ?it/s]"
      ]
     },
     "metadata": {},
     "output_type": "display_data"
    },
    {
     "data": {
      "application/vnd.jupyter.widget-view+json": {
       "model_id": "",
       "version_major": 2,
       "version_minor": 0
      },
      "text/plain": [
       "  0%|          | 0/2430 [00:00<?, ?it/s]"
      ]
     },
     "metadata": {},
     "output_type": "display_data"
    },
    {
     "data": {
      "application/vnd.jupyter.widget-view+json": {
       "model_id": "",
       "version_major": 2,
       "version_minor": 0
      },
      "text/plain": [
       "  0%|          | 0/2430 [00:00<?, ?it/s]"
      ]
     },
     "metadata": {},
     "output_type": "display_data"
    },
    {
     "data": {
      "application/vnd.jupyter.widget-view+json": {
       "model_id": "",
       "version_major": 2,
       "version_minor": 0
      },
      "text/plain": [
       "  0%|          | 0/2430 [00:00<?, ?it/s]"
      ]
     },
     "metadata": {},
     "output_type": "display_data"
    },
    {
     "data": {
      "application/vnd.jupyter.widget-view+json": {
       "model_id": "",
       "version_major": 2,
       "version_minor": 0
      },
      "text/plain": [
       "  0%|          | 0/2430 [00:00<?, ?it/s]"
      ]
     },
     "metadata": {},
     "output_type": "display_data"
    },
    {
     "data": {
      "application/vnd.jupyter.widget-view+json": {
       "model_id": "",
       "version_major": 2,
       "version_minor": 0
      },
      "text/plain": [
       "  0%|          | 0/2430 [00:00<?, ?it/s]"
      ]
     },
     "metadata": {},
     "output_type": "display_data"
    },
    {
     "data": {
      "application/vnd.jupyter.widget-view+json": {
       "model_id": "",
       "version_major": 2,
       "version_minor": 0
      },
      "text/plain": [
       "  0%|          | 0/2430 [00:00<?, ?it/s]"
      ]
     },
     "metadata": {},
     "output_type": "display_data"
    },
    {
     "data": {
      "application/vnd.jupyter.widget-view+json": {
       "model_id": "",
       "version_major": 2,
       "version_minor": 0
      },
      "text/plain": [
       "  0%|          | 0/2430 [00:00<?, ?it/s]"
      ]
     },
     "metadata": {},
     "output_type": "display_data"
    },
    {
     "data": {
      "application/vnd.jupyter.widget-view+json": {
       "model_id": "",
       "version_major": 2,
       "version_minor": 0
      },
      "text/plain": [
       "  0%|          | 0/2430 [00:00<?, ?it/s]"
      ]
     },
     "metadata": {},
     "output_type": "display_data"
    },
    {
     "data": {
      "application/vnd.jupyter.widget-view+json": {
       "model_id": "",
       "version_major": 2,
       "version_minor": 0
      },
      "text/plain": [
       "  0%|          | 0/2430 [00:00<?, ?it/s]"
      ]
     },
     "metadata": {},
     "output_type": "display_data"
    },
    {
     "data": {
      "application/vnd.jupyter.widget-view+json": {
       "model_id": "",
       "version_major": 2,
       "version_minor": 0
      },
      "text/plain": [
       "  0%|          | 0/2430 [00:00<?, ?it/s]"
      ]
     },
     "metadata": {},
     "output_type": "display_data"
    },
    {
     "data": {
      "application/vnd.jupyter.widget-view+json": {
       "model_id": "",
       "version_major": 2,
       "version_minor": 0
      },
      "text/plain": [
       "  0%|          | 0/2430 [00:00<?, ?it/s]"
      ]
     },
     "metadata": {},
     "output_type": "display_data"
    },
    {
     "data": {
      "application/vnd.jupyter.widget-view+json": {
       "model_id": "",
       "version_major": 2,
       "version_minor": 0
      },
      "text/plain": [
       "  0%|          | 0/3 [00:00<?, ?it/s]"
      ]
     },
     "metadata": {},
     "output_type": "display_data"
    },
    {
     "data": {
      "application/vnd.jupyter.widget-view+json": {
       "model_id": "",
       "version_major": 2,
       "version_minor": 0
      },
      "text/plain": [
       "  0%|          | 0/4 [00:00<?, ?it/s]"
      ]
     },
     "metadata": {},
     "output_type": "display_data"
    },
    {
     "data": {
      "application/vnd.jupyter.widget-view+json": {
       "model_id": "",
       "version_major": 2,
       "version_minor": 0
      },
      "text/plain": [
       "  0%|          | 0/2430 [00:00<?, ?it/s]"
      ]
     },
     "metadata": {},
     "output_type": "display_data"
    },
    {
     "data": {
      "application/vnd.jupyter.widget-view+json": {
       "model_id": "",
       "version_major": 2,
       "version_minor": 0
      },
      "text/plain": [
       "  0%|          | 0/2430 [00:00<?, ?it/s]"
      ]
     },
     "metadata": {},
     "output_type": "display_data"
    },
    {
     "data": {
      "application/vnd.jupyter.widget-view+json": {
       "model_id": "",
       "version_major": 2,
       "version_minor": 0
      },
      "text/plain": [
       "  0%|          | 0/2430 [00:00<?, ?it/s]"
      ]
     },
     "metadata": {},
     "output_type": "display_data"
    },
    {
     "data": {
      "application/vnd.jupyter.widget-view+json": {
       "model_id": "",
       "version_major": 2,
       "version_minor": 0
      },
      "text/plain": [
       "  0%|          | 0/2430 [00:00<?, ?it/s]"
      ]
     },
     "metadata": {},
     "output_type": "display_data"
    },
    {
     "data": {
      "application/vnd.jupyter.widget-view+json": {
       "model_id": "",
       "version_major": 2,
       "version_minor": 0
      },
      "text/plain": [
       "  0%|          | 0/2430 [00:00<?, ?it/s]"
      ]
     },
     "metadata": {},
     "output_type": "display_data"
    },
    {
     "data": {
      "application/vnd.jupyter.widget-view+json": {
       "model_id": "",
       "version_major": 2,
       "version_minor": 0
      },
      "text/plain": [
       "  0%|          | 0/2430 [00:00<?, ?it/s]"
      ]
     },
     "metadata": {},
     "output_type": "display_data"
    },
    {
     "data": {
      "application/vnd.jupyter.widget-view+json": {
       "model_id": "",
       "version_major": 2,
       "version_minor": 0
      },
      "text/plain": [
       "  0%|          | 0/2430 [00:00<?, ?it/s]"
      ]
     },
     "metadata": {},
     "output_type": "display_data"
    },
    {
     "data": {
      "application/vnd.jupyter.widget-view+json": {
       "model_id": "",
       "version_major": 2,
       "version_minor": 0
      },
      "text/plain": [
       "  0%|          | 0/2430 [00:00<?, ?it/s]"
      ]
     },
     "metadata": {},
     "output_type": "display_data"
    },
    {
     "data": {
      "application/vnd.jupyter.widget-view+json": {
       "model_id": "",
       "version_major": 2,
       "version_minor": 0
      },
      "text/plain": [
       "  0%|          | 0/2430 [00:00<?, ?it/s]"
      ]
     },
     "metadata": {},
     "output_type": "display_data"
    },
    {
     "data": {
      "application/vnd.jupyter.widget-view+json": {
       "model_id": "",
       "version_major": 2,
       "version_minor": 0
      },
      "text/plain": [
       "  0%|          | 0/2430 [00:00<?, ?it/s]"
      ]
     },
     "metadata": {},
     "output_type": "display_data"
    },
    {
     "data": {
      "application/vnd.jupyter.widget-view+json": {
       "model_id": "",
       "version_major": 2,
       "version_minor": 0
      },
      "text/plain": [
       "  0%|          | 0/2430 [00:00<?, ?it/s]"
      ]
     },
     "metadata": {},
     "output_type": "display_data"
    },
    {
     "data": {
      "application/vnd.jupyter.widget-view+json": {
       "model_id": "",
       "version_major": 2,
       "version_minor": 0
      },
      "text/plain": [
       "  0%|          | 0/2430 [00:00<?, ?it/s]"
      ]
     },
     "metadata": {},
     "output_type": "display_data"
    },
    {
     "data": {
      "application/vnd.jupyter.widget-view+json": {
       "model_id": "",
       "version_major": 2,
       "version_minor": 0
      },
      "text/plain": [
       "  0%|          | 0/4 [00:00<?, ?it/s]"
      ]
     },
     "metadata": {},
     "output_type": "display_data"
    },
    {
     "data": {
      "application/vnd.jupyter.widget-view+json": {
       "model_id": "",
       "version_major": 2,
       "version_minor": 0
      },
      "text/plain": [
       "  0%|          | 0/2430 [00:00<?, ?it/s]"
      ]
     },
     "metadata": {},
     "output_type": "display_data"
    },
    {
     "data": {
      "application/vnd.jupyter.widget-view+json": {
       "model_id": "",
       "version_major": 2,
       "version_minor": 0
      },
      "text/plain": [
       "  0%|          | 0/2430 [00:00<?, ?it/s]"
      ]
     },
     "metadata": {},
     "output_type": "display_data"
    },
    {
     "data": {
      "application/vnd.jupyter.widget-view+json": {
       "model_id": "",
       "version_major": 2,
       "version_minor": 0
      },
      "text/plain": [
       "  0%|          | 0/2430 [00:00<?, ?it/s]"
      ]
     },
     "metadata": {},
     "output_type": "display_data"
    },
    {
     "data": {
      "application/vnd.jupyter.widget-view+json": {
       "model_id": "",
       "version_major": 2,
       "version_minor": 0
      },
      "text/plain": [
       "  0%|          | 0/2430 [00:00<?, ?it/s]"
      ]
     },
     "metadata": {},
     "output_type": "display_data"
    },
    {
     "data": {
      "application/vnd.jupyter.widget-view+json": {
       "model_id": "",
       "version_major": 2,
       "version_minor": 0
      },
      "text/plain": [
       "  0%|          | 0/2430 [00:00<?, ?it/s]"
      ]
     },
     "metadata": {},
     "output_type": "display_data"
    },
    {
     "data": {
      "application/vnd.jupyter.widget-view+json": {
       "model_id": "",
       "version_major": 2,
       "version_minor": 0
      },
      "text/plain": [
       "  0%|          | 0/2430 [00:00<?, ?it/s]"
      ]
     },
     "metadata": {},
     "output_type": "display_data"
    },
    {
     "data": {
      "application/vnd.jupyter.widget-view+json": {
       "model_id": "",
       "version_major": 2,
       "version_minor": 0
      },
      "text/plain": [
       "  0%|          | 0/2430 [00:00<?, ?it/s]"
      ]
     },
     "metadata": {},
     "output_type": "display_data"
    },
    {
     "data": {
      "application/vnd.jupyter.widget-view+json": {
       "model_id": "",
       "version_major": 2,
       "version_minor": 0
      },
      "text/plain": [
       "  0%|          | 0/2430 [00:00<?, ?it/s]"
      ]
     },
     "metadata": {},
     "output_type": "display_data"
    },
    {
     "data": {
      "application/vnd.jupyter.widget-view+json": {
       "model_id": "",
       "version_major": 2,
       "version_minor": 0
      },
      "text/plain": [
       "  0%|          | 0/2430 [00:00<?, ?it/s]"
      ]
     },
     "metadata": {},
     "output_type": "display_data"
    },
    {
     "data": {
      "application/vnd.jupyter.widget-view+json": {
       "model_id": "",
       "version_major": 2,
       "version_minor": 0
      },
      "text/plain": [
       "  0%|          | 0/2430 [00:00<?, ?it/s]"
      ]
     },
     "metadata": {},
     "output_type": "display_data"
    },
    {
     "data": {
      "application/vnd.jupyter.widget-view+json": {
       "model_id": "",
       "version_major": 2,
       "version_minor": 0
      },
      "text/plain": [
       "  0%|          | 0/2430 [00:00<?, ?it/s]"
      ]
     },
     "metadata": {},
     "output_type": "display_data"
    },
    {
     "data": {
      "application/vnd.jupyter.widget-view+json": {
       "model_id": "",
       "version_major": 2,
       "version_minor": 0
      },
      "text/plain": [
       "  0%|          | 0/2430 [00:00<?, ?it/s]"
      ]
     },
     "metadata": {},
     "output_type": "display_data"
    },
    {
     "data": {
      "application/vnd.jupyter.widget-view+json": {
       "model_id": "",
       "version_major": 2,
       "version_minor": 0
      },
      "text/plain": [
       "  0%|          | 0/4 [00:00<?, ?it/s]"
      ]
     },
     "metadata": {},
     "output_type": "display_data"
    },
    {
     "data": {
      "application/vnd.jupyter.widget-view+json": {
       "model_id": "",
       "version_major": 2,
       "version_minor": 0
      },
      "text/plain": [
       "  0%|          | 0/2430 [00:00<?, ?it/s]"
      ]
     },
     "metadata": {},
     "output_type": "display_data"
    },
    {
     "data": {
      "application/vnd.jupyter.widget-view+json": {
       "model_id": "",
       "version_major": 2,
       "version_minor": 0
      },
      "text/plain": [
       "  0%|          | 0/2430 [00:00<?, ?it/s]"
      ]
     },
     "metadata": {},
     "output_type": "display_data"
    },
    {
     "data": {
      "application/vnd.jupyter.widget-view+json": {
       "model_id": "",
       "version_major": 2,
       "version_minor": 0
      },
      "text/plain": [
       "  0%|          | 0/2430 [00:00<?, ?it/s]"
      ]
     },
     "metadata": {},
     "output_type": "display_data"
    },
    {
     "data": {
      "application/vnd.jupyter.widget-view+json": {
       "model_id": "",
       "version_major": 2,
       "version_minor": 0
      },
      "text/plain": [
       "  0%|          | 0/2430 [00:00<?, ?it/s]"
      ]
     },
     "metadata": {},
     "output_type": "display_data"
    },
    {
     "data": {
      "application/vnd.jupyter.widget-view+json": {
       "model_id": "",
       "version_major": 2,
       "version_minor": 0
      },
      "text/plain": [
       "  0%|          | 0/2430 [00:00<?, ?it/s]"
      ]
     },
     "metadata": {},
     "output_type": "display_data"
    },
    {
     "data": {
      "application/vnd.jupyter.widget-view+json": {
       "model_id": "",
       "version_major": 2,
       "version_minor": 0
      },
      "text/plain": [
       "  0%|          | 0/2430 [00:00<?, ?it/s]"
      ]
     },
     "metadata": {},
     "output_type": "display_data"
    },
    {
     "data": {
      "application/vnd.jupyter.widget-view+json": {
       "model_id": "",
       "version_major": 2,
       "version_minor": 0
      },
      "text/plain": [
       "  0%|          | 0/2430 [00:00<?, ?it/s]"
      ]
     },
     "metadata": {},
     "output_type": "display_data"
    },
    {
     "data": {
      "application/vnd.jupyter.widget-view+json": {
       "model_id": "",
       "version_major": 2,
       "version_minor": 0
      },
      "text/plain": [
       "  0%|          | 0/2430 [00:00<?, ?it/s]"
      ]
     },
     "metadata": {},
     "output_type": "display_data"
    },
    {
     "data": {
      "application/vnd.jupyter.widget-view+json": {
       "model_id": "",
       "version_major": 2,
       "version_minor": 0
      },
      "text/plain": [
       "  0%|          | 0/2430 [00:00<?, ?it/s]"
      ]
     },
     "metadata": {},
     "output_type": "display_data"
    },
    {
     "data": {
      "application/vnd.jupyter.widget-view+json": {
       "model_id": "",
       "version_major": 2,
       "version_minor": 0
      },
      "text/plain": [
       "  0%|          | 0/2430 [00:00<?, ?it/s]"
      ]
     },
     "metadata": {},
     "output_type": "display_data"
    },
    {
     "data": {
      "application/vnd.jupyter.widget-view+json": {
       "model_id": "",
       "version_major": 2,
       "version_minor": 0
      },
      "text/plain": [
       "  0%|          | 0/2430 [00:00<?, ?it/s]"
      ]
     },
     "metadata": {},
     "output_type": "display_data"
    },
    {
     "data": {
      "application/vnd.jupyter.widget-view+json": {
       "model_id": "",
       "version_major": 2,
       "version_minor": 0
      },
      "text/plain": [
       "  0%|          | 0/2430 [00:00<?, ?it/s]"
      ]
     },
     "metadata": {},
     "output_type": "display_data"
    },
    {
     "data": {
      "text/html": [
       "<div>\n",
       "<style scoped>\n",
       "    .dataframe tbody tr th:only-of-type {\n",
       "        vertical-align: middle;\n",
       "    }\n",
       "\n",
       "    .dataframe tbody tr th {\n",
       "        vertical-align: top;\n",
       "    }\n",
       "\n",
       "    .dataframe thead th {\n",
       "        text-align: right;\n",
       "    }\n",
       "</style>\n",
       "<table border=\"1\" class=\"dataframe\">\n",
       "  <thead>\n",
       "    <tr style=\"text-align: right;\">\n",
       "      <th></th>\n",
       "      <th>top</th>\n",
       "      <th>model</th>\n",
       "      <th>tp</th>\n",
       "      <th>fp</th>\n",
       "      <th>fn</th>\n",
       "      <th>reach</th>\n",
       "      <th>precision</th>\n",
       "      <th>recall</th>\n",
       "      <th>tp_over_reach</th>\n",
       "    </tr>\n",
       "  </thead>\n",
       "  <tbody>\n",
       "    <tr>\n",
       "      <th>baseline_top1</th>\n",
       "      <td>1</td>\n",
       "      <td>baseline</td>\n",
       "      <td>637</td>\n",
       "      <td>1754</td>\n",
       "      <td>273647</td>\n",
       "      <td>2391</td>\n",
       "      <td>0.266416</td>\n",
       "      <td>0.002322</td>\n",
       "      <td>0.266416</td>\n",
       "    </tr>\n",
       "    <tr>\n",
       "      <th>baseline_top10</th>\n",
       "      <td>10</td>\n",
       "      <td>baseline</td>\n",
       "      <td>5184</td>\n",
       "      <td>14437</td>\n",
       "      <td>269100</td>\n",
       "      <td>19618</td>\n",
       "      <td>0.264207</td>\n",
       "      <td>0.0189</td>\n",
       "      <td>0.264247</td>\n",
       "    </tr>\n",
       "    <tr>\n",
       "      <th>baseline_top50</th>\n",
       "      <td>50</td>\n",
       "      <td>baseline</td>\n",
       "      <td>15198</td>\n",
       "      <td>39057</td>\n",
       "      <td>259086</td>\n",
       "      <td>54252</td>\n",
       "      <td>0.280122</td>\n",
       "      <td>0.05541</td>\n",
       "      <td>0.280137</td>\n",
       "    </tr>\n",
       "    <tr>\n",
       "      <th>baseline_top100</th>\n",
       "      <td>100</td>\n",
       "      <td>baseline</td>\n",
       "      <td>19780</td>\n",
       "      <td>47500</td>\n",
       "      <td>254504</td>\n",
       "      <td>67277</td>\n",
       "      <td>0.293995</td>\n",
       "      <td>0.072115</td>\n",
       "      <td>0.294008</td>\n",
       "    </tr>\n",
       "    <tr>\n",
       "      <th>trial_3_top1</th>\n",
       "      <td>1</td>\n",
       "      <td>trial_3</td>\n",
       "      <td>35</td>\n",
       "      <td>2395</td>\n",
       "      <td>274249</td>\n",
       "      <td>2430</td>\n",
       "      <td>0.014403</td>\n",
       "      <td>0.000128</td>\n",
       "      <td>0.014403</td>\n",
       "    </tr>\n",
       "    <tr>\n",
       "      <th>trial_3_top10</th>\n",
       "      <td>10</td>\n",
       "      <td>trial_3</td>\n",
       "      <td>287</td>\n",
       "      <td>24013</td>\n",
       "      <td>273997</td>\n",
       "      <td>23612</td>\n",
       "      <td>0.011811</td>\n",
       "      <td>0.001046</td>\n",
       "      <td>0.012155</td>\n",
       "    </tr>\n",
       "    <tr>\n",
       "      <th>trial_3_top50</th>\n",
       "      <td>50</td>\n",
       "      <td>trial_3</td>\n",
       "      <td>2055</td>\n",
       "      <td>119445</td>\n",
       "      <td>272229</td>\n",
       "      <td>91899</td>\n",
       "      <td>0.016914</td>\n",
       "      <td>0.007492</td>\n",
       "      <td>0.022362</td>\n",
       "    </tr>\n",
       "    <tr>\n",
       "      <th>trial_3_top100</th>\n",
       "      <td>100</td>\n",
       "      <td>trial_3</td>\n",
       "      <td>5698</td>\n",
       "      <td>237302</td>\n",
       "      <td>268586</td>\n",
       "      <td>146329</td>\n",
       "      <td>0.023449</td>\n",
       "      <td>0.020774</td>\n",
       "      <td>0.03894</td>\n",
       "    </tr>\n",
       "    <tr>\n",
       "      <th>trial_2_top1</th>\n",
       "      <td>1</td>\n",
       "      <td>trial_2</td>\n",
       "      <td>107</td>\n",
       "      <td>2323</td>\n",
       "      <td>274177</td>\n",
       "      <td>2430</td>\n",
       "      <td>0.044033</td>\n",
       "      <td>0.00039</td>\n",
       "      <td>0.044033</td>\n",
       "    </tr>\n",
       "    <tr>\n",
       "      <th>trial_2_top10</th>\n",
       "      <td>10</td>\n",
       "      <td>trial_2</td>\n",
       "      <td>1037</td>\n",
       "      <td>23263</td>\n",
       "      <td>273247</td>\n",
       "      <td>23612</td>\n",
       "      <td>0.042675</td>\n",
       "      <td>0.003781</td>\n",
       "      <td>0.043918</td>\n",
       "    </tr>\n",
       "    <tr>\n",
       "      <th>trial_2_top50</th>\n",
       "      <td>50</td>\n",
       "      <td>trial_2</td>\n",
       "      <td>7359</td>\n",
       "      <td>114141</td>\n",
       "      <td>266925</td>\n",
       "      <td>91899</td>\n",
       "      <td>0.060568</td>\n",
       "      <td>0.02683</td>\n",
       "      <td>0.080077</td>\n",
       "    </tr>\n",
       "    <tr>\n",
       "      <th>trial_2_top100</th>\n",
       "      <td>100</td>\n",
       "      <td>trial_2</td>\n",
       "      <td>17748</td>\n",
       "      <td>225252</td>\n",
       "      <td>256536</td>\n",
       "      <td>146329</td>\n",
       "      <td>0.073037</td>\n",
       "      <td>0.064707</td>\n",
       "      <td>0.121288</td>\n",
       "    </tr>\n",
       "    <tr>\n",
       "      <th>trial_1_top1</th>\n",
       "      <td>1</td>\n",
       "      <td>trial_1</td>\n",
       "      <td>58</td>\n",
       "      <td>2372</td>\n",
       "      <td>274226</td>\n",
       "      <td>2430</td>\n",
       "      <td>0.023868</td>\n",
       "      <td>0.000211</td>\n",
       "      <td>0.023868</td>\n",
       "    </tr>\n",
       "    <tr>\n",
       "      <th>trial_1_top10</th>\n",
       "      <td>10</td>\n",
       "      <td>trial_1</td>\n",
       "      <td>1014</td>\n",
       "      <td>23286</td>\n",
       "      <td>273270</td>\n",
       "      <td>23612</td>\n",
       "      <td>0.041728</td>\n",
       "      <td>0.003697</td>\n",
       "      <td>0.042944</td>\n",
       "    </tr>\n",
       "    <tr>\n",
       "      <th>trial_1_top50</th>\n",
       "      <td>50</td>\n",
       "      <td>trial_1</td>\n",
       "      <td>6773</td>\n",
       "      <td>114727</td>\n",
       "      <td>267511</td>\n",
       "      <td>91899</td>\n",
       "      <td>0.055745</td>\n",
       "      <td>0.024693</td>\n",
       "      <td>0.0737</td>\n",
       "    </tr>\n",
       "    <tr>\n",
       "      <th>trial_1_top100</th>\n",
       "      <td>100</td>\n",
       "      <td>trial_1</td>\n",
       "      <td>15745</td>\n",
       "      <td>227255</td>\n",
       "      <td>258539</td>\n",
       "      <td>146329</td>\n",
       "      <td>0.064794</td>\n",
       "      <td>0.057404</td>\n",
       "      <td>0.1076</td>\n",
       "    </tr>\n",
       "  </tbody>\n",
       "</table>\n",
       "</div>"
      ],
      "text/plain": [
       "                 top     model     tp      fp      fn   reach precision  \\\n",
       "baseline_top1      1  baseline    637    1754  273647    2391  0.266416   \n",
       "baseline_top10    10  baseline   5184   14437  269100   19618  0.264207   \n",
       "baseline_top50    50  baseline  15198   39057  259086   54252  0.280122   \n",
       "baseline_top100  100  baseline  19780   47500  254504   67277  0.293995   \n",
       "trial_3_top1       1   trial_3     35    2395  274249    2430  0.014403   \n",
       "trial_3_top10     10   trial_3    287   24013  273997   23612  0.011811   \n",
       "trial_3_top50     50   trial_3   2055  119445  272229   91899  0.016914   \n",
       "trial_3_top100   100   trial_3   5698  237302  268586  146329  0.023449   \n",
       "trial_2_top1       1   trial_2    107    2323  274177    2430  0.044033   \n",
       "trial_2_top10     10   trial_2   1037   23263  273247   23612  0.042675   \n",
       "trial_2_top50     50   trial_2   7359  114141  266925   91899  0.060568   \n",
       "trial_2_top100   100   trial_2  17748  225252  256536  146329  0.073037   \n",
       "trial_1_top1       1   trial_1     58    2372  274226    2430  0.023868   \n",
       "trial_1_top10     10   trial_1   1014   23286  273270   23612  0.041728   \n",
       "trial_1_top50     50   trial_1   6773  114727  267511   91899  0.055745   \n",
       "trial_1_top100   100   trial_1  15745  227255  258539  146329  0.064794   \n",
       "\n",
       "                   recall tp_over_reach  \n",
       "baseline_top1    0.002322      0.266416  \n",
       "baseline_top10     0.0189      0.264247  \n",
       "baseline_top50    0.05541      0.280137  \n",
       "baseline_top100  0.072115      0.294008  \n",
       "trial_3_top1     0.000128      0.014403  \n",
       "trial_3_top10    0.001046      0.012155  \n",
       "trial_3_top50    0.007492      0.022362  \n",
       "trial_3_top100   0.020774       0.03894  \n",
       "trial_2_top1      0.00039      0.044033  \n",
       "trial_2_top10    0.003781      0.043918  \n",
       "trial_2_top50     0.02683      0.080077  \n",
       "trial_2_top100   0.064707      0.121288  \n",
       "trial_1_top1     0.000211      0.023868  \n",
       "trial_1_top10    0.003697      0.042944  \n",
       "trial_1_top50    0.024693        0.0737  \n",
       "trial_1_top100   0.057404        0.1076  "
      ]
     },
     "execution_count": 7,
     "metadata": {},
     "output_type": "execute_result"
    }
   ],
   "source": [
    "tf.compat.v1.logging.set_verbosity(tf.compat.v1.logging.ERROR)\n",
    "df_grouped = pd.read_csv(TEST_PATH).groupby(ALL_USER_FEATURES)[\"Product_ID\"].apply(list).apply(np.array).reset_index()\n",
    "top_k = [1, 10, 50, 100]\n",
    "results = dict()\n",
    "\n",
    "baseline = BlackFridayBaseline(TRAIN_PATH, ALL_USER_FEATURES, True)\n",
    "for k in tqdm(top_k, leave=False):\n",
    "    metrics_id = f\"baseline_top{k}\"\n",
    "    df_grouped[metrics_id]         = df_grouped[ALL_USER_FEATURES].progress_apply(lambda x: baseline.predict(x, k), axis=1)\n",
    "    baseline_true_positives        = df_grouped.progress_apply(lambda x: np.intersect1d(x[\"Product_ID\"],x[metrics_id]).shape[0], axis=1).sum()\n",
    "    baseline_false_negatives       = df.shape[0] - baseline_true_positives\n",
    "    baseline_false_positives       = df_grouped[metrics_id].apply(lambda x: x.shape[0]).sum() - baseline_true_positives\n",
    "    baseline_reach                 = df_grouped.progress_apply(lambda x: min(x[\"Product_ID\"].shape[0],x[metrics_id].shape[0]), axis=1).sum()\n",
    "    results[f\"baseline_top{k}\"]    = {\n",
    "        \"top\"  : k,\n",
    "        \"model\": \"baseline\",\n",
    "        \"tp\"   : baseline_true_positives,\n",
    "        \"fp\"   : baseline_false_positives,\n",
    "        \"fn\"   : baseline_false_negatives,\n",
    "        \"reach\": baseline_reach #portata\n",
    "    }\n",
    "    \n",
    "\n",
    "metadata_path = os.path.join(\"gs://mlteam-ml-specialization-2021-blackfriday/aiplatform_jobs\", MODEL_NAME, \"metadata.json\")\n",
    "metadata = json.load(tf.io.gfile.GFile(metadata_path, \"r\"))\n",
    "for j in tqdm(metadata, leave=False):\n",
    "    model = PredictionModel(os.path.join(\"gs://mlteam-ml-specialization-2021-blackfriday/aiplatform_jobs\", MODEL_NAME, j['trialId'], 'Scann'), True)\n",
    "    hps = json.dumps(j[\"hyperparameters\"])\n",
    "    model_id = f\"trial_{j['trialId']}\"\n",
    "    for k in tqdm(top_k, leave=False):\n",
    "        metrics_id=f\"trial_{j['trialId']}_top{k}\"\n",
    "        df_grouped[metrics_id] = df_grouped[USER_FEATURES].progress_apply(lambda x: model.predict_single(x.astype(str), k).astype(str), axis=1)\n",
    "        tp = df_grouped.progress_apply(lambda x: np.intersect1d(x[\"Product_ID\"],x[metrics_id]).shape[0], axis=1).sum()\n",
    "        fn = df.shape[0] - tp\n",
    "        fp = df_grouped[metrics_id].apply(lambda x: x.shape[0]).sum() - tp\n",
    "        reach = df_grouped.progress_apply(lambda x: min(len(x[\"Product_ID\"]),x[metrics_id].shape[0]), axis=1).sum() \n",
    "        results[metrics_id] = {\n",
    "            \"top\"  : k,\n",
    "            \"model\": model_id,\n",
    "            \"tp\"   : tp,\n",
    "            \"fp\"   : fp,\n",
    "            \"fn\"   : fn,\n",
    "            \"reach\": reach\n",
    "        }\n",
    "    \n",
    "df_results = pd.DataFrame(results).T\n",
    "df_results[\"precision\"] = df_results[\"tp\"]/(df_results[\"tp\"]+df_results[\"fp\"])\n",
    "df_results[\"recall\"] = df_results[\"tp\"]/(df_results[\"tp\"]+df_results[\"fn\"])\n",
    "df_results[\"tp_over_reach\"] = df_results[\"tp\"]/df_results[\"reach\"]\n",
    "df_results"
   ]
  },
  {
   "cell_type": "code",
   "execution_count": 8,
   "id": "76ef466f",
   "metadata": {},
   "outputs": [
    {
     "data": {
      "text/html": [
       "<div>\n",
       "<style scoped>\n",
       "    .dataframe tbody tr th:only-of-type {\n",
       "        vertical-align: middle;\n",
       "    }\n",
       "\n",
       "    .dataframe tbody tr th {\n",
       "        vertical-align: top;\n",
       "    }\n",
       "\n",
       "    .dataframe thead th {\n",
       "        text-align: right;\n",
       "    }\n",
       "</style>\n",
       "<table border=\"1\" class=\"dataframe\">\n",
       "  <thead>\n",
       "    <tr style=\"text-align: right;\">\n",
       "      <th>top</th>\n",
       "      <th>1</th>\n",
       "      <th>10</th>\n",
       "      <th>50</th>\n",
       "      <th>100</th>\n",
       "    </tr>\n",
       "    <tr>\n",
       "      <th>model</th>\n",
       "      <th></th>\n",
       "      <th></th>\n",
       "      <th></th>\n",
       "      <th></th>\n",
       "    </tr>\n",
       "  </thead>\n",
       "  <tbody>\n",
       "    <tr>\n",
       "      <th>baseline</th>\n",
       "      <td>0.266416</td>\n",
       "      <td>0.264207</td>\n",
       "      <td>0.280122</td>\n",
       "      <td>0.293995</td>\n",
       "    </tr>\n",
       "    <tr>\n",
       "      <th>trial_1</th>\n",
       "      <td>0.023868</td>\n",
       "      <td>0.041728</td>\n",
       "      <td>0.055745</td>\n",
       "      <td>0.064794</td>\n",
       "    </tr>\n",
       "    <tr>\n",
       "      <th>trial_2</th>\n",
       "      <td>0.044033</td>\n",
       "      <td>0.042675</td>\n",
       "      <td>0.060568</td>\n",
       "      <td>0.073037</td>\n",
       "    </tr>\n",
       "    <tr>\n",
       "      <th>trial_3</th>\n",
       "      <td>0.014403</td>\n",
       "      <td>0.011811</td>\n",
       "      <td>0.016914</td>\n",
       "      <td>0.023449</td>\n",
       "    </tr>\n",
       "  </tbody>\n",
       "</table>\n",
       "</div>"
      ],
      "text/plain": [
       "top            1         10        50        100\n",
       "model                                           \n",
       "baseline  0.266416  0.264207  0.280122  0.293995\n",
       "trial_1   0.023868  0.041728  0.055745  0.064794\n",
       "trial_2   0.044033  0.042675  0.060568  0.073037\n",
       "trial_3   0.014403  0.011811  0.016914  0.023449"
      ]
     },
     "execution_count": 8,
     "metadata": {},
     "output_type": "execute_result"
    }
   ],
   "source": [
    "df_results.pivot(\"model\",\"top\",\"precision\")"
   ]
  },
  {
   "cell_type": "code",
   "execution_count": 9,
   "id": "a2434194",
   "metadata": {},
   "outputs": [
    {
     "data": {
      "text/html": [
       "<div>\n",
       "<style scoped>\n",
       "    .dataframe tbody tr th:only-of-type {\n",
       "        vertical-align: middle;\n",
       "    }\n",
       "\n",
       "    .dataframe tbody tr th {\n",
       "        vertical-align: top;\n",
       "    }\n",
       "\n",
       "    .dataframe thead th {\n",
       "        text-align: right;\n",
       "    }\n",
       "</style>\n",
       "<table border=\"1\" class=\"dataframe\">\n",
       "  <thead>\n",
       "    <tr style=\"text-align: right;\">\n",
       "      <th>top</th>\n",
       "      <th>1</th>\n",
       "      <th>10</th>\n",
       "      <th>50</th>\n",
       "      <th>100</th>\n",
       "    </tr>\n",
       "    <tr>\n",
       "      <th>model</th>\n",
       "      <th></th>\n",
       "      <th></th>\n",
       "      <th></th>\n",
       "      <th></th>\n",
       "    </tr>\n",
       "  </thead>\n",
       "  <tbody>\n",
       "    <tr>\n",
       "      <th>baseline</th>\n",
       "      <td>0.002322</td>\n",
       "      <td>0.0189</td>\n",
       "      <td>0.05541</td>\n",
       "      <td>0.072115</td>\n",
       "    </tr>\n",
       "    <tr>\n",
       "      <th>trial_1</th>\n",
       "      <td>0.000211</td>\n",
       "      <td>0.003697</td>\n",
       "      <td>0.024693</td>\n",
       "      <td>0.057404</td>\n",
       "    </tr>\n",
       "    <tr>\n",
       "      <th>trial_2</th>\n",
       "      <td>0.00039</td>\n",
       "      <td>0.003781</td>\n",
       "      <td>0.02683</td>\n",
       "      <td>0.064707</td>\n",
       "    </tr>\n",
       "    <tr>\n",
       "      <th>trial_3</th>\n",
       "      <td>0.000128</td>\n",
       "      <td>0.001046</td>\n",
       "      <td>0.007492</td>\n",
       "      <td>0.020774</td>\n",
       "    </tr>\n",
       "  </tbody>\n",
       "</table>\n",
       "</div>"
      ],
      "text/plain": [
       "top            1         10        50        100\n",
       "model                                           \n",
       "baseline  0.002322    0.0189   0.05541  0.072115\n",
       "trial_1   0.000211  0.003697  0.024693  0.057404\n",
       "trial_2    0.00039  0.003781   0.02683  0.064707\n",
       "trial_3   0.000128  0.001046  0.007492  0.020774"
      ]
     },
     "execution_count": 9,
     "metadata": {},
     "output_type": "execute_result"
    }
   ],
   "source": [
    "df_results.pivot(\"model\",\"top\",\"recall\")"
   ]
  },
  {
   "cell_type": "code",
   "execution_count": 10,
   "id": "fa5c78df",
   "metadata": {},
   "outputs": [
    {
     "data": {
      "text/html": [
       "<div>\n",
       "<style scoped>\n",
       "    .dataframe tbody tr th:only-of-type {\n",
       "        vertical-align: middle;\n",
       "    }\n",
       "\n",
       "    .dataframe tbody tr th {\n",
       "        vertical-align: top;\n",
       "    }\n",
       "\n",
       "    .dataframe thead th {\n",
       "        text-align: right;\n",
       "    }\n",
       "</style>\n",
       "<table border=\"1\" class=\"dataframe\">\n",
       "  <thead>\n",
       "    <tr style=\"text-align: right;\">\n",
       "      <th>top</th>\n",
       "      <th>1</th>\n",
       "      <th>10</th>\n",
       "      <th>50</th>\n",
       "      <th>100</th>\n",
       "    </tr>\n",
       "    <tr>\n",
       "      <th>model</th>\n",
       "      <th></th>\n",
       "      <th></th>\n",
       "      <th></th>\n",
       "      <th></th>\n",
       "    </tr>\n",
       "  </thead>\n",
       "  <tbody>\n",
       "    <tr>\n",
       "      <th>baseline</th>\n",
       "      <td>0.266416</td>\n",
       "      <td>0.264247</td>\n",
       "      <td>0.280137</td>\n",
       "      <td>0.294008</td>\n",
       "    </tr>\n",
       "    <tr>\n",
       "      <th>trial_1</th>\n",
       "      <td>0.023868</td>\n",
       "      <td>0.042944</td>\n",
       "      <td>0.0737</td>\n",
       "      <td>0.1076</td>\n",
       "    </tr>\n",
       "    <tr>\n",
       "      <th>trial_2</th>\n",
       "      <td>0.044033</td>\n",
       "      <td>0.043918</td>\n",
       "      <td>0.080077</td>\n",
       "      <td>0.121288</td>\n",
       "    </tr>\n",
       "    <tr>\n",
       "      <th>trial_3</th>\n",
       "      <td>0.014403</td>\n",
       "      <td>0.012155</td>\n",
       "      <td>0.022362</td>\n",
       "      <td>0.03894</td>\n",
       "    </tr>\n",
       "  </tbody>\n",
       "</table>\n",
       "</div>"
      ],
      "text/plain": [
       "top            1         10        50        100\n",
       "model                                           \n",
       "baseline  0.266416  0.264247  0.280137  0.294008\n",
       "trial_1   0.023868  0.042944    0.0737    0.1076\n",
       "trial_2   0.044033  0.043918  0.080077  0.121288\n",
       "trial_3   0.014403  0.012155  0.022362   0.03894"
      ]
     },
     "execution_count": 10,
     "metadata": {},
     "output_type": "execute_result"
    }
   ],
   "source": [
    "df_results.pivot(\"model\",\"top\",\"tp_over_reach\")"
   ]
  },
  {
   "cell_type": "code",
   "execution_count": null,
   "id": "205a0519",
   "metadata": {},
   "outputs": [],
   "source": []
  }
 ],
 "metadata": {
  "environment": {
   "name": "tf2-gpu.2-3.m65",
   "type": "gcloud",
   "uri": "gcr.io/deeplearning-platform-release/tf2-gpu.2-3:m65"
  },
  "kernelspec": {
   "display_name": "Python 3",
   "language": "python",
   "name": "python3"
  },
  "language_info": {
   "codemirror_mode": {
    "name": "ipython",
    "version": 3
   },
   "file_extension": ".py",
   "mimetype": "text/x-python",
   "name": "python",
   "nbconvert_exporter": "python",
   "pygments_lexer": "ipython3",
   "version": "3.7.10"
  }
 },
 "nbformat": 4,
 "nbformat_minor": 5
}
