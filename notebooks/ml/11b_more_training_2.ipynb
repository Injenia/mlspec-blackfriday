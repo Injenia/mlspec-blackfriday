{
 "cells": [
  {
   "cell_type": "markdown",
   "id": "e93f4da1",
   "metadata": {},
   "source": [
    "# resuming a previous training"
   ]
  },
  {
   "cell_type": "code",
   "execution_count": 1,
   "id": "a2ebafca",
   "metadata": {},
   "outputs": [
    {
     "name": "stderr",
     "output_type": "stream",
     "text": [
      "Removing gs://mlteam-ml-specialization-2021-blackfriday/tmp/012_hptuning_deep_2/1/Scann/saved_model.pb#1624348030174263...\n",
      "Removing gs://mlteam-ml-specialization-2021-blackfriday/tmp/012_hptuning_deep_2/1/Scann/variables/variables.data-00000-of-00001#1624348030314277...\n",
      "Removing gs://mlteam-ml-specialization-2021-blackfriday/tmp/012_hptuning_deep_2/1/candidate/variables/variables.index#1624348030166998...\n",
      "Removing gs://mlteam-ml-specialization-2021-blackfriday/tmp/012_hptuning_deep_2/1/Scann/variables/variables.index#1624348030324692...\n",
      "Removing gs://mlteam-ml-specialization-2021-blackfriday/tmp/012_hptuning_deep_2/1/checkpoint#1624348030199400...\n",
      "Removing gs://mlteam-ml-specialization-2021-blackfriday/tmp/012_hptuning_deep_2/1/candidate/saved_model.pb#1624348030427965...\n",
      "Removing gs://mlteam-ml-specialization-2021-blackfriday/tmp/012_hptuning_deep_2/1/candidate/variables/variables.data-00000-of-00001#1624348030157639...\n",
      "Removing gs://mlteam-ml-specialization-2021-blackfriday/tmp/012_hptuning_deep_2/1/model_checkpoints.index#1624348030183537...\n",
      "Removing gs://mlteam-ml-specialization-2021-blackfriday/tmp/012_hptuning_deep_2/1/model_checkpoints.data-00000-of-00001#1624348030320685...\n",
      "Removing gs://mlteam-ml-specialization-2021-blackfriday/tmp/012_hptuning_deep_2/1/params.json#1624348030328571...\n",
      "Removing gs://mlteam-ml-specialization-2021-blackfriday/tmp/012_hptuning_deep_2/1/train/events.out.tfevents.1622812818.cmle-training-15391287979773683023.389.566.v2#1624348030227379...\n",
      "Removing gs://mlteam-ml-specialization-2021-blackfriday/tmp/012_hptuning_deep_2/1/train/events.out.tfevents.1622812849.cmle-training-15391287979773683023.profile-empty#1624348030238599...\n",
      "Removing gs://mlteam-ml-specialization-2021-blackfriday/tmp/012_hptuning_deep_2/1/train/plugins/profile/2021_06_04_13_20_49/cmle-training-15391287979773683023.input_pipeline.pb#1624348030293161...\n",
      "Removing gs://mlteam-ml-specialization-2021-blackfriday/tmp/012_hptuning_deep_2/1/train/plugins/profile/2021_06_04_13_20_49/cmle-training-15391287979773683023.kernel_stats.pb#1624348030295358...\n",
      "Removing gs://mlteam-ml-specialization-2021-blackfriday/tmp/012_hptuning_deep_2/1/train/plugins/profile/2021_06_04_13_20_49/cmle-training-15391287979773683023.memory_profile.json.gz#1624348030289387...\n",
      "Removing gs://mlteam-ml-specialization-2021-blackfriday/tmp/012_hptuning_deep_2/1/train/plugins/profile/2021_06_04_13_20_49/cmle-training-15391287979773683023.overview_page.pb#1624348030413958...\n",
      "Removing gs://mlteam-ml-specialization-2021-blackfriday/tmp/012_hptuning_deep_2/1/train/plugins/profile/2021_06_04_13_20_49/cmle-training-15391287979773683023.tensorflow_stats.pb#1624348030311930...\n",
      "Removing gs://mlteam-ml-specialization-2021-blackfriday/tmp/012_hptuning_deep_2/1/train/plugins/profile/2021_06_04_13_20_49/cmle-training-15391287979773683023.trace.json.gz#1624348030336488...\n",
      "Removing gs://mlteam-ml-specialization-2021-blackfriday/tmp/012_hptuning_deep_2/1/train/plugins/profile/2021_06_04_13_20_49/cmle-training-15391287979773683023.xplane.pb#1624348030347717...\n",
      "Removing gs://mlteam-ml-specialization-2021-blackfriday/tmp/012_hptuning_deep_2/1/user/variables/variables.data-00000-of-00001#1624348030415177...\n",
      "Removing gs://mlteam-ml-specialization-2021-blackfriday/tmp/012_hptuning_deep_2/1/user/saved_model.pb#1624348030364646...\n",
      "Removing gs://mlteam-ml-specialization-2021-blackfriday/tmp/012_hptuning_deep_2/1/user/variables/variables.index#1624348030376546...\n",
      "Removing gs://mlteam-ml-specialization-2021-blackfriday/tmp/012_hptuning_deep_2/packages/39c852f9c786b0a296c77a89ca5d9f79b0a2adb9a26459ecbaa57f4d7b0b1ae6/mlspec-blackfriday-0.1.tar.gz#1624348036946220...\n",
      "Removing gs://mlteam-ml-specialization-2021-blackfriday/tmp/012_hptuning_deep_2/1/validation/events.out.tfevents.1622812857.cmle-training-15391287979773683023.389.2454.v2#1624348030381265...\n",
      "/ [24/24 objects] 100% Done                                                     \n",
      "Operation completed over 24 objects.                                             \n",
      "Copying gs://mlteam-ml-specialization-2021-blackfriday/aiplatform_jobs/012_hptuning_deep/1/Scann/saved_model.pb...\n",
      "Copying gs://mlteam-ml-specialization-2021-blackfriday/aiplatform_jobs/012_hptuning_deep/1/Scann/variables/variables.index...\n",
      "Copying gs://mlteam-ml-specialization-2021-blackfriday/aiplatform_jobs/012_hptuning_deep/1/Scann/variables/variables.data-00000-of-00001...\n",
      "Copying gs://mlteam-ml-specialization-2021-blackfriday/aiplatform_jobs/012_hptuning_deep/1/candidate/saved_model.pb...\n",
      "Copying gs://mlteam-ml-specialization-2021-blackfriday/aiplatform_jobs/012_hptuning_deep/1/candidate/variables/variables.data-00000-of-00001...\n",
      "Copying gs://mlteam-ml-specialization-2021-blackfriday/aiplatform_jobs/012_hptuning_deep/1/candidate/variables/variables.index...\n",
      "Copying gs://mlteam-ml-specialization-2021-blackfriday/aiplatform_jobs/012_hptuning_deep/1/model_checkpoints.data-00000-of-00001...\n",
      "Copying gs://mlteam-ml-specialization-2021-blackfriday/aiplatform_jobs/012_hptuning_deep/1/checkpoint...\n",
      "Copying gs://mlteam-ml-specialization-2021-blackfriday/aiplatform_jobs/012_hptuning_deep/1/model_checkpoints.index...\n",
      "Copying gs://mlteam-ml-specialization-2021-blackfriday/aiplatform_jobs/012_hptuning_deep/1/params.json...\n",
      "Copying gs://mlteam-ml-specialization-2021-blackfriday/aiplatform_jobs/012_hptuning_deep/1/train/events.out.tfevents.1622812818.cmle-training-15391287979773683023.389.566.v2...\n",
      "Copying gs://mlteam-ml-specialization-2021-blackfriday/aiplatform_jobs/012_hptuning_deep/1/train/events.out.tfevents.1622812849.cmle-training-15391287979773683023.profile-empty...\n",
      "Copying gs://mlteam-ml-specialization-2021-blackfriday/aiplatform_jobs/012_hptuning_deep/1/train/plugins/profile/2021_06_04_13_20_49/cmle-training-15391287979773683023.input_pipeline.pb...\n",
      "Copying gs://mlteam-ml-specialization-2021-blackfriday/aiplatform_jobs/012_hptuning_deep/1/train/plugins/profile/2021_06_04_13_20_49/cmle-training-15391287979773683023.memory_profile.json.gz...\n",
      "Copying gs://mlteam-ml-specialization-2021-blackfriday/aiplatform_jobs/012_hptuning_deep/1/train/plugins/profile/2021_06_04_13_20_49/cmle-training-15391287979773683023.kernel_stats.pb...\n",
      "Copying gs://mlteam-ml-specialization-2021-blackfriday/aiplatform_jobs/012_hptuning_deep/1/train/plugins/profile/2021_06_04_13_20_49/cmle-training-15391287979773683023.overview_page.pb...\n",
      "Copying gs://mlteam-ml-specialization-2021-blackfriday/aiplatform_jobs/012_hptuning_deep/1/train/plugins/profile/2021_06_04_13_20_49/cmle-training-15391287979773683023.trace.json.gz...\n",
      "Copying gs://mlteam-ml-specialization-2021-blackfriday/aiplatform_jobs/012_hptuning_deep/1/train/plugins/profile/2021_06_04_13_20_49/cmle-training-15391287979773683023.tensorflow_stats.pb...\n",
      "Copying gs://mlteam-ml-specialization-2021-blackfriday/aiplatform_jobs/012_hptuning_deep/1/train/plugins/profile/2021_06_04_13_20_49/cmle-training-15391287979773683023.xplane.pb...\n",
      "Copying gs://mlteam-ml-specialization-2021-blackfriday/aiplatform_jobs/012_hptuning_deep/1/user/saved_model.pb...\n",
      "Copying gs://mlteam-ml-specialization-2021-blackfriday/aiplatform_jobs/012_hptuning_deep/1/user/variables/variables.data-00000-of-00001...\n",
      "Copying gs://mlteam-ml-specialization-2021-blackfriday/aiplatform_jobs/012_hptuning_deep/1/user/variables/variables.index...\n",
      "Copying gs://mlteam-ml-specialization-2021-blackfriday/aiplatform_jobs/012_hptuning_deep/1/validation/events.out.tfevents.1622812857.cmle-training-15391287979773683023.389.2454.v2...\n",
      "/ [23/38 files][ 22.2 MiB/ 22.2 MiB]  99% Done                                  \r"
     ]
    }
   ],
   "source": [
    "%%bash\n",
    "gsutil -m rm -r gs://mlteam-ml-specialization-2021-blackfriday/tmp/012_hptuning_deep_2\n",
    "gsutil -m cp -r gs://mlteam-ml-specialization-2021-blackfriday/aiplatform_jobs/012_hptuning_deep/1 gs://mlteam-ml-specialization-2021-blackfriday/tmp/012_hptuning_deep_2/"
   ]
  },
  {
   "cell_type": "code",
   "execution_count": 3,
   "id": "15e13577",
   "metadata": {},
   "outputs": [],
   "source": [
    "import json, os\n",
    "\n",
    "os.environ[\"USER_FEATURES\"] = json.dumps([\"Gender\", \"Age\", \"Occupation\", \"City_Category\", \"Stay_In_Current_City_Years\", \"Marital_Status\"])\n",
    "os.environ[\"PRODUCT_FEATURES\"] = json.dumps([\"Product_ID\", \"Product_Category_1\"])"
   ]
  },
  {
   "cell_type": "code",
   "execution_count": 4,
   "id": "cf0f58e5",
   "metadata": {},
   "outputs": [
    {
     "name": "stdout",
     "output_type": "stream",
     "text": [
      "jobId: bf_012_TEST_20210622_074918\n",
      "state: QUEUED\n",
      "createTime: '2021-06-22T07:49:20Z'\n",
      "etag: HcFT859yVy0=\n",
      "jobId: bf_012_TEST_20210622_074918\n",
      "state: PREPARING\n",
      "trainingInput:\n",
      "  args:\n",
      "  - --train-path=gs://mlteam-ml-specialization-2021-blackfriday/dataset/parsed/202104130952/train.csv\n",
      "  - --eval-path=gs://mlteam-ml-specialization-2021-blackfriday/dataset/parsed/202104130952/test/evalset.csv\n",
      "  - --job-dir=gs://mlteam-ml-specialization-2021-blackfriday/tmp/012_hptuning_deep_2/\n",
      "  - --batch-size=30000\n",
      "  - --scann-num-neighbors=100\n",
      "  - --user-features=[\"Gender\", \"Age\", \"Occupation\", \"City_Category\", \"Stay_In_Current_City_Years\",\n",
      "    \"Marital_Status\"]\n",
      "  - --num-epochs=10\n",
      "  - --learning-rate=0.01\n",
      "  - --product-input-embedding-dim=128\n",
      "  - --common-layers=[512, 256, 128]\n",
      "  - --product-features=[\"Product_ID\", \"Product_Category_1\"]\n",
      "  - --user-input-embedding-dim=16\n",
      "  - --embedding-dim=128\n",
      "  jobDir: gs://mlteam-ml-specialization-2021-blackfriday/tmp/012_hptuning_deep_2/\n",
      "  packageUris:\n",
      "  - gs://mlteam-ml-specialization-2021-blackfriday/tmp/012_hptuning_deep_2/packages/1f97e383b2b12f66cb9f62217508414681d8b6ff51fe63c240767dd72d534684/mlspec-blackfriday-0.1.tar.gz\n",
      "  pythonModule: trainer.task\n",
      "  pythonVersion: '3.7'\n",
      "  region: europe-west1\n",
      "  runtimeVersion: '2.4'\n",
      "trainingOutput: {}\n"
     ]
    },
    {
     "name": "stderr",
     "output_type": "stream",
     "text": [
      "Job [bf_012_TEST_20210622_074918] submitted successfully.\n",
      "Your job is still active. You may view the status of your job with the command\n",
      "\n",
      "  $ gcloud ai-platform jobs describe bf_012_TEST_20210622_074918\n",
      "\n",
      "or continue streaming the logs with the command\n",
      "\n",
      "  $ gcloud ai-platform jobs stream-logs bf_012_TEST_20210622_074918\n",
      "\n",
      "View job in the Cloud Console at:\n",
      "https://console.cloud.google.com/mlengine/jobs/bf_012_TEST_20210622_074918?project=mlteam-ml-specialization-2021\n",
      "\n",
      "View logs at:\n",
      "https://console.cloud.google.com/logs?resource=ml_job%2Fjob_id%2Fbf_012_TEST_20210622_074918&project=mlteam-ml-specialization-2021\n"
     ]
    }
   ],
   "source": [
    "%%bash\n",
    "\n",
    "# JOB_NAME: the name of your job running on AI Platform.\n",
    "JOB_NAME=bf_012_TEST_$(date +%Y%m%d_%H%M%S)\n",
    "\n",
    "# REGION: select a region from https://cloud.google.com/ai-platform/training/docs/regions\n",
    "# or use the default '`us-central1`'. The region is where the model will be deployed.\n",
    "REGION=europe-west1\n",
    "PYTHON_VERSION=3.7\n",
    "RUNTIME_VERSION=2.4\n",
    "\n",
    "current_dir=\"$(cd \"$(dirname \"${BASH_SOURCE[0]}\")\" >/dev/null 2>&1 && pwd)\"\n",
    "cd ${current_dir}\"/../..\"\n",
    "\n",
    "gcloud ai-platform jobs submit training \"${JOB_NAME}\" \\\n",
    "  --package-path trainer/ \\\n",
    "  --module-name trainer.task \\\n",
    "  --region ${REGION} \\\n",
    "  --python-version ${PYTHON_VERSION} \\\n",
    "  --runtime-version ${RUNTIME_VERSION} \\\n",
    "  --job-dir \"gs://mlteam-ml-specialization-2021-blackfriday/tmp/012_hptuning_deep_2/\" \\\n",
    "  -- \\\n",
    "  --train-path=\"gs://mlteam-ml-specialization-2021-blackfriday/dataset/parsed/202104130952/train.csv\" \\\n",
    "  --eval-path=\"gs://mlteam-ml-specialization-2021-blackfriday/dataset/parsed/202104130952/test/evalset.csv\" \\\n",
    "  --job-dir=\"gs://mlteam-ml-specialization-2021-blackfriday/tmp/012_hptuning_deep_2/\" \\\n",
    "  --batch-size=30000 \\\n",
    "  --scann-num-neighbors=100 \\\n",
    "  --user-features=\"${USER_FEATURES}\" \\\n",
    "  --num-epochs=10 \\\n",
    "  --learning-rate=0.01 \\\n",
    "  --product-input-embedding-dim=128 \\\n",
    "  --common-layers=\"[512, 256, 128]\" \\\n",
    "  --product-features=\"${PRODUCT_FEATURES}\" \\\n",
    "  --user-input-embedding-dim=16 \\\n",
    "  --embedding-dim=128\n",
    "\n",
    "gcloud ai-platform jobs describe ${JOB_NAME}"
   ]
  },
  {
   "cell_type": "code",
   "execution_count": null,
   "id": "2d8081a0",
   "metadata": {},
   "outputs": [],
   "source": []
  }
 ],
 "metadata": {
  "environment": {
   "name": "tf2-gpu.2-3.m65",
   "type": "gcloud",
   "uri": "gcr.io/deeplearning-platform-release/tf2-gpu.2-3:m65"
  },
  "kernelspec": {
   "display_name": "Python 3",
   "language": "python",
   "name": "python3"
  },
  "language_info": {
   "codemirror_mode": {
    "name": "ipython",
    "version": 3
   },
   "file_extension": ".py",
   "mimetype": "text/x-python",
   "name": "python",
   "nbconvert_exporter": "python",
   "pygments_lexer": "ipython3",
   "version": "3.7.10"
  }
 },
 "nbformat": 4,
 "nbformat_minor": 5
}
